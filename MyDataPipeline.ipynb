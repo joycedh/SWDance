{
  "nbformat": 4,
  "nbformat_minor": 0,
  "metadata": {
    "colab": {
      "provenance": [],
      "collapsed_sections": [
        "drHg9NLI8hrL",
        "-3OJhNSm4M_L",
        "UC3O8Of4mUCz",
        "AqCU74LCSmQM",
        "5CGh1irtHFhL",
        "Jc0otOV70iJS",
        "G4oIXmyZlq5b"
      ],
      "gpuType": "T4",
      "machine_shape": "hm",
      "authorship_tag": "ABX9TyMo8LV+FWywoep+V+IwllIs",
      "include_colab_link": true
    },
    "kernelspec": {
      "name": "python3",
      "display_name": "Python 3"
    },
    "language_info": {
      "name": "python"
    },
    "accelerator": "GPU",
    "widgets": {
      "application/vnd.jupyter.widget-state+json": {
        "5aa3d159981549cfab16249a9b05c25b": {
          "model_module": "@jupyter-widgets/controls",
          "model_name": "HBoxModel",
          "model_module_version": "1.5.0",
          "state": {
            "_dom_classes": [],
            "_model_module": "@jupyter-widgets/controls",
            "_model_module_version": "1.5.0",
            "_model_name": "HBoxModel",
            "_view_count": null,
            "_view_module": "@jupyter-widgets/controls",
            "_view_module_version": "1.5.0",
            "_view_name": "HBoxView",
            "box_style": "",
            "children": [
              "IPY_MODEL_23feb1cbba8e48d79f8bf5aab1b79812",
              "IPY_MODEL_fa4e109add4b47a1b3ed1d71ec9bd2db",
              "IPY_MODEL_8701e4c947cd4d719b1584db33dac4fc"
            ],
            "layout": "IPY_MODEL_3e89a225b61f4c8f83150f9be7246084"
          }
        },
        "23feb1cbba8e48d79f8bf5aab1b79812": {
          "model_module": "@jupyter-widgets/controls",
          "model_name": "HTMLModel",
          "model_module_version": "1.5.0",
          "state": {
            "_dom_classes": [],
            "_model_module": "@jupyter-widgets/controls",
            "_model_module_version": "1.5.0",
            "_model_name": "HTMLModel",
            "_view_count": null,
            "_view_module": "@jupyter-widgets/controls",
            "_view_module_version": "1.5.0",
            "_view_name": "HTMLView",
            "description": "",
            "description_tooltip": null,
            "layout": "IPY_MODEL_06a4196bc05b4eb39fd400ec9c1d6c5f",
            "placeholder": "​",
            "style": "IPY_MODEL_0c04a497c674451f8906e36be3b1378f",
            "value": "Downloading (…)okenizer_config.json: 100%"
          }
        },
        "fa4e109add4b47a1b3ed1d71ec9bd2db": {
          "model_module": "@jupyter-widgets/controls",
          "model_name": "FloatProgressModel",
          "model_module_version": "1.5.0",
          "state": {
            "_dom_classes": [],
            "_model_module": "@jupyter-widgets/controls",
            "_model_module_version": "1.5.0",
            "_model_name": "FloatProgressModel",
            "_view_count": null,
            "_view_module": "@jupyter-widgets/controls",
            "_view_module_version": "1.5.0",
            "_view_name": "ProgressView",
            "bar_style": "success",
            "description": "",
            "description_tooltip": null,
            "layout": "IPY_MODEL_d49b88cee2fe4a718a64a473e00ad044",
            "max": 25,
            "min": 0,
            "orientation": "horizontal",
            "style": "IPY_MODEL_e695405646d643c48fa443c16caa30da",
            "value": 25
          }
        },
        "8701e4c947cd4d719b1584db33dac4fc": {
          "model_module": "@jupyter-widgets/controls",
          "model_name": "HTMLModel",
          "model_module_version": "1.5.0",
          "state": {
            "_dom_classes": [],
            "_model_module": "@jupyter-widgets/controls",
            "_model_module_version": "1.5.0",
            "_model_name": "HTMLModel",
            "_view_count": null,
            "_view_module": "@jupyter-widgets/controls",
            "_view_module_version": "1.5.0",
            "_view_name": "HTMLView",
            "description": "",
            "description_tooltip": null,
            "layout": "IPY_MODEL_e4d84b4b7e414ed7a19ed7e330b19448",
            "placeholder": "​",
            "style": "IPY_MODEL_b37d9cc8ed324c43844c0a3255d6fe71",
            "value": " 25.0/25.0 [00:00&lt;00:00, 1.55kB/s]"
          }
        },
        "3e89a225b61f4c8f83150f9be7246084": {
          "model_module": "@jupyter-widgets/base",
          "model_name": "LayoutModel",
          "model_module_version": "1.2.0",
          "state": {
            "_model_module": "@jupyter-widgets/base",
            "_model_module_version": "1.2.0",
            "_model_name": "LayoutModel",
            "_view_count": null,
            "_view_module": "@jupyter-widgets/base",
            "_view_module_version": "1.2.0",
            "_view_name": "LayoutView",
            "align_content": null,
            "align_items": null,
            "align_self": null,
            "border": null,
            "bottom": null,
            "display": null,
            "flex": null,
            "flex_flow": null,
            "grid_area": null,
            "grid_auto_columns": null,
            "grid_auto_flow": null,
            "grid_auto_rows": null,
            "grid_column": null,
            "grid_gap": null,
            "grid_row": null,
            "grid_template_areas": null,
            "grid_template_columns": null,
            "grid_template_rows": null,
            "height": null,
            "justify_content": null,
            "justify_items": null,
            "left": null,
            "margin": null,
            "max_height": null,
            "max_width": null,
            "min_height": null,
            "min_width": null,
            "object_fit": null,
            "object_position": null,
            "order": null,
            "overflow": null,
            "overflow_x": null,
            "overflow_y": null,
            "padding": null,
            "right": null,
            "top": null,
            "visibility": null,
            "width": null
          }
        },
        "06a4196bc05b4eb39fd400ec9c1d6c5f": {
          "model_module": "@jupyter-widgets/base",
          "model_name": "LayoutModel",
          "model_module_version": "1.2.0",
          "state": {
            "_model_module": "@jupyter-widgets/base",
            "_model_module_version": "1.2.0",
            "_model_name": "LayoutModel",
            "_view_count": null,
            "_view_module": "@jupyter-widgets/base",
            "_view_module_version": "1.2.0",
            "_view_name": "LayoutView",
            "align_content": null,
            "align_items": null,
            "align_self": null,
            "border": null,
            "bottom": null,
            "display": null,
            "flex": null,
            "flex_flow": null,
            "grid_area": null,
            "grid_auto_columns": null,
            "grid_auto_flow": null,
            "grid_auto_rows": null,
            "grid_column": null,
            "grid_gap": null,
            "grid_row": null,
            "grid_template_areas": null,
            "grid_template_columns": null,
            "grid_template_rows": null,
            "height": null,
            "justify_content": null,
            "justify_items": null,
            "left": null,
            "margin": null,
            "max_height": null,
            "max_width": null,
            "min_height": null,
            "min_width": null,
            "object_fit": null,
            "object_position": null,
            "order": null,
            "overflow": null,
            "overflow_x": null,
            "overflow_y": null,
            "padding": null,
            "right": null,
            "top": null,
            "visibility": null,
            "width": null
          }
        },
        "0c04a497c674451f8906e36be3b1378f": {
          "model_module": "@jupyter-widgets/controls",
          "model_name": "DescriptionStyleModel",
          "model_module_version": "1.5.0",
          "state": {
            "_model_module": "@jupyter-widgets/controls",
            "_model_module_version": "1.5.0",
            "_model_name": "DescriptionStyleModel",
            "_view_count": null,
            "_view_module": "@jupyter-widgets/base",
            "_view_module_version": "1.2.0",
            "_view_name": "StyleView",
            "description_width": ""
          }
        },
        "d49b88cee2fe4a718a64a473e00ad044": {
          "model_module": "@jupyter-widgets/base",
          "model_name": "LayoutModel",
          "model_module_version": "1.2.0",
          "state": {
            "_model_module": "@jupyter-widgets/base",
            "_model_module_version": "1.2.0",
            "_model_name": "LayoutModel",
            "_view_count": null,
            "_view_module": "@jupyter-widgets/base",
            "_view_module_version": "1.2.0",
            "_view_name": "LayoutView",
            "align_content": null,
            "align_items": null,
            "align_self": null,
            "border": null,
            "bottom": null,
            "display": null,
            "flex": null,
            "flex_flow": null,
            "grid_area": null,
            "grid_auto_columns": null,
            "grid_auto_flow": null,
            "grid_auto_rows": null,
            "grid_column": null,
            "grid_gap": null,
            "grid_row": null,
            "grid_template_areas": null,
            "grid_template_columns": null,
            "grid_template_rows": null,
            "height": null,
            "justify_content": null,
            "justify_items": null,
            "left": null,
            "margin": null,
            "max_height": null,
            "max_width": null,
            "min_height": null,
            "min_width": null,
            "object_fit": null,
            "object_position": null,
            "order": null,
            "overflow": null,
            "overflow_x": null,
            "overflow_y": null,
            "padding": null,
            "right": null,
            "top": null,
            "visibility": null,
            "width": null
          }
        },
        "e695405646d643c48fa443c16caa30da": {
          "model_module": "@jupyter-widgets/controls",
          "model_name": "ProgressStyleModel",
          "model_module_version": "1.5.0",
          "state": {
            "_model_module": "@jupyter-widgets/controls",
            "_model_module_version": "1.5.0",
            "_model_name": "ProgressStyleModel",
            "_view_count": null,
            "_view_module": "@jupyter-widgets/base",
            "_view_module_version": "1.2.0",
            "_view_name": "StyleView",
            "bar_color": null,
            "description_width": ""
          }
        },
        "e4d84b4b7e414ed7a19ed7e330b19448": {
          "model_module": "@jupyter-widgets/base",
          "model_name": "LayoutModel",
          "model_module_version": "1.2.0",
          "state": {
            "_model_module": "@jupyter-widgets/base",
            "_model_module_version": "1.2.0",
            "_model_name": "LayoutModel",
            "_view_count": null,
            "_view_module": "@jupyter-widgets/base",
            "_view_module_version": "1.2.0",
            "_view_name": "LayoutView",
            "align_content": null,
            "align_items": null,
            "align_self": null,
            "border": null,
            "bottom": null,
            "display": null,
            "flex": null,
            "flex_flow": null,
            "grid_area": null,
            "grid_auto_columns": null,
            "grid_auto_flow": null,
            "grid_auto_rows": null,
            "grid_column": null,
            "grid_gap": null,
            "grid_row": null,
            "grid_template_areas": null,
            "grid_template_columns": null,
            "grid_template_rows": null,
            "height": null,
            "justify_content": null,
            "justify_items": null,
            "left": null,
            "margin": null,
            "max_height": null,
            "max_width": null,
            "min_height": null,
            "min_width": null,
            "object_fit": null,
            "object_position": null,
            "order": null,
            "overflow": null,
            "overflow_x": null,
            "overflow_y": null,
            "padding": null,
            "right": null,
            "top": null,
            "visibility": null,
            "width": null
          }
        },
        "b37d9cc8ed324c43844c0a3255d6fe71": {
          "model_module": "@jupyter-widgets/controls",
          "model_name": "DescriptionStyleModel",
          "model_module_version": "1.5.0",
          "state": {
            "_model_module": "@jupyter-widgets/controls",
            "_model_module_version": "1.5.0",
            "_model_name": "DescriptionStyleModel",
            "_view_count": null,
            "_view_module": "@jupyter-widgets/base",
            "_view_module_version": "1.2.0",
            "_view_name": "StyleView",
            "description_width": ""
          }
        },
        "fcd086f400a94d79aba5ae221ab4c140": {
          "model_module": "@jupyter-widgets/controls",
          "model_name": "HBoxModel",
          "model_module_version": "1.5.0",
          "state": {
            "_dom_classes": [],
            "_model_module": "@jupyter-widgets/controls",
            "_model_module_version": "1.5.0",
            "_model_name": "HBoxModel",
            "_view_count": null,
            "_view_module": "@jupyter-widgets/controls",
            "_view_module_version": "1.5.0",
            "_view_name": "HBoxView",
            "box_style": "",
            "children": [
              "IPY_MODEL_49e3971a584540ce84aaa242620e4143",
              "IPY_MODEL_456f394adb3448d0a96a8d6a2813ead2",
              "IPY_MODEL_c409f105a9d346088f9f4d508ae0dde8"
            ],
            "layout": "IPY_MODEL_1c2678623c8941eb9d264a67bd52086e"
          }
        },
        "49e3971a584540ce84aaa242620e4143": {
          "model_module": "@jupyter-widgets/controls",
          "model_name": "HTMLModel",
          "model_module_version": "1.5.0",
          "state": {
            "_dom_classes": [],
            "_model_module": "@jupyter-widgets/controls",
            "_model_module_version": "1.5.0",
            "_model_name": "HTMLModel",
            "_view_count": null,
            "_view_module": "@jupyter-widgets/controls",
            "_view_module_version": "1.5.0",
            "_view_name": "HTMLView",
            "description": "",
            "description_tooltip": null,
            "layout": "IPY_MODEL_41b6f3832eba4a9ca874dd7028a7e5cb",
            "placeholder": "​",
            "style": "IPY_MODEL_78caa3fb29184206afe8a425ecaf6462",
            "value": "Downloading (…)lve/main/config.json: 100%"
          }
        },
        "456f394adb3448d0a96a8d6a2813ead2": {
          "model_module": "@jupyter-widgets/controls",
          "model_name": "FloatProgressModel",
          "model_module_version": "1.5.0",
          "state": {
            "_dom_classes": [],
            "_model_module": "@jupyter-widgets/controls",
            "_model_module_version": "1.5.0",
            "_model_name": "FloatProgressModel",
            "_view_count": null,
            "_view_module": "@jupyter-widgets/controls",
            "_view_module_version": "1.5.0",
            "_view_name": "ProgressView",
            "bar_style": "success",
            "description": "",
            "description_tooltip": null,
            "layout": "IPY_MODEL_f39a9dded687417f9f304d1c832b62ec",
            "max": 1208,
            "min": 0,
            "orientation": "horizontal",
            "style": "IPY_MODEL_146d5ef272514768a803bd9fdc4d8cb6",
            "value": 1208
          }
        },
        "c409f105a9d346088f9f4d508ae0dde8": {
          "model_module": "@jupyter-widgets/controls",
          "model_name": "HTMLModel",
          "model_module_version": "1.5.0",
          "state": {
            "_dom_classes": [],
            "_model_module": "@jupyter-widgets/controls",
            "_model_module_version": "1.5.0",
            "_model_name": "HTMLModel",
            "_view_count": null,
            "_view_module": "@jupyter-widgets/controls",
            "_view_module_version": "1.5.0",
            "_view_name": "HTMLView",
            "description": "",
            "description_tooltip": null,
            "layout": "IPY_MODEL_936363407c8a4fb7a7b68c14d1f99800",
            "placeholder": "​",
            "style": "IPY_MODEL_77da5a878b324361a077d95c6f4412aa",
            "value": " 1.21k/1.21k [00:00&lt;00:00, 67.5kB/s]"
          }
        },
        "1c2678623c8941eb9d264a67bd52086e": {
          "model_module": "@jupyter-widgets/base",
          "model_name": "LayoutModel",
          "model_module_version": "1.2.0",
          "state": {
            "_model_module": "@jupyter-widgets/base",
            "_model_module_version": "1.2.0",
            "_model_name": "LayoutModel",
            "_view_count": null,
            "_view_module": "@jupyter-widgets/base",
            "_view_module_version": "1.2.0",
            "_view_name": "LayoutView",
            "align_content": null,
            "align_items": null,
            "align_self": null,
            "border": null,
            "bottom": null,
            "display": null,
            "flex": null,
            "flex_flow": null,
            "grid_area": null,
            "grid_auto_columns": null,
            "grid_auto_flow": null,
            "grid_auto_rows": null,
            "grid_column": null,
            "grid_gap": null,
            "grid_row": null,
            "grid_template_areas": null,
            "grid_template_columns": null,
            "grid_template_rows": null,
            "height": null,
            "justify_content": null,
            "justify_items": null,
            "left": null,
            "margin": null,
            "max_height": null,
            "max_width": null,
            "min_height": null,
            "min_width": null,
            "object_fit": null,
            "object_position": null,
            "order": null,
            "overflow": null,
            "overflow_x": null,
            "overflow_y": null,
            "padding": null,
            "right": null,
            "top": null,
            "visibility": null,
            "width": null
          }
        },
        "41b6f3832eba4a9ca874dd7028a7e5cb": {
          "model_module": "@jupyter-widgets/base",
          "model_name": "LayoutModel",
          "model_module_version": "1.2.0",
          "state": {
            "_model_module": "@jupyter-widgets/base",
            "_model_module_version": "1.2.0",
            "_model_name": "LayoutModel",
            "_view_count": null,
            "_view_module": "@jupyter-widgets/base",
            "_view_module_version": "1.2.0",
            "_view_name": "LayoutView",
            "align_content": null,
            "align_items": null,
            "align_self": null,
            "border": null,
            "bottom": null,
            "display": null,
            "flex": null,
            "flex_flow": null,
            "grid_area": null,
            "grid_auto_columns": null,
            "grid_auto_flow": null,
            "grid_auto_rows": null,
            "grid_column": null,
            "grid_gap": null,
            "grid_row": null,
            "grid_template_areas": null,
            "grid_template_columns": null,
            "grid_template_rows": null,
            "height": null,
            "justify_content": null,
            "justify_items": null,
            "left": null,
            "margin": null,
            "max_height": null,
            "max_width": null,
            "min_height": null,
            "min_width": null,
            "object_fit": null,
            "object_position": null,
            "order": null,
            "overflow": null,
            "overflow_x": null,
            "overflow_y": null,
            "padding": null,
            "right": null,
            "top": null,
            "visibility": null,
            "width": null
          }
        },
        "78caa3fb29184206afe8a425ecaf6462": {
          "model_module": "@jupyter-widgets/controls",
          "model_name": "DescriptionStyleModel",
          "model_module_version": "1.5.0",
          "state": {
            "_model_module": "@jupyter-widgets/controls",
            "_model_module_version": "1.5.0",
            "_model_name": "DescriptionStyleModel",
            "_view_count": null,
            "_view_module": "@jupyter-widgets/base",
            "_view_module_version": "1.2.0",
            "_view_name": "StyleView",
            "description_width": ""
          }
        },
        "f39a9dded687417f9f304d1c832b62ec": {
          "model_module": "@jupyter-widgets/base",
          "model_name": "LayoutModel",
          "model_module_version": "1.2.0",
          "state": {
            "_model_module": "@jupyter-widgets/base",
            "_model_module_version": "1.2.0",
            "_model_name": "LayoutModel",
            "_view_count": null,
            "_view_module": "@jupyter-widgets/base",
            "_view_module_version": "1.2.0",
            "_view_name": "LayoutView",
            "align_content": null,
            "align_items": null,
            "align_self": null,
            "border": null,
            "bottom": null,
            "display": null,
            "flex": null,
            "flex_flow": null,
            "grid_area": null,
            "grid_auto_columns": null,
            "grid_auto_flow": null,
            "grid_auto_rows": null,
            "grid_column": null,
            "grid_gap": null,
            "grid_row": null,
            "grid_template_areas": null,
            "grid_template_columns": null,
            "grid_template_rows": null,
            "height": null,
            "justify_content": null,
            "justify_items": null,
            "left": null,
            "margin": null,
            "max_height": null,
            "max_width": null,
            "min_height": null,
            "min_width": null,
            "object_fit": null,
            "object_position": null,
            "order": null,
            "overflow": null,
            "overflow_x": null,
            "overflow_y": null,
            "padding": null,
            "right": null,
            "top": null,
            "visibility": null,
            "width": null
          }
        },
        "146d5ef272514768a803bd9fdc4d8cb6": {
          "model_module": "@jupyter-widgets/controls",
          "model_name": "ProgressStyleModel",
          "model_module_version": "1.5.0",
          "state": {
            "_model_module": "@jupyter-widgets/controls",
            "_model_module_version": "1.5.0",
            "_model_name": "ProgressStyleModel",
            "_view_count": null,
            "_view_module": "@jupyter-widgets/base",
            "_view_module_version": "1.2.0",
            "_view_name": "StyleView",
            "bar_color": null,
            "description_width": ""
          }
        },
        "936363407c8a4fb7a7b68c14d1f99800": {
          "model_module": "@jupyter-widgets/base",
          "model_name": "LayoutModel",
          "model_module_version": "1.2.0",
          "state": {
            "_model_module": "@jupyter-widgets/base",
            "_model_module_version": "1.2.0",
            "_model_name": "LayoutModel",
            "_view_count": null,
            "_view_module": "@jupyter-widgets/base",
            "_view_module_version": "1.2.0",
            "_view_name": "LayoutView",
            "align_content": null,
            "align_items": null,
            "align_self": null,
            "border": null,
            "bottom": null,
            "display": null,
            "flex": null,
            "flex_flow": null,
            "grid_area": null,
            "grid_auto_columns": null,
            "grid_auto_flow": null,
            "grid_auto_rows": null,
            "grid_column": null,
            "grid_gap": null,
            "grid_row": null,
            "grid_template_areas": null,
            "grid_template_columns": null,
            "grid_template_rows": null,
            "height": null,
            "justify_content": null,
            "justify_items": null,
            "left": null,
            "margin": null,
            "max_height": null,
            "max_width": null,
            "min_height": null,
            "min_width": null,
            "object_fit": null,
            "object_position": null,
            "order": null,
            "overflow": null,
            "overflow_x": null,
            "overflow_y": null,
            "padding": null,
            "right": null,
            "top": null,
            "visibility": null,
            "width": null
          }
        },
        "77da5a878b324361a077d95c6f4412aa": {
          "model_module": "@jupyter-widgets/controls",
          "model_name": "DescriptionStyleModel",
          "model_module_version": "1.5.0",
          "state": {
            "_model_module": "@jupyter-widgets/controls",
            "_model_module_version": "1.5.0",
            "_model_name": "DescriptionStyleModel",
            "_view_count": null,
            "_view_module": "@jupyter-widgets/base",
            "_view_module_version": "1.2.0",
            "_view_name": "StyleView",
            "description_width": ""
          }
        },
        "19dc5df0642b4bbfb94be3c54bfa9dfa": {
          "model_module": "@jupyter-widgets/controls",
          "model_name": "HBoxModel",
          "model_module_version": "1.5.0",
          "state": {
            "_dom_classes": [],
            "_model_module": "@jupyter-widgets/controls",
            "_model_module_version": "1.5.0",
            "_model_name": "HBoxModel",
            "_view_count": null,
            "_view_module": "@jupyter-widgets/controls",
            "_view_module_version": "1.5.0",
            "_view_name": "HBoxView",
            "box_style": "",
            "children": [
              "IPY_MODEL_2e0c715cb632472a8b24d8b3acd2b124",
              "IPY_MODEL_d0be219a30054642b84039635e306d48",
              "IPY_MODEL_c840dd12c42b48dea83a5d096684ec90"
            ],
            "layout": "IPY_MODEL_b00f8d9b43de4a40b947094a84022ef3"
          }
        },
        "2e0c715cb632472a8b24d8b3acd2b124": {
          "model_module": "@jupyter-widgets/controls",
          "model_name": "HTMLModel",
          "model_module_version": "1.5.0",
          "state": {
            "_dom_classes": [],
            "_model_module": "@jupyter-widgets/controls",
            "_model_module_version": "1.5.0",
            "_model_name": "HTMLModel",
            "_view_count": null,
            "_view_module": "@jupyter-widgets/controls",
            "_view_module_version": "1.5.0",
            "_view_name": "HTMLView",
            "description": "",
            "description_tooltip": null,
            "layout": "IPY_MODEL_5759d8cb1c284b20ac36515a3f892aac",
            "placeholder": "​",
            "style": "IPY_MODEL_1446abd235b54256bc25a19233ef48a6",
            "value": "Downloading (…)ve/main/spiece.model: 100%"
          }
        },
        "d0be219a30054642b84039635e306d48": {
          "model_module": "@jupyter-widgets/controls",
          "model_name": "FloatProgressModel",
          "model_module_version": "1.5.0",
          "state": {
            "_dom_classes": [],
            "_model_module": "@jupyter-widgets/controls",
            "_model_module_version": "1.5.0",
            "_model_name": "FloatProgressModel",
            "_view_count": null,
            "_view_module": "@jupyter-widgets/controls",
            "_view_module_version": "1.5.0",
            "_view_name": "ProgressView",
            "bar_style": "success",
            "description": "",
            "description_tooltip": null,
            "layout": "IPY_MODEL_a322373e67bb4b00b7277c0ccd8c8917",
            "max": 791656,
            "min": 0,
            "orientation": "horizontal",
            "style": "IPY_MODEL_6e0d00e17d7c46b4b669b9473646a312",
            "value": 791656
          }
        },
        "c840dd12c42b48dea83a5d096684ec90": {
          "model_module": "@jupyter-widgets/controls",
          "model_name": "HTMLModel",
          "model_module_version": "1.5.0",
          "state": {
            "_dom_classes": [],
            "_model_module": "@jupyter-widgets/controls",
            "_model_module_version": "1.5.0",
            "_model_name": "HTMLModel",
            "_view_count": null,
            "_view_module": "@jupyter-widgets/controls",
            "_view_module_version": "1.5.0",
            "_view_name": "HTMLView",
            "description": "",
            "description_tooltip": null,
            "layout": "IPY_MODEL_b7474e45337944aba04f8499c1e84bfc",
            "placeholder": "​",
            "style": "IPY_MODEL_9bdfaacfd9694c84842418acf054423c",
            "value": " 792k/792k [00:00&lt;00:00, 984kB/s]"
          }
        },
        "b00f8d9b43de4a40b947094a84022ef3": {
          "model_module": "@jupyter-widgets/base",
          "model_name": "LayoutModel",
          "model_module_version": "1.2.0",
          "state": {
            "_model_module": "@jupyter-widgets/base",
            "_model_module_version": "1.2.0",
            "_model_name": "LayoutModel",
            "_view_count": null,
            "_view_module": "@jupyter-widgets/base",
            "_view_module_version": "1.2.0",
            "_view_name": "LayoutView",
            "align_content": null,
            "align_items": null,
            "align_self": null,
            "border": null,
            "bottom": null,
            "display": null,
            "flex": null,
            "flex_flow": null,
            "grid_area": null,
            "grid_auto_columns": null,
            "grid_auto_flow": null,
            "grid_auto_rows": null,
            "grid_column": null,
            "grid_gap": null,
            "grid_row": null,
            "grid_template_areas": null,
            "grid_template_columns": null,
            "grid_template_rows": null,
            "height": null,
            "justify_content": null,
            "justify_items": null,
            "left": null,
            "margin": null,
            "max_height": null,
            "max_width": null,
            "min_height": null,
            "min_width": null,
            "object_fit": null,
            "object_position": null,
            "order": null,
            "overflow": null,
            "overflow_x": null,
            "overflow_y": null,
            "padding": null,
            "right": null,
            "top": null,
            "visibility": null,
            "width": null
          }
        },
        "5759d8cb1c284b20ac36515a3f892aac": {
          "model_module": "@jupyter-widgets/base",
          "model_name": "LayoutModel",
          "model_module_version": "1.2.0",
          "state": {
            "_model_module": "@jupyter-widgets/base",
            "_model_module_version": "1.2.0",
            "_model_name": "LayoutModel",
            "_view_count": null,
            "_view_module": "@jupyter-widgets/base",
            "_view_module_version": "1.2.0",
            "_view_name": "LayoutView",
            "align_content": null,
            "align_items": null,
            "align_self": null,
            "border": null,
            "bottom": null,
            "display": null,
            "flex": null,
            "flex_flow": null,
            "grid_area": null,
            "grid_auto_columns": null,
            "grid_auto_flow": null,
            "grid_auto_rows": null,
            "grid_column": null,
            "grid_gap": null,
            "grid_row": null,
            "grid_template_areas": null,
            "grid_template_columns": null,
            "grid_template_rows": null,
            "height": null,
            "justify_content": null,
            "justify_items": null,
            "left": null,
            "margin": null,
            "max_height": null,
            "max_width": null,
            "min_height": null,
            "min_width": null,
            "object_fit": null,
            "object_position": null,
            "order": null,
            "overflow": null,
            "overflow_x": null,
            "overflow_y": null,
            "padding": null,
            "right": null,
            "top": null,
            "visibility": null,
            "width": null
          }
        },
        "1446abd235b54256bc25a19233ef48a6": {
          "model_module": "@jupyter-widgets/controls",
          "model_name": "DescriptionStyleModel",
          "model_module_version": "1.5.0",
          "state": {
            "_model_module": "@jupyter-widgets/controls",
            "_model_module_version": "1.5.0",
            "_model_name": "DescriptionStyleModel",
            "_view_count": null,
            "_view_module": "@jupyter-widgets/base",
            "_view_module_version": "1.2.0",
            "_view_name": "StyleView",
            "description_width": ""
          }
        },
        "a322373e67bb4b00b7277c0ccd8c8917": {
          "model_module": "@jupyter-widgets/base",
          "model_name": "LayoutModel",
          "model_module_version": "1.2.0",
          "state": {
            "_model_module": "@jupyter-widgets/base",
            "_model_module_version": "1.2.0",
            "_model_name": "LayoutModel",
            "_view_count": null,
            "_view_module": "@jupyter-widgets/base",
            "_view_module_version": "1.2.0",
            "_view_name": "LayoutView",
            "align_content": null,
            "align_items": null,
            "align_self": null,
            "border": null,
            "bottom": null,
            "display": null,
            "flex": null,
            "flex_flow": null,
            "grid_area": null,
            "grid_auto_columns": null,
            "grid_auto_flow": null,
            "grid_auto_rows": null,
            "grid_column": null,
            "grid_gap": null,
            "grid_row": null,
            "grid_template_areas": null,
            "grid_template_columns": null,
            "grid_template_rows": null,
            "height": null,
            "justify_content": null,
            "justify_items": null,
            "left": null,
            "margin": null,
            "max_height": null,
            "max_width": null,
            "min_height": null,
            "min_width": null,
            "object_fit": null,
            "object_position": null,
            "order": null,
            "overflow": null,
            "overflow_x": null,
            "overflow_y": null,
            "padding": null,
            "right": null,
            "top": null,
            "visibility": null,
            "width": null
          }
        },
        "6e0d00e17d7c46b4b669b9473646a312": {
          "model_module": "@jupyter-widgets/controls",
          "model_name": "ProgressStyleModel",
          "model_module_version": "1.5.0",
          "state": {
            "_model_module": "@jupyter-widgets/controls",
            "_model_module_version": "1.5.0",
            "_model_name": "ProgressStyleModel",
            "_view_count": null,
            "_view_module": "@jupyter-widgets/base",
            "_view_module_version": "1.2.0",
            "_view_name": "StyleView",
            "bar_color": null,
            "description_width": ""
          }
        },
        "b7474e45337944aba04f8499c1e84bfc": {
          "model_module": "@jupyter-widgets/base",
          "model_name": "LayoutModel",
          "model_module_version": "1.2.0",
          "state": {
            "_model_module": "@jupyter-widgets/base",
            "_model_module_version": "1.2.0",
            "_model_name": "LayoutModel",
            "_view_count": null,
            "_view_module": "@jupyter-widgets/base",
            "_view_module_version": "1.2.0",
            "_view_name": "LayoutView",
            "align_content": null,
            "align_items": null,
            "align_self": null,
            "border": null,
            "bottom": null,
            "display": null,
            "flex": null,
            "flex_flow": null,
            "grid_area": null,
            "grid_auto_columns": null,
            "grid_auto_flow": null,
            "grid_auto_rows": null,
            "grid_column": null,
            "grid_gap": null,
            "grid_row": null,
            "grid_template_areas": null,
            "grid_template_columns": null,
            "grid_template_rows": null,
            "height": null,
            "justify_content": null,
            "justify_items": null,
            "left": null,
            "margin": null,
            "max_height": null,
            "max_width": null,
            "min_height": null,
            "min_width": null,
            "object_fit": null,
            "object_position": null,
            "order": null,
            "overflow": null,
            "overflow_x": null,
            "overflow_y": null,
            "padding": null,
            "right": null,
            "top": null,
            "visibility": null,
            "width": null
          }
        },
        "9bdfaacfd9694c84842418acf054423c": {
          "model_module": "@jupyter-widgets/controls",
          "model_name": "DescriptionStyleModel",
          "model_module_version": "1.5.0",
          "state": {
            "_model_module": "@jupyter-widgets/controls",
            "_model_module_version": "1.5.0",
            "_model_name": "DescriptionStyleModel",
            "_view_count": null,
            "_view_module": "@jupyter-widgets/base",
            "_view_module_version": "1.2.0",
            "_view_name": "StyleView",
            "description_width": ""
          }
        },
        "262ff4c0a2b044d2acea3a070c570e99": {
          "model_module": "@jupyter-widgets/controls",
          "model_name": "HBoxModel",
          "model_module_version": "1.5.0",
          "state": {
            "_dom_classes": [],
            "_model_module": "@jupyter-widgets/controls",
            "_model_module_version": "1.5.0",
            "_model_name": "HBoxModel",
            "_view_count": null,
            "_view_module": "@jupyter-widgets/controls",
            "_view_module_version": "1.5.0",
            "_view_name": "HBoxView",
            "box_style": "",
            "children": [
              "IPY_MODEL_b513e7a4f8b34dfabe961e4eaaa7126b",
              "IPY_MODEL_b71cfe26ea69473ba72c0e8cd8cec2f9",
              "IPY_MODEL_176e5660cce64a1ca709e685108f03cb"
            ],
            "layout": "IPY_MODEL_7450388b0dff46a993bd4f18c8f8f89c"
          }
        },
        "b513e7a4f8b34dfabe961e4eaaa7126b": {
          "model_module": "@jupyter-widgets/controls",
          "model_name": "HTMLModel",
          "model_module_version": "1.5.0",
          "state": {
            "_dom_classes": [],
            "_model_module": "@jupyter-widgets/controls",
            "_model_module_version": "1.5.0",
            "_model_name": "HTMLModel",
            "_view_count": null,
            "_view_module": "@jupyter-widgets/controls",
            "_view_module_version": "1.5.0",
            "_view_name": "HTMLView",
            "description": "",
            "description_tooltip": null,
            "layout": "IPY_MODEL_5189fb713f2c43568c2648d0d591fe50",
            "placeholder": "​",
            "style": "IPY_MODEL_3c8341e0fb3b45e39c607746c134c5e3",
            "value": "Downloading (…)cial_tokens_map.json: 100%"
          }
        },
        "b71cfe26ea69473ba72c0e8cd8cec2f9": {
          "model_module": "@jupyter-widgets/controls",
          "model_name": "FloatProgressModel",
          "model_module_version": "1.5.0",
          "state": {
            "_dom_classes": [],
            "_model_module": "@jupyter-widgets/controls",
            "_model_module_version": "1.5.0",
            "_model_name": "FloatProgressModel",
            "_view_count": null,
            "_view_module": "@jupyter-widgets/controls",
            "_view_module_version": "1.5.0",
            "_view_name": "ProgressView",
            "bar_style": "success",
            "description": "",
            "description_tooltip": null,
            "layout": "IPY_MODEL_0842ff5e408546c4b6840765b1197bf2",
            "max": 1786,
            "min": 0,
            "orientation": "horizontal",
            "style": "IPY_MODEL_d06ab3189a224efea2584fe74ff42cd8",
            "value": 1786
          }
        },
        "176e5660cce64a1ca709e685108f03cb": {
          "model_module": "@jupyter-widgets/controls",
          "model_name": "HTMLModel",
          "model_module_version": "1.5.0",
          "state": {
            "_dom_classes": [],
            "_model_module": "@jupyter-widgets/controls",
            "_model_module_version": "1.5.0",
            "_model_name": "HTMLModel",
            "_view_count": null,
            "_view_module": "@jupyter-widgets/controls",
            "_view_module_version": "1.5.0",
            "_view_name": "HTMLView",
            "description": "",
            "description_tooltip": null,
            "layout": "IPY_MODEL_7ac52a43b0164087b712a4216a82c25a",
            "placeholder": "​",
            "style": "IPY_MODEL_3095664b8be146cd9a89ef63b1c8c0a6",
            "value": " 1.79k/1.79k [00:00&lt;00:00, 145kB/s]"
          }
        },
        "7450388b0dff46a993bd4f18c8f8f89c": {
          "model_module": "@jupyter-widgets/base",
          "model_name": "LayoutModel",
          "model_module_version": "1.2.0",
          "state": {
            "_model_module": "@jupyter-widgets/base",
            "_model_module_version": "1.2.0",
            "_model_name": "LayoutModel",
            "_view_count": null,
            "_view_module": "@jupyter-widgets/base",
            "_view_module_version": "1.2.0",
            "_view_name": "LayoutView",
            "align_content": null,
            "align_items": null,
            "align_self": null,
            "border": null,
            "bottom": null,
            "display": null,
            "flex": null,
            "flex_flow": null,
            "grid_area": null,
            "grid_auto_columns": null,
            "grid_auto_flow": null,
            "grid_auto_rows": null,
            "grid_column": null,
            "grid_gap": null,
            "grid_row": null,
            "grid_template_areas": null,
            "grid_template_columns": null,
            "grid_template_rows": null,
            "height": null,
            "justify_content": null,
            "justify_items": null,
            "left": null,
            "margin": null,
            "max_height": null,
            "max_width": null,
            "min_height": null,
            "min_width": null,
            "object_fit": null,
            "object_position": null,
            "order": null,
            "overflow": null,
            "overflow_x": null,
            "overflow_y": null,
            "padding": null,
            "right": null,
            "top": null,
            "visibility": null,
            "width": null
          }
        },
        "5189fb713f2c43568c2648d0d591fe50": {
          "model_module": "@jupyter-widgets/base",
          "model_name": "LayoutModel",
          "model_module_version": "1.2.0",
          "state": {
            "_model_module": "@jupyter-widgets/base",
            "_model_module_version": "1.2.0",
            "_model_name": "LayoutModel",
            "_view_count": null,
            "_view_module": "@jupyter-widgets/base",
            "_view_module_version": "1.2.0",
            "_view_name": "LayoutView",
            "align_content": null,
            "align_items": null,
            "align_self": null,
            "border": null,
            "bottom": null,
            "display": null,
            "flex": null,
            "flex_flow": null,
            "grid_area": null,
            "grid_auto_columns": null,
            "grid_auto_flow": null,
            "grid_auto_rows": null,
            "grid_column": null,
            "grid_gap": null,
            "grid_row": null,
            "grid_template_areas": null,
            "grid_template_columns": null,
            "grid_template_rows": null,
            "height": null,
            "justify_content": null,
            "justify_items": null,
            "left": null,
            "margin": null,
            "max_height": null,
            "max_width": null,
            "min_height": null,
            "min_width": null,
            "object_fit": null,
            "object_position": null,
            "order": null,
            "overflow": null,
            "overflow_x": null,
            "overflow_y": null,
            "padding": null,
            "right": null,
            "top": null,
            "visibility": null,
            "width": null
          }
        },
        "3c8341e0fb3b45e39c607746c134c5e3": {
          "model_module": "@jupyter-widgets/controls",
          "model_name": "DescriptionStyleModel",
          "model_module_version": "1.5.0",
          "state": {
            "_model_module": "@jupyter-widgets/controls",
            "_model_module_version": "1.5.0",
            "_model_name": "DescriptionStyleModel",
            "_view_count": null,
            "_view_module": "@jupyter-widgets/base",
            "_view_module_version": "1.2.0",
            "_view_name": "StyleView",
            "description_width": ""
          }
        },
        "0842ff5e408546c4b6840765b1197bf2": {
          "model_module": "@jupyter-widgets/base",
          "model_name": "LayoutModel",
          "model_module_version": "1.2.0",
          "state": {
            "_model_module": "@jupyter-widgets/base",
            "_model_module_version": "1.2.0",
            "_model_name": "LayoutModel",
            "_view_count": null,
            "_view_module": "@jupyter-widgets/base",
            "_view_module_version": "1.2.0",
            "_view_name": "LayoutView",
            "align_content": null,
            "align_items": null,
            "align_self": null,
            "border": null,
            "bottom": null,
            "display": null,
            "flex": null,
            "flex_flow": null,
            "grid_area": null,
            "grid_auto_columns": null,
            "grid_auto_flow": null,
            "grid_auto_rows": null,
            "grid_column": null,
            "grid_gap": null,
            "grid_row": null,
            "grid_template_areas": null,
            "grid_template_columns": null,
            "grid_template_rows": null,
            "height": null,
            "justify_content": null,
            "justify_items": null,
            "left": null,
            "margin": null,
            "max_height": null,
            "max_width": null,
            "min_height": null,
            "min_width": null,
            "object_fit": null,
            "object_position": null,
            "order": null,
            "overflow": null,
            "overflow_x": null,
            "overflow_y": null,
            "padding": null,
            "right": null,
            "top": null,
            "visibility": null,
            "width": null
          }
        },
        "d06ab3189a224efea2584fe74ff42cd8": {
          "model_module": "@jupyter-widgets/controls",
          "model_name": "ProgressStyleModel",
          "model_module_version": "1.5.0",
          "state": {
            "_model_module": "@jupyter-widgets/controls",
            "_model_module_version": "1.5.0",
            "_model_name": "ProgressStyleModel",
            "_view_count": null,
            "_view_module": "@jupyter-widgets/base",
            "_view_module_version": "1.2.0",
            "_view_name": "StyleView",
            "bar_color": null,
            "description_width": ""
          }
        },
        "7ac52a43b0164087b712a4216a82c25a": {
          "model_module": "@jupyter-widgets/base",
          "model_name": "LayoutModel",
          "model_module_version": "1.2.0",
          "state": {
            "_model_module": "@jupyter-widgets/base",
            "_model_module_version": "1.2.0",
            "_model_name": "LayoutModel",
            "_view_count": null,
            "_view_module": "@jupyter-widgets/base",
            "_view_module_version": "1.2.0",
            "_view_name": "LayoutView",
            "align_content": null,
            "align_items": null,
            "align_self": null,
            "border": null,
            "bottom": null,
            "display": null,
            "flex": null,
            "flex_flow": null,
            "grid_area": null,
            "grid_auto_columns": null,
            "grid_auto_flow": null,
            "grid_auto_rows": null,
            "grid_column": null,
            "grid_gap": null,
            "grid_row": null,
            "grid_template_areas": null,
            "grid_template_columns": null,
            "grid_template_rows": null,
            "height": null,
            "justify_content": null,
            "justify_items": null,
            "left": null,
            "margin": null,
            "max_height": null,
            "max_width": null,
            "min_height": null,
            "min_width": null,
            "object_fit": null,
            "object_position": null,
            "order": null,
            "overflow": null,
            "overflow_x": null,
            "overflow_y": null,
            "padding": null,
            "right": null,
            "top": null,
            "visibility": null,
            "width": null
          }
        },
        "3095664b8be146cd9a89ef63b1c8c0a6": {
          "model_module": "@jupyter-widgets/controls",
          "model_name": "DescriptionStyleModel",
          "model_module_version": "1.5.0",
          "state": {
            "_model_module": "@jupyter-widgets/controls",
            "_model_module_version": "1.5.0",
            "_model_name": "DescriptionStyleModel",
            "_view_count": null,
            "_view_module": "@jupyter-widgets/base",
            "_view_module_version": "1.2.0",
            "_view_name": "StyleView",
            "description_width": ""
          }
        },
        "19f226c77dcf44da93aeae17a7657e3b": {
          "model_module": "@jupyter-widgets/controls",
          "model_name": "HBoxModel",
          "model_module_version": "1.5.0",
          "state": {
            "_dom_classes": [],
            "_model_module": "@jupyter-widgets/controls",
            "_model_module_version": "1.5.0",
            "_model_name": "HBoxModel",
            "_view_count": null,
            "_view_module": "@jupyter-widgets/controls",
            "_view_module_version": "1.5.0",
            "_view_name": "HBoxView",
            "box_style": "",
            "children": [
              "IPY_MODEL_bf80bb2bba384022996dbacb936a16d0",
              "IPY_MODEL_4e5d7c61b1c6434eb770d61b173b00a0",
              "IPY_MODEL_ea3652db919e4738828485828dcc30fb"
            ],
            "layout": "IPY_MODEL_39bdb986997a4b488d617f4e299a615c"
          }
        },
        "bf80bb2bba384022996dbacb936a16d0": {
          "model_module": "@jupyter-widgets/controls",
          "model_name": "HTMLModel",
          "model_module_version": "1.5.0",
          "state": {
            "_dom_classes": [],
            "_model_module": "@jupyter-widgets/controls",
            "_model_module_version": "1.5.0",
            "_model_name": "HTMLModel",
            "_view_count": null,
            "_view_module": "@jupyter-widgets/controls",
            "_view_module_version": "1.5.0",
            "_view_name": "HTMLView",
            "description": "",
            "description_tooltip": null,
            "layout": "IPY_MODEL_65ef4b88248e4e28bb866cdcaf72e276",
            "placeholder": "​",
            "style": "IPY_MODEL_4d61f6dbc9fc4983b35154c1dc3812b2",
            "value": "Downloading pytorch_model.bin: 100%"
          }
        },
        "4e5d7c61b1c6434eb770d61b173b00a0": {
          "model_module": "@jupyter-widgets/controls",
          "model_name": "FloatProgressModel",
          "model_module_version": "1.5.0",
          "state": {
            "_dom_classes": [],
            "_model_module": "@jupyter-widgets/controls",
            "_model_module_version": "1.5.0",
            "_model_name": "FloatProgressModel",
            "_view_count": null,
            "_view_module": "@jupyter-widgets/controls",
            "_view_module_version": "1.5.0",
            "_view_name": "ProgressView",
            "bar_style": "success",
            "description": "",
            "description_tooltip": null,
            "layout": "IPY_MODEL_aa813cb00208411c857e5d2a175fe996",
            "max": 891692894,
            "min": 0,
            "orientation": "horizontal",
            "style": "IPY_MODEL_6906d05e2a764924861e708be5588c47",
            "value": 891692894
          }
        },
        "ea3652db919e4738828485828dcc30fb": {
          "model_module": "@jupyter-widgets/controls",
          "model_name": "HTMLModel",
          "model_module_version": "1.5.0",
          "state": {
            "_dom_classes": [],
            "_model_module": "@jupyter-widgets/controls",
            "_model_module_version": "1.5.0",
            "_model_name": "HTMLModel",
            "_view_count": null,
            "_view_module": "@jupyter-widgets/controls",
            "_view_module_version": "1.5.0",
            "_view_name": "HTMLView",
            "description": "",
            "description_tooltip": null,
            "layout": "IPY_MODEL_16ea90bd5ae347708d82e2130d618841",
            "placeholder": "​",
            "style": "IPY_MODEL_74ed3a0a838347faa83f03b81d2577bb",
            "value": " 892M/892M [00:02&lt;00:00, 404MB/s]"
          }
        },
        "39bdb986997a4b488d617f4e299a615c": {
          "model_module": "@jupyter-widgets/base",
          "model_name": "LayoutModel",
          "model_module_version": "1.2.0",
          "state": {
            "_model_module": "@jupyter-widgets/base",
            "_model_module_version": "1.2.0",
            "_model_name": "LayoutModel",
            "_view_count": null,
            "_view_module": "@jupyter-widgets/base",
            "_view_module_version": "1.2.0",
            "_view_name": "LayoutView",
            "align_content": null,
            "align_items": null,
            "align_self": null,
            "border": null,
            "bottom": null,
            "display": null,
            "flex": null,
            "flex_flow": null,
            "grid_area": null,
            "grid_auto_columns": null,
            "grid_auto_flow": null,
            "grid_auto_rows": null,
            "grid_column": null,
            "grid_gap": null,
            "grid_row": null,
            "grid_template_areas": null,
            "grid_template_columns": null,
            "grid_template_rows": null,
            "height": null,
            "justify_content": null,
            "justify_items": null,
            "left": null,
            "margin": null,
            "max_height": null,
            "max_width": null,
            "min_height": null,
            "min_width": null,
            "object_fit": null,
            "object_position": null,
            "order": null,
            "overflow": null,
            "overflow_x": null,
            "overflow_y": null,
            "padding": null,
            "right": null,
            "top": null,
            "visibility": null,
            "width": null
          }
        },
        "65ef4b88248e4e28bb866cdcaf72e276": {
          "model_module": "@jupyter-widgets/base",
          "model_name": "LayoutModel",
          "model_module_version": "1.2.0",
          "state": {
            "_model_module": "@jupyter-widgets/base",
            "_model_module_version": "1.2.0",
            "_model_name": "LayoutModel",
            "_view_count": null,
            "_view_module": "@jupyter-widgets/base",
            "_view_module_version": "1.2.0",
            "_view_name": "LayoutView",
            "align_content": null,
            "align_items": null,
            "align_self": null,
            "border": null,
            "bottom": null,
            "display": null,
            "flex": null,
            "flex_flow": null,
            "grid_area": null,
            "grid_auto_columns": null,
            "grid_auto_flow": null,
            "grid_auto_rows": null,
            "grid_column": null,
            "grid_gap": null,
            "grid_row": null,
            "grid_template_areas": null,
            "grid_template_columns": null,
            "grid_template_rows": null,
            "height": null,
            "justify_content": null,
            "justify_items": null,
            "left": null,
            "margin": null,
            "max_height": null,
            "max_width": null,
            "min_height": null,
            "min_width": null,
            "object_fit": null,
            "object_position": null,
            "order": null,
            "overflow": null,
            "overflow_x": null,
            "overflow_y": null,
            "padding": null,
            "right": null,
            "top": null,
            "visibility": null,
            "width": null
          }
        },
        "4d61f6dbc9fc4983b35154c1dc3812b2": {
          "model_module": "@jupyter-widgets/controls",
          "model_name": "DescriptionStyleModel",
          "model_module_version": "1.5.0",
          "state": {
            "_model_module": "@jupyter-widgets/controls",
            "_model_module_version": "1.5.0",
            "_model_name": "DescriptionStyleModel",
            "_view_count": null,
            "_view_module": "@jupyter-widgets/base",
            "_view_module_version": "1.2.0",
            "_view_name": "StyleView",
            "description_width": ""
          }
        },
        "aa813cb00208411c857e5d2a175fe996": {
          "model_module": "@jupyter-widgets/base",
          "model_name": "LayoutModel",
          "model_module_version": "1.2.0",
          "state": {
            "_model_module": "@jupyter-widgets/base",
            "_model_module_version": "1.2.0",
            "_model_name": "LayoutModel",
            "_view_count": null,
            "_view_module": "@jupyter-widgets/base",
            "_view_module_version": "1.2.0",
            "_view_name": "LayoutView",
            "align_content": null,
            "align_items": null,
            "align_self": null,
            "border": null,
            "bottom": null,
            "display": null,
            "flex": null,
            "flex_flow": null,
            "grid_area": null,
            "grid_auto_columns": null,
            "grid_auto_flow": null,
            "grid_auto_rows": null,
            "grid_column": null,
            "grid_gap": null,
            "grid_row": null,
            "grid_template_areas": null,
            "grid_template_columns": null,
            "grid_template_rows": null,
            "height": null,
            "justify_content": null,
            "justify_items": null,
            "left": null,
            "margin": null,
            "max_height": null,
            "max_width": null,
            "min_height": null,
            "min_width": null,
            "object_fit": null,
            "object_position": null,
            "order": null,
            "overflow": null,
            "overflow_x": null,
            "overflow_y": null,
            "padding": null,
            "right": null,
            "top": null,
            "visibility": null,
            "width": null
          }
        },
        "6906d05e2a764924861e708be5588c47": {
          "model_module": "@jupyter-widgets/controls",
          "model_name": "ProgressStyleModel",
          "model_module_version": "1.5.0",
          "state": {
            "_model_module": "@jupyter-widgets/controls",
            "_model_module_version": "1.5.0",
            "_model_name": "ProgressStyleModel",
            "_view_count": null,
            "_view_module": "@jupyter-widgets/base",
            "_view_module_version": "1.2.0",
            "_view_name": "StyleView",
            "bar_color": null,
            "description_width": ""
          }
        },
        "16ea90bd5ae347708d82e2130d618841": {
          "model_module": "@jupyter-widgets/base",
          "model_name": "LayoutModel",
          "model_module_version": "1.2.0",
          "state": {
            "_model_module": "@jupyter-widgets/base",
            "_model_module_version": "1.2.0",
            "_model_name": "LayoutModel",
            "_view_count": null,
            "_view_module": "@jupyter-widgets/base",
            "_view_module_version": "1.2.0",
            "_view_name": "LayoutView",
            "align_content": null,
            "align_items": null,
            "align_self": null,
            "border": null,
            "bottom": null,
            "display": null,
            "flex": null,
            "flex_flow": null,
            "grid_area": null,
            "grid_auto_columns": null,
            "grid_auto_flow": null,
            "grid_auto_rows": null,
            "grid_column": null,
            "grid_gap": null,
            "grid_row": null,
            "grid_template_areas": null,
            "grid_template_columns": null,
            "grid_template_rows": null,
            "height": null,
            "justify_content": null,
            "justify_items": null,
            "left": null,
            "margin": null,
            "max_height": null,
            "max_width": null,
            "min_height": null,
            "min_width": null,
            "object_fit": null,
            "object_position": null,
            "order": null,
            "overflow": null,
            "overflow_x": null,
            "overflow_y": null,
            "padding": null,
            "right": null,
            "top": null,
            "visibility": null,
            "width": null
          }
        },
        "74ed3a0a838347faa83f03b81d2577bb": {
          "model_module": "@jupyter-widgets/controls",
          "model_name": "DescriptionStyleModel",
          "model_module_version": "1.5.0",
          "state": {
            "_model_module": "@jupyter-widgets/controls",
            "_model_module_version": "1.5.0",
            "_model_name": "DescriptionStyleModel",
            "_view_count": null,
            "_view_module": "@jupyter-widgets/base",
            "_view_module_version": "1.2.0",
            "_view_name": "StyleView",
            "description_width": ""
          }
        }
      }
    }
  },
  "cells": [
    {
      "cell_type": "markdown",
      "metadata": {
        "id": "view-in-github",
        "colab_type": "text"
      },
      "source": [
        "<a href=\"https://colab.research.google.com/github/joycedh/SWDance/blob/main/MyDataPipeline.ipynb\" target=\"_parent\"><img src=\"https://colab.research.google.com/assets/colab-badge.svg\" alt=\"Open In Colab\"/></a>"
      ]
    },
    {
      "cell_type": "markdown",
      "source": [
        "# Pipeline for going from video playlist to dataset in HumanML3D format.\n",
        "TODO\n",
        "- Make a max. frames per sentence (how to clean this?).\n",
        "- Visualise if it makes sense...\n",
        "- Run motion representation script to build dataset\n",
        "- Try to run model on it"
      ],
      "metadata": {
        "id": "7cS-31EInvuQ"
      }
    },
    {
      "cell_type": "markdown",
      "source": [
        "## SetUp"
      ],
      "metadata": {
        "id": "lryok5nOsmK7"
      }
    },
    {
      "cell_type": "code",
      "source": [
        "from google.colab import drive\n",
        "drive.mount('/content/drive')"
      ],
      "metadata": {
        "colab": {
          "base_uri": "https://localhost:8080/"
        },
        "id": "6t-Y8aTK7Th3",
        "outputId": "37d509c7-537f-4473-b5ff-8e5343c680a3"
      },
      "execution_count": 1,
      "outputs": [
        {
          "output_type": "stream",
          "name": "stdout",
          "text": [
            "Mounted at /content/drive\n"
          ]
        }
      ]
    },
    {
      "cell_type": "code",
      "source": [
        "# @title pip installs\n",
        "# %%capture\n",
        "# <-- try this to hide output from cell??\n",
        "\n",
        "# # VIBE\n",
        "!pip install git+https://github.com/pytube/pytube\n",
        "!pip install tqdm yacs\n",
        "!pip install smplx\n",
        "!pip install trimesh pyrender progress filterpy\n",
        "!pip install opencv-python llvmlite\n",
        "!pip install git+https://github.com/mattloper/chumpy.git\n",
        "# !pip install git+https://github.com/mkocabas/yolov3-pytorch.git\n",
        "# !pip install git+https://github.com/mkocabas/multi-person-tracker.git\n",
        "!pip install transforms3d\n",
        "!pip install smplpytorch\n",
        "\n",
        "# whisper\n",
        "!pip install ffmpeg moviepy\n",
        "# !pip install -U openai-whisper\n",
        "!pip install -U stable-ts # this one has better timestamps\n",
        "\n",
        "# !source scripts/prepare_data.sh\n",
        "\n",
        "# for animation:\n",
        "# !pip install matplotlib==3.3.4\n",
        "\n",
        "# for emotion detection\n",
        "!pip install --no-cache-dir transformers sentencepiece\n",
        "\n",
        "# remember to set runtime type to GPU on colab!\n",
        "# delete model when you're done!! ???\n",
        "# del model"
      ],
      "metadata": {
        "id": "szU2ZOU4f5yQ",
        "colab": {
          "base_uri": "https://localhost:8080/"
        },
        "outputId": "3c150737-50b5-46b9-840d-eb8a3f762b1d"
      },
      "execution_count": 2,
      "outputs": [
        {
          "output_type": "stream",
          "name": "stdout",
          "text": [
            "Collecting git+https://github.com/pytube/pytube\n",
            "  Cloning https://github.com/pytube/pytube to /tmp/pip-req-build-daqjaea4\n",
            "  Running command git clone --filter=blob:none --quiet https://github.com/pytube/pytube /tmp/pip-req-build-daqjaea4\n",
            "  Resolved https://github.com/pytube/pytube to commit a32fff39058a6f7e5e59ecd06a7467b71197ce35\n",
            "  Preparing metadata (setup.py) ... \u001b[?25l\u001b[?25hdone\n",
            "Building wheels for collected packages: pytube\n",
            "  Building wheel for pytube (setup.py) ... \u001b[?25l\u001b[?25hdone\n",
            "  Created wheel for pytube: filename=pytube-15.0.0-py3-none-any.whl size=57580 sha256=4781e953fef78a64c3c897d3d3ccdd5cb51ab44a8c7813093b93ff4545384a46\n",
            "  Stored in directory: /tmp/pip-ephem-wheel-cache-gf7lah0r/wheels/b0/a9/7d/d3579227a695fdd15288c35657b3332ef0d71430ca7f685769\n",
            "Successfully built pytube\n",
            "Installing collected packages: pytube\n",
            "Successfully installed pytube-15.0.0\n",
            "Requirement already satisfied: tqdm in /usr/local/lib/python3.10/dist-packages (4.66.1)\n",
            "Collecting yacs\n",
            "  Downloading yacs-0.1.8-py3-none-any.whl (14 kB)\n",
            "Requirement already satisfied: PyYAML in /usr/local/lib/python3.10/dist-packages (from yacs) (6.0.1)\n",
            "Installing collected packages: yacs\n",
            "Successfully installed yacs-0.1.8\n",
            "Collecting smplx\n",
            "  Downloading smplx-0.1.28-py3-none-any.whl (29 kB)\n",
            "Requirement already satisfied: numpy>=1.16.2 in /usr/local/lib/python3.10/dist-packages (from smplx) (1.23.5)\n",
            "Requirement already satisfied: torch>=1.0.1.post2 in /usr/local/lib/python3.10/dist-packages (from smplx) (2.0.1+cu118)\n",
            "Requirement already satisfied: filelock in /usr/local/lib/python3.10/dist-packages (from torch>=1.0.1.post2->smplx) (3.12.4)\n",
            "Requirement already satisfied: typing-extensions in /usr/local/lib/python3.10/dist-packages (from torch>=1.0.1.post2->smplx) (4.5.0)\n",
            "Requirement already satisfied: sympy in /usr/local/lib/python3.10/dist-packages (from torch>=1.0.1.post2->smplx) (1.12)\n",
            "Requirement already satisfied: networkx in /usr/local/lib/python3.10/dist-packages (from torch>=1.0.1.post2->smplx) (3.1)\n",
            "Requirement already satisfied: jinja2 in /usr/local/lib/python3.10/dist-packages (from torch>=1.0.1.post2->smplx) (3.1.2)\n",
            "Requirement already satisfied: triton==2.0.0 in /usr/local/lib/python3.10/dist-packages (from torch>=1.0.1.post2->smplx) (2.0.0)\n",
            "Requirement already satisfied: cmake in /usr/local/lib/python3.10/dist-packages (from triton==2.0.0->torch>=1.0.1.post2->smplx) (3.27.6)\n",
            "Requirement already satisfied: lit in /usr/local/lib/python3.10/dist-packages (from triton==2.0.0->torch>=1.0.1.post2->smplx) (17.0.2)\n",
            "Requirement already satisfied: MarkupSafe>=2.0 in /usr/local/lib/python3.10/dist-packages (from jinja2->torch>=1.0.1.post2->smplx) (2.1.3)\n",
            "Requirement already satisfied: mpmath>=0.19 in /usr/local/lib/python3.10/dist-packages (from sympy->torch>=1.0.1.post2->smplx) (1.3.0)\n",
            "Installing collected packages: smplx\n",
            "Successfully installed smplx-0.1.28\n",
            "Collecting trimesh\n",
            "  Downloading trimesh-3.23.5-py3-none-any.whl (685 kB)\n",
            "\u001b[2K     \u001b[90m━━━━━━━━━━━━━━━━━━━━━━━━━━━━━━━━━━━━━━\u001b[0m \u001b[32m685.4/685.4 kB\u001b[0m \u001b[31m13.9 MB/s\u001b[0m eta \u001b[36m0:00:00\u001b[0m\n",
            "\u001b[?25hCollecting pyrender\n",
            "  Downloading pyrender-0.1.45-py3-none-any.whl (1.2 MB)\n",
            "\u001b[2K     \u001b[90m━━━━━━━━━━━━━━━━━━━━━━━━━━━━━━━━━━━━━━━━\u001b[0m \u001b[32m1.2/1.2 MB\u001b[0m \u001b[31m38.8 MB/s\u001b[0m eta \u001b[36m0:00:00\u001b[0m\n",
            "\u001b[?25hCollecting progress\n",
            "  Downloading progress-1.6.tar.gz (7.8 kB)\n",
            "  Preparing metadata (setup.py) ... \u001b[?25l\u001b[?25hdone\n",
            "Collecting filterpy\n",
            "  Downloading filterpy-1.4.5.zip (177 kB)\n",
            "\u001b[2K     \u001b[90m━━━━━━━━━━━━━━━━━━━━━━━━━━━━━━━━━━━━━━\u001b[0m \u001b[32m178.0/178.0 kB\u001b[0m \u001b[31m20.1 MB/s\u001b[0m eta \u001b[36m0:00:00\u001b[0m\n",
            "\u001b[?25h  Preparing metadata (setup.py) ... \u001b[?25l\u001b[?25hdone\n",
            "Requirement already satisfied: numpy in /usr/local/lib/python3.10/dist-packages (from trimesh) (1.23.5)\n",
            "Collecting freetype-py (from pyrender)\n",
            "  Downloading freetype_py-2.4.0-py3-none-manylinux_2_5_x86_64.manylinux1_x86_64.manylinux_2_12_x86_64.manylinux2010_x86_64.whl (1.0 MB)\n",
            "\u001b[2K     \u001b[90m━━━━━━━━━━━━━━━━━━━━━━━━━━━━━━━━━━━━━━━━\u001b[0m \u001b[32m1.0/1.0 MB\u001b[0m \u001b[31m43.7 MB/s\u001b[0m eta \u001b[36m0:00:00\u001b[0m\n",
            "\u001b[?25hRequirement already satisfied: imageio in /usr/local/lib/python3.10/dist-packages (from pyrender) (2.31.5)\n",
            "Requirement already satisfied: networkx in /usr/local/lib/python3.10/dist-packages (from pyrender) (3.1)\n",
            "Requirement already satisfied: Pillow in /usr/local/lib/python3.10/dist-packages (from pyrender) (9.4.0)\n",
            "Collecting pyglet>=1.4.10 (from pyrender)\n",
            "  Downloading pyglet-2.0.9-py3-none-any.whl (854 kB)\n",
            "\u001b[2K     \u001b[90m━━━━━━━━━━━━━━━━━━━━━━━━━━━━━━━━━━━━━━\u001b[0m \u001b[32m854.7/854.7 kB\u001b[0m \u001b[31m45.1 MB/s\u001b[0m eta \u001b[36m0:00:00\u001b[0m\n",
            "\u001b[?25hCollecting PyOpenGL==3.1.0 (from pyrender)\n",
            "  Downloading PyOpenGL-3.1.0.zip (2.2 MB)\n",
            "\u001b[2K     \u001b[90m━━━━━━━━━━━━━━━━━━━━━━━━━━━━━━━━━━━━━━━━\u001b[0m \u001b[32m2.2/2.2 MB\u001b[0m \u001b[31m70.1 MB/s\u001b[0m eta \u001b[36m0:00:00\u001b[0m\n",
            "\u001b[?25h  Preparing metadata (setup.py) ... \u001b[?25l\u001b[?25hdone\n",
            "Requirement already satisfied: scipy in /usr/local/lib/python3.10/dist-packages (from pyrender) (1.11.3)\n",
            "Requirement already satisfied: six in /usr/local/lib/python3.10/dist-packages (from pyrender) (1.16.0)\n",
            "Requirement already satisfied: matplotlib in /usr/local/lib/python3.10/dist-packages (from filterpy) (3.7.1)\n",
            "Requirement already satisfied: contourpy>=1.0.1 in /usr/local/lib/python3.10/dist-packages (from matplotlib->filterpy) (1.1.1)\n",
            "Requirement already satisfied: cycler>=0.10 in /usr/local/lib/python3.10/dist-packages (from matplotlib->filterpy) (0.12.0)\n",
            "Requirement already satisfied: fonttools>=4.22.0 in /usr/local/lib/python3.10/dist-packages (from matplotlib->filterpy) (4.43.0)\n",
            "Requirement already satisfied: kiwisolver>=1.0.1 in /usr/local/lib/python3.10/dist-packages (from matplotlib->filterpy) (1.4.5)\n",
            "Requirement already satisfied: packaging>=20.0 in /usr/local/lib/python3.10/dist-packages (from matplotlib->filterpy) (23.2)\n",
            "Requirement already satisfied: pyparsing>=2.3.1 in /usr/local/lib/python3.10/dist-packages (from matplotlib->filterpy) (3.1.1)\n",
            "Requirement already satisfied: python-dateutil>=2.7 in /usr/local/lib/python3.10/dist-packages (from matplotlib->filterpy) (2.8.2)\n",
            "Building wheels for collected packages: PyOpenGL, progress, filterpy\n",
            "  Building wheel for PyOpenGL (setup.py) ... \u001b[?25l\u001b[?25hdone\n",
            "  Created wheel for PyOpenGL: filename=PyOpenGL-3.1.0-py3-none-any.whl size=1745192 sha256=027b2a67cd89ddb029b8bb87963b7b350228286cbaa187e972706cba854eefb0\n",
            "  Stored in directory: /root/.cache/pip/wheels/a1/3c/d2/1f9533f908d86176637521e533c6cdb2d4e48b59003b5c3f19\n",
            "  Building wheel for progress (setup.py) ... \u001b[?25l\u001b[?25hdone\n",
            "  Created wheel for progress: filename=progress-1.6-py3-none-any.whl size=9610 sha256=f68d17327344d452a5c10c81d63ade1e3638277c811b003cfcf02c400fd8230b\n",
            "  Stored in directory: /root/.cache/pip/wheels/a2/68/5f/c339b20a41659d856c93ccdce6a33095493eb82c3964aac5a1\n",
            "  Building wheel for filterpy (setup.py) ... \u001b[?25l\u001b[?25hdone\n",
            "  Created wheel for filterpy: filename=filterpy-1.4.5-py3-none-any.whl size=110459 sha256=53f451745a98dc4a223fdf2e55a0b28377f1ed1fdcdc4fdf52f6dbaa173f3171\n",
            "  Stored in directory: /root/.cache/pip/wheels/0f/0c/ea/218f266af4ad626897562199fbbcba521b8497303200186102\n",
            "Successfully built PyOpenGL progress filterpy\n",
            "Installing collected packages: PyOpenGL, pyglet, progress, trimesh, freetype-py, pyrender, filterpy\n",
            "  Attempting uninstall: PyOpenGL\n",
            "    Found existing installation: PyOpenGL 3.1.7\n",
            "    Uninstalling PyOpenGL-3.1.7:\n",
            "      Successfully uninstalled PyOpenGL-3.1.7\n",
            "Successfully installed PyOpenGL-3.1.0 filterpy-1.4.5 freetype-py-2.4.0 progress-1.6 pyglet-2.0.9 pyrender-0.1.45 trimesh-3.23.5\n",
            "Requirement already satisfied: opencv-python in /usr/local/lib/python3.10/dist-packages (4.8.0.76)\n",
            "Requirement already satisfied: llvmlite in /usr/local/lib/python3.10/dist-packages (0.39.1)\n",
            "Requirement already satisfied: numpy>=1.21.2 in /usr/local/lib/python3.10/dist-packages (from opencv-python) (1.23.5)\n",
            "Collecting git+https://github.com/mattloper/chumpy.git\n",
            "  Cloning https://github.com/mattloper/chumpy.git to /tmp/pip-req-build-tceigyty\n",
            "  Running command git clone --filter=blob:none --quiet https://github.com/mattloper/chumpy.git /tmp/pip-req-build-tceigyty\n",
            "  Resolved https://github.com/mattloper/chumpy.git to commit 51d5afd92a8ded3637553be8cef41f328a1c863a\n",
            "  Preparing metadata (setup.py) ... \u001b[?25l\u001b[?25hdone\n",
            "Requirement already satisfied: scipy>=0.13.0 in /usr/local/lib/python3.10/dist-packages (from chumpy==0.71) (1.11.3)\n",
            "Requirement already satisfied: six>=1.11.0 in /usr/local/lib/python3.10/dist-packages (from chumpy==0.71) (1.16.0)\n",
            "Requirement already satisfied: numpy<1.28.0,>=1.21.6 in /usr/local/lib/python3.10/dist-packages (from scipy>=0.13.0->chumpy==0.71) (1.23.5)\n",
            "Building wheels for collected packages: chumpy\n",
            "  Building wheel for chumpy (setup.py) ... \u001b[?25l\u001b[?25hdone\n",
            "  Created wheel for chumpy: filename=chumpy-0.71-py3-none-any.whl size=60846 sha256=116e19bbab8ab59c1ff9e4a6f7403d564b1de3c612626149ea39e2eba6054013\n",
            "  Stored in directory: /tmp/pip-ephem-wheel-cache-4jqze008/wheels/c1/8b/16/1cb55016c30aa36ad8e90a40edc65f32690b86cc9f1a4e5a91\n",
            "Successfully built chumpy\n",
            "Installing collected packages: chumpy\n",
            "Successfully installed chumpy-0.71\n",
            "Collecting transforms3d\n",
            "  Downloading transforms3d-0.4.1.tar.gz (1.4 MB)\n",
            "\u001b[2K     \u001b[90m━━━━━━━━━━━━━━━━━━━━━━━━━━━━━━━━━━━━━━━━\u001b[0m \u001b[32m1.4/1.4 MB\u001b[0m \u001b[31m22.2 MB/s\u001b[0m eta \u001b[36m0:00:00\u001b[0m\n",
            "\u001b[?25h  Preparing metadata (setup.py) ... \u001b[?25l\u001b[?25hdone\n",
            "Building wheels for collected packages: transforms3d\n",
            "  Building wheel for transforms3d (setup.py) ... \u001b[?25l\u001b[?25hdone\n",
            "  Created wheel for transforms3d: filename=transforms3d-0.4.1-py3-none-any.whl size=1376758 sha256=37522a9adb250f6587337ef7a297781ec2d3adb0e0d491186c589f9b2c3a1b60\n",
            "  Stored in directory: /root/.cache/pip/wheels/06/37/d0/6e0fe02010be074e8138f2b5ffff5254b74751aafb60bb5666\n",
            "Successfully built transforms3d\n",
            "Installing collected packages: transforms3d\n",
            "Successfully installed transforms3d-0.4.1\n",
            "Collecting smplpytorch\n",
            "  Downloading smplpytorch-0.0.8-py3-none-any.whl (22 kB)\n",
            "Requirement already satisfied: opencv-python in /usr/local/lib/python3.10/dist-packages (from smplpytorch) (4.8.0.76)\n",
            "Requirement already satisfied: matplotlib in /usr/local/lib/python3.10/dist-packages (from smplpytorch) (3.7.1)\n",
            "Requirement already satisfied: numpy in /usr/local/lib/python3.10/dist-packages (from smplpytorch) (1.23.5)\n",
            "Requirement already satisfied: contourpy>=1.0.1 in /usr/local/lib/python3.10/dist-packages (from matplotlib->smplpytorch) (1.1.1)\n",
            "Requirement already satisfied: cycler>=0.10 in /usr/local/lib/python3.10/dist-packages (from matplotlib->smplpytorch) (0.12.0)\n",
            "Requirement already satisfied: fonttools>=4.22.0 in /usr/local/lib/python3.10/dist-packages (from matplotlib->smplpytorch) (4.43.0)\n",
            "Requirement already satisfied: kiwisolver>=1.0.1 in /usr/local/lib/python3.10/dist-packages (from matplotlib->smplpytorch) (1.4.5)\n",
            "Requirement already satisfied: packaging>=20.0 in /usr/local/lib/python3.10/dist-packages (from matplotlib->smplpytorch) (23.2)\n",
            "Requirement already satisfied: pillow>=6.2.0 in /usr/local/lib/python3.10/dist-packages (from matplotlib->smplpytorch) (9.4.0)\n",
            "Requirement already satisfied: pyparsing>=2.3.1 in /usr/local/lib/python3.10/dist-packages (from matplotlib->smplpytorch) (3.1.1)\n",
            "Requirement already satisfied: python-dateutil>=2.7 in /usr/local/lib/python3.10/dist-packages (from matplotlib->smplpytorch) (2.8.2)\n",
            "Requirement already satisfied: six>=1.5 in /usr/local/lib/python3.10/dist-packages (from python-dateutil>=2.7->matplotlib->smplpytorch) (1.16.0)\n",
            "Installing collected packages: smplpytorch\n",
            "Successfully installed smplpytorch-0.0.8\n",
            "Collecting ffmpeg\n",
            "  Downloading ffmpeg-1.4.tar.gz (5.1 kB)\n",
            "  Preparing metadata (setup.py) ... \u001b[?25l\u001b[?25hdone\n",
            "Requirement already satisfied: moviepy in /usr/local/lib/python3.10/dist-packages (1.0.3)\n",
            "Requirement already satisfied: decorator<5.0,>=4.0.2 in /usr/local/lib/python3.10/dist-packages (from moviepy) (4.4.2)\n",
            "Requirement already satisfied: tqdm<5.0,>=4.11.2 in /usr/local/lib/python3.10/dist-packages (from moviepy) (4.66.1)\n",
            "Requirement already satisfied: requests<3.0,>=2.8.1 in /usr/local/lib/python3.10/dist-packages (from moviepy) (2.31.0)\n",
            "Requirement already satisfied: proglog<=1.0.0 in /usr/local/lib/python3.10/dist-packages (from moviepy) (0.1.10)\n",
            "Requirement already satisfied: numpy>=1.17.3 in /usr/local/lib/python3.10/dist-packages (from moviepy) (1.23.5)\n",
            "Requirement already satisfied: imageio<3.0,>=2.5 in /usr/local/lib/python3.10/dist-packages (from moviepy) (2.31.5)\n",
            "Requirement already satisfied: imageio-ffmpeg>=0.2.0 in /usr/local/lib/python3.10/dist-packages (from moviepy) (0.4.9)\n",
            "Requirement already satisfied: pillow>=8.3.2 in /usr/local/lib/python3.10/dist-packages (from imageio<3.0,>=2.5->moviepy) (9.4.0)\n",
            "Requirement already satisfied: setuptools in /usr/local/lib/python3.10/dist-packages (from imageio-ffmpeg>=0.2.0->moviepy) (67.7.2)\n",
            "Requirement already satisfied: charset-normalizer<4,>=2 in /usr/local/lib/python3.10/dist-packages (from requests<3.0,>=2.8.1->moviepy) (3.3.0)\n",
            "Requirement already satisfied: idna<4,>=2.5 in /usr/local/lib/python3.10/dist-packages (from requests<3.0,>=2.8.1->moviepy) (3.4)\n",
            "Requirement already satisfied: urllib3<3,>=1.21.1 in /usr/local/lib/python3.10/dist-packages (from requests<3.0,>=2.8.1->moviepy) (2.0.6)\n",
            "Requirement already satisfied: certifi>=2017.4.17 in /usr/local/lib/python3.10/dist-packages (from requests<3.0,>=2.8.1->moviepy) (2023.7.22)\n",
            "Building wheels for collected packages: ffmpeg\n",
            "  Building wheel for ffmpeg (setup.py) ... \u001b[?25l\u001b[?25hdone\n",
            "  Created wheel for ffmpeg: filename=ffmpeg-1.4-py3-none-any.whl size=6082 sha256=431933194f818600191d427145650f9ac4ec0c3b880943db0514f6242cc013e2\n",
            "  Stored in directory: /root/.cache/pip/wheels/8e/7a/69/cd6aeb83b126a7f04cbe7c9d929028dc52a6e7d525ff56003a\n",
            "Successfully built ffmpeg\n",
            "Installing collected packages: ffmpeg\n",
            "Successfully installed ffmpeg-1.4\n",
            "Collecting stable-ts\n",
            "  Downloading stable-ts-2.11.7.tar.gz (54 kB)\n",
            "\u001b[2K     \u001b[90m━━━━━━━━━━━━━━━━━━━━━━━━━━━━━━━━━━━━━━━━\u001b[0m \u001b[32m54.3/54.3 kB\u001b[0m \u001b[31m1.5 MB/s\u001b[0m eta \u001b[36m0:00:00\u001b[0m\n",
            "\u001b[?25h  Preparing metadata (setup.py) ... \u001b[?25l\u001b[?25hdone\n",
            "Requirement already satisfied: numpy in /usr/local/lib/python3.10/dist-packages (from stable-ts) (1.23.5)\n",
            "Requirement already satisfied: torch in /usr/local/lib/python3.10/dist-packages (from stable-ts) (2.0.1+cu118)\n",
            "Requirement already satisfied: torchaudio in /usr/local/lib/python3.10/dist-packages (from stable-ts) (2.0.2+cu118)\n",
            "Requirement already satisfied: tqdm in /usr/local/lib/python3.10/dist-packages (from stable-ts) (4.66.1)\n",
            "Requirement already satisfied: more-itertools in /usr/local/lib/python3.10/dist-packages (from stable-ts) (10.1.0)\n",
            "Collecting transformers>=4.19.0 (from stable-ts)\n",
            "  Downloading transformers-4.34.0-py3-none-any.whl (7.7 MB)\n",
            "\u001b[2K     \u001b[90m━━━━━━━━━━━━━━━━━━━━━━━━━━━━━━━━━━━━━━━━\u001b[0m \u001b[32m7.7/7.7 MB\u001b[0m \u001b[31m76.6 MB/s\u001b[0m eta \u001b[36m0:00:00\u001b[0m\n",
            "\u001b[?25hCollecting ffmpeg-python==0.2.0 (from stable-ts)\n",
            "  Downloading ffmpeg_python-0.2.0-py3-none-any.whl (25 kB)\n",
            "Collecting openai-whisper==20230918 (from stable-ts)\n",
            "  Downloading openai-whisper-20230918.tar.gz (794 kB)\n",
            "\u001b[2K     \u001b[90m━━━━━━━━━━━━━━━━━━━━━━━━━━━━━━━━━━━━━━\u001b[0m \u001b[32m794.3/794.3 kB\u001b[0m \u001b[31m56.7 MB/s\u001b[0m eta \u001b[36m0:00:00\u001b[0m\n",
            "\u001b[?25h  Installing build dependencies ... \u001b[?25l\u001b[?25hdone\n",
            "  Getting requirements to build wheel ... \u001b[?25l\u001b[?25hdone\n",
            "  Preparing metadata (pyproject.toml) ... \u001b[?25l\u001b[?25hdone\n",
            "Requirement already satisfied: future in /usr/local/lib/python3.10/dist-packages (from ffmpeg-python==0.2.0->stable-ts) (0.18.3)\n",
            "Requirement already satisfied: triton==2.0.0 in /usr/local/lib/python3.10/dist-packages (from openai-whisper==20230918->stable-ts) (2.0.0)\n",
            "Requirement already satisfied: numba in /usr/local/lib/python3.10/dist-packages (from openai-whisper==20230918->stable-ts) (0.56.4)\n",
            "Collecting tiktoken==0.3.3 (from openai-whisper==20230918->stable-ts)\n",
            "  Downloading tiktoken-0.3.3-cp310-cp310-manylinux_2_17_x86_64.manylinux2014_x86_64.whl (1.7 MB)\n",
            "\u001b[2K     \u001b[90m━━━━━━━━━━━━━━━━━━━━━━━━━━━━━━━━━━━━━━━━\u001b[0m \u001b[32m1.7/1.7 MB\u001b[0m \u001b[31m83.1 MB/s\u001b[0m eta \u001b[36m0:00:00\u001b[0m\n",
            "\u001b[?25hRequirement already satisfied: regex>=2022.1.18 in /usr/local/lib/python3.10/dist-packages (from tiktoken==0.3.3->openai-whisper==20230918->stable-ts) (2023.6.3)\n",
            "Requirement already satisfied: requests>=2.26.0 in /usr/local/lib/python3.10/dist-packages (from tiktoken==0.3.3->openai-whisper==20230918->stable-ts) (2.31.0)\n",
            "Requirement already satisfied: cmake in /usr/local/lib/python3.10/dist-packages (from triton==2.0.0->openai-whisper==20230918->stable-ts) (3.27.6)\n",
            "Requirement already satisfied: filelock in /usr/local/lib/python3.10/dist-packages (from triton==2.0.0->openai-whisper==20230918->stable-ts) (3.12.4)\n",
            "Requirement already satisfied: lit in /usr/local/lib/python3.10/dist-packages (from triton==2.0.0->openai-whisper==20230918->stable-ts) (17.0.2)\n",
            "Collecting huggingface-hub<1.0,>=0.16.4 (from transformers>=4.19.0->stable-ts)\n",
            "  Downloading huggingface_hub-0.17.3-py3-none-any.whl (295 kB)\n",
            "\u001b[2K     \u001b[90m━━━━━━━━━━━━━━━━━━━━━━━━━━━━━━━━━━━━━━\u001b[0m \u001b[32m295.0/295.0 kB\u001b[0m \u001b[31m32.4 MB/s\u001b[0m eta \u001b[36m0:00:00\u001b[0m\n",
            "\u001b[?25hRequirement already satisfied: packaging>=20.0 in /usr/local/lib/python3.10/dist-packages (from transformers>=4.19.0->stable-ts) (23.2)\n",
            "Requirement already satisfied: pyyaml>=5.1 in /usr/local/lib/python3.10/dist-packages (from transformers>=4.19.0->stable-ts) (6.0.1)\n",
            "Collecting tokenizers<0.15,>=0.14 (from transformers>=4.19.0->stable-ts)\n",
            "  Downloading tokenizers-0.14.0-cp310-cp310-manylinux_2_17_x86_64.manylinux2014_x86_64.whl (3.8 MB)\n",
            "\u001b[2K     \u001b[90m━━━━━━━━━━━━━━━━━━━━━━━━━━━━━━━━━━━━━━━━\u001b[0m \u001b[32m3.8/3.8 MB\u001b[0m \u001b[31m74.4 MB/s\u001b[0m eta \u001b[36m0:00:00\u001b[0m\n",
            "\u001b[?25hCollecting safetensors>=0.3.1 (from transformers>=4.19.0->stable-ts)\n",
            "  Downloading safetensors-0.3.3-cp310-cp310-manylinux_2_17_x86_64.manylinux2014_x86_64.whl (1.3 MB)\n",
            "\u001b[2K     \u001b[90m━━━━━━━━━━━━━━━━━━━━━━━━━━━━━━━━━━━━━━━━\u001b[0m \u001b[32m1.3/1.3 MB\u001b[0m \u001b[31m80.9 MB/s\u001b[0m eta \u001b[36m0:00:00\u001b[0m\n",
            "\u001b[?25hRequirement already satisfied: typing-extensions in /usr/local/lib/python3.10/dist-packages (from torch->stable-ts) (4.5.0)\n",
            "Requirement already satisfied: sympy in /usr/local/lib/python3.10/dist-packages (from torch->stable-ts) (1.12)\n",
            "Requirement already satisfied: networkx in /usr/local/lib/python3.10/dist-packages (from torch->stable-ts) (3.1)\n",
            "Requirement already satisfied: jinja2 in /usr/local/lib/python3.10/dist-packages (from torch->stable-ts) (3.1.2)\n",
            "Requirement already satisfied: fsspec in /usr/local/lib/python3.10/dist-packages (from huggingface-hub<1.0,>=0.16.4->transformers>=4.19.0->stable-ts) (2023.6.0)\n",
            "Requirement already satisfied: charset-normalizer<4,>=2 in /usr/local/lib/python3.10/dist-packages (from requests>=2.26.0->tiktoken==0.3.3->openai-whisper==20230918->stable-ts) (3.3.0)\n",
            "Requirement already satisfied: idna<4,>=2.5 in /usr/local/lib/python3.10/dist-packages (from requests>=2.26.0->tiktoken==0.3.3->openai-whisper==20230918->stable-ts) (3.4)\n",
            "Requirement already satisfied: urllib3<3,>=1.21.1 in /usr/local/lib/python3.10/dist-packages (from requests>=2.26.0->tiktoken==0.3.3->openai-whisper==20230918->stable-ts) (2.0.6)\n",
            "Requirement already satisfied: certifi>=2017.4.17 in /usr/local/lib/python3.10/dist-packages (from requests>=2.26.0->tiktoken==0.3.3->openai-whisper==20230918->stable-ts) (2023.7.22)\n",
            "Collecting huggingface-hub<1.0,>=0.16.4 (from transformers>=4.19.0->stable-ts)\n",
            "  Downloading huggingface_hub-0.16.4-py3-none-any.whl (268 kB)\n",
            "\u001b[2K     \u001b[90m━━━━━━━━━━━━━━━━━━━━━━━━━━━━━━━━━━━━━━\u001b[0m \u001b[32m268.8/268.8 kB\u001b[0m \u001b[31m28.8 MB/s\u001b[0m eta \u001b[36m0:00:00\u001b[0m\n",
            "\u001b[?25hRequirement already satisfied: MarkupSafe>=2.0 in /usr/local/lib/python3.10/dist-packages (from jinja2->torch->stable-ts) (2.1.3)\n",
            "Requirement already satisfied: llvmlite<0.40,>=0.39.0dev0 in /usr/local/lib/python3.10/dist-packages (from numba->openai-whisper==20230918->stable-ts) (0.39.1)\n",
            "Requirement already satisfied: setuptools in /usr/local/lib/python3.10/dist-packages (from numba->openai-whisper==20230918->stable-ts) (67.7.2)\n",
            "Requirement already satisfied: mpmath>=0.19 in /usr/local/lib/python3.10/dist-packages (from sympy->torch->stable-ts) (1.3.0)\n",
            "Building wheels for collected packages: stable-ts, openai-whisper\n",
            "  Building wheel for stable-ts (setup.py) ... \u001b[?25l\u001b[?25hdone\n",
            "  Created wheel for stable-ts: filename=stable_ts-2.11.7-py3-none-any.whl size=60070 sha256=cbb6cd429e0096f55dbcc244b7252109b67151b0a4f252527625bdf90589d39c\n",
            "  Stored in directory: /root/.cache/pip/wheels/cd/c8/cb/dc4e66c752460e4601bdabfd61a1e1150ee7d35e924aab34c5\n",
            "  Building wheel for openai-whisper (pyproject.toml) ... \u001b[?25l\u001b[?25hdone\n",
            "  Created wheel for openai-whisper: filename=openai_whisper-20230918-py3-none-any.whl size=798399 sha256=7458f4aee9956efe341aab068f7d7c0d6637e1cec5b60f51646da0d4be2e7900\n",
            "  Stored in directory: /root/.cache/pip/wheels/5d/37/b1/9aea93201fe91e3561719120da92cc23e77b7ef6f3d0d9491a\n",
            "Successfully built stable-ts openai-whisper\n",
            "Installing collected packages: safetensors, ffmpeg-python, tiktoken, huggingface-hub, tokenizers, transformers, openai-whisper, stable-ts\n",
            "Successfully installed ffmpeg-python-0.2.0 huggingface-hub-0.16.4 openai-whisper-20230918 safetensors-0.3.3 stable-ts-2.11.7 tiktoken-0.3.3 tokenizers-0.14.0 transformers-4.34.0\n",
            "Requirement already satisfied: transformers in /usr/local/lib/python3.10/dist-packages (4.34.0)\n",
            "Collecting sentencepiece\n",
            "  Downloading sentencepiece-0.1.99-cp310-cp310-manylinux_2_17_x86_64.manylinux2014_x86_64.whl (1.3 MB)\n",
            "\u001b[2K     \u001b[90m━━━━━━━━━━━━━━━━━━━━━━━━━━━━━━━━━━━━━━━━\u001b[0m \u001b[32m1.3/1.3 MB\u001b[0m \u001b[31m27.5 MB/s\u001b[0m eta \u001b[36m0:00:00\u001b[0m\n",
            "\u001b[?25hRequirement already satisfied: filelock in /usr/local/lib/python3.10/dist-packages (from transformers) (3.12.4)\n",
            "Requirement already satisfied: huggingface-hub<1.0,>=0.16.4 in /usr/local/lib/python3.10/dist-packages (from transformers) (0.16.4)\n",
            "Requirement already satisfied: numpy>=1.17 in /usr/local/lib/python3.10/dist-packages (from transformers) (1.23.5)\n",
            "Requirement already satisfied: packaging>=20.0 in /usr/local/lib/python3.10/dist-packages (from transformers) (23.2)\n",
            "Requirement already satisfied: pyyaml>=5.1 in /usr/local/lib/python3.10/dist-packages (from transformers) (6.0.1)\n",
            "Requirement already satisfied: regex!=2019.12.17 in /usr/local/lib/python3.10/dist-packages (from transformers) (2023.6.3)\n",
            "Requirement already satisfied: requests in /usr/local/lib/python3.10/dist-packages (from transformers) (2.31.0)\n",
            "Requirement already satisfied: tokenizers<0.15,>=0.14 in /usr/local/lib/python3.10/dist-packages (from transformers) (0.14.0)\n",
            "Requirement already satisfied: safetensors>=0.3.1 in /usr/local/lib/python3.10/dist-packages (from transformers) (0.3.3)\n",
            "Requirement already satisfied: tqdm>=4.27 in /usr/local/lib/python3.10/dist-packages (from transformers) (4.66.1)\n",
            "Requirement already satisfied: fsspec in /usr/local/lib/python3.10/dist-packages (from huggingface-hub<1.0,>=0.16.4->transformers) (2023.6.0)\n",
            "Requirement already satisfied: typing-extensions>=3.7.4.3 in /usr/local/lib/python3.10/dist-packages (from huggingface-hub<1.0,>=0.16.4->transformers) (4.5.0)\n",
            "Requirement already satisfied: charset-normalizer<4,>=2 in /usr/local/lib/python3.10/dist-packages (from requests->transformers) (3.3.0)\n",
            "Requirement already satisfied: idna<4,>=2.5 in /usr/local/lib/python3.10/dist-packages (from requests->transformers) (3.4)\n",
            "Requirement already satisfied: urllib3<3,>=1.21.1 in /usr/local/lib/python3.10/dist-packages (from requests->transformers) (2.0.6)\n",
            "Requirement already satisfied: certifi>=2017.4.17 in /usr/local/lib/python3.10/dist-packages (from requests->transformers) (2023.7.22)\n",
            "Installing collected packages: sentencepiece\n",
            "Successfully installed sentencepiece-0.1.99\n"
          ]
        }
      ]
    },
    {
      "cell_type": "code",
      "source": [
        "#@title fix pytube bug\n",
        "import os\n",
        "import inspect\n",
        "import pytube\n",
        "\n",
        "package_path = os.path.dirname(inspect.getfile(pytube))\n",
        "pytube_path = f'{package_path}/innertube.py'\n",
        "\n",
        "with open(pytube_path, 'r', encoding='utf-8') as file:\n",
        "    data = file.readlines()\n",
        "\n",
        "print(data[222])\n",
        "data[222] = data[222].replace('ANDROID_MUSIC', 'ANDROID')\n",
        "print(data[222])\n",
        "\n",
        "with open(pytube_path, 'w', encoding='utf-8') as file:\n",
        "    file.writelines(data)\n",
        "\n",
        "# test\n",
        "with open(pytube_path, 'r', encoding='utf-8') as file:\n",
        "    data = file.readlines()\n",
        "print(data[222])\n",
        "\n",
        "\n",
        "## for the other thingy\n",
        "\n",
        "pytube_path = f'{package_path}/cipher.py'\n",
        "with open(pytube_path, 'r', encoding='utf-8') as file:\n",
        "    data = file.readlines()\n",
        "\n",
        "print(data[410])\n",
        "data[410] = data[410].replace('find_object_from_startpoint(raw_code, match.span()[1] - 1)', 'js')\n",
        "print(data[410])\n",
        "\n",
        "with open(pytube_path, 'w', encoding='utf-8') as file:\n",
        "    file.writelines(data)\n",
        "\n",
        "# test\n",
        "with open(pytube_path, 'r', encoding='utf-8') as file:\n",
        "    data = file.readlines()\n",
        "print(data[410])"
      ],
      "metadata": {
        "id": "byKzRSiTtEOi",
        "colab": {
          "base_uri": "https://localhost:8080/"
        },
        "outputId": "c276591e-c278-4019-b7ec-5beddf60bda3",
        "cellView": "form"
      },
      "execution_count": 3,
      "outputs": [
        {
          "output_type": "stream",
          "name": "stdout",
          "text": [
            "    def __init__(self, client='ANDROID_MUSIC', use_oauth=False, allow_cache=True):\n",
            "\n",
            "    def __init__(self, client='ANDROID', use_oauth=False, allow_cache=True):\n",
            "\n",
            "    def __init__(self, client='ANDROID', use_oauth=False, allow_cache=True):\n",
            "\n",
            "    transform_plan_raw = find_object_from_startpoint(raw_code, match.span()[1] - 1)\n",
            "\n",
            "    transform_plan_raw = js\n",
            "\n",
            "    transform_plan_raw = js\n",
            "\n"
          ]
        }
      ]
    },
    {
      "cell_type": "markdown",
      "source": [
        "# My Pipeline"
      ],
      "metadata": {
        "id": "tvgjVNVW5cZX"
      }
    },
    {
      "cell_type": "markdown",
      "source": [
        "### The thing"
      ],
      "metadata": {
        "id": "43yIAaN2W3Tk"
      }
    },
    {
      "cell_type": "code",
      "source": [
        "#@title imports etc\n",
        "%cd /content/drive/MyDrive/THESIS\n",
        "data_dir = '/content/drive/MyDrive/THESIS/data/SWDance'\n",
        "\n",
        "import torch\n",
        "import numpy as np\n",
        "import pandas as pd\n",
        "from pandas.io import json\n",
        "\n",
        "import time\n",
        "import joblib\n",
        "import os, sys\n",
        "import os.path as osp\n",
        "import spacy\n",
        "from tqdm import tqdm\n",
        "import codecs as cs\n",
        "import shutil\n",
        "\n",
        "import cv2\n",
        "import nltk\n",
        "from nltk.sentiment.vader import SentimentIntensityAnalyzer\n",
        "import whisper\n",
        "import stable_whisper\n",
        "import moviepy as mopy\n",
        "from moviepy import editor\n",
        "from pytube import Playlist, YouTube\n",
        "# from multi_person_tracker import MPT\n",
        "from torch.utils.data import DataLoader\n",
        "from smplx import SMPL as SMPL_native\n",
        "from scipy.signal import savgol_filter\n",
        "\n",
        "print('Loading whisper model...')\n",
        "WHISPER_MODEL = whisper.load_model(\"base\")\n",
        "WHISPER_MODEL = stable_whisper.load_model('base')\n",
        "\n",
        "print('Loading models for caption augmentation...')\n",
        "import gensim.downloader as gensim_api\n",
        "from transformers import AutoTokenizer, AutoModelWithLMHead\n",
        "GLOVE_MODEL = gensim_api.load(\"glove-wiki-gigaword-100\")\n",
        "EMOTION_TOKENIZER = AutoTokenizer.from_pretrained(\"mrm8488/t5-base-finetuned-emotion\")\n",
        "EMOTION_MODEL = AutoModelWithLMHead.from_pretrained(\"mrm8488/t5-base-finetuned-emotion\")\n",
        "\n",
        "# WHISPER_MODEL = None\n",
        "# GLOVE_MODEL = None\n",
        "# EMOTION_TOKENIZER = None\n",
        "# EMOTION_MODEL = None\n",
        "\n",
        "print(\"Loading SMPL layer...\") # for transform to smpl24\n",
        "import transforms3d\n",
        "from smplpytorch.display_utils import display_model\n",
        "from smplpytorch.pytorch.smpl_layer import SMPL_Layer\n",
        "SMPL_LAYER = SMPL_Layer(center_idx=0,gender='neutral',model_root=osp.join(data_dir, 'smpl_models'))\n",
        "\n",
        "# os.environ['PYOPENGL_PLATFORM'] = 'egl'\n",
        "NLP = spacy.load('en_core_web_sm')\n",
        "nltk.downloader.download('vader_lexicon')\n",
        "# NLP = None\n",
        "\n",
        "print('Loading VIBE model...')\n",
        "sys.path.append('/content/drive/MyDrive/THESIS/VIBE')\n",
        "from lib.models.vibe import VIBE_Demo\n",
        "from lib.utils.demo_utils import download_ckpt, video_to_images\n",
        "from lib.dataset.inference import Inference\n",
        "from lib.models.smpl import SMPL_MODEL_DIR\n",
        "# from lib.utils.smooth_pose import smooth_pose\n",
        "\n",
        "DEVICE = torch.device('cuda') if torch.cuda.is_available() else torch.device('cpu')\n",
        "VIBE_MODEL = VIBE_Demo(seqlen=16, n_layers=2, hidden_size=1024,\n",
        "                                add_linear=True, use_residual=True).to(DEVICE)\n",
        "pretrained_file = download_ckpt(use_3dpw=False)\n",
        "ckpt = torch.load(pretrained_file)\n",
        "print(f'Performance of pretrained VIBE model on 3DPW: {ckpt[\"performance\"]}')\n",
        "ckpt = ckpt['gen_state_dict']\n",
        "VIBE_MODEL.load_state_dict(ckpt, strict=False)\n",
        "VIBE_MODEL.eval()\n",
        "print(f'Loaded pretrained VIBE weights from \\\"{pretrained_file}\\\"')\n",
        "# ckpt = None\n",
        "\n",
        "\n",
        "# print(\"Loading multi person tracker for VIBE...\")\n",
        "# MY_MPT = MPT(device=DEVICE, batch_size=12,\n",
        "#           display=False, detector_type='yolo',\n",
        "#           output_format='dict', yolo_img_size=416)\n",
        "\n",
        "\n",
        "# utils\n",
        "def get_filename(file_idx):\n",
        "  name_length = 6\n",
        "  diff = name_length - len(str(file_idx))\n",
        "  return diff*'0' + str(file_idx)\n",
        "\n",
        "# from humanml3d notebook:\n",
        "def swap_left_right(joints):\n",
        "\n",
        "  assert len(joints.shape) == 3 and joints.shape[-1] == 3\n",
        "  joints = joints.copy()\n",
        "  joints[..., 0] *= -1\n",
        "\n",
        "  right_chain = [2, 5, 8, 11, 14, 17, 19, 21]\n",
        "  left_chain = [1, 4, 7, 10, 13, 16, 18, 20]\n",
        "\n",
        "  tmp = joints[:, right_chain]\n",
        "  joints[:, right_chain] = joints[:, left_chain]\n",
        "  joints[:, left_chain] = tmp\n",
        "  return joints\n",
        "\n"
      ],
      "metadata": {
        "colab": {
          "base_uri": "https://localhost:8080/",
          "height": 711,
          "referenced_widgets": [
            "5aa3d159981549cfab16249a9b05c25b",
            "23feb1cbba8e48d79f8bf5aab1b79812",
            "fa4e109add4b47a1b3ed1d71ec9bd2db",
            "8701e4c947cd4d719b1584db33dac4fc",
            "3e89a225b61f4c8f83150f9be7246084",
            "06a4196bc05b4eb39fd400ec9c1d6c5f",
            "0c04a497c674451f8906e36be3b1378f",
            "d49b88cee2fe4a718a64a473e00ad044",
            "e695405646d643c48fa443c16caa30da",
            "e4d84b4b7e414ed7a19ed7e330b19448",
            "b37d9cc8ed324c43844c0a3255d6fe71",
            "fcd086f400a94d79aba5ae221ab4c140",
            "49e3971a584540ce84aaa242620e4143",
            "456f394adb3448d0a96a8d6a2813ead2",
            "c409f105a9d346088f9f4d508ae0dde8",
            "1c2678623c8941eb9d264a67bd52086e",
            "41b6f3832eba4a9ca874dd7028a7e5cb",
            "78caa3fb29184206afe8a425ecaf6462",
            "f39a9dded687417f9f304d1c832b62ec",
            "146d5ef272514768a803bd9fdc4d8cb6",
            "936363407c8a4fb7a7b68c14d1f99800",
            "77da5a878b324361a077d95c6f4412aa",
            "19dc5df0642b4bbfb94be3c54bfa9dfa",
            "2e0c715cb632472a8b24d8b3acd2b124",
            "d0be219a30054642b84039635e306d48",
            "c840dd12c42b48dea83a5d096684ec90",
            "b00f8d9b43de4a40b947094a84022ef3",
            "5759d8cb1c284b20ac36515a3f892aac",
            "1446abd235b54256bc25a19233ef48a6",
            "a322373e67bb4b00b7277c0ccd8c8917",
            "6e0d00e17d7c46b4b669b9473646a312",
            "b7474e45337944aba04f8499c1e84bfc",
            "9bdfaacfd9694c84842418acf054423c",
            "262ff4c0a2b044d2acea3a070c570e99",
            "b513e7a4f8b34dfabe961e4eaaa7126b",
            "b71cfe26ea69473ba72c0e8cd8cec2f9",
            "176e5660cce64a1ca709e685108f03cb",
            "7450388b0dff46a993bd4f18c8f8f89c",
            "5189fb713f2c43568c2648d0d591fe50",
            "3c8341e0fb3b45e39c607746c134c5e3",
            "0842ff5e408546c4b6840765b1197bf2",
            "d06ab3189a224efea2584fe74ff42cd8",
            "7ac52a43b0164087b712a4216a82c25a",
            "3095664b8be146cd9a89ef63b1c8c0a6",
            "19f226c77dcf44da93aeae17a7657e3b",
            "bf80bb2bba384022996dbacb936a16d0",
            "4e5d7c61b1c6434eb770d61b173b00a0",
            "ea3652db919e4738828485828dcc30fb",
            "39bdb986997a4b488d617f4e299a615c",
            "65ef4b88248e4e28bb866cdcaf72e276",
            "4d61f6dbc9fc4983b35154c1dc3812b2",
            "aa813cb00208411c857e5d2a175fe996",
            "6906d05e2a764924861e708be5588c47",
            "16ea90bd5ae347708d82e2130d618841",
            "74ed3a0a838347faa83f03b81d2577bb"
          ]
        },
        "id": "OU8u1Wq3DKE3",
        "outputId": "238801ba-a298-4a5a-b832-505571c4bda0"
      },
      "execution_count": 4,
      "outputs": [
        {
          "output_type": "stream",
          "name": "stdout",
          "text": [
            "/content/drive/MyDrive/THESIS\n",
            "Loading whisper model...\n"
          ]
        },
        {
          "output_type": "stream",
          "name": "stderr",
          "text": [
            "100%|███████████████████████████████████████| 139M/139M [00:03<00:00, 46.2MiB/s]\n"
          ]
        },
        {
          "output_type": "stream",
          "name": "stdout",
          "text": [
            "Loading models for caption augmentation...\n",
            "[==================================================] 100.0% 128.1/128.1MB downloaded\n"
          ]
        },
        {
          "output_type": "display_data",
          "data": {
            "text/plain": [
              "Downloading (…)okenizer_config.json:   0%|          | 0.00/25.0 [00:00<?, ?B/s]"
            ],
            "application/vnd.jupyter.widget-view+json": {
              "version_major": 2,
              "version_minor": 0,
              "model_id": "5aa3d159981549cfab16249a9b05c25b"
            }
          },
          "metadata": {}
        },
        {
          "output_type": "display_data",
          "data": {
            "text/plain": [
              "Downloading (…)lve/main/config.json:   0%|          | 0.00/1.21k [00:00<?, ?B/s]"
            ],
            "application/vnd.jupyter.widget-view+json": {
              "version_major": 2,
              "version_minor": 0,
              "model_id": "fcd086f400a94d79aba5ae221ab4c140"
            }
          },
          "metadata": {}
        },
        {
          "output_type": "display_data",
          "data": {
            "text/plain": [
              "Downloading (…)ve/main/spiece.model:   0%|          | 0.00/792k [00:00<?, ?B/s]"
            ],
            "application/vnd.jupyter.widget-view+json": {
              "version_major": 2,
              "version_minor": 0,
              "model_id": "19dc5df0642b4bbfb94be3c54bfa9dfa"
            }
          },
          "metadata": {}
        },
        {
          "output_type": "display_data",
          "data": {
            "text/plain": [
              "Downloading (…)cial_tokens_map.json:   0%|          | 0.00/1.79k [00:00<?, ?B/s]"
            ],
            "application/vnd.jupyter.widget-view+json": {
              "version_major": 2,
              "version_minor": 0,
              "model_id": "262ff4c0a2b044d2acea3a070c570e99"
            }
          },
          "metadata": {}
        },
        {
          "output_type": "stream",
          "name": "stderr",
          "text": [
            "You are using the default legacy behaviour of the <class 'transformers.models.t5.tokenization_t5.T5Tokenizer'>. This is expected, and simply means that the `legacy` (previous) behavior will be used so nothing changes for you. If you want to use the new behaviour, set `legacy=False`. This should only be set if you understand what it means, and thouroughly read the reason why this was added as explained in https://github.com/huggingface/transformers/pull/24565\n",
            "WARNING:py.warnings:/usr/local/lib/python3.10/dist-packages/transformers/models/auto/modeling_auto.py:1499: FutureWarning: The class `AutoModelWithLMHead` is deprecated and will be removed in a future version. Please use `AutoModelForCausalLM` for causal language models, `AutoModelForMaskedLM` for masked language models and `AutoModelForSeq2SeqLM` for encoder-decoder models.\n",
            "  warnings.warn(\n",
            "\n"
          ]
        },
        {
          "output_type": "display_data",
          "data": {
            "text/plain": [
              "Downloading pytorch_model.bin:   0%|          | 0.00/892M [00:00<?, ?B/s]"
            ],
            "application/vnd.jupyter.widget-view+json": {
              "version_major": 2,
              "version_minor": 0,
              "model_id": "19f226c77dcf44da93aeae17a7657e3b"
            }
          },
          "metadata": {}
        },
        {
          "output_type": "stream",
          "name": "stdout",
          "text": [
            "Loading SMPL layer...\n"
          ]
        },
        {
          "output_type": "stream",
          "name": "stderr",
          "text": [
            "WARNING:py.warnings:/usr/local/lib/python3.10/dist-packages/smplpytorch/pytorch/smpl_layer.py:41: UserWarning: The given NumPy array is not writable, and PyTorch does not support non-writable tensors. This means writing to this tensor will result in undefined behavior. You may want to copy the array to protect its data or make it writable before converting it to a tensor. This type of warning will be suppressed for the rest of this program. (Triggered internally at ../torch/csrc/utils/tensor_numpy.cpp:206.)\n",
            "  torch.Tensor(smpl_data['betas'].r).unsqueeze(0))\n",
            "\n",
            "[nltk_data] Downloading package vader_lexicon to /root/nltk_data...\n"
          ]
        },
        {
          "output_type": "stream",
          "name": "stdout",
          "text": [
            "Loading VIBE model...\n",
            "WARNING: You are using a SMPL model, with only 10 shape coefficients.\n"
          ]
        },
        {
          "output_type": "stream",
          "name": "stderr",
          "text": [
            "WARNING:py.warnings:/usr/local/lib/python3.10/dist-packages/torchvision/models/_utils.py:208: UserWarning: The parameter 'pretrained' is deprecated since 0.13 and may be removed in the future, please use 'weights' instead.\n",
            "  warnings.warn(\n",
            "\n",
            "WARNING:py.warnings:/usr/local/lib/python3.10/dist-packages/torchvision/models/_utils.py:223: UserWarning: Arguments other than a weight enum or `None` for 'weights' are deprecated since 0.13 and may be removed in the future. The current behavior is equivalent to passing `weights=ResNet50_Weights.IMAGENET1K_V1`. You can also use `weights=ResNet50_Weights.DEFAULT` to get the most up-to-date weights.\n",
            "  warnings.warn(msg)\n",
            "\n",
            "Downloading: \"https://download.pytorch.org/models/resnet50-0676ba61.pth\" to /root/.cache/torch/hub/checkpoints/resnet50-0676ba61.pth\n",
            "100%|██████████| 97.8M/97.8M [00:01<00:00, 58.2MB/s]\n"
          ]
        },
        {
          "output_type": "stream",
          "name": "stdout",
          "text": [
            "WARNING: You are using a SMPL model, with only 10 shape coefficients.\n",
            "=> loaded pretrained model from 'data/vibe_data/spin_model_checkpoint.pth.tar'\n",
            "Performance of pretrained VIBE model on 3DPW: 56.56075477600098\n",
            "Loaded pretrained VIBE weights from \"data/vibe_data/vibe_model_wo_3dpw.pth.tar\"\n"
          ]
        }
      ]
    },
    {
      "cell_type": "code",
      "source": [
        "#@title Single Person Detector (yolov7)\n",
        "# changed line 21 in utils/google_utils to `file = Path(str(file))` (in Drive the uppercase matters...)\n",
        "\n",
        "from pathlib import Path\n",
        "import torch.backends.cudnn as cudnn\n",
        "from numpy import random\n",
        "\n",
        "print('yolo imports...')\n",
        "sys.path.append('/content/drive/MyDrive/THESIS/yolov7')\n",
        "from models.experimental import attempt_load\n",
        "from utils.datasets import LoadStreams, LoadImages\n",
        "from utils.general import check_img_size, check_requirements, check_imshow, non_max_suppression, apply_classifier, \\\n",
        "    scale_coords, xyxy2xywh, strip_optimizer, set_logging, increment_path\n",
        "from utils.plots import plot_one_box\n",
        "from utils.torch_utils import select_device, load_classifier, time_synchronized, TracedModel\n",
        "\n",
        "def load_yolo_model(weights=['/content/drive/MyDrive/THESIS/yolov7/yolov7.pt'], img_size=640, trace=True, device=''):\n",
        "\n",
        "  device = select_device(device)\n",
        "  half = device.type != 'cpu'\n",
        "\n",
        "  # Load model\n",
        "  model = attempt_load(weights, map_location=device)  # load FP32 model\n",
        "  if trace:\n",
        "      model = TracedModel(model, device, img_size)\n",
        "  if half:\n",
        "      model.half()  # to FP16\n",
        "\n",
        "  return model\n",
        "\n",
        "YOLO_MODEL = load_yolo_model()\n",
        "\n",
        "def SinglePersonDetector(\n",
        "    model, source, img_size=640, conf_thres=0.25,\n",
        "    iou_thres=0.45, device='', view_img=False, save_txt=True, save_conf=False,\n",
        "    nosave=False, classes=None, agnostic_nms=False, augment=False,\n",
        "    update=False, project='runs/detect', name='exp', exist_ok=False, save_bboxes=True):\n",
        "\n",
        "  imgsz=img_size\n",
        "\n",
        "  save_img = not nosave and not source.endswith('.txt')  # save inference images\n",
        "  webcam = source.isnumeric() or source.endswith('.txt') or source.lower().startswith(\n",
        "      ('rtsp://', 'rtmp://', 'http://', 'https://'))\n",
        "\n",
        "  # Directories\n",
        "  save_dir = Path(increment_path(Path(project) / name, exist_ok=exist_ok))  # increment run\n",
        "  (save_dir / 'labels' if save_txt else save_dir).mkdir(parents=True, exist_ok=True)  # make dir\n",
        "\n",
        "  # Initialize\n",
        "  set_logging()\n",
        "  device = select_device(device)\n",
        "  half = device.type != 'cpu'\n",
        "\n",
        "  # Model attributes\n",
        "  stride = int(model.stride.max())  # model stride\n",
        "  imgsz = check_img_size(imgsz, s=stride)  # check img_size\n",
        "\n",
        "  # Second-stage classifier\n",
        "  classify = False\n",
        "  if classify:\n",
        "      modelc = load_classifier(name='resnet101', n=2)  # initialize\n",
        "      modelc.load_state_dict(torch.load('weights/resnet101.pt', map_location=device)['model']).to(device).eval()\n",
        "\n",
        "  # Set Dataloader\n",
        "  vid_path, vid_writer = None, None\n",
        "  if webcam:\n",
        "      view_img = check_imshow()\n",
        "      cudnn.benchmark = True  # set True to speed up constant image size inference\n",
        "      dataset = LoadStreams(source, img_size=imgsz, stride=stride)\n",
        "  else:\n",
        "      dataset = LoadImages(source, img_size=imgsz, stride=stride)\n",
        "\n",
        "  # Get names and colors\n",
        "  names = model.module.names if hasattr(model, 'module') else model.names\n",
        "  colors = [[random.randint(0, 255) for _ in range(3)] for _ in names]\n",
        "\n",
        "  # Run inference\n",
        "  if device.type != 'cpu':\n",
        "      model(torch.zeros(1, 3, imgsz, imgsz).to(device).type_as(next(model.parameters())))  # run once\n",
        "  old_img_w = old_img_h = imgsz\n",
        "  old_img_b = 1\n",
        "\n",
        "  t0 = time.time()\n",
        "  person_tracked = False\n",
        "  bbox_info = {'frames':[], 'bbox': []}\n",
        "  for path, img, im0s, vid_cap in tqdm(dataset):\n",
        "      img = torch.from_numpy(img).to(device)\n",
        "      img = img.half() if half else img.float()  # uint8 to fp16/32\n",
        "      img /= 255.0  # 0 - 255 to 0.0 - 1.0\n",
        "      if img.ndimension() == 3:\n",
        "          img = img.unsqueeze(0)\n",
        "\n",
        "      # Warmup\n",
        "      if device.type != 'cpu' and (old_img_b != img.shape[0] or old_img_h != img.shape[2] or old_img_w != img.shape[3]):\n",
        "          old_img_b = img.shape[0]\n",
        "          old_img_h = img.shape[2]\n",
        "          old_img_w = img.shape[3]\n",
        "          for i in range(3):\n",
        "              model(img, augment=augment)[0]\n",
        "\n",
        "      # Inference\n",
        "      t1 = time_synchronized()\n",
        "      with torch.no_grad():   # Calculating gradients would cause a GPU memory leak\n",
        "          pred = model(img, augment=augment)[0]\n",
        "      t2 = time_synchronized()\n",
        "\n",
        "      # Apply NMS\n",
        "      pred = non_max_suppression(pred, conf_thres, iou_thres, classes=classes, agnostic=agnostic_nms)\n",
        "      t3 = time_synchronized()\n",
        "\n",
        "      # Apply Classifier\n",
        "      if classify:\n",
        "          pred = apply_classifier(pred, modelc, img, im0s)\n",
        "\n",
        "      # Process detections\n",
        "      for i, det in enumerate(pred):  # detections per image\n",
        "          if webcam:  # batch_size >= 1\n",
        "              p = Path(path[i])\n",
        "              s, im0, frame = '%g: ' % i, im0s[i].copy(), dataset.count\n",
        "          else:\n",
        "              p = Path(path)\n",
        "              s, im0, frame = '', im0s, getattr(dataset, 'frame', int(p.stem)-1)\n",
        "\n",
        "          save_path = str(save_dir / p.name)  # img.jpg\n",
        "          txt_path = str(save_dir / 'labels' / p.stem) + ('' if dataset.mode == 'image' else f'_{frame}')  # img.txt\n",
        "          gn = torch.tensor(im0.shape)[[1, 0, 1, 0]]  # normalization gain whwh\n",
        "\n",
        "          if len(det):\n",
        "              # Rescale boxes from img_size to im0 size\n",
        "              det[:, :4] = scale_coords(img.shape[2:], det[:, :4], im0.shape).round()\n",
        "\n",
        "              # Print results\n",
        "              for c in det[:, -1].unique():\n",
        "                  n = (det[:, -1] == c).sum()  # detections per class\n",
        "                  s += f\"{n} {names[int(c)]}{'s' * (n > 1)}, \"  # add to string\n",
        "\n",
        "              # Results\n",
        "              biggest_bbox = 0\n",
        "              xyxy_main = det[-1][:4]\n",
        "\n",
        "              for *xyxy, conf, cls in reversed(det):  # check all boxes & get main person out\n",
        "                if cls == 0:  # get persons (idx for person = 0)\n",
        "                  person_tracked = True\n",
        "\n",
        "                  # MPT style\n",
        "                  xyxy = [d.cpu() for d in xyxy]\n",
        "                  w, h = xyxy[2] - xyxy[0], xyxy[3] - xyxy[1]\n",
        "                  c_x, c_y = xyxy[0] + w/2, xyxy[1] + h/2\n",
        "\n",
        "                  if float(w*h) > biggest_bbox:\n",
        "                    biggest_bbox = float(w*h)\n",
        "                    w = h = np.where(w / h > 1, w, h)\n",
        "                    bbox_MPT_main = np.array([c_x, c_y, w, h])\n",
        "                    xyxy_main = xyxy\n",
        "\n",
        "              if person_tracked:   # only write if a person has been tracked...\n",
        "                bbox_info['frames'] += [frame]\n",
        "                bbox_info['bbox'] += [bbox_MPT_main]\n",
        "\n",
        "                if save_txt:  # Write to file\n",
        "                    line = (cls, *bbox_MPT_main, conf) if save_conf else (cls, *bbox_MPT_main)  # label format\n",
        "                    with open(txt_path + '.txt', 'a') as f:\n",
        "                        f.write(('%g ' * len(line)).rstrip() % line + '\\n')\n",
        "\n",
        "                if save_img or view_img:  # Add bbox to image\n",
        "                    label = f'{names[int(cls)]} {conf:.2f}'\n",
        "                    plot_one_box(xyxy_main, im0, label=label, color=colors[int(cls)], line_thickness=1)\n",
        "\n",
        "          # Print time (inference + NMS)\n",
        "          # print(f'{s}Done. ({(1E3 * (t2 - t1)):.1f}ms) Inference, ({(1E3 * (t3 - t2)):.1f}ms) NMS')\n",
        "\n",
        "          # Stream results\n",
        "          if view_img and person_tracked:\n",
        "              cv2.imshow(str(p), im0)\n",
        "              cv2.waitKey(1)  # 1 millisecond\n",
        "\n",
        "          # Save results (image with detections)\n",
        "          if save_img and person_tracked:\n",
        "              if dataset.mode == 'image':\n",
        "                  cv2.imwrite(save_path, im0)\n",
        "                  print(f\" The image with the result is saved in: {save_path}\")\n",
        "              else:  # 'video' or 'stream'\n",
        "                  if vid_path != save_path:  # new video\n",
        "                      vid_path = save_path\n",
        "                      if isinstance(vid_writer, cv2.VideoWriter):\n",
        "                          vid_writer.release()  # release previous video writer\n",
        "                      if vid_cap:  # video\n",
        "                          fps = vid_cap.get(cv2.CAP_PROP_FPS)\n",
        "                          w = int(vid_cap.get(cv2.CAP_PROP_FRAME_WIDTH))\n",
        "                          h = int(vid_cap.get(cv2.CAP_PROP_FRAME_HEIGHT))\n",
        "                      else:  # stream\n",
        "                          fps, w, h = 30, im0.shape[1], im0.shape[0]\n",
        "                          save_path += '.mp4'\n",
        "                      vid_writer = cv2.VideoWriter(save_path, cv2.VideoWriter_fourcc(*'mp4v'), fps, (w, h))\n",
        "                  vid_writer.write(im0)\n",
        "\n",
        "  if save_txt or save_img and person_tracked:\n",
        "      s = f\"\\n{len(list(save_dir.glob('labels/*.txt')))} labels saved to {save_dir / 'labels'}\" if save_txt else ''\n",
        "      print(f\"Results saved to {save_dir}{s}\")\n",
        "\n",
        "  if not person_tracked:\n",
        "    shutil.rmtree(save_dir)\n",
        "    print(\"No person was tracked so no output :(\")\n",
        "\n",
        "  print(f'Done. ({time.time() - t0:.3f}s)')\n",
        "  return bbox_info"
      ],
      "metadata": {
        "colab": {
          "base_uri": "https://localhost:8080/"
        },
        "id": "A4P-YK13xiqm",
        "outputId": "882282b6-88fc-472a-b3ac-d7e1cfe83d0d",
        "cellView": "form"
      },
      "execution_count": 5,
      "outputs": [
        {
          "output_type": "stream",
          "name": "stdout",
          "text": [
            "yolo imports...\n",
            "Fusing layers... \n"
          ]
        },
        {
          "output_type": "stream",
          "name": "stderr",
          "text": [
            "WARNING:py.warnings:/usr/local/lib/python3.10/dist-packages/torch/nn/modules/module.py:831: UserWarning: The .grad attribute of a Tensor that is not a leaf Tensor is being accessed. Its .grad attribute won't be populated during autograd.backward(). If you indeed want the .grad field to be populated for a non-leaf Tensor, use .retain_grad() on the non-leaf Tensor. If you access the non-leaf Tensor by mistake, make sure you access the leaf Tensor instead. See github.com/pytorch/pytorch/pull/30531 for more informations. (Triggered internally at aten/src/ATen/core/TensorBody.h:486.)\n",
            "  if param.grad is not None:\n",
            "\n"
          ]
        },
        {
          "output_type": "stream",
          "name": "stdout",
          "text": [
            "RepConv.fuse_repvgg_block\n",
            "RepConv.fuse_repvgg_block\n",
            "RepConv.fuse_repvgg_block\n",
            " Convert model to Traced-model... \n",
            " traced_script_module saved! \n",
            " model is traced! \n",
            "\n"
          ]
        }
      ]
    },
    {
      "cell_type": "code",
      "source": [
        "#@title THE NEW DP\n",
        "\n",
        "VIDEO_SAVEPATH = '/content/drive/MyDrive/THESIS/data/SWDance/videos'\n",
        "\n",
        "class DataProcessor:\n",
        "\n",
        "  def __init__(self, data_dir, device=None):\n",
        "    ''' In video_path, insert either a directory where your videos are stored,\n",
        "        or otherwise, a link to a single youtube video or a youtube playlist\n",
        "        link '''\n",
        "    self.data_dir = data_dir\n",
        "    self.videos_df = pd.read_csv(osp.join(self.data_dir, 'video_files.csv'))\n",
        "\n",
        "    self.device = DEVICE if device is None else device\n",
        "\n",
        "    self.whisper_model = WHISPER_MODEL\n",
        "    self.glove_model = GLOVE_MODEL\n",
        "    self.emotion_tokenizer = EMOTION_TOKENIZER\n",
        "    self.emotion_model = EMOTION_MODEL\n",
        "    self.vibe_model = VIBE_MODEL\n",
        "    # self.MPT = MY_MPT\n",
        "    self.SMPL_layer = SMPL_LAYER\n",
        "    self.nlp = NLP\n",
        "\n",
        "    self.min_frames = 25\n",
        "    self.vibe_batch_size = 128\n",
        "    self.tracker_batch_size = 12\n",
        "    self.yolo_img_size = 416\n",
        "    self.display = False\n",
        "    self.render = False\n",
        "    self.bbox_scale = 1.1\n",
        "    self.smooth_pose = False\n",
        "\n",
        "  def download_yt_video(self, url, video_idx):\n",
        "\n",
        "    if osp.isfile(f'{VIDEO_SAVEPATH}/{video_idx}.mp4'):\n",
        "      print(f'yt video exists: {VIDEO_SAVEPATH}/{video_idx}.mp4')\n",
        "      return f'{VIDEO_SAVEPATH}/{video_idx}.mp4', self.videos_df.loc[video_idx, ('fps')]\n",
        "\n",
        "    yt = YouTube(url)\n",
        "    stream = yt.streams.filter(progressive=True, file_extension='mp4').order_by('resolution').desc().first()\n",
        "    # stream = yt.streams.filter(progressive=True, file_extension='mp4').order_by('resolution').first()\n",
        "    print(f'video resolution= {stream.resolution}')\n",
        "    video_fps = stream.fps\n",
        "    video_file = stream.download(output_path=f'{VIDEO_SAVEPATH}', filename=f'{video_idx}.mp4')\n",
        "\n",
        "    if video_file is None:\n",
        "      exit('Youtube url is not valid!')\n",
        "    print(f'YouTube Video has been downloaded to {video_file}...')\n",
        "    return video_file, video_fps\n",
        "\n",
        "  def get_whisper_captions(self, video_file):\n",
        "    video_idx = osp.basename(video_file).replace('.mp4', '')\n",
        "    audio_file = osp.join('/tmp', f'{video_idx}.wav')\n",
        "    caps_file = osp.join(osp.join(self.data_dir, 'caption_output'),\n",
        "                           f\"{video_idx}.pkl\")\n",
        "\n",
        "    if osp.isfile(audio_file):\n",
        "      print(f'audio video exists: {audio_file}')\n",
        "    else:\n",
        "      clip = mopy.editor.VideoFileClip(video_file)\n",
        "      clip.audio.write_audiofile(audio_file, codec='pcm_s16le')\n",
        "\n",
        "    if osp.isfile(caps_file):\n",
        "      print(f'caps file exists: {caps_file}')\n",
        "      return joblib.load(caps_file)\n",
        "    else:\n",
        "      # captions = self.whisper_model.transcribe(audio_file) # normal whisper model\n",
        "      captions = self.whisper_model.transcribe(audio_file, word_timestamps=False).to_dict()\n",
        "      joblib.dump(captions, caps_file)\n",
        "\n",
        "    del audio_file\n",
        "    return captions\n",
        "\n",
        "  def process_captions(self, captions, video_fps):\n",
        "    # function inspired by HumanML3D github\n",
        "\n",
        "    processed_captions = []\n",
        "\n",
        "    for caption in captions['segments']:\n",
        "      text = caption['text']\n",
        "      text = self.augment_captions(text)\n",
        "      doc = self.nlp(text)\n",
        "\n",
        "      if doc == \"\" or doc == \" \":\n",
        "        # save empty as X? -> https://spacy.io/api/token#attributes\n",
        "        tokens = ' /X'\n",
        "\n",
        "      else:\n",
        "        word_list, pos_list = [], []\n",
        "        for token in doc:\n",
        "          word = token.text\n",
        "          if not word.isalpha():\n",
        "            continue\n",
        "          if (token.pos_ == 'NOUN' or token.pos_ == 'VERB') and (word != 'left'):\n",
        "            word_list.append(token.lemma_)\n",
        "          else:\n",
        "            word_list.append(word)\n",
        "          pos_list.append(token.pos_)\n",
        "        tokens = ' '.join([f'{word_list[i]}/{pos_list[i]}' for i in range(len(word_list))])\n",
        "\n",
        "      # timestamp (s) to frame_count\n",
        "      start = caption['start']\n",
        "      end = caption['end']\n",
        "\n",
        "      caption_info = {\"text\": caption[\"text\"], \"tokens\": tokens, \"start\": start, \"end\": end}\n",
        "      processed_captions.append(caption_info)\n",
        "\n",
        "    return processed_captions\n",
        "\n",
        "  def augment_captions(self, caption, emotions=True, similar_words=True):\n",
        "\n",
        "    sia = SentimentIntensityAnalyzer()\n",
        "    cap_polarity = sia.polarity_scores(caption)['compound']\n",
        "\n",
        "    if emotions:\n",
        "      input_ids = self.emotion_tokenizer.encode(caption, return_tensors='pt')\n",
        "      emotion_output = self.emotion_model.generate(input_ids=input_ids, max_length=20)\n",
        "      emotion = [self.emotion_tokenizer.decode(ids, skip_special_tokens=True) for ids in emotion_output][0]\n",
        "    else:\n",
        "      emotion = \"\"\n",
        "\n",
        "    if similar_words:   # TODO: only simwords for the emotion word??\n",
        "      similar_words = self.glove_model.most_similar(emotion) # could premake this bc it has only 5 emotions\n",
        "      similar_words = [w[0] for w in similar_words]\n",
        "      for word in similar_words:\n",
        "        word_polarity = sia.polarity_scores(word)['compound']\n",
        "        if not cap_polarity - 0.5 <= word_polarity <= cap_polarity + 0.5:\n",
        "          similar_words.remove(word)\n",
        "\n",
        "      similar_words = \" \".join(similar_words[:5])\n",
        "    else:\n",
        "      similar_words = \"\"\n",
        "\n",
        "    return f'{caption} {emotion} {similar_words}'\n",
        "\n",
        "  def get_vibe_poses(self, video_file):\n",
        "    # inspired by VIBE github code but modified.\n",
        "    # need to download VIBE in subfolder to be able to run this.\n",
        "\n",
        "    video_idx = osp.basename(video_file).replace('.mp4', '')\n",
        "    output_file = osp.join(osp.join(self.data_dir, 'vibe_output'),\n",
        "                           f\"{video_idx}.pkl\")\n",
        "\n",
        "    if osp.isfile(output_file):\n",
        "      print(f'VIBE file exists: {output_file}')\n",
        "      output_dict = joblib.load(output_file)\n",
        "      return output_dict\n",
        "\n",
        "    if osp.isdir(f'/tmp/{video_idx}_mp4'):\n",
        "      image_folder = f'/tmp/{video_idx}_mp4'\n",
        "      img_files = [i for i in os.listdir(image_folder)]\n",
        "      num_frames = len(img_files)\n",
        "      test_img = cv2.imread(f'{image_folder}/{img_files[0]}')\n",
        "      img_shape = test_img.shape\n",
        "    else:\n",
        "      image_folder, num_frames, img_shape = video_to_images(video_file, return_info=True)\n",
        "\n",
        "    print(f'Video {video_idx}, number of frames: {num_frames}')\n",
        "    orig_height, orig_width = img_shape[:2]\n",
        "    total_time = time.time()\n",
        "\n",
        "    print('Tracking pose...')\n",
        "    tracking_results = SinglePersonDetector(\n",
        "        YOLO_MODEL, source=image_folder,\n",
        "        conf_thres=0.85, save_txt=False,\n",
        "        save_conf=False, nosave=True,\n",
        "        project='data/SWDance/videos',\n",
        "    )\n",
        "\n",
        "    bboxes = np.array(tracking_results['bbox'])\n",
        "    frames = np.array(tracking_results['frames'])\n",
        "\n",
        "    print(f'Running VIBE...')\n",
        "    dataset = Inference(\n",
        "        image_folder=image_folder,\n",
        "        frames=frames,\n",
        "        bboxes=bboxes,\n",
        "        joints2d=None,\n",
        "        scale=self.bbox_scale,\n",
        "    )\n",
        "\n",
        "    dataloader = DataLoader(dataset, batch_size=self.vibe_batch_size, num_workers=4)\n",
        "\n",
        "    with torch.no_grad():\n",
        "      pred_cam, pred_verts, pred_pose, pred_betas, pred_joints3d = [], [], [], [], []\n",
        "\n",
        "      for batch in tqdm(dataloader):\n",
        "        try:\n",
        "          batch = batch.unsqueeze(0)\n",
        "          batch = batch.to(self.device)\n",
        "          batch_size, seqlen = batch.shape[:2]\n",
        "\n",
        "          output = dp.vibe_model(batch)[-1]\n",
        "\n",
        "          pred_cam.append(output['theta'][:, :, :3].reshape(batch_size * seqlen, -1))\n",
        "          pred_verts.append(output['verts'].reshape(batch_size * seqlen, -1, 3))\n",
        "          pred_pose.append(output['theta'][:,:,3:75].reshape(batch_size * seqlen, -1))\n",
        "          pred_betas.append(output['theta'][:, :,75:].reshape(batch_size * seqlen, -1))\n",
        "          pred_joints3d.append(output['kp_3d'].reshape(batch_size * seqlen, -1, 3))\n",
        "\n",
        "        except Exception as e:\n",
        "          print(\"Error:\", e)\n",
        "\n",
        "        del batch\n",
        "\n",
        "    print('Transform pose to SMPL24 ...')\n",
        "    smpl24_joints = self.transform_pose_smpl24(torch.cat(pred_pose, dim=0).cpu(),\n",
        "                                               torch.cat(pred_betas, dim=0).cpu())\n",
        "    print('Post process pose and smooth...')\n",
        "    smpl24_joints_smooth = self.post_process_pose(dataset.bboxes, smpl24_joints)\n",
        "\n",
        "    output_dict = {\n",
        "            'pred_cam': torch.cat(pred_cam, dim=0).cpu().numpy(),\n",
        "            'verts': torch.cat(pred_verts, dim=0).cpu().numpy(),\n",
        "            'pose': torch.cat(pred_pose, dim=0).cpu().numpy(),\n",
        "            'betas': torch.cat(pred_betas, dim=0).cpu().numpy(),\n",
        "            'joints3d': torch.cat(pred_joints3d, dim=0).cpu().numpy(),\n",
        "            'bboxes': dataset.bboxes,\n",
        "            'frame_ids': dataset.frames,\n",
        "            'smpl24_joints': smpl24_joints,\n",
        "            'smpl24_joints_smooth': smpl24_joints_smooth\n",
        "            }\n",
        "\n",
        "    total_time = time.time() - total_time\n",
        "    print(f'Total time: {total_time:.2f}s for {num_frames} frames.')\n",
        "\n",
        "    print(f'Saving output results to \\\"{output_file}\\\".')\n",
        "    joblib.dump(output_dict, output_file)\n",
        "    # shutil.rmtree(image_folder)   # deletes the images\n",
        "    return output_dict\n",
        "\n",
        "  def transform_pose_smpl24(self, pose, betas):\n",
        "    # get smpl24\n",
        "    verts, smpl24_joints = self.SMPL_layer(pose, th_betas=betas)\n",
        "\n",
        "    # flip upside down (VIBE output = upside down)\n",
        "    R = transforms3d.euler.axangle2mat([1, 0, 0], -np.pi)\n",
        "    smpl24_rotated = np.dot(smpl24_joints, R)\n",
        "\n",
        "    return smpl24_rotated\n",
        "\n",
        "  def align_captions_poses(self, captions, pose_dict, index_df, video_idx):\n",
        "\n",
        "    print(f'Aligning poses and caps for video {video_idx}...')\n",
        "    file_idx = 0 if index_df.empty else index_df['file_idx'].iloc[-1]+1\n",
        "    curr_timestamp = 0\n",
        "\n",
        "    for caption in captions:\n",
        "      if caption['start'] > curr_timestamp:\n",
        "        # frames with NO captions\n",
        "        file_idx, index_df = self.save_pose(\n",
        "            file_idx, video_idx, pose_dict, index_df,\n",
        "            start=curr_timestamp,\n",
        "            end=caption['start'],\n",
        "            caption=False)\n",
        "\n",
        "      # frames WITH captions\n",
        "      file_idx, index_df = self.save_pose(\n",
        "          file_idx, video_idx, pose_dict, index_df,\n",
        "          start=caption['start'],\n",
        "          end=caption['end'],\n",
        "          caption=caption)\n",
        "      curr_timestamp = caption['end']\n",
        "\n",
        "    return index_df\n",
        "\n",
        "  def fill_missing_frames(self, joints):\n",
        "\n",
        "    consec_missing = []   # TODO: fill up with in-betweening??\n",
        "\n",
        "    for i in range(len(joints)):\n",
        "      if np.isnan(joints[i]).all():\n",
        "        consec_missing += [i]\n",
        "        if len(consec_missing) > 10:\n",
        "          print('more than 10 are missing consecutively ', i)\n",
        "        joints[i] = joints[i-1]  # fill with prev joints\n",
        "      else:\n",
        "        consec_missing = []\n",
        "\n",
        "    return joints\n",
        "\n",
        "  def save_pose(self, file_idx, video_idx, pose_dict, index_df, start, end, caption=True):\n",
        "    filename = get_filename(file_idx)\n",
        "    video_fps = self.videos_df.loc[video_idx, ('fps')]\n",
        "    frame_ids = [i for i in range(round(start*video_fps), round(end*video_fps)+1)]\n",
        "    joints = []\n",
        "\n",
        "    for frame_id in frame_ids:\n",
        "      idx = np.where(pose_dict['frame_ids'] == frame_id)[0] # first appearance\n",
        "      try:\n",
        "        if idx.size > 0:\n",
        "          joints += [pose_dict['smpl24_joints_smooth'][idx[0]]]\n",
        "        else:\n",
        "          joints += [np.full([24, 3], np.nan)]\n",
        "\n",
        "    # for frame_id in frame_ids:\n",
        "    #   idx = pose_dict['frame_ids'].index(frame_id) if frame_id in pose_dict['frame_ids'] else -1\n",
        "    #   try:\n",
        "    #     if idx > 0:\n",
        "    #       joints += [pose_dict['smpl24_joints_smooth'][idx]]\n",
        "    #     else:\n",
        "    #       joints += [np.full([24, 3], np.nan)]\n",
        "\n",
        "      except Exception as e:\n",
        "        print(f\"not working for joints idx {idx}, {type(joints)} to append {type(pose_dict['smpl24_joints_smooth'][idx[0]])} \\n {e}\")\n",
        "\n",
        "    if all(np.isnan(j).all() for j in joints):\n",
        "      print(f'no joints for video {video_idx} at {start} to {end}')\n",
        "      return file_idx, index_df\n",
        "\n",
        "    # remove the Nones at the beginning and end of the list\n",
        "    while np.isnan(joints[-1]).all():\n",
        "      end -= round(1/video_fps, 2)\n",
        "      del joints[-1]\n",
        "\n",
        "    while np.isnan(joints[0]).all():\n",
        "      start += round(1/video_fps, 2)\n",
        "      del joints[0]\n",
        "\n",
        "    if len(joints) < self.min_frames:\n",
        "      print(f'not enough joints for video {video_idx} at {start} to {end}')\n",
        "      return file_idx, index_df\n",
        "\n",
        "    joints = self.fill_missing_frames(joints)\n",
        "    joints = np.stack(joints, axis=0)\n",
        "\n",
        "    for side in ['', 'M']: # mirror pose\n",
        "      if side == 'M':\n",
        "        joints = swap_left_right(joints)\n",
        "\n",
        "      np.save(osp.join(osp.join(self.data_dir, 'joints'), f'{side}{filename}.npy'), joints)\n",
        "      df_row = {'file_idx': file_idx,\n",
        "                'video_idx': video_idx,               # which video it belongs to\n",
        "                'start_frame': round(start*video_fps),\n",
        "                'end_frame': round(end*video_fps),\n",
        "                'start_time': start,\n",
        "                'end_time': end,\n",
        "                'new_name': f'{side}{filename}.npy',  # named for humanml3d\n",
        "                'fps': video_fps,\n",
        "                'caption': \"\" if not caption else caption[\"text\"],\n",
        "                'no_frames': len(joints)}\n",
        "      index_df = pd.concat([index_df, pd.DataFrame([df_row])], ignore_index=True)\n",
        "\n",
        "      if caption:\n",
        "        with open(osp.join(osp.join(self.data_dir, 'texts'), f'{side}{filename}.txt'), 'w') as f:\n",
        "            f.write(f'{caption[\"text\"]}#{caption[\"tokens\"]}#0.0#0.0\\n')\n",
        "      else:\n",
        "        with open(osp.join(osp.join(self.data_dir, 'texts'),\n",
        "                          f'{side}{filename}.txt'), 'w') as f:\n",
        "              f.write(f' # /X#0.0#0.0\\n')\n",
        "\n",
        "    file_idx += 1\n",
        "\n",
        "    return file_idx, index_df\n",
        "\n",
        "  def post_process_pose(self, bboxes, joints):\n",
        "    # first, get x,y movement from bboxes\n",
        "    # normalise bboxes between 0 & 1\n",
        "    bbox_diff = np.max(bboxes, axis=0) - np.min(bboxes, axis=0)\n",
        "    bbox_norm = (bboxes-np.min(bboxes, axis=0))/bbox_diff\n",
        "\n",
        "    origin = bbox_norm[0]\n",
        "    delta_bbox = bbox_norm - origin # change from every bbox from origin\n",
        "\n",
        "    for i, joint in enumerate(joints):\n",
        "      joints[i, :, 0] = joints[i, :, 0] - delta_bbox[i, 0]/2 # not all movement\n",
        "      joints[i, :, 1] = joints[i, :, 1] - delta_bbox[i, 1]/2\n",
        "\n",
        "    # then, translate pose to be standing on the floor\n",
        "    # lowest y coordinate of feet joints (= 10 & 11)\n",
        "    lowest = min(np.min(joints[:, 10, 1]), np.min(joints[:, 11, 1]))\n",
        "    diff = 0 - lowest\n",
        "    joints[:, :, 1] = joints[:, :, 1] + diff\n",
        "\n",
        "    # finally, smooth pose with smoothing filter\n",
        "    joints = savgol_filter(joints, window_length=12, polyorder=3, axis=0)\n",
        "\n",
        "    return joints\n",
        "\n",
        "  def run(self):\n",
        "    try:\n",
        "      index_df = pd.read_csv(osp.join(self.data_dir, 'index.csv'))\n",
        "    except:\n",
        "      index_df = pd.DataFrame()\n",
        "\n",
        "    for i, video in self.videos_df.iterrows():\n",
        "      print(f'Processing video {i}...')\n",
        "\n",
        "      video_file = video['video_file']\n",
        "      if video['processed'] == True:\n",
        "        video_fps = video['fps']\n",
        "        print(f'video {i} is already processed')\n",
        "        continue\n",
        "      elif any(yt in video_file for yt in [\"youtube\", \"youtu.be\"]):\n",
        "        try:\n",
        "          video_file, video_fps = self.download_yt_video(video_file, i)\n",
        "        except Exception as e:\n",
        "          print(f'Could not download video {i}, {e}')\n",
        "          continue\n",
        "\n",
        "      vibe_output = self.get_vibe_poses(video_file)\n",
        "\n",
        "      caps = self.get_whisper_captions(video_file)\n",
        "      processed_caps = self.process_captions(caps, video_fps)\n",
        "\n",
        "      index_df = self.align_captions_poses(processed_caps, vibe_output, index_df, i)\n",
        "      self.videos_df.loc[i, ('processed')] = True\n",
        "      self.videos_df.loc[i, ('fps')] = video_fps\n",
        "\n",
        "      # update dfs after each video\n",
        "      index_df.to_csv(osp.join(self.data_dir, 'index.csv'), index=False)\n",
        "      self.videos_df.to_csv(osp.join(self.data_dir,'video_files.csv'), index=False)\n",
        "\n",
        "      vibe_output = caps = processed_caps = None # does this clear RAM?\n",
        "\n",
        "    return index_df"
      ],
      "metadata": {
        "id": "ttAIu1bd5fUd",
        "cellView": "form"
      },
      "execution_count": 6,
      "outputs": []
    },
    {
      "cell_type": "markdown",
      "source": [
        "### Some tests"
      ],
      "metadata": {
        "id": "UKjMbg97vaxZ"
      }
    },
    {
      "cell_type": "code",
      "source": [
        "# reset things\n",
        "!rm /content/drive/MyDrive/THESIS/data/SWDance/index.csv\n",
        "!touch /content/drive/MyDrive/THESIS/data/SWDance/index.csv\n",
        "\n",
        "videos_df = pd.read_csv('/content/drive/MyDrive/THESIS/data/SWDance/video_files.csv')\n",
        "videos_df.loc[1, ('processed')] = False  # do this for every video maybe??\n",
        "videos_df.to_csv(osp.join(data_dir,'video_files.csv'), index=False)\n",
        "print(videos_df.head())\n",
        "\n",
        "# !rm /content/drive/MyDrive/THESIS/data/SWDance/vibe_output/0.pkl\n",
        "# !rm /content/drive/MyDrive/THESIS/data/SWDance/caption_output/0.pkl\n",
        "# !rm /tmp/0.mp4\n",
        "# !rm /content/drive/MyDrive/THESIS/data/SWDance/videos/0.mp4\n",
        "# !rm -r /tmp/0_mp4\n",
        "!rm /content/drive/MyDrive/THESIS/data/SWDance/joints/*"
      ],
      "metadata": {
        "id": "CPdKEcShTOAz",
        "colab": {
          "base_uri": "https://localhost:8080/"
        },
        "outputId": "69d876c2-32b4-4363-9f78-3e4b1ac5fa38"
      },
      "execution_count": null,
      "outputs": [
        {
          "output_type": "stream",
          "name": "stdout",
          "text": [
            "                                    video_file  processed  fps\n",
            "0  https://www.youtube.com/watch?v=fSHjGPWmkb8      False   20\n",
            "1  https://www.youtube.com/watch?v=AxFyPYnl0cU      False   20\n",
            "2  https://www.youtube.com/watch?v=xwff7dvjNv0      False   20\n",
            "3  https://www.youtube.com/watch?v=bf8NCSH-PJ8      False   20\n",
            "4  https://www.youtube.com/watch?v=Z8Xmgd6V398      False   20\n",
            "rm: cannot remove '/content/drive/MyDrive/THESIS/data/SWDance/joints/*': No such file or directory\n"
          ]
        }
      ]
    },
    {
      "cell_type": "code",
      "source": [
        "dp = DataProcessor(data_dir)"
      ],
      "metadata": {
        "id": "u2m6KDlp-kAC"
      },
      "execution_count": 20,
      "outputs": []
    },
    {
      "cell_type": "code",
      "source": [
        "index_df = dp.run()"
      ],
      "metadata": {
        "colab": {
          "base_uri": "https://localhost:8080/",
          "height": 1000
        },
        "id": "S_CCaNF2_YSH",
        "outputId": "a2afc52b-5f97-44fc-eb2a-15166032a391"
      },
      "execution_count": 21,
      "outputs": [
        {
          "output_type": "stream",
          "name": "stdout",
          "text": [
            "Processing video 0...\n",
            "video 0 is already processed\n",
            "Processing video 1...\n",
            "video 1 is already processed\n",
            "Processing video 2...\n",
            "yt video exists: /content/drive/MyDrive/THESIS/data/SWDance/videos/2.mp4\n",
            "VIBE file exists: /content/drive/MyDrive/THESIS/data/SWDance/vibe_output/2.pkl\n",
            "audio video exists: /tmp/2.wav\n",
            "caps file exists: /content/drive/MyDrive/THESIS/data/SWDance/caption_output/2.pkl\n",
            "Aligning poses and caps for video 2...\n",
            "no joints for video 2 at 0 to 0.08\n",
            "no joints for video 2 at 0.08 to 0.9\n",
            "no joints for video 2 at 0.9 to 2.26\n",
            "no joints for video 2 at 2.26 to 3.06\n",
            "no joints for video 2 at 3.06 to 4.26\n",
            "no joints for video 2 at 4.26 to 4.92\n",
            "no joints for video 2 at 4.92 to 6.3\n",
            "no joints for video 2 at 6.3 to 7.32\n",
            "no joints for video 2 at 7.32 to 14.8\n",
            "no joints for video 2 at 14.8 to 17.6\n",
            "no joints for video 2 at 17.6 to 21.16\n",
            "not enough joints for video 2 at 54.0 to 54.18\n",
            "not enough joints for video 2 at 54.18 to 55.0\n",
            "not enough joints for video 2 at 61.08 to 62.0\n",
            "not enough joints for video 2 at 84.0 to 84.26\n",
            "not enough joints for video 2 at 99.0 to 99.52\n",
            "not enough joints for video 2 at 125.0 to 125.54\n",
            "not enough joints for video 2 at 130.0 to 131.0\n",
            "not enough joints for video 2 at 135.2 to 136.0\n",
            "not enough joints for video 2 at 148.0 to 149.0\n",
            "not enough joints for video 2 at 149.0 to 150.0\n",
            "not enough joints for video 2 at 155.0 to 156.0\n",
            "not enough joints for video 2 at 164.0 to 165.0\n",
            "not enough joints for video 2 at 168.06 to 169.0\n",
            "not enough joints for video 2 at 173.0 to 173.38\n",
            "not enough joints for video 2 at 175.0 to 176.0\n",
            "not enough joints for video 2 at 180.0 to 180.7499999999995\n",
            "not enough joints for video 2 at 183.10000000000002 to 184.26\n",
            "not enough joints for video 2 at 188.28 to 189.0\n",
            "not enough joints for video 2 at 189.0 to 190.0\n",
            "not enough joints for video 2 at 190.0 to 190.04\n",
            "not enough joints for video 2 at 190.04 to 191.0\n",
            "not enough joints for video 2 at 191.0 to 191.9\n",
            "not enough joints for video 2 at 198.0 to 198.32\n",
            "not enough joints for video 2 at 198.32 to 199.3\n",
            "not enough joints for video 2 at 199.3 to 200.0\n",
            "not enough joints for video 2 at 200.0 to 201.0\n",
            "not enough joints for video 2 at 203.0 to 204.0\n",
            "not enough joints for video 2 at 210.0 to 211.0\n",
            "not enough joints for video 2 at 213.0 to 213.49999999999994\n",
            "no joints for video 2 at 213.7 to 214.0\n",
            "not enough joints for video 2 at 221.0 to 221.52\n",
            "not enough joints for video 2 at 225.0 to 226.0\n",
            "not enough joints for video 2 at 228.0 to 229.0\n",
            "not enough joints for video 2 at 229.0 to 230.0\n",
            "not enough joints for video 2 at 230.0 to 231.0\n",
            "not enough joints for video 2 at 231.0 to 232.0\n",
            "not enough joints for video 2 at 232.0 to 233.0\n",
            "not enough joints for video 2 at 233.0 to 234.0\n",
            "not enough joints for video 2 at 241.14 to 242.0\n",
            "Processing video 3...\n",
            "yt video exists: /content/drive/MyDrive/THESIS/data/SWDance/videos/3.mp4\n",
            "VIBE file exists: /content/drive/MyDrive/THESIS/data/SWDance/vibe_output/3.pkl\n",
            "MoviePy - Writing audio in /tmp/3.wav\n"
          ]
        },
        {
          "output_type": "stream",
          "name": "stderr",
          "text": []
        },
        {
          "output_type": "stream",
          "name": "stdout",
          "text": [
            "MoviePy - Done.\n",
            "caps file exists: /content/drive/MyDrive/THESIS/data/SWDance/caption_output/3.pkl\n",
            "Aligning poses and caps for video 3...\n",
            "no joints for video 3 at 0 to 0.24\n",
            "no joints for video 3 at 0.24 to 4.64\n",
            "no joints for video 3 at 4.64 to 4.84\n",
            "no joints for video 3 at 4.84 to 8.06\n",
            "not enough joints for video 3 at 21.76 to 22.82\n",
            "not enough joints for video 3 at 40.2 to 41.04\n",
            "not enough joints for video 3 at 46.16 to 46.8\n",
            "not enough joints for video 3 at 70.94 to 71.04\n",
            "not enough joints for video 3 at 77.72 to 78.36\n",
            "not enough joints for video 3 at 84.8 to 84.96\n",
            "not enough joints for video 3 at 106.12 to 106.28\n",
            "more than 10 are missing consecutively  73\n",
            "more than 10 are missing consecutively  74\n",
            "more than 10 are missing consecutively  17\n",
            "more than 10 are missing consecutively  18\n",
            "more than 10 are missing consecutively  19\n",
            "more than 10 are missing consecutively  20\n",
            "more than 10 are missing consecutively  21\n",
            "more than 10 are missing consecutively  22\n",
            "more than 10 are missing consecutively  23\n",
            "more than 10 are missing consecutively  24\n",
            "more than 10 are missing consecutively  25\n",
            "more than 10 are missing consecutively  60\n",
            "more than 10 are missing consecutively  61\n",
            "more than 10 are missing consecutively  62\n",
            "more than 10 are missing consecutively  63\n",
            "more than 10 are missing consecutively  64\n",
            "more than 10 are missing consecutively  65\n",
            "more than 10 are missing consecutively  66\n",
            "more than 10 are missing consecutively  67\n",
            "more than 10 are missing consecutively  68\n",
            "more than 10 are missing consecutively  69\n",
            "more than 10 are missing consecutively  70\n",
            "more than 10 are missing consecutively  71\n",
            "more than 10 are missing consecutively  72\n",
            "more than 10 are missing consecutively  73\n",
            "more than 10 are missing consecutively  74\n",
            "Processing video 4...\n",
            "yt video exists: /content/drive/MyDrive/THESIS/data/SWDance/videos/4.mp4\n",
            "VIBE file exists: /content/drive/MyDrive/THESIS/data/SWDance/vibe_output/4.pkl\n",
            "MoviePy - Writing audio in /tmp/4.wav\n"
          ]
        },
        {
          "output_type": "stream",
          "name": "stderr",
          "text": []
        },
        {
          "output_type": "stream",
          "name": "stdout",
          "text": [
            "MoviePy - Done.\n"
          ]
        },
        {
          "output_type": "stream",
          "name": "stderr",
          "text": [
            "  0%|          | 0/151.56 [00:00<?, ?sec/s]"
          ]
        },
        {
          "output_type": "stream",
          "name": "stdout",
          "text": [
            "Detected language: english\n"
          ]
        },
        {
          "output_type": "stream",
          "name": "stderr",
          "text": [
            "100%|██████████| 151.56/151.56 [00:05<00:00, 29.39sec/s]\n"
          ]
        },
        {
          "output_type": "stream",
          "name": "stdout",
          "text": [
            "Aligning poses and caps for video 4...\n",
            "more than 10 are missing consecutively  42\n",
            "more than 10 are missing consecutively  43\n",
            "more than 10 are missing consecutively  44\n",
            "more than 10 are missing consecutively  45\n",
            "more than 10 are missing consecutively  46\n",
            "more than 10 are missing consecutively  47\n",
            "more than 10 are missing consecutively  48\n",
            "more than 10 are missing consecutively  49\n",
            "more than 10 are missing consecutively  50\n",
            "more than 10 are missing consecutively  51\n",
            "more than 10 are missing consecutively  52\n",
            "more than 10 are missing consecutively  53\n",
            "more than 10 are missing consecutively  54\n",
            "more than 10 are missing consecutively  55\n",
            "more than 10 are missing consecutively  56\n",
            "more than 10 are missing consecutively  57\n",
            "more than 10 are missing consecutively  58\n",
            "more than 10 are missing consecutively  59\n",
            "more than 10 are missing consecutively  60\n",
            "more than 10 are missing consecutively  61\n",
            "more than 10 are missing consecutively  62\n",
            "more than 10 are missing consecutively  63\n",
            "more than 10 are missing consecutively  64\n",
            "more than 10 are missing consecutively  65\n",
            "more than 10 are missing consecutively  66\n",
            "more than 10 are missing consecutively  67\n",
            "more than 10 are missing consecutively  68\n",
            "more than 10 are missing consecutively  69\n",
            "more than 10 are missing consecutively  70\n",
            "more than 10 are missing consecutively  71\n",
            "more than 10 are missing consecutively  72\n",
            "more than 10 are missing consecutively  73\n",
            "more than 10 are missing consecutively  74\n",
            "more than 10 are missing consecutively  75\n",
            "more than 10 are missing consecutively  76\n",
            "more than 10 are missing consecutively  77\n",
            "more than 10 are missing consecutively  78\n",
            "more than 10 are missing consecutively  79\n",
            "more than 10 are missing consecutively  80\n",
            "more than 10 are missing consecutively  81\n",
            "more than 10 are missing consecutively  82\n",
            "more than 10 are missing consecutively  83\n",
            "more than 10 are missing consecutively  84\n",
            "more than 10 are missing consecutively  85\n",
            "more than 10 are missing consecutively  86\n",
            "more than 10 are missing consecutively  87\n",
            "more than 10 are missing consecutively  88\n",
            "more than 10 are missing consecutively  89\n",
            "more than 10 are missing consecutively  90\n",
            "more than 10 are missing consecutively  91\n",
            "more than 10 are missing consecutively  92\n",
            "more than 10 are missing consecutively  93\n",
            "more than 10 are missing consecutively  94\n",
            "more than 10 are missing consecutively  95\n",
            "more than 10 are missing consecutively  96\n",
            "more than 10 are missing consecutively  97\n",
            "more than 10 are missing consecutively  98\n",
            "more than 10 are missing consecutively  99\n",
            "more than 10 are missing consecutively  100\n",
            "more than 10 are missing consecutively  101\n",
            "more than 10 are missing consecutively  102\n",
            "more than 10 are missing consecutively  103\n",
            "more than 10 are missing consecutively  104\n",
            "more than 10 are missing consecutively  105\n",
            "more than 10 are missing consecutively  106\n",
            "more than 10 are missing consecutively  107\n",
            "more than 10 are missing consecutively  108\n",
            "more than 10 are missing consecutively  109\n",
            "more than 10 are missing consecutively  110\n",
            "more than 10 are missing consecutively  111\n",
            "more than 10 are missing consecutively  112\n",
            "more than 10 are missing consecutively  113\n",
            "more than 10 are missing consecutively  114\n",
            "more than 10 are missing consecutively  115\n",
            "more than 10 are missing consecutively  116\n",
            "more than 10 are missing consecutively  117\n",
            "more than 10 are missing consecutively  118\n",
            "more than 10 are missing consecutively  119\n",
            "more than 10 are missing consecutively  120\n",
            "more than 10 are missing consecutively  121\n",
            "more than 10 are missing consecutively  122\n",
            "more than 10 are missing consecutively  123\n",
            "more than 10 are missing consecutively  124\n",
            "more than 10 are missing consecutively  125\n",
            "more than 10 are missing consecutively  126\n",
            "more than 10 are missing consecutively  127\n",
            "more than 10 are missing consecutively  128\n",
            "more than 10 are missing consecutively  129\n",
            "more than 10 are missing consecutively  130\n",
            "more than 10 are missing consecutively  131\n",
            "more than 10 are missing consecutively  132\n",
            "more than 10 are missing consecutively  133\n",
            "more than 10 are missing consecutively  134\n",
            "more than 10 are missing consecutively  135\n",
            "more than 10 are missing consecutively  136\n",
            "more than 10 are missing consecutively  137\n",
            "more than 10 are missing consecutively  138\n",
            "more than 10 are missing consecutively  139\n",
            "more than 10 are missing consecutively  140\n",
            "more than 10 are missing consecutively  141\n",
            "more than 10 are missing consecutively  142\n",
            "more than 10 are missing consecutively  143\n",
            "more than 10 are missing consecutively  144\n",
            "more than 10 are missing consecutively  145\n",
            "more than 10 are missing consecutively  146\n",
            "more than 10 are missing consecutively  147\n",
            "more than 10 are missing consecutively  148\n",
            "more than 10 are missing consecutively  149\n",
            "more than 10 are missing consecutively  150\n",
            "more than 10 are missing consecutively  151\n",
            "more than 10 are missing consecutively  152\n",
            "more than 10 are missing consecutively  153\n",
            "more than 10 are missing consecutively  154\n",
            "more than 10 are missing consecutively  155\n",
            "more than 10 are missing consecutively  156\n",
            "more than 10 are missing consecutively  157\n",
            "more than 10 are missing consecutively  158\n",
            "more than 10 are missing consecutively  159\n",
            "more than 10 are missing consecutively  160\n",
            "more than 10 are missing consecutively  161\n",
            "more than 10 are missing consecutively  162\n",
            "more than 10 are missing consecutively  163\n",
            "more than 10 are missing consecutively  164\n",
            "more than 10 are missing consecutively  165\n",
            "more than 10 are missing consecutively  166\n",
            "more than 10 are missing consecutively  167\n",
            "more than 10 are missing consecutively  168\n",
            "more than 10 are missing consecutively  169\n",
            "more than 10 are missing consecutively  170\n",
            "more than 10 are missing consecutively  171\n",
            "more than 10 are missing consecutively  172\n",
            "more than 10 are missing consecutively  173\n",
            "more than 10 are missing consecutively  174\n",
            "more than 10 are missing consecutively  175\n",
            "more than 10 are missing consecutively  176\n",
            "more than 10 are missing consecutively  177\n",
            "more than 10 are missing consecutively  178\n",
            "more than 10 are missing consecutively  179\n",
            "more than 10 are missing consecutively  180\n",
            "more than 10 are missing consecutively  181\n",
            "more than 10 are missing consecutively  182\n",
            "more than 10 are missing consecutively  183\n",
            "more than 10 are missing consecutively  184\n",
            "more than 10 are missing consecutively  185\n",
            "more than 10 are missing consecutively  186\n",
            "more than 10 are missing consecutively  187\n",
            "more than 10 are missing consecutively  188\n",
            "more than 10 are missing consecutively  189\n",
            "more than 10 are missing consecutively  190\n",
            "more than 10 are missing consecutively  191\n",
            "more than 10 are missing consecutively  192\n",
            "more than 10 are missing consecutively  193\n",
            "more than 10 are missing consecutively  194\n",
            "more than 10 are missing consecutively  195\n",
            "more than 10 are missing consecutively  196\n",
            "more than 10 are missing consecutively  197\n",
            "more than 10 are missing consecutively  198\n",
            "more than 10 are missing consecutively  199\n",
            "more than 10 are missing consecutively  200\n",
            "more than 10 are missing consecutively  201\n",
            "more than 10 are missing consecutively  202\n",
            "more than 10 are missing consecutively  203\n",
            "more than 10 are missing consecutively  204\n",
            "more than 10 are missing consecutively  205\n",
            "more than 10 are missing consecutively  206\n",
            "more than 10 are missing consecutively  207\n",
            "more than 10 are missing consecutively  208\n",
            "more than 10 are missing consecutively  209\n",
            "more than 10 are missing consecutively  210\n",
            "more than 10 are missing consecutively  211\n",
            "more than 10 are missing consecutively  212\n",
            "more than 10 are missing consecutively  213\n",
            "more than 10 are missing consecutively  214\n",
            "more than 10 are missing consecutively  215\n",
            "more than 10 are missing consecutively  216\n",
            "more than 10 are missing consecutively  217\n",
            "more than 10 are missing consecutively  218\n",
            "more than 10 are missing consecutively  219\n",
            "more than 10 are missing consecutively  220\n",
            "more than 10 are missing consecutively  221\n",
            "more than 10 are missing consecutively  222\n",
            "more than 10 are missing consecutively  223\n",
            "more than 10 are missing consecutively  224\n",
            "more than 10 are missing consecutively  225\n",
            "more than 10 are missing consecutively  226\n",
            "more than 10 are missing consecutively  227\n",
            "more than 10 are missing consecutively  228\n",
            "more than 10 are missing consecutively  229\n",
            "more than 10 are missing consecutively  230\n",
            "more than 10 are missing consecutively  231\n",
            "more than 10 are missing consecutively  232\n",
            "more than 10 are missing consecutively  233\n",
            "more than 10 are missing consecutively  234\n",
            "more than 10 are missing consecutively  235\n",
            "more than 10 are missing consecutively  236\n",
            "more than 10 are missing consecutively  237\n",
            "more than 10 are missing consecutively  238\n",
            "more than 10 are missing consecutively  239\n",
            "more than 10 are missing consecutively  240\n",
            "more than 10 are missing consecutively  241\n",
            "more than 10 are missing consecutively  242\n",
            "more than 10 are missing consecutively  243\n",
            "more than 10 are missing consecutively  244\n",
            "more than 10 are missing consecutively  245\n",
            "more than 10 are missing consecutively  246\n",
            "more than 10 are missing consecutively  247\n",
            "more than 10 are missing consecutively  248\n",
            "more than 10 are missing consecutively  249\n",
            "more than 10 are missing consecutively  250\n",
            "more than 10 are missing consecutively  251\n",
            "more than 10 are missing consecutively  252\n",
            "more than 10 are missing consecutively  253\n",
            "more than 10 are missing consecutively  254\n",
            "more than 10 are missing consecutively  255\n",
            "more than 10 are missing consecutively  256\n",
            "more than 10 are missing consecutively  257\n",
            "more than 10 are missing consecutively  258\n",
            "more than 10 are missing consecutively  259\n",
            "more than 10 are missing consecutively  260\n",
            "more than 10 are missing consecutively  261\n",
            "more than 10 are missing consecutively  262\n",
            "more than 10 are missing consecutively  263\n",
            "more than 10 are missing consecutively  264\n",
            "more than 10 are missing consecutively  265\n",
            "more than 10 are missing consecutively  266\n",
            "more than 10 are missing consecutively  267\n",
            "more than 10 are missing consecutively  268\n",
            "more than 10 are missing consecutively  269\n",
            "more than 10 are missing consecutively  270\n",
            "more than 10 are missing consecutively  271\n",
            "more than 10 are missing consecutively  272\n",
            "more than 10 are missing consecutively  273\n",
            "more than 10 are missing consecutively  274\n",
            "more than 10 are missing consecutively  275\n",
            "more than 10 are missing consecutively  276\n",
            "more than 10 are missing consecutively  277\n",
            "more than 10 are missing consecutively  278\n",
            "not enough joints for video 4 at 20.250000000000046 to 21.0\n",
            "not enough joints for video 4 at 36.9 to 37.0\n",
            "not enough joints for video 4 at 42.0 to 42.48\n",
            "not enough joints for video 4 at 86.74 to 87.14\n",
            "not enough joints for video 4 at 89.0 to 90.0\n",
            "not enough joints for video 4 at 95.82 to 96.0\n",
            "not enough joints for video 4 at 125.0 to 126.0\n",
            "not enough joints for video 4 at 130.0 to 131.0\n",
            "not enough joints for video 4 at 150.0 to 151.0\n",
            "Processing video 5...\n",
            "yt video exists: /content/drive/MyDrive/THESIS/data/SWDance/videos/5.mp4\n",
            "VIBE file exists: /content/drive/MyDrive/THESIS/data/SWDance/vibe_output/5.pkl\n",
            "MoviePy - Writing audio in /tmp/5.wav\n"
          ]
        },
        {
          "output_type": "stream",
          "name": "stderr",
          "text": []
        },
        {
          "output_type": "stream",
          "name": "stdout",
          "text": [
            "MoviePy - Done.\n"
          ]
        },
        {
          "output_type": "stream",
          "name": "stderr",
          "text": [
            "  0%|          | 0/171.25 [00:00<?, ?sec/s]"
          ]
        },
        {
          "output_type": "stream",
          "name": "stdout",
          "text": [
            "Detected language: english\n"
          ]
        },
        {
          "output_type": "stream",
          "name": "stderr",
          "text": [
            "100%|██████████| 171.25/171.25 [00:03<00:00, 48.60sec/s]\n"
          ]
        },
        {
          "output_type": "stream",
          "name": "stdout",
          "text": [
            "Aligning poses and caps for video 5...\n",
            "not enough joints for video 5 at 1.2000000000000004 to 1.6\n",
            "not enough joints for video 5 at 34.72 to 35.04\n",
            "not enough joints for video 5 at 68.32 to 69.2\n",
            "not enough joints for video 5 at 71.04 to 72.16\n",
            "not enough joints for video 5 at 76.32 to 76.96\n",
            "not enough joints for video 5 at 78.96 to 79.92\n",
            "not enough joints for video 5 at 82.32 to 83.12\n",
            "not enough joints for video 5 at 131.12 to 132.26999999999998\n",
            "not enough joints for video 5 at 154.88 to 155.76\n",
            "not enough joints for video 5 at 159.28 to 160.16\n",
            "not enough joints for video 5 at 163.44 to 164.48\n",
            "Processing video 6...\n",
            "yt video exists: /content/drive/MyDrive/THESIS/data/SWDance/videos/6.mp4\n",
            "VIBE file exists: /content/drive/MyDrive/THESIS/data/SWDance/vibe_output/6.pkl\n",
            "MoviePy - Writing audio in /tmp/6.wav\n"
          ]
        },
        {
          "output_type": "stream",
          "name": "stderr",
          "text": []
        },
        {
          "output_type": "stream",
          "name": "stdout",
          "text": [
            "MoviePy - Done.\n"
          ]
        },
        {
          "output_type": "stream",
          "name": "stderr",
          "text": [
            "  0%|          | 0/138.25 [00:00<?, ?sec/s]"
          ]
        },
        {
          "output_type": "stream",
          "name": "stdout",
          "text": [
            "Detected language: english\n"
          ]
        },
        {
          "output_type": "stream",
          "name": "stderr",
          "text": [
            "100%|██████████| 138.25/138.25 [00:04<00:00, 34.23sec/s]\n"
          ]
        },
        {
          "output_type": "stream",
          "name": "stdout",
          "text": [
            "Aligning poses and caps for video 6...\n",
            "not enough joints for video 6 at 0 to 0.5\n",
            "not enough joints for video 6 at 32.0 to 32.12\n",
            "not enough joints for video 6 at 39.52 to 39.84\n",
            "not enough joints for video 6 at 46.12 to 46.44\n",
            "not enough joints for video 6 at 49.52 to 50.52\n",
            "more than 10 are missing consecutively  25\n",
            "more than 10 are missing consecutively  26\n",
            "more than 10 are missing consecutively  27\n",
            "more than 10 are missing consecutively  28\n",
            "more than 10 are missing consecutively  29\n",
            "not enough joints for video 6 at 76.6 to 77.76\n",
            "not enough joints for video 6 at 83.12 to 84.24\n",
            "not enough joints for video 6 at 93.44 to 94.4\n",
            "not enough joints for video 6 at 101.36 to 102.16\n",
            "not enough joints for video 6 at 114.12 to 114.68\n",
            "not enough joints for video 6 at 116.88 to 117.05000000000017\n",
            "more than 10 are missing consecutively  17\n",
            "more than 10 are missing consecutively  18\n",
            "more than 10 are missing consecutively  19\n",
            "more than 10 are missing consecutively  20\n",
            "more than 10 are missing consecutively  21\n",
            "more than 10 are missing consecutively  22\n",
            "more than 10 are missing consecutively  23\n",
            "Processing video 7...\n",
            "yt video exists: /content/drive/MyDrive/THESIS/data/SWDance/videos/7.mp4\n",
            "VIBE file exists: /content/drive/MyDrive/THESIS/data/SWDance/vibe_output/7.pkl\n",
            "MoviePy - Writing audio in /tmp/7.wav\n"
          ]
        },
        {
          "output_type": "stream",
          "name": "stderr",
          "text": []
        },
        {
          "output_type": "stream",
          "name": "stdout",
          "text": [
            "MoviePy - Done.\n"
          ]
        },
        {
          "output_type": "stream",
          "name": "stderr",
          "text": [
            "  0%|          | 0/238.84 [00:00<?, ?sec/s]"
          ]
        },
        {
          "output_type": "stream",
          "name": "stdout",
          "text": [
            "Detected language: english\n"
          ]
        },
        {
          "output_type": "stream",
          "name": "stderr",
          "text": [
            "100%|██████████| 238.84/238.84 [00:06<00:00, 38.44sec/s]\n"
          ]
        },
        {
          "output_type": "stream",
          "name": "stdout",
          "text": [
            "Aligning poses and caps for video 7...\n",
            "more than 10 are missing consecutively  79\n",
            "more than 10 are missing consecutively  80\n",
            "more than 10 are missing consecutively  81\n",
            "more than 10 are missing consecutively  82\n",
            "more than 10 are missing consecutively  83\n",
            "more than 10 are missing consecutively  84\n",
            "more than 10 are missing consecutively  85\n",
            "more than 10 are missing consecutively  86\n",
            "more than 10 are missing consecutively  87\n",
            "more than 10 are missing consecutively  88\n",
            "more than 10 are missing consecutively  89\n",
            "more than 10 are missing consecutively  90\n",
            "not enough joints for video 7 at 59.68 to 60.0\n",
            "not enough joints for video 7 at 80.16 to 81.16\n",
            "not enough joints for video 7 at 88.72 to 89.72\n",
            "not enough joints for video 7 at 89.72 to 90.0\n",
            "not enough joints for video 7 at 95.16 to 95.22\n",
            "not enough joints for video 7 at 165.32 to 165.5\n",
            "not enough joints for video 7 at 174.44 to 175.44\n",
            "not enough joints for video 7 at 175.44 to 176.6\n",
            "not enough joints for video 7 at 181.4 to 181.94\n",
            "Processing video 8...\n",
            "yt video exists: /content/drive/MyDrive/THESIS/data/SWDance/videos/8.mp4\n",
            "VIBE file exists: /content/drive/MyDrive/THESIS/data/SWDance/vibe_output/8.pkl\n",
            "MoviePy - Writing audio in /tmp/8.wav\n"
          ]
        },
        {
          "output_type": "stream",
          "name": "stderr",
          "text": []
        },
        {
          "output_type": "stream",
          "name": "stdout",
          "text": [
            "MoviePy - Done.\n"
          ]
        },
        {
          "output_type": "stream",
          "name": "stderr",
          "text": [
            "  0%|          | 0/201.97 [00:00<?, ?sec/s]"
          ]
        },
        {
          "output_type": "stream",
          "name": "stdout",
          "text": [
            "Detected language: english\n"
          ]
        },
        {
          "output_type": "stream",
          "name": "stderr",
          "text": [
            "100%|██████████| 201.97/201.97 [00:03<00:00, 63.37sec/s]\n"
          ]
        },
        {
          "output_type": "stream",
          "name": "stdout",
          "text": [
            "Aligning poses and caps for video 8...\n",
            "no joints for video 8 at 0 to 3.72\n",
            "more than 10 are missing consecutively  63\n",
            "more than 10 are missing consecutively  64\n",
            "more than 10 are missing consecutively  65\n",
            "more than 10 are missing consecutively  66\n",
            "more than 10 are missing consecutively  67\n",
            "more than 10 are missing consecutively  68\n",
            "more than 10 are missing consecutively  69\n",
            "more than 10 are missing consecutively  70\n",
            "more than 10 are missing consecutively  71\n",
            "more than 10 are missing consecutively  72\n",
            "more than 10 are missing consecutively  73\n",
            "more than 10 are missing consecutively  74\n",
            "more than 10 are missing consecutively  75\n",
            "more than 10 are missing consecutively  76\n",
            "more than 10 are missing consecutively  77\n",
            "more than 10 are missing consecutively  78\n",
            "more than 10 are missing consecutively  79\n",
            "more than 10 are missing consecutively  80\n",
            "more than 10 are missing consecutively  81\n",
            "more than 10 are missing consecutively  82\n",
            "more than 10 are missing consecutively  83\n",
            "more than 10 are missing consecutively  84\n",
            "more than 10 are missing consecutively  85\n",
            "more than 10 are missing consecutively  86\n",
            "more than 10 are missing consecutively  87\n",
            "more than 10 are missing consecutively  88\n",
            "more than 10 are missing consecutively  89\n",
            "more than 10 are missing consecutively  90\n",
            "more than 10 are missing consecutively  91\n",
            "more than 10 are missing consecutively  92\n",
            "more than 10 are missing consecutively  93\n",
            "more than 10 are missing consecutively  94\n",
            "more than 10 are missing consecutively  95\n",
            "more than 10 are missing consecutively  96\n",
            "more than 10 are missing consecutively  14\n",
            "more than 10 are missing consecutively  15\n",
            "more than 10 are missing consecutively  16\n",
            "not enough joints for video 8 at 94.0 to 95.0\n",
            "more than 10 are missing consecutively  18\n",
            "more than 10 are missing consecutively  19\n",
            "more than 10 are missing consecutively  20\n",
            "more than 10 are missing consecutively  21\n",
            "more than 10 are missing consecutively  22\n",
            "more than 10 are missing consecutively  23\n",
            "more than 10 are missing consecutively  24\n",
            "more than 10 are missing consecutively  25\n",
            "more than 10 are missing consecutively  26\n",
            "more than 10 are missing consecutively  27\n",
            "more than 10 are missing consecutively  28\n",
            "more than 10 are missing consecutively  31\n",
            "more than 10 are missing consecutively  32\n",
            "more than 10 are missing consecutively  33\n",
            "more than 10 are missing consecutively  34\n",
            "more than 10 are missing consecutively  35\n",
            "more than 10 are missing consecutively  36\n",
            "more than 10 are missing consecutively  37\n",
            "more than 10 are missing consecutively  38\n",
            "more than 10 are missing consecutively  39\n",
            "more than 10 are missing consecutively  40\n",
            "more than 10 are missing consecutively  41\n",
            "not enough joints for video 8 at 164.0 to 165.06\n",
            "more than 10 are missing consecutively  48\n",
            "more than 10 are missing consecutively  49\n",
            "more than 10 are missing consecutively  50\n",
            "more than 10 are missing consecutively  51\n",
            "more than 10 are missing consecutively  52\n",
            "more than 10 are missing consecutively  53\n",
            "more than 10 are missing consecutively  54\n",
            "more than 10 are missing consecutively  55\n",
            "more than 10 are missing consecutively  56\n",
            "more than 10 are missing consecutively  57\n",
            "more than 10 are missing consecutively  58\n",
            "more than 10 are missing consecutively  59\n",
            "more than 10 are missing consecutively  60\n",
            "more than 10 are missing consecutively  61\n",
            "more than 10 are missing consecutively  62\n",
            "more than 10 are missing consecutively  63\n",
            "more than 10 are missing consecutively  64\n",
            "more than 10 are missing consecutively  65\n",
            "more than 10 are missing consecutively  66\n",
            "more than 10 are missing consecutively  67\n",
            "more than 10 are missing consecutively  77\n",
            "more than 10 are missing consecutively  78\n",
            "more than 10 are missing consecutively  79\n",
            "more than 10 are missing consecutively  80\n",
            "more than 10 are missing consecutively  81\n",
            "more than 10 are missing consecutively  82\n",
            "more than 10 are missing consecutively  83\n",
            "more than 10 are missing consecutively  84\n",
            "more than 10 are missing consecutively  85\n",
            "more than 10 are missing consecutively  86\n",
            "more than 10 are missing consecutively  87\n",
            "more than 10 are missing consecutively  88\n",
            "Processing video 9...\n",
            "yt video exists: /content/drive/MyDrive/THESIS/data/SWDance/videos/9.mp4\n",
            "VIBE file exists: /content/drive/MyDrive/THESIS/data/SWDance/vibe_output/9.pkl\n",
            "MoviePy - Writing audio in /tmp/9.wav\n"
          ]
        },
        {
          "output_type": "stream",
          "name": "stderr",
          "text": []
        },
        {
          "output_type": "stream",
          "name": "stdout",
          "text": [
            "MoviePy - Done.\n"
          ]
        },
        {
          "output_type": "stream",
          "name": "stderr",
          "text": [
            "  0%|          | 0/180.28 [00:00<?, ?sec/s]"
          ]
        },
        {
          "output_type": "stream",
          "name": "stdout",
          "text": [
            "Detected language: english\n"
          ]
        },
        {
          "output_type": "stream",
          "name": "stderr",
          "text": [
            "100%|██████████| 180.28/180.28 [00:07<00:00, 23.60sec/s]\n"
          ]
        },
        {
          "output_type": "stream",
          "name": "stdout",
          "text": [
            "Aligning poses and caps for video 9...\n",
            "no joints for video 9 at 0.0 to 1.6\n",
            "no joints for video 9 at 1.6 to 8.4\n",
            "no joints for video 9 at 8.4 to 12.96\n",
            "no joints for video 9 at 12.96 to 14.08\n",
            "not enough joints for video 9 at 22.16 to 22.18\n",
            "more than 10 are missing consecutively  63\n",
            "more than 10 are missing consecutively  64\n",
            "more than 10 are missing consecutively  65\n",
            "more than 10 are missing consecutively  66\n",
            "more than 10 are missing consecutively  67\n",
            "more than 10 are missing consecutively  68\n",
            "more than 10 are missing consecutively  69\n",
            "more than 10 are missing consecutively  70\n",
            "more than 10 are missing consecutively  71\n",
            "more than 10 are missing consecutively  72\n",
            "more than 10 are missing consecutively  73\n",
            "more than 10 are missing consecutively  74\n",
            "more than 10 are missing consecutively  75\n",
            "more than 10 are missing consecutively  76\n",
            "more than 10 are missing consecutively  77\n",
            "more than 10 are missing consecutively  78\n",
            "more than 10 are missing consecutively  79\n",
            "more than 10 are missing consecutively  80\n",
            "more than 10 are missing consecutively  81\n",
            "more than 10 are missing consecutively  82\n",
            "more than 10 are missing consecutively  83\n",
            "more than 10 are missing consecutively  84\n",
            "more than 10 are missing consecutively  85\n",
            "not enough joints for video 9 at 31.110000000000003 to 31.68\n",
            "more than 10 are missing consecutively  61\n",
            "more than 10 are missing consecutively  62\n",
            "more than 10 are missing consecutively  63\n",
            "more than 10 are missing consecutively  64\n",
            "more than 10 are missing consecutively  65\n",
            "more than 10 are missing consecutively  66\n",
            "more than 10 are missing consecutively  67\n",
            "more than 10 are missing consecutively  68\n",
            "more than 10 are missing consecutively  69\n",
            "more than 10 are missing consecutively  70\n",
            "more than 10 are missing consecutively  71\n",
            "more than 10 are missing consecutively  72\n",
            "more than 10 are missing consecutively  73\n",
            "more than 10 are missing consecutively  57\n",
            "more than 10 are missing consecutively  58\n",
            "not enough joints for video 9 at 43.01 to 43.37000000000001\n",
            "not enough joints for video 9 at 47.3 to 47.58\n",
            "more than 10 are missing consecutively  50\n",
            "more than 10 are missing consecutively  51\n",
            "more than 10 are missing consecutively  52\n",
            "more than 10 are missing consecutively  53\n",
            "more than 10 are missing consecutively  54\n",
            "more than 10 are missing consecutively  55\n",
            "more than 10 are missing consecutively  56\n",
            "more than 10 are missing consecutively  57\n",
            "more than 10 are missing consecutively  58\n",
            "more than 10 are missing consecutively  59\n",
            "more than 10 are missing consecutively  60\n",
            "more than 10 are missing consecutively  78\n",
            "more than 10 are missing consecutively  79\n",
            "more than 10 are missing consecutively  80\n",
            "more than 10 are missing consecutively  81\n",
            "more than 10 are missing consecutively  82\n",
            "more than 10 are missing consecutively  83\n",
            "more than 10 are missing consecutively  84\n",
            "more than 10 are missing consecutively  85\n",
            "more than 10 are missing consecutively  86\n",
            "more than 10 are missing consecutively  87\n",
            "more than 10 are missing consecutively  88\n",
            "more than 10 are missing consecutively  89\n",
            "more than 10 are missing consecutively  90\n",
            "more than 10 are missing consecutively  91\n",
            "more than 10 are missing consecutively  92\n",
            "more than 10 are missing consecutively  93\n",
            "more than 10 are missing consecutively  94\n",
            "more than 10 are missing consecutively  95\n",
            "more than 10 are missing consecutively  12\n",
            "more than 10 are missing consecutively  13\n",
            "more than 10 are missing consecutively  14\n",
            "more than 10 are missing consecutively  15\n",
            "more than 10 are missing consecutively  52\n",
            "more than 10 are missing consecutively  15\n",
            "more than 10 are missing consecutively  16\n",
            "more than 10 are missing consecutively  17\n",
            "more than 10 are missing consecutively  18\n",
            "more than 10 are missing consecutively  19\n",
            "more than 10 are missing consecutively  20\n",
            "more than 10 are missing consecutively  21\n",
            "more than 10 are missing consecutively  22\n",
            "more than 10 are missing consecutively  23\n",
            "more than 10 are missing consecutively  24\n",
            "more than 10 are missing consecutively  25\n",
            "more than 10 are missing consecutively  26\n",
            "more than 10 are missing consecutively  76\n",
            "more than 10 are missing consecutively  77\n",
            "more than 10 are missing consecutively  78\n",
            "more than 10 are missing consecutively  79\n",
            "more than 10 are missing consecutively  80\n",
            "more than 10 are missing consecutively  112\n",
            "more than 10 are missing consecutively  113\n",
            "more than 10 are missing consecutively  114\n",
            "more than 10 are missing consecutively  115\n",
            "not enough joints for video 9 at 106.28999999999998 to 106.4\n",
            "more than 10 are missing consecutively  12\n",
            "more than 10 are missing consecutively  13\n",
            "more than 10 are missing consecutively  38\n",
            "more than 10 are missing consecutively  39\n",
            "more than 10 are missing consecutively  40\n",
            "more than 10 are missing consecutively  41\n",
            "more than 10 are missing consecutively  42\n",
            "more than 10 are missing consecutively  43\n",
            "more than 10 are missing consecutively  44\n",
            "more than 10 are missing consecutively  45\n",
            "more than 10 are missing consecutively  46\n",
            "more than 10 are missing consecutively  47\n",
            "more than 10 are missing consecutively  48\n",
            "more than 10 are missing consecutively  62\n",
            "more than 10 are missing consecutively  63\n",
            "more than 10 are missing consecutively  64\n",
            "more than 10 are missing consecutively  65\n",
            "more than 10 are missing consecutively  66\n",
            "more than 10 are missing consecutively  67\n",
            "more than 10 are missing consecutively  68\n",
            "more than 10 are missing consecutively  69\n",
            "more than 10 are missing consecutively  70\n",
            "more than 10 are missing consecutively  71\n",
            "more than 10 are missing consecutively  72\n",
            "more than 10 are missing consecutively  73\n",
            "more than 10 are missing consecutively  74\n",
            "more than 10 are missing consecutively  75\n",
            "more than 10 are missing consecutively  28\n",
            "more than 10 are missing consecutively  29\n",
            "more than 10 are missing consecutively  30\n",
            "more than 10 are missing consecutively  31\n",
            "more than 10 are missing consecutively  32\n",
            "more than 10 are missing consecutively  33\n",
            "more than 10 are missing consecutively  34\n",
            "more than 10 are missing consecutively  35\n",
            "more than 10 are missing consecutively  36\n",
            "more than 10 are missing consecutively  37\n",
            "more than 10 are missing consecutively  38\n",
            "more than 10 are missing consecutively  135\n",
            "more than 10 are missing consecutively  136\n",
            "more than 10 are missing consecutively  137\n",
            "more than 10 are missing consecutively  138\n",
            "more than 10 are missing consecutively  139\n",
            "more than 10 are missing consecutively  140\n",
            "more than 10 are missing consecutively  34\n",
            "more than 10 are missing consecutively  35\n",
            "more than 10 are missing consecutively  36\n",
            "more than 10 are missing consecutively  37\n",
            "more than 10 are missing consecutively  38\n",
            "more than 10 are missing consecutively  39\n",
            "more than 10 are missing consecutively  40\n",
            "more than 10 are missing consecutively  41\n",
            "more than 10 are missing consecutively  42\n",
            "more than 10 are missing consecutively  43\n",
            "more than 10 are missing consecutively  56\n",
            "more than 10 are missing consecutively  57\n",
            "more than 10 are missing consecutively  58\n",
            "more than 10 are missing consecutively  59\n",
            "more than 10 are missing consecutively  60\n",
            "more than 10 are missing consecutively  61\n",
            "more than 10 are missing consecutively  62\n",
            "more than 10 are missing consecutively  63\n",
            "more than 10 are missing consecutively  64\n",
            "more than 10 are missing consecutively  65\n",
            "more than 10 are missing consecutively  66\n",
            "more than 10 are missing consecutively  67\n",
            "more than 10 are missing consecutively  68\n",
            "more than 10 are missing consecutively  69\n",
            "more than 10 are missing consecutively  70\n",
            "more than 10 are missing consecutively  71\n",
            "more than 10 are missing consecutively  72\n",
            "more than 10 are missing consecutively  73\n",
            "more than 10 are missing consecutively  74\n",
            "more than 10 are missing consecutively  75\n",
            "more than 10 are missing consecutively  76\n",
            "more than 10 are missing consecutively  77\n",
            "more than 10 are missing consecutively  78\n",
            "more than 10 are missing consecutively  79\n",
            "more than 10 are missing consecutively  80\n",
            "more than 10 are missing consecutively  81\n",
            "more than 10 are missing consecutively  82\n",
            "more than 10 are missing consecutively  83\n",
            "more than 10 are missing consecutively  84\n",
            "more than 10 are missing consecutively  85\n",
            "more than 10 are missing consecutively  86\n",
            "more than 10 are missing consecutively  87\n",
            "more than 10 are missing consecutively  88\n",
            "more than 10 are missing consecutively  89\n",
            "more than 10 are missing consecutively  90\n",
            "not enough joints for video 9 at 164.48 to 165.12\n",
            "more than 10 are missing consecutively  23\n",
            "more than 10 are missing consecutively  24\n",
            "more than 10 are missing consecutively  25\n",
            "more than 10 are missing consecutively  26\n",
            "more than 10 are missing consecutively  27\n",
            "more than 10 are missing consecutively  71\n",
            "more than 10 are missing consecutively  72\n",
            "more than 10 are missing consecutively  73\n",
            "more than 10 are missing consecutively  74\n",
            "more than 10 are missing consecutively  75\n",
            "more than 10 are missing consecutively  76\n",
            "more than 10 are missing consecutively  77\n",
            "more than 10 are missing consecutively  78\n",
            "more than 10 are missing consecutively  79\n",
            "more than 10 are missing consecutively  80\n",
            "more than 10 are missing consecutively  81\n",
            "more than 10 are missing consecutively  82\n",
            "more than 10 are missing consecutively  83\n",
            "more than 10 are missing consecutively  84\n",
            "more than 10 are missing consecutively  85\n",
            "more than 10 are missing consecutively  86\n",
            "more than 10 are missing consecutively  87\n",
            "more than 10 are missing consecutively  88\n",
            "more than 10 are missing consecutively  89\n",
            "more than 10 are missing consecutively  90\n",
            "not enough joints for video 9 at 180.0 to 180.28\n",
            "Processing video 10...\n",
            "Could not download video 10, 8rFA0tl_GBI is age restricted, and can't be accessed without logging in.\n",
            "Processing video 11...\n",
            "yt video exists: /content/drive/MyDrive/THESIS/data/SWDance/videos/11.mp4\n",
            "VIBE file exists: /content/drive/MyDrive/THESIS/data/SWDance/vibe_output/11.pkl\n",
            "MoviePy - Writing audio in /tmp/11.wav\n"
          ]
        },
        {
          "output_type": "stream",
          "name": "stderr",
          "text": []
        },
        {
          "output_type": "stream",
          "name": "stdout",
          "text": [
            "MoviePy - Done.\n"
          ]
        },
        {
          "output_type": "stream",
          "name": "stderr",
          "text": [
            "  0%|          | 0/136.49 [00:00<?, ?sec/s]"
          ]
        },
        {
          "output_type": "stream",
          "name": "stdout",
          "text": [
            "Detected language: english\n"
          ]
        },
        {
          "output_type": "stream",
          "name": "stderr",
          "text": [
            "100%|██████████| 136.49/136.49 [00:03<00:00, 34.85sec/s]\n"
          ]
        },
        {
          "output_type": "error",
          "ename": "NotImplementedError",
          "evalue": "ignored",
          "traceback": [
            "\u001b[0;31m---------------------------------------------------------------------------\u001b[0m",
            "\u001b[0;31mNotImplementedError\u001b[0m                       Traceback (most recent call last)",
            "\u001b[0;32m<ipython-input-21-f893cb10c260>\u001b[0m in \u001b[0;36m<cell line: 1>\u001b[0;34m()\u001b[0m\n\u001b[0;32m----> 1\u001b[0;31m \u001b[0mindex_df\u001b[0m \u001b[0;34m=\u001b[0m \u001b[0mdp\u001b[0m\u001b[0;34m.\u001b[0m\u001b[0mrun\u001b[0m\u001b[0;34m(\u001b[0m\u001b[0;34m)\u001b[0m\u001b[0;34m\u001b[0m\u001b[0;34m\u001b[0m\u001b[0m\n\u001b[0m",
            "\u001b[0;32m<ipython-input-19-19f264d1d39b>\u001b[0m in \u001b[0;36mrun\u001b[0;34m(self)\u001b[0m\n\u001b[1;32m    402\u001b[0m       \u001b[0mvibe_output\u001b[0m \u001b[0;34m=\u001b[0m \u001b[0mself\u001b[0m\u001b[0;34m.\u001b[0m\u001b[0mget_vibe_poses\u001b[0m\u001b[0;34m(\u001b[0m\u001b[0mvideo_file\u001b[0m\u001b[0;34m)\u001b[0m\u001b[0;34m\u001b[0m\u001b[0;34m\u001b[0m\u001b[0m\n\u001b[1;32m    403\u001b[0m \u001b[0;34m\u001b[0m\u001b[0m\n\u001b[0;32m--> 404\u001b[0;31m       \u001b[0mcaps\u001b[0m \u001b[0;34m=\u001b[0m \u001b[0mself\u001b[0m\u001b[0;34m.\u001b[0m\u001b[0mget_whisper_captions\u001b[0m\u001b[0;34m(\u001b[0m\u001b[0mvideo_file\u001b[0m\u001b[0;34m)\u001b[0m\u001b[0;34m\u001b[0m\u001b[0;34m\u001b[0m\u001b[0m\n\u001b[0m\u001b[1;32m    405\u001b[0m       \u001b[0mprocessed_caps\u001b[0m \u001b[0;34m=\u001b[0m \u001b[0mself\u001b[0m\u001b[0;34m.\u001b[0m\u001b[0mprocess_captions\u001b[0m\u001b[0;34m(\u001b[0m\u001b[0mcaps\u001b[0m\u001b[0;34m,\u001b[0m \u001b[0mvideo_fps\u001b[0m\u001b[0;34m)\u001b[0m\u001b[0;34m\u001b[0m\u001b[0;34m\u001b[0m\u001b[0m\n\u001b[1;32m    406\u001b[0m \u001b[0;34m\u001b[0m\u001b[0m\n",
            "\u001b[0;32m<ipython-input-19-19f264d1d39b>\u001b[0m in \u001b[0;36mget_whisper_captions\u001b[0;34m(self, video_file)\u001b[0m\n\u001b[1;32m     67\u001b[0m     \u001b[0;32melse\u001b[0m\u001b[0;34m:\u001b[0m\u001b[0;34m\u001b[0m\u001b[0;34m\u001b[0m\u001b[0m\n\u001b[1;32m     68\u001b[0m       \u001b[0;31m# captions = self.whisper_model.transcribe(audio_file) # normal whisper model\u001b[0m\u001b[0;34m\u001b[0m\u001b[0;34m\u001b[0m\u001b[0m\n\u001b[0;32m---> 69\u001b[0;31m       \u001b[0mcaptions\u001b[0m \u001b[0;34m=\u001b[0m \u001b[0mself\u001b[0m\u001b[0;34m.\u001b[0m\u001b[0mwhisper_model\u001b[0m\u001b[0;34m.\u001b[0m\u001b[0mtranscribe\u001b[0m\u001b[0;34m(\u001b[0m\u001b[0maudio_file\u001b[0m\u001b[0;34m,\u001b[0m \u001b[0mword_timestamps\u001b[0m\u001b[0;34m=\u001b[0m\u001b[0;32mFalse\u001b[0m\u001b[0;34m)\u001b[0m\u001b[0;34m.\u001b[0m\u001b[0mto_dict\u001b[0m\u001b[0;34m(\u001b[0m\u001b[0;34m)\u001b[0m\u001b[0;34m\u001b[0m\u001b[0;34m\u001b[0m\u001b[0m\n\u001b[0m\u001b[1;32m     70\u001b[0m       \u001b[0mjoblib\u001b[0m\u001b[0;34m.\u001b[0m\u001b[0mdump\u001b[0m\u001b[0;34m(\u001b[0m\u001b[0mcaptions\u001b[0m\u001b[0;34m,\u001b[0m \u001b[0mcaps_file\u001b[0m\u001b[0;34m)\u001b[0m\u001b[0;34m\u001b[0m\u001b[0;34m\u001b[0m\u001b[0m\n\u001b[1;32m     71\u001b[0m \u001b[0;34m\u001b[0m\u001b[0m\n",
            "\u001b[0;32m/usr/local/lib/python3.10/dist-packages/stable_whisper/whisper_word_level.py\u001b[0m in \u001b[0;36mtranscribe_stable\u001b[0;34m(model, audio, verbose, temperature, compression_ratio_threshold, logprob_threshold, no_speech_threshold, condition_on_previous_text, initial_prompt, word_timestamps, regroup, ts_num, ts_noise, suppress_silence, suppress_word_ts, q_levels, k_size, time_scale, demucs, demucs_output, demucs_options, vad, vad_threshold, vad_onnx, min_word_dur, only_voice_freq, prepend_punctuations, append_punctuations, mel_first, split_callback, suppress_ts_tokens, gap_padding, only_ffmpeg, max_instant_words, progress_callback, ignore_compatibility, **decode_options)\u001b[0m\n\u001b[1;32m    656\u001b[0m \u001b[0;34m\u001b[0m\u001b[0m\n\u001b[1;32m    657\u001b[0m     \u001b[0mtext\u001b[0m \u001b[0;34m=\u001b[0m \u001b[0;34m''\u001b[0m \u001b[0;32mif\u001b[0m \u001b[0mtokenizer\u001b[0m \u001b[0;32mis\u001b[0m \u001b[0;32mNone\u001b[0m \u001b[0;32melse\u001b[0m \u001b[0mtokenizer\u001b[0m\u001b[0;34m.\u001b[0m\u001b[0mdecode\u001b[0m\u001b[0;34m(\u001b[0m\u001b[0mall_tokens\u001b[0m\u001b[0;34m[\u001b[0m\u001b[0mlen\u001b[0m\u001b[0;34m(\u001b[0m\u001b[0minitial_prompt_tokens\u001b[0m\u001b[0;34m)\u001b[0m\u001b[0;34m:\u001b[0m\u001b[0;34m]\u001b[0m\u001b[0;34m)\u001b[0m\u001b[0;34m\u001b[0m\u001b[0;34m\u001b[0m\u001b[0m\n\u001b[0;32m--> 658\u001b[0;31m     final_result = WhisperResult(dict(text=text,\n\u001b[0m\u001b[1;32m    659\u001b[0m                                       \u001b[0msegments\u001b[0m\u001b[0;34m=\u001b[0m\u001b[0mall_segments\u001b[0m\u001b[0;34m,\u001b[0m\u001b[0;34m\u001b[0m\u001b[0;34m\u001b[0m\u001b[0m\n\u001b[1;32m    660\u001b[0m                                       \u001b[0mlanguage\u001b[0m\u001b[0;34m=\u001b[0m\u001b[0mlanguage\u001b[0m\u001b[0;34m,\u001b[0m\u001b[0;34m\u001b[0m\u001b[0;34m\u001b[0m\u001b[0m\n",
            "\u001b[0;32m/usr/local/lib/python3.10/dist-packages/stable_whisper/result.py\u001b[0m in \u001b[0;36m__init__\u001b[0;34m(self, result, force_order, check_sorted)\u001b[0m\n\u001b[1;32m    519\u001b[0m             \u001b[0mself\u001b[0m\u001b[0;34m.\u001b[0m\u001b[0mforce_order\u001b[0m\u001b[0;34m(\u001b[0m\u001b[0;34m)\u001b[0m\u001b[0;34m\u001b[0m\u001b[0;34m\u001b[0m\u001b[0m\n\u001b[1;32m    520\u001b[0m         \u001b[0;32mif\u001b[0m \u001b[0mcheck_sorted\u001b[0m\u001b[0;34m:\u001b[0m\u001b[0;34m\u001b[0m\u001b[0;34m\u001b[0m\u001b[0m\n\u001b[0;32m--> 521\u001b[0;31m             \u001b[0mself\u001b[0m\u001b[0;34m.\u001b[0m\u001b[0mraise_for_unsorted\u001b[0m\u001b[0;34m(\u001b[0m\u001b[0;34m)\u001b[0m\u001b[0;34m\u001b[0m\u001b[0;34m\u001b[0m\u001b[0m\n\u001b[0m\u001b[1;32m    522\u001b[0m         \u001b[0mself\u001b[0m\u001b[0;34m.\u001b[0m\u001b[0mremove_no_word_segments\u001b[0m\u001b[0;34m(\u001b[0m\u001b[0;34m)\u001b[0m\u001b[0;34m\u001b[0m\u001b[0;34m\u001b[0m\u001b[0m\n\u001b[1;32m    523\u001b[0m         \u001b[0mself\u001b[0m\u001b[0;34m.\u001b[0m\u001b[0mupdate_all_segs_with_words\u001b[0m\u001b[0;34m(\u001b[0m\u001b[0;34m)\u001b[0m\u001b[0;34m\u001b[0m\u001b[0;34m\u001b[0m\u001b[0m\n",
            "\u001b[0;32m/usr/local/lib/python3.10/dist-packages/stable_whisper/result.py\u001b[0m in \u001b[0;36mraise_for_unsorted\u001b[0;34m(self)\u001b[0m\n\u001b[1;32m    572\u001b[0m             \u001b[0;32mreturn\u001b[0m\u001b[0;34m\u001b[0m\u001b[0;34m\u001b[0m\u001b[0m\n\u001b[1;32m    573\u001b[0m         \u001b[0;32mif\u001b[0m \u001b[0;34m(\u001b[0m\u001b[0mtimestamps\u001b[0m\u001b[0;34m[\u001b[0m\u001b[0;34m:\u001b[0m\u001b[0;34m-\u001b[0m\u001b[0;36m1\u001b[0m\u001b[0;34m]\u001b[0m \u001b[0;34m>\u001b[0m \u001b[0mtimestamps\u001b[0m\u001b[0;34m[\u001b[0m\u001b[0;36m1\u001b[0m\u001b[0;34m:\u001b[0m\u001b[0;34m]\u001b[0m\u001b[0;34m)\u001b[0m\u001b[0;34m.\u001b[0m\u001b[0many\u001b[0m\u001b[0;34m(\u001b[0m\u001b[0;34m)\u001b[0m\u001b[0;34m:\u001b[0m\u001b[0;34m\u001b[0m\u001b[0;34m\u001b[0m\u001b[0m\n\u001b[0;32m--> 574\u001b[0;31m             raise NotImplementedError(f'Timestamps are not in ascending order. '\n\u001b[0m\u001b[1;32m    575\u001b[0m                                       \u001b[0;34mf'For transcribe_any() or data not produced by Stable-ts, '\u001b[0m\u001b[0;34m\u001b[0m\u001b[0;34m\u001b[0m\u001b[0m\n\u001b[1;32m    576\u001b[0m                                       \u001b[0;34mf'sort segments/words by timestamps. '\u001b[0m\u001b[0;34m\u001b[0m\u001b[0;34m\u001b[0m\u001b[0m\n",
            "\u001b[0;31mNotImplementedError\u001b[0m: Timestamps are not in ascending order. For transcribe_any() or data not produced by Stable-ts, sort segments/words by timestamps. Otherwise, please submit an issue."
          ]
        }
      ]
    },
    {
      "cell_type": "code",
      "source": [
        "index_df = dp.run()\n",
        "# vibe_output = dp.get_vibe_poses('/content/drive/MyDrive/THESIS/data/SWDance/videos/0.mp4')"
      ],
      "metadata": {
        "colab": {
          "base_uri": "https://localhost:8080/"
        },
        "id": "YwwVizeGKbMf",
        "outputId": "1660a39e-7586-4ff9-b6a4-5970992de746"
      },
      "execution_count": 8,
      "outputs": [
        {
          "metadata": {
            "tags": null
          },
          "name": "stdout",
          "output_type": "stream",
          "text": [
            "Processing video 0...\n",
            "video 0 is already processed\n",
            "Processing video 1...\n",
            "video 1 is already processed\n",
            "Processing video 2...\n",
            "yt video exists: /content/drive/MyDrive/THESIS/data/SWDance/videos/2.mp4\n",
            "VIBE file exists: /content/drive/MyDrive/THESIS/data/SWDance/vibe_output/2.pkl\n",
            "Processing video 3...\n",
            "yt video exists: /content/drive/MyDrive/THESIS/data/SWDance/videos/3.mp4\n",
            "VIBE file exists: /content/drive/MyDrive/THESIS/data/SWDance/vibe_output/3.pkl\n",
            "Processing video 4...\n",
            "yt video exists: /content/drive/MyDrive/THESIS/data/SWDance/videos/4.mp4\n",
            "VIBE file exists: /content/drive/MyDrive/THESIS/data/SWDance/vibe_output/4.pkl\n",
            "Processing video 5...\n",
            "yt video exists: /content/drive/MyDrive/THESIS/data/SWDance/videos/5.mp4\n",
            "VIBE file exists: /content/drive/MyDrive/THESIS/data/SWDance/vibe_output/5.pkl\n",
            "Processing video 6...\n",
            "yt video exists: /content/drive/MyDrive/THESIS/data/SWDance/videos/6.mp4\n",
            "VIBE file exists: /content/drive/MyDrive/THESIS/data/SWDance/vibe_output/6.pkl\n",
            "Processing video 7...\n",
            "yt video exists: /content/drive/MyDrive/THESIS/data/SWDance/videos/7.mp4\n",
            "Running \"ffmpeg -i /content/drive/MyDrive/THESIS/data/SWDance/videos/7.mp4 -f image2 -v error /tmp/7_mp4/%06d.png\"\n",
            "Images saved to \"/tmp/7_mp4\"\n",
            "Video 7, number of frames: 7158\n",
            "Tracking pose...\n"
          ]
        },
        {
          "metadata": {
            "tags": null
          },
          "name": "stderr",
          "output_type": "stream",
          "text": [
            "WARNING:py.warnings:/usr/local/lib/python3.10/dist-packages/torch/functional.py:504: UserWarning: torch.meshgrid: in an upcoming release, it will be required to pass the indexing argument. (Triggered internally at ../aten/src/ATen/native/TensorShape.cpp:3483.)\n",
            "  return _VF.meshgrid(tensors, **kwargs)  # type: ignore[attr-defined]\n",
            "\n",
            "100%|██████████| 7158/7158 [01:51<00:00, 64.28it/s]\n"
          ]
        },
        {
          "metadata": {
            "tags": null
          },
          "name": "stdout",
          "output_type": "stream",
          "text": [
            "Done. (111.362s)\n",
            "Running VIBE...\n"
          ]
        },
        {
          "metadata": {
            "tags": null
          },
          "name": "stderr",
          "output_type": "stream",
          "text": [
            "100%|██████████| 52/52 [00:22<00:00,  2.33it/s]\n"
          ]
        },
        {
          "metadata": {
            "tags": null
          },
          "name": "stdout",
          "output_type": "stream",
          "text": [
            "Transform pose to SMPL24 ...\n",
            "Post process pose and smooth...\n",
            "Total time: 142.03s for 7158 frames.\n",
            "Saving output results to \"/content/drive/MyDrive/THESIS/data/SWDance/vibe_output/7.pkl\".\n",
            "Processing video 8...\n",
            "video resolution= 720p\n",
            "YouTube Video has been downloaded to /content/drive/MyDrive/THESIS/data/SWDance/videos/8.mp4...\n",
            "Running \"ffmpeg -i /content/drive/MyDrive/THESIS/data/SWDance/videos/8.mp4 -f image2 -v error /tmp/8_mp4/%06d.png\"\n",
            "Images saved to \"/tmp/8_mp4\"\n",
            "Video 8, number of frames: 5049\n",
            "Tracking pose...\n"
          ]
        },
        {
          "metadata": {
            "tags": null
          },
          "name": "stderr",
          "output_type": "stream",
          "text": [
            "100%|██████████| 5049/5049 [02:11<00:00, 38.43it/s]\n"
          ]
        },
        {
          "metadata": {
            "tags": null
          },
          "name": "stdout",
          "output_type": "stream",
          "text": [
            "Done. (131.397s)\n",
            "Running VIBE...\n"
          ]
        },
        {
          "metadata": {
            "tags": null
          },
          "name": "stderr",
          "output_type": "stream",
          "text": [
            "100%|██████████| 34/34 [00:20<00:00,  1.62it/s]\n"
          ]
        },
        {
          "metadata": {
            "tags": null
          },
          "name": "stdout",
          "output_type": "stream",
          "text": [
            "Transform pose to SMPL24 ...\n",
            "Post process pose and smooth...\n",
            "Total time: 155.36s for 5049 frames.\n",
            "Saving output results to \"/content/drive/MyDrive/THESIS/data/SWDance/vibe_output/8.pkl\".\n",
            "Processing video 9...\n",
            "video resolution= 720p\n",
            "YouTube Video has been downloaded to /content/drive/MyDrive/THESIS/data/SWDance/videos/9.mp4...\n",
            "Running \"ffmpeg -i /content/drive/MyDrive/THESIS/data/SWDance/videos/9.mp4 -f image2 -v error /tmp/9_mp4/%06d.png\"\n",
            "Images saved to \"/tmp/9_mp4\"\n",
            "Video 9, number of frames: 5408\n",
            "Tracking pose...\n"
          ]
        },
        {
          "metadata": {
            "tags": null
          },
          "name": "stderr",
          "output_type": "stream",
          "text": [
            "100%|██████████| 5408/5408 [02:24<00:00, 37.42it/s]\n"
          ]
        },
        {
          "metadata": {
            "tags": null
          },
          "name": "stdout",
          "output_type": "stream",
          "text": [
            "Done. (144.513s)\n",
            "Running VIBE...\n"
          ]
        },
        {
          "metadata": {
            "tags": null
          },
          "name": "stderr",
          "output_type": "stream",
          "text": [
            "100%|██████████| 28/28 [00:17<00:00,  1.59it/s]\n"
          ]
        },
        {
          "metadata": {
            "tags": null
          },
          "name": "stdout",
          "output_type": "stream",
          "text": [
            "Transform pose to SMPL24 ...\n",
            "Post process pose and smooth...\n",
            "Total time: 164.29s for 5408 frames.\n",
            "Saving output results to \"/content/drive/MyDrive/THESIS/data/SWDance/vibe_output/9.pkl\".\n",
            "Processing video 10...\n",
            "Could not download video 10, 8rFA0tl_GBI is age restricted, and can't be accessed without logging in.\n",
            "Processing video 11...\n",
            "video resolution= 720p\n",
            "YouTube Video has been downloaded to /content/drive/MyDrive/THESIS/data/SWDance/videos/11.mp4...\n",
            "Running \"ffmpeg -i /content/drive/MyDrive/THESIS/data/SWDance/videos/11.mp4 -f image2 -v error /tmp/11_mp4/%06d.png\"\n",
            "Images saved to \"/tmp/11_mp4\"\n",
            "Video 11, number of frames: 4090\n",
            "Tracking pose...\n"
          ]
        },
        {
          "output_type": "stream",
          "name": "stderr",
          "text": [
            "100%|██████████| 4090/4090 [02:06<00:00, 32.23it/s]\n"
          ]
        },
        {
          "output_type": "stream",
          "name": "stdout",
          "text": [
            "Done. (126.923s)\n",
            "Running VIBE...\n"
          ]
        },
        {
          "output_type": "stream",
          "name": "stderr",
          "text": [
            "100%|██████████| 18/18 [00:13<00:00,  1.30it/s]\n"
          ]
        },
        {
          "output_type": "stream",
          "name": "stdout",
          "text": [
            "Transform pose to SMPL24 ...\n",
            "Post process pose and smooth...\n",
            "Total time: 142.19s for 4090 frames.\n",
            "Saving output results to \"/content/drive/MyDrive/THESIS/data/SWDance/vibe_output/11.pkl\".\n",
            "Processing video 12...\n",
            "video resolution= 720p\n",
            "YouTube Video has been downloaded to /content/drive/MyDrive/THESIS/data/SWDance/videos/12.mp4...\n",
            "Running \"ffmpeg -i /content/drive/MyDrive/THESIS/data/SWDance/videos/12.mp4 -f image2 -v error /tmp/12_mp4/%06d.png\"\n",
            "Images saved to \"/tmp/12_mp4\"\n",
            "Video 12, number of frames: 5620\n",
            "Tracking pose...\n"
          ]
        },
        {
          "output_type": "stream",
          "name": "stderr",
          "text": [
            "100%|██████████| 5620/5620 [01:47<00:00, 52.45it/s]\n"
          ]
        },
        {
          "output_type": "stream",
          "name": "stdout",
          "text": [
            "Done. (107.156s)\n",
            "Running VIBE...\n"
          ]
        },
        {
          "output_type": "stream",
          "name": "stderr",
          "text": [
            "100%|██████████| 31/31 [00:14<00:00,  2.16it/s]\n"
          ]
        },
        {
          "output_type": "stream",
          "name": "stdout",
          "text": [
            "Transform pose to SMPL24 ...\n",
            "Post process pose and smooth...\n",
            "Total time: 124.44s for 5620 frames.\n",
            "Saving output results to \"/content/drive/MyDrive/THESIS/data/SWDance/vibe_output/12.pkl\".\n",
            "Processing video 13...\n",
            "video resolution= 720p\n",
            "YouTube Video has been downloaded to /content/drive/MyDrive/THESIS/data/SWDance/videos/13.mp4...\n",
            "Running \"ffmpeg -i /content/drive/MyDrive/THESIS/data/SWDance/videos/13.mp4 -f image2 -v error /tmp/13_mp4/%06d.png\"\n",
            "Images saved to \"/tmp/13_mp4\"\n",
            "Video 13, number of frames: 5160\n",
            "Tracking pose...\n"
          ]
        },
        {
          "output_type": "stream",
          "name": "stderr",
          "text": [
            "100%|██████████| 5160/5160 [01:47<00:00, 48.13it/s]\n"
          ]
        },
        {
          "output_type": "stream",
          "name": "stdout",
          "text": [
            "Done. (107.212s)\n",
            "Running VIBE...\n"
          ]
        },
        {
          "output_type": "stream",
          "name": "stderr",
          "text": [
            "100%|██████████| 37/37 [00:17<00:00,  2.14it/s]\n"
          ]
        },
        {
          "output_type": "stream",
          "name": "stdout",
          "text": [
            "Transform pose to SMPL24 ...\n",
            "Post process pose and smooth...\n",
            "Total time: 127.69s for 5160 frames.\n",
            "Saving output results to \"/content/drive/MyDrive/THESIS/data/SWDance/vibe_output/13.pkl\".\n",
            "Processing video 14...\n",
            "Could not download video 14, IweU8O7dAzE is age restricted, and can't be accessed without logging in.\n",
            "Processing video 15...\n",
            "Could not download video 15, RRQXwKQm0Ts is age restricted, and can't be accessed without logging in.\n",
            "Processing video 16...\n",
            "video resolution= 720p\n",
            "YouTube Video has been downloaded to /content/drive/MyDrive/THESIS/data/SWDance/videos/16.mp4...\n",
            "Running \"ffmpeg -i /content/drive/MyDrive/THESIS/data/SWDance/videos/16.mp4 -f image2 -v error /tmp/16_mp4/%06d.png\"\n",
            "Images saved to \"/tmp/16_mp4\"\n",
            "Video 16, number of frames: 6447\n",
            "Tracking pose...\n"
          ]
        },
        {
          "output_type": "stream",
          "name": "stderr",
          "text": [
            "100%|██████████| 6447/6447 [02:57<00:00, 36.39it/s]\n"
          ]
        },
        {
          "output_type": "stream",
          "name": "stdout",
          "text": [
            "Done. (177.184s)\n",
            "Running VIBE...\n"
          ]
        },
        {
          "output_type": "stream",
          "name": "stderr",
          "text": [
            "100%|██████████| 46/46 [00:28<00:00,  1.62it/s]\n"
          ]
        },
        {
          "output_type": "stream",
          "name": "stdout",
          "text": [
            "Transform pose to SMPL24 ...\n",
            "Post process pose and smooth...\n",
            "Total time: 209.82s for 6447 frames.\n",
            "Saving output results to \"/content/drive/MyDrive/THESIS/data/SWDance/vibe_output/16.pkl\".\n",
            "Processing video 17...\n",
            "video resolution= 720p\n",
            "YouTube Video has been downloaded to /content/drive/MyDrive/THESIS/data/SWDance/videos/17.mp4...\n",
            "Running \"ffmpeg -i /content/drive/MyDrive/THESIS/data/SWDance/videos/17.mp4 -f image2 -v error /tmp/17_mp4/%06d.png\"\n",
            "Images saved to \"/tmp/17_mp4\"\n",
            "Video 17, number of frames: 5696\n",
            "Tracking pose...\n"
          ]
        },
        {
          "output_type": "stream",
          "name": "stderr",
          "text": [
            "100%|██████████| 5696/5696 [01:41<00:00, 56.04it/s]\n"
          ]
        },
        {
          "output_type": "stream",
          "name": "stdout",
          "text": [
            "Done. (101.638s)\n",
            "Running VIBE...\n"
          ]
        },
        {
          "output_type": "stream",
          "name": "stderr",
          "text": [
            "100%|██████████| 30/30 [00:13<00:00,  2.23it/s]\n"
          ]
        },
        {
          "output_type": "stream",
          "name": "stdout",
          "text": [
            "Transform pose to SMPL24 ...\n",
            "Post process pose and smooth...\n",
            "Total time: 117.70s for 5696 frames.\n",
            "Saving output results to \"/content/drive/MyDrive/THESIS/data/SWDance/vibe_output/17.pkl\".\n",
            "Processing video 18...\n",
            "video resolution= 720p\n",
            "YouTube Video has been downloaded to /content/drive/MyDrive/THESIS/data/SWDance/videos/18.mp4...\n",
            "Running \"ffmpeg -i /content/drive/MyDrive/THESIS/data/SWDance/videos/18.mp4 -f image2 -v error /tmp/18_mp4/%06d.png\"\n",
            "Images saved to \"/tmp/18_mp4\"\n",
            "Video 18, number of frames: 3423\n",
            "Tracking pose...\n"
          ]
        },
        {
          "output_type": "stream",
          "name": "stderr",
          "text": [
            "100%|██████████| 3423/3423 [01:47<00:00, 31.85it/s]\n"
          ]
        },
        {
          "output_type": "stream",
          "name": "stdout",
          "text": [
            "Done. (107.491s)\n",
            "Running VIBE...\n"
          ]
        },
        {
          "output_type": "stream",
          "name": "stderr",
          "text": [
            "100%|██████████| 27/27 [00:19<00:00,  1.41it/s]\n"
          ]
        },
        {
          "output_type": "stream",
          "name": "stdout",
          "text": [
            "Transform pose to SMPL24 ...\n",
            "Post process pose and smooth...\n",
            "Total time: 128.86s for 3423 frames.\n",
            "Saving output results to \"/content/drive/MyDrive/THESIS/data/SWDance/vibe_output/18.pkl\".\n",
            "Processing video 19...\n",
            "Could not download video 19, 89NUy0AdasE is age restricted, and can't be accessed without logging in.\n",
            "Processing video 20...\n",
            "video resolution= 720p\n",
            "YouTube Video has been downloaded to /content/drive/MyDrive/THESIS/data/SWDance/videos/20.mp4...\n",
            "Running \"ffmpeg -i /content/drive/MyDrive/THESIS/data/SWDance/videos/20.mp4 -f image2 -v error /tmp/20_mp4/%06d.png\"\n",
            "Images saved to \"/tmp/20_mp4\"\n",
            "Video 20, number of frames: 4623\n",
            "Tracking pose...\n"
          ]
        },
        {
          "output_type": "stream",
          "name": "stderr",
          "text": [
            "100%|██████████| 4623/4623 [02:26<00:00, 31.64it/s]\n"
          ]
        },
        {
          "output_type": "stream",
          "name": "stdout",
          "text": [
            "Done. (146.115s)\n",
            "Running VIBE...\n"
          ]
        },
        {
          "output_type": "stream",
          "name": "stderr",
          "text": [
            "100%|██████████| 33/33 [00:22<00:00,  1.45it/s]\n"
          ]
        },
        {
          "output_type": "stream",
          "name": "stdout",
          "text": [
            "Transform pose to SMPL24 ...\n",
            "Post process pose and smooth...\n",
            "Total time: 171.71s for 4623 frames.\n",
            "Saving output results to \"/content/drive/MyDrive/THESIS/data/SWDance/vibe_output/20.pkl\".\n",
            "Processing video 21...\n",
            "video resolution= 360p\n",
            "YouTube Video has been downloaded to /content/drive/MyDrive/THESIS/data/SWDance/videos/21.mp4...\n",
            "Running \"ffmpeg -i /content/drive/MyDrive/THESIS/data/SWDance/videos/21.mp4 -f image2 -v error /tmp/21_mp4/%06d.png\"\n",
            "Images saved to \"/tmp/21_mp4\"\n",
            "Video 21, number of frames: 5416\n",
            "Tracking pose...\n"
          ]
        },
        {
          "output_type": "stream",
          "name": "stderr",
          "text": [
            "100%|██████████| 5416/5416 [01:14<00:00, 72.63it/s]\n"
          ]
        },
        {
          "output_type": "stream",
          "name": "stdout",
          "text": [
            "Done. (74.575s)\n",
            "Running VIBE...\n"
          ]
        },
        {
          "output_type": "stream",
          "name": "stderr",
          "text": [
            "100%|██████████| 24/24 [00:10<00:00,  2.33it/s]\n"
          ]
        },
        {
          "output_type": "stream",
          "name": "stdout",
          "text": [
            "Transform pose to SMPL24 ...\n",
            "Post process pose and smooth...\n",
            "Total time: 86.99s for 5416 frames.\n",
            "Saving output results to \"/content/drive/MyDrive/THESIS/data/SWDance/vibe_output/21.pkl\".\n",
            "Processing video 22...\n",
            "video resolution= 720p\n",
            "YouTube Video has been downloaded to /content/drive/MyDrive/THESIS/data/SWDance/videos/22.mp4...\n",
            "Running \"ffmpeg -i /content/drive/MyDrive/THESIS/data/SWDance/videos/22.mp4 -f image2 -v error /tmp/22_mp4/%06d.png\"\n",
            "Images saved to \"/tmp/22_mp4\"\n",
            "Video 22, number of frames: 3570\n",
            "Tracking pose...\n"
          ]
        },
        {
          "output_type": "stream",
          "name": "stderr",
          "text": [
            "100%|██████████| 3570/3570 [01:06<00:00, 54.05it/s]\n"
          ]
        },
        {
          "output_type": "stream",
          "name": "stdout",
          "text": [
            "Done. (66.059s)\n",
            "Running VIBE...\n"
          ]
        },
        {
          "output_type": "stream",
          "name": "stderr",
          "text": [
            "100%|██████████| 22/22 [00:10<00:00,  2.03it/s]\n"
          ]
        },
        {
          "output_type": "stream",
          "name": "stdout",
          "text": [
            "Transform pose to SMPL24 ...\n",
            "Post process pose and smooth...\n",
            "Total time: 78.71s for 3570 frames.\n",
            "Saving output results to \"/content/drive/MyDrive/THESIS/data/SWDance/vibe_output/22.pkl\".\n",
            "Processing video 23...\n",
            "video resolution= 720p\n",
            "YouTube Video has been downloaded to /content/drive/MyDrive/THESIS/data/SWDance/videos/23.mp4...\n",
            "Running \"ffmpeg -i /content/drive/MyDrive/THESIS/data/SWDance/videos/23.mp4 -f image2 -v error /tmp/23_mp4/%06d.png\"\n",
            "Images saved to \"/tmp/23_mp4\"\n",
            "Video 23, number of frames: 4225\n",
            "Tracking pose...\n"
          ]
        },
        {
          "output_type": "stream",
          "name": "stderr",
          "text": [
            "100%|██████████| 4225/4225 [01:29<00:00, 47.22it/s]\n"
          ]
        },
        {
          "output_type": "stream",
          "name": "stdout",
          "text": [
            "Done. (89.480s)\n",
            "Running VIBE...\n"
          ]
        },
        {
          "output_type": "stream",
          "name": "stderr",
          "text": [
            "100%|██████████| 30/30 [00:15<00:00,  2.00it/s]\n"
          ]
        },
        {
          "output_type": "stream",
          "name": "stdout",
          "text": [
            "Transform pose to SMPL24 ...\n",
            "Post process pose and smooth...\n",
            "Total time: 107.10s for 4225 frames.\n",
            "Saving output results to \"/content/drive/MyDrive/THESIS/data/SWDance/vibe_output/23.pkl\".\n",
            "Processing video 24...\n",
            "Could not download video 24, cYTUf92JBAY is age restricted, and can't be accessed without logging in.\n",
            "Processing video 25...\n",
            "video resolution= 720p\n",
            "YouTube Video has been downloaded to /content/drive/MyDrive/THESIS/data/SWDance/videos/25.mp4...\n",
            "Running \"ffmpeg -i /content/drive/MyDrive/THESIS/data/SWDance/videos/25.mp4 -f image2 -v error /tmp/25_mp4/%06d.png\"\n",
            "Images saved to \"/tmp/25_mp4\"\n",
            "Video 25, number of frames: 3926\n",
            "Tracking pose...\n"
          ]
        },
        {
          "output_type": "stream",
          "name": "stderr",
          "text": [
            "100%|██████████| 3926/3926 [01:54<00:00, 34.24it/s]\n"
          ]
        },
        {
          "output_type": "stream",
          "name": "stdout",
          "text": [
            "Done. (114.649s)\n",
            "Running VIBE...\n"
          ]
        },
        {
          "output_type": "stream",
          "name": "stderr",
          "text": [
            "100%|██████████| 24/24 [00:16<00:00,  1.44it/s]\n"
          ]
        },
        {
          "output_type": "stream",
          "name": "stdout",
          "text": [
            "Transform pose to SMPL24 ...\n",
            "Post process pose and smooth...\n",
            "Total time: 133.61s for 3926 frames.\n",
            "Saving output results to \"/content/drive/MyDrive/THESIS/data/SWDance/vibe_output/25.pkl\".\n",
            "Processing video 26...\n",
            "video resolution= 720p\n",
            "YouTube Video has been downloaded to /content/drive/MyDrive/THESIS/data/SWDance/videos/26.mp4...\n",
            "Running \"ffmpeg -i /content/drive/MyDrive/THESIS/data/SWDance/videos/26.mp4 -f image2 -v error /tmp/26_mp4/%06d.png\"\n",
            "Images saved to \"/tmp/26_mp4\"\n",
            "Video 26, number of frames: 3483\n",
            "Tracking pose...\n"
          ]
        },
        {
          "output_type": "stream",
          "name": "stderr",
          "text": [
            "100%|██████████| 3483/3483 [01:11<00:00, 48.70it/s]\n"
          ]
        },
        {
          "output_type": "stream",
          "name": "stdout",
          "text": [
            "Done. (71.526s)\n",
            "Running VIBE...\n"
          ]
        },
        {
          "output_type": "stream",
          "name": "stderr",
          "text": [
            "100%|██████████| 12/12 [00:07<00:00,  1.56it/s]\n"
          ]
        },
        {
          "output_type": "stream",
          "name": "stdout",
          "text": [
            "Transform pose to SMPL24 ...\n",
            "Post process pose and smooth...\n",
            "Total time: 80.26s for 3483 frames.\n",
            "Saving output results to \"/content/drive/MyDrive/THESIS/data/SWDance/vibe_output/26.pkl\".\n",
            "Processing video 27...\n",
            "video resolution= 720p\n",
            "YouTube Video has been downloaded to /content/drive/MyDrive/THESIS/data/SWDance/videos/27.mp4...\n",
            "Running \"ffmpeg -i /content/drive/MyDrive/THESIS/data/SWDance/videos/27.mp4 -f image2 -v error /tmp/27_mp4/%06d.png\"\n",
            "Images saved to \"/tmp/27_mp4\"\n",
            "Video 27, number of frames: 1414\n",
            "Tracking pose...\n"
          ]
        },
        {
          "output_type": "stream",
          "name": "stderr",
          "text": [
            "100%|██████████| 1414/1414 [00:41<00:00, 34.02it/s]\n"
          ]
        },
        {
          "output_type": "stream",
          "name": "stdout",
          "text": [
            "Done. (41.563s)\n",
            "Running VIBE...\n"
          ]
        },
        {
          "output_type": "stream",
          "name": "stderr",
          "text": [
            "100%|██████████| 10/10 [00:08<00:00,  1.18it/s]\n"
          ]
        },
        {
          "output_type": "stream",
          "name": "stdout",
          "text": [
            "Transform pose to SMPL24 ...\n",
            "Post process pose and smooth...\n",
            "Total time: 50.87s for 1414 frames.\n",
            "Saving output results to \"/content/drive/MyDrive/THESIS/data/SWDance/vibe_output/27.pkl\".\n",
            "Processing video 28...\n",
            "video resolution= 720p\n",
            "YouTube Video has been downloaded to /content/drive/MyDrive/THESIS/data/SWDance/videos/28.mp4...\n",
            "Running \"ffmpeg -i /content/drive/MyDrive/THESIS/data/SWDance/videos/28.mp4 -f image2 -v error /tmp/28_mp4/%06d.png\"\n",
            "Images saved to \"/tmp/28_mp4\"\n",
            "Video 28, number of frames: 1649\n",
            "Tracking pose...\n"
          ]
        },
        {
          "output_type": "stream",
          "name": "stderr",
          "text": [
            "100%|██████████| 1649/1649 [00:42<00:00, 38.61it/s]\n"
          ]
        },
        {
          "output_type": "stream",
          "name": "stdout",
          "text": [
            "Done. (42.708s)\n",
            "Running VIBE...\n"
          ]
        },
        {
          "output_type": "stream",
          "name": "stderr",
          "text": [
            "100%|██████████| 12/12 [00:07<00:00,  1.56it/s]\n"
          ]
        },
        {
          "output_type": "stream",
          "name": "stdout",
          "text": [
            "Transform pose to SMPL24 ...\n",
            "Post process pose and smooth...\n",
            "Total time: 51.52s for 1649 frames.\n",
            "Saving output results to \"/content/drive/MyDrive/THESIS/data/SWDance/vibe_output/28.pkl\".\n",
            "Processing video 29...\n",
            "video resolution= 360p\n",
            "YouTube Video has been downloaded to /content/drive/MyDrive/THESIS/data/SWDance/videos/29.mp4...\n",
            "Running \"ffmpeg -i /content/drive/MyDrive/THESIS/data/SWDance/videos/29.mp4 -f image2 -v error /tmp/29_mp4/%06d.png\"\n",
            "Images saved to \"/tmp/29_mp4\"\n",
            "Video 29, number of frames: 2686\n",
            "Tracking pose...\n"
          ]
        },
        {
          "output_type": "stream",
          "name": "stderr",
          "text": [
            "100%|██████████| 2686/2686 [00:43<00:00, 61.91it/s]\n"
          ]
        },
        {
          "output_type": "stream",
          "name": "stdout",
          "text": [
            "Done. (43.393s)\n",
            "Running VIBE...\n"
          ]
        },
        {
          "output_type": "stream",
          "name": "stderr",
          "text": [
            "100%|██████████| 21/21 [00:09<00:00,  2.30it/s]\n"
          ]
        },
        {
          "output_type": "stream",
          "name": "stdout",
          "text": [
            "Transform pose to SMPL24 ...\n",
            "Post process pose and smooth...\n",
            "Total time: 54.24s for 2686 frames.\n",
            "Saving output results to \"/content/drive/MyDrive/THESIS/data/SWDance/vibe_output/29.pkl\".\n",
            "Processing video 30...\n",
            "Could not download video 30, JioM-HlsQoc is age restricted, and can't be accessed without logging in.\n",
            "Processing video 31...\n",
            "video resolution= 720p\n",
            "YouTube Video has been downloaded to /content/drive/MyDrive/THESIS/data/SWDance/videos/31.mp4...\n",
            "Running \"ffmpeg -i /content/drive/MyDrive/THESIS/data/SWDance/videos/31.mp4 -f image2 -v error /tmp/31_mp4/%06d.png\"\n",
            "Images saved to \"/tmp/31_mp4\"\n",
            "Video 31, number of frames: 1778\n",
            "Tracking pose...\n"
          ]
        },
        {
          "output_type": "stream",
          "name": "stderr",
          "text": [
            "100%|██████████| 1778/1778 [00:55<00:00, 31.83it/s]\n"
          ]
        },
        {
          "output_type": "stream",
          "name": "stdout",
          "text": [
            "Done. (55.866s)\n",
            "Running VIBE...\n"
          ]
        },
        {
          "output_type": "stream",
          "name": "stderr",
          "text": [
            "100%|██████████| 13/13 [00:09<00:00,  1.32it/s]\n"
          ]
        },
        {
          "output_type": "stream",
          "name": "stdout",
          "text": [
            "Transform pose to SMPL24 ...\n",
            "Post process pose and smooth...\n",
            "Total time: 66.75s for 1778 frames.\n",
            "Saving output results to \"/content/drive/MyDrive/THESIS/data/SWDance/vibe_output/31.pkl\".\n",
            "Processing video 32...\n",
            "video resolution= 720p\n",
            "YouTube Video has been downloaded to /content/drive/MyDrive/THESIS/data/SWDance/videos/32.mp4...\n",
            "Running \"ffmpeg -i /content/drive/MyDrive/THESIS/data/SWDance/videos/32.mp4 -f image2 -v error /tmp/32_mp4/%06d.png\"\n",
            "Images saved to \"/tmp/32_mp4\"\n",
            "Video 32, number of frames: 4236\n",
            "Tracking pose...\n"
          ]
        },
        {
          "output_type": "stream",
          "name": "stderr",
          "text": [
            "100%|██████████| 4236/4236 [01:46<00:00, 39.85it/s]\n"
          ]
        },
        {
          "output_type": "stream",
          "name": "stdout",
          "text": [
            "Done. (106.290s)\n",
            "Running VIBE...\n"
          ]
        },
        {
          "output_type": "stream",
          "name": "stderr",
          "text": [
            "100%|██████████| 31/31 [00:17<00:00,  1.74it/s]\n"
          ]
        },
        {
          "output_type": "stream",
          "name": "stdout",
          "text": [
            "Transform pose to SMPL24 ...\n",
            "Post process pose and smooth...\n",
            "Total time: 127.00s for 4236 frames.\n",
            "Saving output results to \"/content/drive/MyDrive/THESIS/data/SWDance/vibe_output/32.pkl\".\n",
            "Processing video 33...\n",
            "video resolution= 720p\n",
            "YouTube Video has been downloaded to /content/drive/MyDrive/THESIS/data/SWDance/videos/33.mp4...\n",
            "Running \"ffmpeg -i /content/drive/MyDrive/THESIS/data/SWDance/videos/33.mp4 -f image2 -v error /tmp/33_mp4/%06d.png\"\n",
            "Images saved to \"/tmp/33_mp4\"\n",
            "Video 33, number of frames: 5432\n",
            "Tracking pose...\n"
          ]
        },
        {
          "output_type": "stream",
          "name": "stderr",
          "text": [
            "100%|██████████| 5432/5432 [01:38<00:00, 55.24it/s]\n"
          ]
        },
        {
          "output_type": "stream",
          "name": "stdout",
          "text": [
            "Done. (98.341s)\n",
            "Running VIBE...\n"
          ]
        },
        {
          "output_type": "stream",
          "name": "stderr",
          "text": [
            "100%|██████████| 38/38 [00:16<00:00,  2.24it/s]\n"
          ]
        },
        {
          "output_type": "stream",
          "name": "stdout",
          "text": [
            "Transform pose to SMPL24 ...\n",
            "Post process pose and smooth...\n",
            "Total time: 118.54s for 5432 frames.\n",
            "Saving output results to \"/content/drive/MyDrive/THESIS/data/SWDance/vibe_output/33.pkl\".\n",
            "Processing video 34...\n",
            "video resolution= 720p\n",
            "YouTube Video has been downloaded to /content/drive/MyDrive/THESIS/data/SWDance/videos/34.mp4...\n",
            "Running \"ffmpeg -i /content/drive/MyDrive/THESIS/data/SWDance/videos/34.mp4 -f image2 -v error /tmp/34_mp4/%06d.png\"\n",
            "Images saved to \"/tmp/34_mp4\"\n",
            "Video 34, number of frames: 6436\n",
            "Tracking pose...\n"
          ]
        },
        {
          "output_type": "stream",
          "name": "stderr",
          "text": [
            "100%|██████████| 6436/6436 [02:49<00:00, 37.87it/s]\n"
          ]
        },
        {
          "output_type": "stream",
          "name": "stdout",
          "text": [
            "Done. (169.957s)\n",
            "Running VIBE...\n"
          ]
        },
        {
          "output_type": "stream",
          "name": "stderr",
          "text": [
            "100%|██████████| 51/51 [00:28<00:00,  1.78it/s]\n"
          ]
        },
        {
          "output_type": "stream",
          "name": "stdout",
          "text": [
            "Transform pose to SMPL24 ...\n",
            "Post process pose and smooth...\n",
            "Total time: 203.32s for 6436 frames.\n",
            "Saving output results to \"/content/drive/MyDrive/THESIS/data/SWDance/vibe_output/34.pkl\".\n",
            "Processing video 35...\n",
            "video resolution= 720p\n",
            "YouTube Video has been downloaded to /content/drive/MyDrive/THESIS/data/SWDance/videos/35.mp4...\n",
            "Running \"ffmpeg -i /content/drive/MyDrive/THESIS/data/SWDance/videos/35.mp4 -f image2 -v error /tmp/35_mp4/%06d.png\"\n",
            "Images saved to \"/tmp/35_mp4\"\n",
            "Video 35, number of frames: 5429\n",
            "Tracking pose...\n"
          ]
        },
        {
          "output_type": "stream",
          "name": "stderr",
          "text": [
            "100%|██████████| 5429/5429 [01:58<00:00, 45.99it/s]\n"
          ]
        },
        {
          "output_type": "stream",
          "name": "stdout",
          "text": [
            "Done. (118.056s)\n",
            "Running VIBE...\n"
          ]
        },
        {
          "output_type": "stream",
          "name": "stderr",
          "text": [
            "100%|██████████| 42/42 [00:20<00:00,  2.02it/s]\n"
          ]
        },
        {
          "output_type": "stream",
          "name": "stdout",
          "text": [
            "Transform pose to SMPL24 ...\n",
            "Post process pose and smooth...\n",
            "Total time: 142.49s for 5429 frames.\n",
            "Saving output results to \"/content/drive/MyDrive/THESIS/data/SWDance/vibe_output/35.pkl\".\n",
            "Processing video 36...\n",
            "video resolution= 360p\n",
            "YouTube Video has been downloaded to /content/drive/MyDrive/THESIS/data/SWDance/videos/36.mp4...\n",
            "Running \"ffmpeg -i /content/drive/MyDrive/THESIS/data/SWDance/videos/36.mp4 -f image2 -v error /tmp/36_mp4/%06d.png\"\n",
            "Images saved to \"/tmp/36_mp4\"\n",
            "Video 36, number of frames: 3875\n",
            "Tracking pose...\n"
          ]
        },
        {
          "output_type": "stream",
          "name": "stderr",
          "text": [
            "100%|██████████| 3875/3875 [00:52<00:00, 73.33it/s]\n"
          ]
        },
        {
          "output_type": "stream",
          "name": "stdout",
          "text": [
            "Done. (52.847s)\n",
            "Running VIBE...\n"
          ]
        },
        {
          "output_type": "stream",
          "name": "stderr",
          "text": [
            "100%|██████████| 25/25 [00:10<00:00,  2.34it/s]\n"
          ]
        },
        {
          "output_type": "stream",
          "name": "stdout",
          "text": [
            "Transform pose to SMPL24 ...\n",
            "Post process pose and smooth...\n",
            "Total time: 65.41s for 3875 frames.\n",
            "Saving output results to \"/content/drive/MyDrive/THESIS/data/SWDance/vibe_output/36.pkl\".\n",
            "Processing video 37...\n",
            "video resolution= 720p\n",
            "YouTube Video has been downloaded to /content/drive/MyDrive/THESIS/data/SWDance/videos/37.mp4...\n",
            "Running \"ffmpeg -i /content/drive/MyDrive/THESIS/data/SWDance/videos/37.mp4 -f image2 -v error /tmp/37_mp4/%06d.png\"\n",
            "Images saved to \"/tmp/37_mp4\"\n",
            "Video 37, number of frames: 4828\n",
            "Tracking pose...\n"
          ]
        },
        {
          "output_type": "stream",
          "name": "stderr",
          "text": [
            "100%|██████████| 4828/4828 [01:43<00:00, 46.53it/s]\n"
          ]
        },
        {
          "output_type": "stream",
          "name": "stdout",
          "text": [
            "Done. (103.771s)\n",
            "Running VIBE...\n"
          ]
        },
        {
          "output_type": "stream",
          "name": "stderr",
          "text": [
            "100%|██████████| 37/37 [00:17<00:00,  2.09it/s]\n"
          ]
        },
        {
          "output_type": "stream",
          "name": "stdout",
          "text": [
            "Transform pose to SMPL24 ...\n",
            "Post process pose and smooth...\n",
            "Total time: 124.78s for 4828 frames.\n",
            "Saving output results to \"/content/drive/MyDrive/THESIS/data/SWDance/vibe_output/37.pkl\".\n",
            "Processing video 38...\n",
            "video resolution= 720p\n",
            "YouTube Video has been downloaded to /content/drive/MyDrive/THESIS/data/SWDance/videos/38.mp4...\n",
            "Running \"ffmpeg -i /content/drive/MyDrive/THESIS/data/SWDance/videos/38.mp4 -f image2 -v error /tmp/38_mp4/%06d.png\"\n",
            "Images saved to \"/tmp/38_mp4\"\n",
            "Video 38, number of frames: 5986\n",
            "Tracking pose...\n"
          ]
        },
        {
          "output_type": "stream",
          "name": "stderr",
          "text": [
            "100%|██████████| 5986/5986 [02:14<00:00, 44.65it/s]\n"
          ]
        },
        {
          "output_type": "stream",
          "name": "stdout",
          "text": [
            "Done. (134.080s)\n",
            "Running VIBE...\n"
          ]
        },
        {
          "output_type": "stream",
          "name": "stderr",
          "text": [
            "100%|██████████| 43/43 [00:21<00:00,  2.02it/s]\n"
          ]
        },
        {
          "output_type": "stream",
          "name": "stdout",
          "text": [
            "Transform pose to SMPL24 ...\n",
            "Post process pose and smooth...\n",
            "Total time: 159.37s for 5986 frames.\n",
            "Saving output results to \"/content/drive/MyDrive/THESIS/data/SWDance/vibe_output/38.pkl\".\n",
            "Processing video 39...\n",
            "video resolution= 720p\n",
            "YouTube Video has been downloaded to /content/drive/MyDrive/THESIS/data/SWDance/videos/39.mp4...\n",
            "Running \"ffmpeg -i /content/drive/MyDrive/THESIS/data/SWDance/videos/39.mp4 -f image2 -v error /tmp/39_mp4/%06d.png\"\n",
            "Images saved to \"/tmp/39_mp4\"\n",
            "Video 39, number of frames: 3638\n",
            "Tracking pose...\n"
          ]
        },
        {
          "output_type": "stream",
          "name": "stderr",
          "text": [
            "100%|██████████| 3638/3638 [01:15<00:00, 48.30it/s]\n"
          ]
        },
        {
          "output_type": "stream",
          "name": "stdout",
          "text": [
            "Done. (75.323s)\n",
            "Running VIBE...\n"
          ]
        },
        {
          "output_type": "stream",
          "name": "stderr",
          "text": [
            "100%|██████████| 28/28 [00:13<00:00,  2.15it/s]\n"
          ]
        },
        {
          "output_type": "stream",
          "name": "stdout",
          "text": [
            "Transform pose to SMPL24 ...\n",
            "Post process pose and smooth...\n",
            "Total time: 90.98s for 3638 frames.\n",
            "Saving output results to \"/content/drive/MyDrive/THESIS/data/SWDance/vibe_output/39.pkl\".\n",
            "Processing video 40...\n",
            "video resolution= 720p\n",
            "YouTube Video has been downloaded to /content/drive/MyDrive/THESIS/data/SWDance/videos/40.mp4...\n",
            "Running \"ffmpeg -i /content/drive/MyDrive/THESIS/data/SWDance/videos/40.mp4 -f image2 -v error /tmp/40_mp4/%06d.png\"\n",
            "Images saved to \"/tmp/40_mp4\"\n",
            "Video 40, number of frames: 5409\n",
            "Tracking pose...\n"
          ]
        },
        {
          "output_type": "stream",
          "name": "stderr",
          "text": [
            "100%|██████████| 5409/5409 [02:28<00:00, 36.35it/s]\n"
          ]
        },
        {
          "output_type": "stream",
          "name": "stdout",
          "text": [
            "Done. (148.827s)\n",
            "Running VIBE...\n"
          ]
        },
        {
          "output_type": "stream",
          "name": "stderr",
          "text": [
            "100%|██████████| 42/42 [00:26<00:00,  1.59it/s]\n"
          ]
        },
        {
          "output_type": "stream",
          "name": "stdout",
          "text": [
            "Transform pose to SMPL24 ...\n",
            "Post process pose and smooth...\n",
            "Total time: 179.21s for 5409 frames.\n",
            "Saving output results to \"/content/drive/MyDrive/THESIS/data/SWDance/vibe_output/40.pkl\".\n",
            "Processing video 41...\n",
            "video resolution= 720p\n",
            "YouTube Video has been downloaded to /content/drive/MyDrive/THESIS/data/SWDance/videos/41.mp4...\n",
            "Running \"ffmpeg -i /content/drive/MyDrive/THESIS/data/SWDance/videos/41.mp4 -f image2 -v error /tmp/41_mp4/%06d.png\"\n",
            "Images saved to \"/tmp/41_mp4\"\n",
            "Video 41, number of frames: 4842\n",
            "Tracking pose...\n"
          ]
        },
        {
          "output_type": "stream",
          "name": "stderr",
          "text": [
            "100%|██████████| 4842/4842 [01:26<00:00, 56.23it/s]\n"
          ]
        },
        {
          "output_type": "stream",
          "name": "stdout",
          "text": [
            "Done. (86.119s)\n",
            "Running VIBE...\n"
          ]
        },
        {
          "output_type": "stream",
          "name": "stderr",
          "text": [
            "100%|██████████| 26/26 [00:11<00:00,  2.21it/s]\n"
          ]
        },
        {
          "output_type": "stream",
          "name": "stdout",
          "text": [
            "Transform pose to SMPL24 ...\n",
            "Post process pose and smooth...\n",
            "Total time: 99.96s for 4842 frames.\n",
            "Saving output results to \"/content/drive/MyDrive/THESIS/data/SWDance/vibe_output/41.pkl\".\n",
            "Processing video 42...\n",
            "video resolution= 720p\n",
            "YouTube Video has been downloaded to /content/drive/MyDrive/THESIS/data/SWDance/videos/42.mp4...\n",
            "Running \"ffmpeg -i /content/drive/MyDrive/THESIS/data/SWDance/videos/42.mp4 -f image2 -v error /tmp/42_mp4/%06d.png\"\n",
            "Images saved to \"/tmp/42_mp4\"\n",
            "Video 42, number of frames: 1597\n",
            "Tracking pose...\n"
          ]
        },
        {
          "output_type": "stream",
          "name": "stderr",
          "text": [
            "100%|██████████| 1597/1597 [00:58<00:00, 27.29it/s]\n"
          ]
        },
        {
          "output_type": "stream",
          "name": "stdout",
          "text": [
            "Done. (58.525s)\n",
            "Running VIBE...\n"
          ]
        },
        {
          "output_type": "stream",
          "name": "stderr",
          "text": [
            "100%|██████████| 12/12 [00:10<00:00,  1.13it/s]\n"
          ]
        },
        {
          "output_type": "stream",
          "name": "stdout",
          "text": [
            "Transform pose to SMPL24 ...\n",
            "Post process pose and smooth...\n",
            "Total time: 70.22s for 1597 frames.\n",
            "Saving output results to \"/content/drive/MyDrive/THESIS/data/SWDance/vibe_output/42.pkl\".\n",
            "Processing video 43...\n",
            "video resolution= 720p\n",
            "YouTube Video has been downloaded to /content/drive/MyDrive/THESIS/data/SWDance/videos/43.mp4...\n",
            "Running \"ffmpeg -i /content/drive/MyDrive/THESIS/data/SWDance/videos/43.mp4 -f image2 -v error /tmp/43_mp4/%06d.png\"\n",
            "Images saved to \"/tmp/43_mp4\"\n",
            "Video 43, number of frames: 4923\n",
            "Tracking pose...\n"
          ]
        },
        {
          "output_type": "stream",
          "name": "stderr",
          "text": [
            "100%|██████████| 4923/4923 [02:38<00:00, 31.06it/s]\n"
          ]
        },
        {
          "output_type": "stream",
          "name": "stdout",
          "text": [
            "Done. (158.503s)\n",
            "Running VIBE...\n"
          ]
        },
        {
          "output_type": "stream",
          "name": "stderr",
          "text": [
            "100%|██████████| 36/36 [00:24<00:00,  1.45it/s]\n"
          ]
        },
        {
          "output_type": "stream",
          "name": "stdout",
          "text": [
            "Transform pose to SMPL24 ...\n",
            "Post process pose and smooth...\n",
            "Total time: 186.80s for 4923 frames.\n",
            "Saving output results to \"/content/drive/MyDrive/THESIS/data/SWDance/vibe_output/43.pkl\".\n",
            "Processing video 44...\n",
            "Could not download video 44, G9GeUYTXpJ8 is age restricted, and can't be accessed without logging in.\n",
            "Processing video 45...\n",
            "Could not download video 45, _dPl0g_vJbk is age restricted, and can't be accessed without logging in.\n",
            "Processing video 46...\n",
            "video resolution= 720p\n",
            "YouTube Video has been downloaded to /content/drive/MyDrive/THESIS/data/SWDance/videos/46.mp4...\n",
            "Running \"ffmpeg -i /content/drive/MyDrive/THESIS/data/SWDance/videos/46.mp4 -f image2 -v error /tmp/46_mp4/%06d.png\"\n",
            "Images saved to \"/tmp/46_mp4\"\n",
            "Video 46, number of frames: 5382\n",
            "Tracking pose...\n"
          ]
        },
        {
          "output_type": "stream",
          "name": "stderr",
          "text": [
            "100%|██████████| 5382/5382 [01:55<00:00, 46.66it/s]\n"
          ]
        },
        {
          "output_type": "stream",
          "name": "stdout",
          "text": [
            "Done. (115.361s)\n",
            "Running VIBE...\n"
          ]
        },
        {
          "output_type": "stream",
          "name": "stderr",
          "text": [
            "100%|██████████| 22/22 [00:11<00:00,  1.85it/s]\n"
          ]
        },
        {
          "output_type": "stream",
          "name": "stdout",
          "text": [
            "Transform pose to SMPL24 ...\n",
            "Post process pose and smooth...\n",
            "Total time: 129.11s for 5382 frames.\n",
            "Saving output results to \"/content/drive/MyDrive/THESIS/data/SWDance/vibe_output/46.pkl\".\n",
            "Processing video 47...\n",
            "video resolution= 720p\n",
            "YouTube Video has been downloaded to /content/drive/MyDrive/THESIS/data/SWDance/videos/47.mp4...\n",
            "Running \"ffmpeg -i /content/drive/MyDrive/THESIS/data/SWDance/videos/47.mp4 -f image2 -v error /tmp/47_mp4/%06d.png\"\n",
            "Images saved to \"/tmp/47_mp4\"\n",
            "Video 47, number of frames: 4340\n",
            "Tracking pose...\n"
          ]
        },
        {
          "output_type": "stream",
          "name": "stderr",
          "text": [
            "100%|██████████| 4340/4340 [01:26<00:00, 50.46it/s]\n"
          ]
        },
        {
          "output_type": "stream",
          "name": "stdout",
          "text": [
            "Done. (86.017s)\n",
            "Running VIBE...\n"
          ]
        },
        {
          "output_type": "stream",
          "name": "stderr",
          "text": [
            "100%|██████████| 31/31 [00:14<00:00,  2.08it/s]\n"
          ]
        },
        {
          "output_type": "stream",
          "name": "stdout",
          "text": [
            "Transform pose to SMPL24 ...\n",
            "Post process pose and smooth...\n",
            "Total time: 104.27s for 4340 frames.\n",
            "Saving output results to \"/content/drive/MyDrive/THESIS/data/SWDance/vibe_output/47.pkl\".\n",
            "Processing video 48...\n",
            "video resolution= 720p\n",
            "YouTube Video has been downloaded to /content/drive/MyDrive/THESIS/data/SWDance/videos/48.mp4...\n",
            "Running \"ffmpeg -i /content/drive/MyDrive/THESIS/data/SWDance/videos/48.mp4 -f image2 -v error /tmp/48_mp4/%06d.png\"\n",
            "Images saved to \"/tmp/48_mp4\"\n",
            "Video 48, number of frames: 5817\n",
            "Tracking pose...\n"
          ]
        },
        {
          "output_type": "stream",
          "name": "stderr",
          "text": [
            "100%|██████████| 5817/5817 [02:32<00:00, 38.09it/s]\n"
          ]
        },
        {
          "output_type": "stream",
          "name": "stdout",
          "text": [
            "Done. (152.730s)\n",
            "Running VIBE...\n"
          ]
        },
        {
          "output_type": "stream",
          "name": "stderr",
          "text": [
            "100%|██████████| 42/42 [00:24<00:00,  1.72it/s]\n"
          ]
        },
        {
          "output_type": "stream",
          "name": "stdout",
          "text": [
            "Transform pose to SMPL24 ...\n",
            "Post process pose and smooth...\n",
            "Total time: 180.96s for 5817 frames.\n",
            "Saving output results to \"/content/drive/MyDrive/THESIS/data/SWDance/vibe_output/48.pkl\".\n",
            "Processing video 49...\n",
            "video resolution= 720p\n",
            "YouTube Video has been downloaded to /content/drive/MyDrive/THESIS/data/SWDance/videos/49.mp4...\n",
            "Running \"ffmpeg -i /content/drive/MyDrive/THESIS/data/SWDance/videos/49.mp4 -f image2 -v error /tmp/49_mp4/%06d.png\"\n",
            "Images saved to \"/tmp/49_mp4\"\n",
            "Video 49, number of frames: 3352\n",
            "Tracking pose...\n"
          ]
        },
        {
          "output_type": "stream",
          "name": "stderr",
          "text": [
            "100%|██████████| 3352/3352 [01:21<00:00, 41.03it/s]\n"
          ]
        },
        {
          "output_type": "stream",
          "name": "stdout",
          "text": [
            "Done. (81.691s)\n",
            "Running VIBE...\n"
          ]
        },
        {
          "output_type": "stream",
          "name": "stderr",
          "text": [
            "100%|██████████| 18/18 [00:11<00:00,  1.63it/s]\n"
          ]
        },
        {
          "output_type": "stream",
          "name": "stdout",
          "text": [
            "Transform pose to SMPL24 ...\n",
            "Post process pose and smooth...\n",
            "Total time: 94.22s for 3352 frames.\n",
            "Saving output results to \"/content/drive/MyDrive/THESIS/data/SWDance/vibe_output/49.pkl\".\n",
            "Processing video 50...\n",
            "video resolution= 720p\n",
            "YouTube Video has been downloaded to /content/drive/MyDrive/THESIS/data/SWDance/videos/50.mp4...\n",
            "Running \"ffmpeg -i /content/drive/MyDrive/THESIS/data/SWDance/videos/50.mp4 -f image2 -v error /tmp/50_mp4/%06d.png\"\n",
            "Images saved to \"/tmp/50_mp4\"\n",
            "Video 50, number of frames: 4659\n",
            "Tracking pose...\n"
          ]
        },
        {
          "output_type": "stream",
          "name": "stderr",
          "text": [
            "100%|██████████| 4659/4659 [01:40<00:00, 46.58it/s]\n"
          ]
        },
        {
          "output_type": "stream",
          "name": "stdout",
          "text": [
            "Done. (100.026s)\n",
            "Running VIBE...\n"
          ]
        },
        {
          "output_type": "stream",
          "name": "stderr",
          "text": [
            "100%|██████████| 36/36 [00:17<00:00,  2.05it/s]\n"
          ]
        },
        {
          "output_type": "stream",
          "name": "stdout",
          "text": [
            "Transform pose to SMPL24 ...\n",
            "Post process pose and smooth...\n",
            "Total time: 120.80s for 4659 frames.\n",
            "Saving output results to \"/content/drive/MyDrive/THESIS/data/SWDance/vibe_output/50.pkl\".\n",
            "Processing video 51...\n",
            "video resolution= 720p\n",
            "YouTube Video has been downloaded to /content/drive/MyDrive/THESIS/data/SWDance/videos/51.mp4...\n",
            "Running \"ffmpeg -i /content/drive/MyDrive/THESIS/data/SWDance/videos/51.mp4 -f image2 -v error /tmp/51_mp4/%06d.png\"\n",
            "Images saved to \"/tmp/51_mp4\"\n",
            "Video 51, number of frames: 3585\n",
            "Tracking pose...\n"
          ]
        },
        {
          "output_type": "stream",
          "name": "stderr",
          "text": [
            "100%|██████████| 3585/3585 [01:19<00:00, 45.18it/s]\n"
          ]
        },
        {
          "output_type": "stream",
          "name": "stdout",
          "text": [
            "Done. (79.357s)\n",
            "Running VIBE...\n"
          ]
        },
        {
          "output_type": "stream",
          "name": "stderr",
          "text": [
            "100%|██████████| 27/27 [00:13<00:00,  1.97it/s]\n"
          ]
        },
        {
          "output_type": "stream",
          "name": "stdout",
          "text": [
            "Transform pose to SMPL24 ...\n",
            "Post process pose and smooth...\n",
            "Total time: 95.35s for 3585 frames.\n",
            "Saving output results to \"/content/drive/MyDrive/THESIS/data/SWDance/vibe_output/51.pkl\".\n",
            "Processing video 52...\n",
            "video resolution= 720p\n",
            "YouTube Video has been downloaded to /content/drive/MyDrive/THESIS/data/SWDance/videos/52.mp4...\n",
            "Running \"ffmpeg -i /content/drive/MyDrive/THESIS/data/SWDance/videos/52.mp4 -f image2 -v error /tmp/52_mp4/%06d.png\"\n",
            "Images saved to \"/tmp/52_mp4\"\n",
            "Video 52, number of frames: 5167\n",
            "Tracking pose...\n"
          ]
        },
        {
          "output_type": "stream",
          "name": "stderr",
          "text": [
            "100%|██████████| 5167/5167 [02:40<00:00, 32.15it/s]\n"
          ]
        },
        {
          "output_type": "stream",
          "name": "stdout",
          "text": [
            "Done. (160.728s)\n",
            "Running VIBE...\n"
          ]
        },
        {
          "output_type": "stream",
          "name": "stderr",
          "text": [
            "100%|██████████| 36/36 [00:24<00:00,  1.47it/s]\n"
          ]
        },
        {
          "output_type": "stream",
          "name": "stdout",
          "text": [
            "Transform pose to SMPL24 ...\n",
            "Post process pose and smooth...\n",
            "Total time: 188.73s for 5167 frames.\n",
            "Saving output results to \"/content/drive/MyDrive/THESIS/data/SWDance/vibe_output/52.pkl\".\n",
            "Processing video 53...\n",
            "video resolution= 720p\n",
            "YouTube Video has been downloaded to /content/drive/MyDrive/THESIS/data/SWDance/videos/53.mp4...\n",
            "Running \"ffmpeg -i /content/drive/MyDrive/THESIS/data/SWDance/videos/53.mp4 -f image2 -v error /tmp/53_mp4/%06d.png\"\n",
            "Images saved to \"/tmp/53_mp4\"\n",
            "Video 53, number of frames: 1760\n",
            "Tracking pose...\n"
          ]
        },
        {
          "output_type": "stream",
          "name": "stderr",
          "text": [
            "100%|██████████| 1760/1760 [00:55<00:00, 31.45it/s]\n"
          ]
        },
        {
          "output_type": "stream",
          "name": "stdout",
          "text": [
            "Done. (55.961s)\n",
            "Running VIBE...\n"
          ]
        },
        {
          "output_type": "stream",
          "name": "stderr",
          "text": [
            "100%|██████████| 8/8 [00:07<00:00,  1.05it/s]\n"
          ]
        },
        {
          "output_type": "stream",
          "name": "stdout",
          "text": [
            "Transform pose to SMPL24 ...\n",
            "Post process pose and smooth...\n",
            "Total time: 64.34s for 1760 frames.\n",
            "Saving output results to \"/content/drive/MyDrive/THESIS/data/SWDance/vibe_output/53.pkl\".\n",
            "Processing video 54...\n",
            "video resolution= 720p\n",
            "YouTube Video has been downloaded to /content/drive/MyDrive/THESIS/data/SWDance/videos/54.mp4...\n",
            "Running \"ffmpeg -i /content/drive/MyDrive/THESIS/data/SWDance/videos/54.mp4 -f image2 -v error /tmp/54_mp4/%06d.png\"\n",
            "Images saved to \"/tmp/54_mp4\"\n",
            "Video 54, number of frames: 5040\n",
            "Tracking pose...\n"
          ]
        },
        {
          "output_type": "stream",
          "name": "stderr",
          "text": [
            "100%|██████████| 5040/5040 [02:14<00:00, 37.43it/s]\n"
          ]
        },
        {
          "output_type": "stream",
          "name": "stdout",
          "text": [
            "Done. (134.642s)\n",
            "Running VIBE...\n"
          ]
        },
        {
          "output_type": "stream",
          "name": "stderr",
          "text": [
            "100%|██████████| 19/19 [00:12<00:00,  1.47it/s]\n"
          ]
        },
        {
          "output_type": "stream",
          "name": "stdout",
          "text": [
            "Transform pose to SMPL24 ...\n",
            "Post process pose and smooth...\n",
            "Total time: 149.19s for 5040 frames.\n",
            "Saving output results to \"/content/drive/MyDrive/THESIS/data/SWDance/vibe_output/54.pkl\".\n",
            "Processing video 55...\n",
            "video resolution= 720p\n",
            "YouTube Video has been downloaded to /content/drive/MyDrive/THESIS/data/SWDance/videos/55.mp4...\n",
            "Running \"ffmpeg -i /content/drive/MyDrive/THESIS/data/SWDance/videos/55.mp4 -f image2 -v error /tmp/55_mp4/%06d.png\"\n",
            "Images saved to \"/tmp/55_mp4\"\n",
            "Video 55, number of frames: 3773\n",
            "Tracking pose...\n"
          ]
        },
        {
          "output_type": "stream",
          "name": "stderr",
          "text": [
            "100%|██████████| 3773/3773 [01:40<00:00, 37.36it/s]\n"
          ]
        },
        {
          "output_type": "stream",
          "name": "stdout",
          "text": [
            "Done. (101.002s)\n",
            "Running VIBE...\n"
          ]
        },
        {
          "output_type": "stream",
          "name": "stderr",
          "text": [
            "100%|██████████| 24/24 [00:16<00:00,  1.46it/s]\n"
          ]
        },
        {
          "output_type": "stream",
          "name": "stdout",
          "text": [
            "Transform pose to SMPL24 ...\n",
            "Post process pose and smooth...\n",
            "Total time: 119.49s for 3773 frames.\n",
            "Saving output results to \"/content/drive/MyDrive/THESIS/data/SWDance/vibe_output/55.pkl\".\n",
            "Processing video 56...\n",
            "video resolution= 720p\n",
            "YouTube Video has been downloaded to /content/drive/MyDrive/THESIS/data/SWDance/videos/56.mp4...\n",
            "Running \"ffmpeg -i /content/drive/MyDrive/THESIS/data/SWDance/videos/56.mp4 -f image2 -v error /tmp/56_mp4/%06d.png\"\n",
            "Images saved to \"/tmp/56_mp4\"\n",
            "Video 56, number of frames: 9397\n",
            "Tracking pose...\n"
          ]
        },
        {
          "output_type": "stream",
          "name": "stderr",
          "text": [
            "100%|██████████| 9397/9397 [03:24<00:00, 46.00it/s]\n"
          ]
        },
        {
          "output_type": "stream",
          "name": "stdout",
          "text": [
            "Done. (204.271s)\n",
            "Running VIBE...\n"
          ]
        },
        {
          "output_type": "stream",
          "name": "stderr",
          "text": [
            "100%|██████████| 71/71 [00:34<00:00,  2.08it/s]\n"
          ]
        },
        {
          "output_type": "stream",
          "name": "stdout",
          "text": [
            "Transform pose to SMPL24 ...\n",
            "Post process pose and smooth...\n",
            "Total time: 245.92s for 9397 frames.\n",
            "Saving output results to \"/content/drive/MyDrive/THESIS/data/SWDance/vibe_output/56.pkl\".\n",
            "Processing video 57...\n",
            "Could not download video 57, oN7rrdSNUuk is age restricted, and can't be accessed without logging in.\n",
            "Processing video 58...\n",
            "video resolution= 720p\n",
            "YouTube Video has been downloaded to /content/drive/MyDrive/THESIS/data/SWDance/videos/58.mp4...\n",
            "Running \"ffmpeg -i /content/drive/MyDrive/THESIS/data/SWDance/videos/58.mp4 -f image2 -v error /tmp/58_mp4/%06d.png\"\n",
            "Images saved to \"/tmp/58_mp4\"\n",
            "Video 58, number of frames: 9356\n",
            "Tracking pose...\n"
          ]
        },
        {
          "output_type": "stream",
          "name": "stderr",
          "text": [
            "100%|██████████| 9356/9356 [02:54<00:00, 53.65it/s]\n"
          ]
        },
        {
          "output_type": "stream",
          "name": "stdout",
          "text": [
            "Done. (174.395s)\n",
            "Running VIBE...\n"
          ]
        },
        {
          "output_type": "stream",
          "name": "stderr",
          "text": [
            "100%|██████████| 68/68 [00:30<00:00,  2.24it/s]\n"
          ]
        },
        {
          "output_type": "stream",
          "name": "stdout",
          "text": [
            "Transform pose to SMPL24 ...\n",
            "Post process pose and smooth...\n",
            "Total time: 211.29s for 9356 frames.\n",
            "Saving output results to \"/content/drive/MyDrive/THESIS/data/SWDance/vibe_output/58.pkl\".\n",
            "Processing video 59...\n",
            "Could not download video 59, g5LFWTteY1E is age restricted, and can't be accessed without logging in.\n",
            "Processing video 60...\n",
            "video resolution= 720p\n",
            "YouTube Video has been downloaded to /content/drive/MyDrive/THESIS/data/SWDance/videos/60.mp4...\n",
            "Running \"ffmpeg -i /content/drive/MyDrive/THESIS/data/SWDance/videos/60.mp4 -f image2 -v error /tmp/60_mp4/%06d.png\"\n",
            "Images saved to \"/tmp/60_mp4\"\n",
            "Video 60, number of frames: 4600\n",
            "Tracking pose...\n"
          ]
        },
        {
          "output_type": "stream",
          "name": "stderr",
          "text": [
            "100%|██████████| 4600/4600 [02:24<00:00, 31.87it/s]\n"
          ]
        },
        {
          "output_type": "stream",
          "name": "stdout",
          "text": [
            "Done. (144.335s)\n",
            "Running VIBE...\n"
          ]
        },
        {
          "output_type": "stream",
          "name": "stderr",
          "text": [
            "100%|██████████| 29/29 [00:21<00:00,  1.33it/s]\n"
          ]
        },
        {
          "output_type": "stream",
          "name": "stdout",
          "text": [
            "Transform pose to SMPL24 ...\n",
            "Post process pose and smooth...\n",
            "Total time: 168.88s for 4600 frames.\n",
            "Saving output results to \"/content/drive/MyDrive/THESIS/data/SWDance/vibe_output/60.pkl\".\n",
            "Processing video 61...\n",
            "video resolution= 720p\n",
            "YouTube Video has been downloaded to /content/drive/MyDrive/THESIS/data/SWDance/videos/61.mp4...\n",
            "Running \"ffmpeg -i /content/drive/MyDrive/THESIS/data/SWDance/videos/61.mp4 -f image2 -v error /tmp/61_mp4/%06d.png\"\n",
            "Images saved to \"/tmp/61_mp4\"\n",
            "Video 61, number of frames: 2886\n",
            "Tracking pose...\n"
          ]
        },
        {
          "output_type": "stream",
          "name": "stderr",
          "text": [
            "100%|██████████| 2886/2886 [01:14<00:00, 38.95it/s]\n"
          ]
        },
        {
          "output_type": "stream",
          "name": "stdout",
          "text": [
            "Done. (74.104s)\n",
            "Running VIBE...\n"
          ]
        },
        {
          "output_type": "stream",
          "name": "stderr",
          "text": [
            "100%|██████████| 20/20 [00:12<00:00,  1.66it/s]\n"
          ]
        },
        {
          "output_type": "stream",
          "name": "stdout",
          "text": [
            "Transform pose to SMPL24 ...\n",
            "Post process pose and smooth...\n",
            "Total time: 88.38s for 2886 frames.\n",
            "Saving output results to \"/content/drive/MyDrive/THESIS/data/SWDance/vibe_output/61.pkl\".\n",
            "Processing video 62...\n",
            "video resolution= 720p\n",
            "YouTube Video has been downloaded to /content/drive/MyDrive/THESIS/data/SWDance/videos/62.mp4...\n",
            "Running \"ffmpeg -i /content/drive/MyDrive/THESIS/data/SWDance/videos/62.mp4 -f image2 -v error /tmp/62_mp4/%06d.png\"\n",
            "Images saved to \"/tmp/62_mp4\"\n",
            "Video 62, number of frames: 7390\n",
            "Tracking pose...\n"
          ]
        },
        {
          "output_type": "stream",
          "name": "stderr",
          "text": [
            "100%|██████████| 7390/7390 [03:16<00:00, 37.70it/s]\n"
          ]
        },
        {
          "output_type": "stream",
          "name": "stdout",
          "text": [
            "Done. (196.044s)\n",
            "Running VIBE...\n"
          ]
        },
        {
          "output_type": "stream",
          "name": "stderr",
          "text": [
            "100%|██████████| 55/55 [00:32<00:00,  1.71it/s]\n"
          ]
        },
        {
          "output_type": "stream",
          "name": "stdout",
          "text": [
            "Transform pose to SMPL24 ...\n",
            "Post process pose and smooth...\n",
            "Total time: 233.93s for 7390 frames.\n",
            "Saving output results to \"/content/drive/MyDrive/THESIS/data/SWDance/vibe_output/62.pkl\".\n",
            "Processing video 63...\n",
            "video resolution= 720p\n",
            "YouTube Video has been downloaded to /content/drive/MyDrive/THESIS/data/SWDance/videos/63.mp4...\n",
            "Running \"ffmpeg -i /content/drive/MyDrive/THESIS/data/SWDance/videos/63.mp4 -f image2 -v error /tmp/63_mp4/%06d.png\"\n",
            "Images saved to \"/tmp/63_mp4\"\n",
            "Video 63, number of frames: 5448\n",
            "Tracking pose...\n"
          ]
        },
        {
          "output_type": "stream",
          "name": "stderr",
          "text": [
            "100%|██████████| 5448/5448 [01:54<00:00, 47.64it/s]\n"
          ]
        },
        {
          "output_type": "stream",
          "name": "stdout",
          "text": [
            "Done. (114.354s)\n",
            "Running VIBE...\n"
          ]
        },
        {
          "output_type": "stream",
          "name": "stderr",
          "text": [
            "100%|██████████| 38/38 [00:18<00:00,  2.05it/s]\n"
          ]
        },
        {
          "output_type": "stream",
          "name": "stdout",
          "text": [
            "Transform pose to SMPL24 ...\n",
            "Post process pose and smooth...\n",
            "Total time: 136.24s for 5448 frames.\n",
            "Saving output results to \"/content/drive/MyDrive/THESIS/data/SWDance/vibe_output/63.pkl\".\n",
            "Processing video 64...\n",
            "video resolution= 720p\n",
            "YouTube Video has been downloaded to /content/drive/MyDrive/THESIS/data/SWDance/videos/64.mp4...\n",
            "Running \"ffmpeg -i /content/drive/MyDrive/THESIS/data/SWDance/videos/64.mp4 -f image2 -v error /tmp/64_mp4/%06d.png\"\n",
            "Images saved to \"/tmp/64_mp4\"\n",
            "Video 64, number of frames: 5677\n",
            "Tracking pose...\n"
          ]
        },
        {
          "output_type": "stream",
          "name": "stderr",
          "text": [
            "100%|██████████| 5677/5677 [02:12<00:00, 42.97it/s]\n"
          ]
        },
        {
          "output_type": "stream",
          "name": "stdout",
          "text": [
            "Done. (132.133s)\n",
            "Running VIBE...\n"
          ]
        },
        {
          "output_type": "stream",
          "name": "stderr",
          "text": [
            "100%|██████████| 42/42 [00:21<00:00,  1.91it/s]\n"
          ]
        },
        {
          "output_type": "stream",
          "name": "stdout",
          "text": [
            "Transform pose to SMPL24 ...\n",
            "Post process pose and smooth...\n",
            "Total time: 158.76s for 5677 frames.\n",
            "Saving output results to \"/content/drive/MyDrive/THESIS/data/SWDance/vibe_output/64.pkl\".\n",
            "Processing video 65...\n",
            "Could not download video 65, PzOPX6Cr-OQ is age restricted, and can't be accessed without logging in.\n",
            "Processing video 66...\n",
            "Could not download video 66, nFKH7ZzP5iA is age restricted, and can't be accessed without logging in.\n",
            "Processing video 67...\n",
            "Could not download video 67, qATlm8PWN34 is age restricted, and can't be accessed without logging in.\n",
            "Processing video 68...\n",
            "video resolution= 720p\n",
            "YouTube Video has been downloaded to /content/drive/MyDrive/THESIS/data/SWDance/videos/68.mp4...\n",
            "Running \"ffmpeg -i /content/drive/MyDrive/THESIS/data/SWDance/videos/68.mp4 -f image2 -v error /tmp/68_mp4/%06d.png\"\n",
            "Images saved to \"/tmp/68_mp4\"\n",
            "Video 68, number of frames: 4407\n",
            "Tracking pose...\n"
          ]
        },
        {
          "output_type": "stream",
          "name": "stderr",
          "text": [
            "100%|██████████| 4407/4407 [02:02<00:00, 35.83it/s]\n"
          ]
        },
        {
          "output_type": "stream",
          "name": "stdout",
          "text": [
            "Done. (122.986s)\n",
            "Running VIBE...\n"
          ]
        },
        {
          "output_type": "stream",
          "name": "stderr",
          "text": [
            "100%|██████████| 32/32 [00:20<00:00,  1.55it/s]\n"
          ]
        },
        {
          "output_type": "stream",
          "name": "stdout",
          "text": [
            "Transform pose to SMPL24 ...\n",
            "Post process pose and smooth...\n",
            "Total time: 146.87s for 4407 frames.\n",
            "Saving output results to \"/content/drive/MyDrive/THESIS/data/SWDance/vibe_output/68.pkl\".\n",
            "Processing video 69...\n",
            "Could not download video 69, TP3bzZ2guvg is age restricted, and can't be accessed without logging in.\n",
            "Processing video 70...\n",
            "video resolution= 360p\n",
            "YouTube Video has been downloaded to /content/drive/MyDrive/THESIS/data/SWDance/videos/70.mp4...\n",
            "Running \"ffmpeg -i /content/drive/MyDrive/THESIS/data/SWDance/videos/70.mp4 -f image2 -v error /tmp/70_mp4/%06d.png\"\n",
            "Images saved to \"/tmp/70_mp4\"\n",
            "Video 70, number of frames: 6207\n",
            "Tracking pose...\n"
          ]
        },
        {
          "output_type": "stream",
          "name": "stderr",
          "text": [
            "100%|██████████| 6207/6207 [01:25<00:00, 72.68it/s]\n"
          ]
        },
        {
          "output_type": "stream",
          "name": "stdout",
          "text": [
            "Done. (85.408s)\n",
            "Running VIBE...\n"
          ]
        },
        {
          "output_type": "stream",
          "name": "stderr",
          "text": [
            "100%|██████████| 43/43 [00:17<00:00,  2.39it/s]\n"
          ]
        },
        {
          "output_type": "stream",
          "name": "stdout",
          "text": [
            "Transform pose to SMPL24 ...\n",
            "Post process pose and smooth...\n",
            "Total time: 107.81s for 6207 frames.\n",
            "Saving output results to \"/content/drive/MyDrive/THESIS/data/SWDance/vibe_output/70.pkl\".\n",
            "Processing video 71...\n",
            "video resolution= 360p\n",
            "YouTube Video has been downloaded to /content/drive/MyDrive/THESIS/data/SWDance/videos/71.mp4...\n",
            "Running \"ffmpeg -i /content/drive/MyDrive/THESIS/data/SWDance/videos/71.mp4 -f image2 -v error /tmp/71_mp4/%06d.png\"\n",
            "Images saved to \"/tmp/71_mp4\"\n",
            "Video 71, number of frames: 5681\n",
            "Tracking pose...\n"
          ]
        },
        {
          "output_type": "stream",
          "name": "stderr",
          "text": [
            "100%|██████████| 5681/5681 [01:25<00:00, 66.65it/s]\n"
          ]
        },
        {
          "output_type": "stream",
          "name": "stdout",
          "text": [
            "Done. (85.236s)\n",
            "Running VIBE...\n"
          ]
        },
        {
          "output_type": "stream",
          "name": "stderr",
          "text": [
            "100%|██████████| 41/41 [00:17<00:00,  2.34it/s]\n"
          ]
        },
        {
          "output_type": "stream",
          "name": "stdout",
          "text": [
            "Transform pose to SMPL24 ...\n",
            "Post process pose and smooth...\n",
            "Total time: 106.81s for 5681 frames.\n",
            "Saving output results to \"/content/drive/MyDrive/THESIS/data/SWDance/vibe_output/71.pkl\".\n"
          ]
        }
      ]
    },
    {
      "cell_type": "code",
      "source": [
        "for i in range(71):\n",
        "  try:\n",
        "    shutil.rmtree(f'/tmp/{i}_mp4')\n",
        "  except:\n",
        "    continue\n"
      ],
      "metadata": {
        "id": "t1KjrG92-IAm"
      },
      "execution_count": 11,
      "outputs": []
    },
    {
      "cell_type": "code",
      "source": [
        "index_df = pd.read_csv(osp.join(data_dir, 'index.csv'))\n",
        "index_df.loc[2, ('processed')] = False\n",
        "index_df.to_csv(osp.join(data_dir, 'index.csv'), index=False)"
      ],
      "metadata": {
        "id": "6rd8SLBGRKyl"
      },
      "execution_count": null,
      "outputs": []
    },
    {
      "cell_type": "code",
      "source": [
        "videos_df = pd.read_csv('/content/drive/MyDrive/THESIS/data/SWDance/video_files.csv')\n",
        "videos_df.loc[2, ('processed')] = False  # do this for every video maybe??\n",
        "videos_df.to_csv(osp.join(data_dir,'video_files.csv'), index=False)\n",
        "videos_df"
      ],
      "metadata": {
        "colab": {
          "base_uri": "https://localhost:8080/",
          "height": 424
        },
        "id": "3iWoG1jeRnvs",
        "outputId": "19cace94-fc02-498b-aa00-41a0264efca3"
      },
      "execution_count": 4,
      "outputs": [
        {
          "output_type": "execute_result",
          "data": {
            "text/plain": [
              "                                     video_file  processed  fps\n",
              "0   https://www.youtube.com/watch?v=fSHjGPWmkb8       True   20\n",
              "1   https://www.youtube.com/watch?v=AxFyPYnl0cU       True   20\n",
              "2   https://www.youtube.com/watch?v=xwff7dvjNv0      False   20\n",
              "3   https://www.youtube.com/watch?v=bf8NCSH-PJ8      False   20\n",
              "4   https://www.youtube.com/watch?v=Z8Xmgd6V398      False   20\n",
              "..                                          ...        ...  ...\n",
              "67  https://www.youtube.com/watch?v=qATlm8PWN34      False   20\n",
              "68  https://www.youtube.com/watch?v=usp0v6ChJJM      False   20\n",
              "69  https://www.youtube.com/watch?v=TP3bzZ2guvg      False   20\n",
              "70  https://www.youtube.com/watch?v=Pj_EHYPJCb8      False   20\n",
              "71  https://www.youtube.com/watch?v=sVDtt55Xyb4      False   20\n",
              "\n",
              "[72 rows x 3 columns]"
            ],
            "text/html": [
              "\n",
              "  <div id=\"df-b87434b0-b262-4a4a-baf1-fd2dcce5414b\" class=\"colab-df-container\">\n",
              "    <div>\n",
              "<style scoped>\n",
              "    .dataframe tbody tr th:only-of-type {\n",
              "        vertical-align: middle;\n",
              "    }\n",
              "\n",
              "    .dataframe tbody tr th {\n",
              "        vertical-align: top;\n",
              "    }\n",
              "\n",
              "    .dataframe thead th {\n",
              "        text-align: right;\n",
              "    }\n",
              "</style>\n",
              "<table border=\"1\" class=\"dataframe\">\n",
              "  <thead>\n",
              "    <tr style=\"text-align: right;\">\n",
              "      <th></th>\n",
              "      <th>video_file</th>\n",
              "      <th>processed</th>\n",
              "      <th>fps</th>\n",
              "    </tr>\n",
              "  </thead>\n",
              "  <tbody>\n",
              "    <tr>\n",
              "      <th>0</th>\n",
              "      <td>https://www.youtube.com/watch?v=fSHjGPWmkb8</td>\n",
              "      <td>True</td>\n",
              "      <td>20</td>\n",
              "    </tr>\n",
              "    <tr>\n",
              "      <th>1</th>\n",
              "      <td>https://www.youtube.com/watch?v=AxFyPYnl0cU</td>\n",
              "      <td>True</td>\n",
              "      <td>20</td>\n",
              "    </tr>\n",
              "    <tr>\n",
              "      <th>2</th>\n",
              "      <td>https://www.youtube.com/watch?v=xwff7dvjNv0</td>\n",
              "      <td>False</td>\n",
              "      <td>20</td>\n",
              "    </tr>\n",
              "    <tr>\n",
              "      <th>3</th>\n",
              "      <td>https://www.youtube.com/watch?v=bf8NCSH-PJ8</td>\n",
              "      <td>False</td>\n",
              "      <td>20</td>\n",
              "    </tr>\n",
              "    <tr>\n",
              "      <th>4</th>\n",
              "      <td>https://www.youtube.com/watch?v=Z8Xmgd6V398</td>\n",
              "      <td>False</td>\n",
              "      <td>20</td>\n",
              "    </tr>\n",
              "    <tr>\n",
              "      <th>...</th>\n",
              "      <td>...</td>\n",
              "      <td>...</td>\n",
              "      <td>...</td>\n",
              "    </tr>\n",
              "    <tr>\n",
              "      <th>67</th>\n",
              "      <td>https://www.youtube.com/watch?v=qATlm8PWN34</td>\n",
              "      <td>False</td>\n",
              "      <td>20</td>\n",
              "    </tr>\n",
              "    <tr>\n",
              "      <th>68</th>\n",
              "      <td>https://www.youtube.com/watch?v=usp0v6ChJJM</td>\n",
              "      <td>False</td>\n",
              "      <td>20</td>\n",
              "    </tr>\n",
              "    <tr>\n",
              "      <th>69</th>\n",
              "      <td>https://www.youtube.com/watch?v=TP3bzZ2guvg</td>\n",
              "      <td>False</td>\n",
              "      <td>20</td>\n",
              "    </tr>\n",
              "    <tr>\n",
              "      <th>70</th>\n",
              "      <td>https://www.youtube.com/watch?v=Pj_EHYPJCb8</td>\n",
              "      <td>False</td>\n",
              "      <td>20</td>\n",
              "    </tr>\n",
              "    <tr>\n",
              "      <th>71</th>\n",
              "      <td>https://www.youtube.com/watch?v=sVDtt55Xyb4</td>\n",
              "      <td>False</td>\n",
              "      <td>20</td>\n",
              "    </tr>\n",
              "  </tbody>\n",
              "</table>\n",
              "<p>72 rows × 3 columns</p>\n",
              "</div>\n",
              "    <div class=\"colab-df-buttons\">\n",
              "\n",
              "  <div class=\"colab-df-container\">\n",
              "    <button class=\"colab-df-convert\" onclick=\"convertToInteractive('df-b87434b0-b262-4a4a-baf1-fd2dcce5414b')\"\n",
              "            title=\"Convert this dataframe to an interactive table.\"\n",
              "            style=\"display:none;\">\n",
              "\n",
              "  <svg xmlns=\"http://www.w3.org/2000/svg\" height=\"24px\" viewBox=\"0 -960 960 960\">\n",
              "    <path d=\"M120-120v-720h720v720H120Zm60-500h600v-160H180v160Zm220 220h160v-160H400v160Zm0 220h160v-160H400v160ZM180-400h160v-160H180v160Zm440 0h160v-160H620v160ZM180-180h160v-160H180v160Zm440 0h160v-160H620v160Z\"/>\n",
              "  </svg>\n",
              "    </button>\n",
              "\n",
              "  <style>\n",
              "    .colab-df-container {\n",
              "      display:flex;\n",
              "      gap: 12px;\n",
              "    }\n",
              "\n",
              "    .colab-df-convert {\n",
              "      background-color: #E8F0FE;\n",
              "      border: none;\n",
              "      border-radius: 50%;\n",
              "      cursor: pointer;\n",
              "      display: none;\n",
              "      fill: #1967D2;\n",
              "      height: 32px;\n",
              "      padding: 0 0 0 0;\n",
              "      width: 32px;\n",
              "    }\n",
              "\n",
              "    .colab-df-convert:hover {\n",
              "      background-color: #E2EBFA;\n",
              "      box-shadow: 0px 1px 2px rgba(60, 64, 67, 0.3), 0px 1px 3px 1px rgba(60, 64, 67, 0.15);\n",
              "      fill: #174EA6;\n",
              "    }\n",
              "\n",
              "    .colab-df-buttons div {\n",
              "      margin-bottom: 4px;\n",
              "    }\n",
              "\n",
              "    [theme=dark] .colab-df-convert {\n",
              "      background-color: #3B4455;\n",
              "      fill: #D2E3FC;\n",
              "    }\n",
              "\n",
              "    [theme=dark] .colab-df-convert:hover {\n",
              "      background-color: #434B5C;\n",
              "      box-shadow: 0px 1px 3px 1px rgba(0, 0, 0, 0.15);\n",
              "      filter: drop-shadow(0px 1px 2px rgba(0, 0, 0, 0.3));\n",
              "      fill: #FFFFFF;\n",
              "    }\n",
              "  </style>\n",
              "\n",
              "    <script>\n",
              "      const buttonEl =\n",
              "        document.querySelector('#df-b87434b0-b262-4a4a-baf1-fd2dcce5414b button.colab-df-convert');\n",
              "      buttonEl.style.display =\n",
              "        google.colab.kernel.accessAllowed ? 'block' : 'none';\n",
              "\n",
              "      async function convertToInteractive(key) {\n",
              "        const element = document.querySelector('#df-b87434b0-b262-4a4a-baf1-fd2dcce5414b');\n",
              "        const dataTable =\n",
              "          await google.colab.kernel.invokeFunction('convertToInteractive',\n",
              "                                                    [key], {});\n",
              "        if (!dataTable) return;\n",
              "\n",
              "        const docLinkHtml = 'Like what you see? Visit the ' +\n",
              "          '<a target=\"_blank\" href=https://colab.research.google.com/notebooks/data_table.ipynb>data table notebook</a>'\n",
              "          + ' to learn more about interactive tables.';\n",
              "        element.innerHTML = '';\n",
              "        dataTable['output_type'] = 'display_data';\n",
              "        await google.colab.output.renderOutput(dataTable, element);\n",
              "        const docLink = document.createElement('div');\n",
              "        docLink.innerHTML = docLinkHtml;\n",
              "        element.appendChild(docLink);\n",
              "      }\n",
              "    </script>\n",
              "  </div>\n",
              "\n",
              "\n",
              "<div id=\"df-6a568951-b028-46d2-a610-ebf0abcd2aaf\">\n",
              "  <button class=\"colab-df-quickchart\" onclick=\"quickchart('df-6a568951-b028-46d2-a610-ebf0abcd2aaf')\"\n",
              "            title=\"Suggest charts.\"\n",
              "            style=\"display:none;\">\n",
              "\n",
              "<svg xmlns=\"http://www.w3.org/2000/svg\" height=\"24px\"viewBox=\"0 0 24 24\"\n",
              "     width=\"24px\">\n",
              "    <g>\n",
              "        <path d=\"M19 3H5c-1.1 0-2 .9-2 2v14c0 1.1.9 2 2 2h14c1.1 0 2-.9 2-2V5c0-1.1-.9-2-2-2zM9 17H7v-7h2v7zm4 0h-2V7h2v10zm4 0h-2v-4h2v4z\"/>\n",
              "    </g>\n",
              "</svg>\n",
              "  </button>\n",
              "\n",
              "<style>\n",
              "  .colab-df-quickchart {\n",
              "      --bg-color: #E8F0FE;\n",
              "      --fill-color: #1967D2;\n",
              "      --hover-bg-color: #E2EBFA;\n",
              "      --hover-fill-color: #174EA6;\n",
              "      --disabled-fill-color: #AAA;\n",
              "      --disabled-bg-color: #DDD;\n",
              "  }\n",
              "\n",
              "  [theme=dark] .colab-df-quickchart {\n",
              "      --bg-color: #3B4455;\n",
              "      --fill-color: #D2E3FC;\n",
              "      --hover-bg-color: #434B5C;\n",
              "      --hover-fill-color: #FFFFFF;\n",
              "      --disabled-bg-color: #3B4455;\n",
              "      --disabled-fill-color: #666;\n",
              "  }\n",
              "\n",
              "  .colab-df-quickchart {\n",
              "    background-color: var(--bg-color);\n",
              "    border: none;\n",
              "    border-radius: 50%;\n",
              "    cursor: pointer;\n",
              "    display: none;\n",
              "    fill: var(--fill-color);\n",
              "    height: 32px;\n",
              "    padding: 0;\n",
              "    width: 32px;\n",
              "  }\n",
              "\n",
              "  .colab-df-quickchart:hover {\n",
              "    background-color: var(--hover-bg-color);\n",
              "    box-shadow: 0 1px 2px rgba(60, 64, 67, 0.3), 0 1px 3px 1px rgba(60, 64, 67, 0.15);\n",
              "    fill: var(--button-hover-fill-color);\n",
              "  }\n",
              "\n",
              "  .colab-df-quickchart-complete:disabled,\n",
              "  .colab-df-quickchart-complete:disabled:hover {\n",
              "    background-color: var(--disabled-bg-color);\n",
              "    fill: var(--disabled-fill-color);\n",
              "    box-shadow: none;\n",
              "  }\n",
              "\n",
              "  .colab-df-spinner {\n",
              "    border: 2px solid var(--fill-color);\n",
              "    border-color: transparent;\n",
              "    border-bottom-color: var(--fill-color);\n",
              "    animation:\n",
              "      spin 1s steps(1) infinite;\n",
              "  }\n",
              "\n",
              "  @keyframes spin {\n",
              "    0% {\n",
              "      border-color: transparent;\n",
              "      border-bottom-color: var(--fill-color);\n",
              "      border-left-color: var(--fill-color);\n",
              "    }\n",
              "    20% {\n",
              "      border-color: transparent;\n",
              "      border-left-color: var(--fill-color);\n",
              "      border-top-color: var(--fill-color);\n",
              "    }\n",
              "    30% {\n",
              "      border-color: transparent;\n",
              "      border-left-color: var(--fill-color);\n",
              "      border-top-color: var(--fill-color);\n",
              "      border-right-color: var(--fill-color);\n",
              "    }\n",
              "    40% {\n",
              "      border-color: transparent;\n",
              "      border-right-color: var(--fill-color);\n",
              "      border-top-color: var(--fill-color);\n",
              "    }\n",
              "    60% {\n",
              "      border-color: transparent;\n",
              "      border-right-color: var(--fill-color);\n",
              "    }\n",
              "    80% {\n",
              "      border-color: transparent;\n",
              "      border-right-color: var(--fill-color);\n",
              "      border-bottom-color: var(--fill-color);\n",
              "    }\n",
              "    90% {\n",
              "      border-color: transparent;\n",
              "      border-bottom-color: var(--fill-color);\n",
              "    }\n",
              "  }\n",
              "</style>\n",
              "\n",
              "  <script>\n",
              "    async function quickchart(key) {\n",
              "      const quickchartButtonEl =\n",
              "        document.querySelector('#' + key + ' button');\n",
              "      quickchartButtonEl.disabled = true;  // To prevent multiple clicks.\n",
              "      quickchartButtonEl.classList.add('colab-df-spinner');\n",
              "      try {\n",
              "        const charts = await google.colab.kernel.invokeFunction(\n",
              "            'suggestCharts', [key], {});\n",
              "      } catch (error) {\n",
              "        console.error('Error during call to suggestCharts:', error);\n",
              "      }\n",
              "      quickchartButtonEl.classList.remove('colab-df-spinner');\n",
              "      quickchartButtonEl.classList.add('colab-df-quickchart-complete');\n",
              "    }\n",
              "    (() => {\n",
              "      let quickchartButtonEl =\n",
              "        document.querySelector('#df-6a568951-b028-46d2-a610-ebf0abcd2aaf button');\n",
              "      quickchartButtonEl.style.display =\n",
              "        google.colab.kernel.accessAllowed ? 'block' : 'none';\n",
              "    })();\n",
              "  </script>\n",
              "</div>\n",
              "    </div>\n",
              "  </div>\n"
            ]
          },
          "metadata": {},
          "execution_count": 4
        }
      ]
    },
    {
      "cell_type": "markdown",
      "source": [
        "### More testing"
      ],
      "metadata": {
        "id": "drHg9NLI8hrL"
      }
    },
    {
      "cell_type": "code",
      "source": [
        "# preparation: creating an index.csv file with all the video files / links.\n",
        "\n",
        "data_dir = '/content/drive/MyDrive/THESIS/data/SWDance'\n",
        "# video_path = osp.join(data_dir, 'videos')\n",
        "# video_path = 'https://youtu.be/fSHjGPWmkb8?si=GhoGAjU2LRiTWrQ6'\n",
        "video_path = 'https://www.youtube.com/playlist?list=PLtWL_OMHER4UpxWaV-KIcRcaRJVAA0uWQ'\n",
        "\n",
        "if any(yt in video_path for yt in [\"youtube\", \"youtu.be\"]):\n",
        "  video_list = Playlist(video_path) if 'playlist' in video_path else [video_path]\n",
        "else:\n",
        "  video_list = [f for f in os.listdir(video_path) if 'mp4' in f]\n",
        "print(f'Number Of Videos: {len(video_list)}')\n",
        "\n",
        "# save in index dataframe\n",
        "videos_df = pd.DataFrame({'video_file':video_list, 'processed':False, 'fps':20})\n",
        "videos_df.to_csv(osp.join(data_dir, 'video_files.csv'), index=False)\n",
        "videos_df"
      ],
      "metadata": {
        "colab": {
          "base_uri": "https://localhost:8080/",
          "height": 442
        },
        "id": "1BdhFJou_nqm",
        "outputId": "f5d1b84a-178d-41cf-c889-492bf94a702f"
      },
      "execution_count": null,
      "outputs": [
        {
          "output_type": "stream",
          "name": "stdout",
          "text": [
            "Number Of Videos: 72\n"
          ]
        },
        {
          "output_type": "execute_result",
          "data": {
            "text/plain": [
              "                                     video_file  processed  fps\n",
              "0   https://www.youtube.com/watch?v=fSHjGPWmkb8      False   20\n",
              "1   https://www.youtube.com/watch?v=AxFyPYnl0cU      False   20\n",
              "2   https://www.youtube.com/watch?v=xwff7dvjNv0      False   20\n",
              "3   https://www.youtube.com/watch?v=bf8NCSH-PJ8      False   20\n",
              "4   https://www.youtube.com/watch?v=Z8Xmgd6V398      False   20\n",
              "..                                          ...        ...  ...\n",
              "67  https://www.youtube.com/watch?v=qATlm8PWN34      False   20\n",
              "68  https://www.youtube.com/watch?v=usp0v6ChJJM      False   20\n",
              "69  https://www.youtube.com/watch?v=TP3bzZ2guvg      False   20\n",
              "70  https://www.youtube.com/watch?v=Pj_EHYPJCb8      False   20\n",
              "71  https://www.youtube.com/watch?v=sVDtt55Xyb4      False   20\n",
              "\n",
              "[72 rows x 3 columns]"
            ],
            "text/html": [
              "\n",
              "  <div id=\"df-c47b5b66-b89a-444b-8e0a-890c8e53dc7c\" class=\"colab-df-container\">\n",
              "    <div>\n",
              "<style scoped>\n",
              "    .dataframe tbody tr th:only-of-type {\n",
              "        vertical-align: middle;\n",
              "    }\n",
              "\n",
              "    .dataframe tbody tr th {\n",
              "        vertical-align: top;\n",
              "    }\n",
              "\n",
              "    .dataframe thead th {\n",
              "        text-align: right;\n",
              "    }\n",
              "</style>\n",
              "<table border=\"1\" class=\"dataframe\">\n",
              "  <thead>\n",
              "    <tr style=\"text-align: right;\">\n",
              "      <th></th>\n",
              "      <th>video_file</th>\n",
              "      <th>processed</th>\n",
              "      <th>fps</th>\n",
              "    </tr>\n",
              "  </thead>\n",
              "  <tbody>\n",
              "    <tr>\n",
              "      <th>0</th>\n",
              "      <td>https://www.youtube.com/watch?v=fSHjGPWmkb8</td>\n",
              "      <td>False</td>\n",
              "      <td>20</td>\n",
              "    </tr>\n",
              "    <tr>\n",
              "      <th>1</th>\n",
              "      <td>https://www.youtube.com/watch?v=AxFyPYnl0cU</td>\n",
              "      <td>False</td>\n",
              "      <td>20</td>\n",
              "    </tr>\n",
              "    <tr>\n",
              "      <th>2</th>\n",
              "      <td>https://www.youtube.com/watch?v=xwff7dvjNv0</td>\n",
              "      <td>False</td>\n",
              "      <td>20</td>\n",
              "    </tr>\n",
              "    <tr>\n",
              "      <th>3</th>\n",
              "      <td>https://www.youtube.com/watch?v=bf8NCSH-PJ8</td>\n",
              "      <td>False</td>\n",
              "      <td>20</td>\n",
              "    </tr>\n",
              "    <tr>\n",
              "      <th>4</th>\n",
              "      <td>https://www.youtube.com/watch?v=Z8Xmgd6V398</td>\n",
              "      <td>False</td>\n",
              "      <td>20</td>\n",
              "    </tr>\n",
              "    <tr>\n",
              "      <th>...</th>\n",
              "      <td>...</td>\n",
              "      <td>...</td>\n",
              "      <td>...</td>\n",
              "    </tr>\n",
              "    <tr>\n",
              "      <th>67</th>\n",
              "      <td>https://www.youtube.com/watch?v=qATlm8PWN34</td>\n",
              "      <td>False</td>\n",
              "      <td>20</td>\n",
              "    </tr>\n",
              "    <tr>\n",
              "      <th>68</th>\n",
              "      <td>https://www.youtube.com/watch?v=usp0v6ChJJM</td>\n",
              "      <td>False</td>\n",
              "      <td>20</td>\n",
              "    </tr>\n",
              "    <tr>\n",
              "      <th>69</th>\n",
              "      <td>https://www.youtube.com/watch?v=TP3bzZ2guvg</td>\n",
              "      <td>False</td>\n",
              "      <td>20</td>\n",
              "    </tr>\n",
              "    <tr>\n",
              "      <th>70</th>\n",
              "      <td>https://www.youtube.com/watch?v=Pj_EHYPJCb8</td>\n",
              "      <td>False</td>\n",
              "      <td>20</td>\n",
              "    </tr>\n",
              "    <tr>\n",
              "      <th>71</th>\n",
              "      <td>https://www.youtube.com/watch?v=sVDtt55Xyb4</td>\n",
              "      <td>False</td>\n",
              "      <td>20</td>\n",
              "    </tr>\n",
              "  </tbody>\n",
              "</table>\n",
              "<p>72 rows × 3 columns</p>\n",
              "</div>\n",
              "    <div class=\"colab-df-buttons\">\n",
              "\n",
              "  <div class=\"colab-df-container\">\n",
              "    <button class=\"colab-df-convert\" onclick=\"convertToInteractive('df-c47b5b66-b89a-444b-8e0a-890c8e53dc7c')\"\n",
              "            title=\"Convert this dataframe to an interactive table.\"\n",
              "            style=\"display:none;\">\n",
              "\n",
              "  <svg xmlns=\"http://www.w3.org/2000/svg\" height=\"24px\" viewBox=\"0 -960 960 960\">\n",
              "    <path d=\"M120-120v-720h720v720H120Zm60-500h600v-160H180v160Zm220 220h160v-160H400v160Zm0 220h160v-160H400v160ZM180-400h160v-160H180v160Zm440 0h160v-160H620v160ZM180-180h160v-160H180v160Zm440 0h160v-160H620v160Z\"/>\n",
              "  </svg>\n",
              "    </button>\n",
              "\n",
              "  <style>\n",
              "    .colab-df-container {\n",
              "      display:flex;\n",
              "      gap: 12px;\n",
              "    }\n",
              "\n",
              "    .colab-df-convert {\n",
              "      background-color: #E8F0FE;\n",
              "      border: none;\n",
              "      border-radius: 50%;\n",
              "      cursor: pointer;\n",
              "      display: none;\n",
              "      fill: #1967D2;\n",
              "      height: 32px;\n",
              "      padding: 0 0 0 0;\n",
              "      width: 32px;\n",
              "    }\n",
              "\n",
              "    .colab-df-convert:hover {\n",
              "      background-color: #E2EBFA;\n",
              "      box-shadow: 0px 1px 2px rgba(60, 64, 67, 0.3), 0px 1px 3px 1px rgba(60, 64, 67, 0.15);\n",
              "      fill: #174EA6;\n",
              "    }\n",
              "\n",
              "    .colab-df-buttons div {\n",
              "      margin-bottom: 4px;\n",
              "    }\n",
              "\n",
              "    [theme=dark] .colab-df-convert {\n",
              "      background-color: #3B4455;\n",
              "      fill: #D2E3FC;\n",
              "    }\n",
              "\n",
              "    [theme=dark] .colab-df-convert:hover {\n",
              "      background-color: #434B5C;\n",
              "      box-shadow: 0px 1px 3px 1px rgba(0, 0, 0, 0.15);\n",
              "      filter: drop-shadow(0px 1px 2px rgba(0, 0, 0, 0.3));\n",
              "      fill: #FFFFFF;\n",
              "    }\n",
              "  </style>\n",
              "\n",
              "    <script>\n",
              "      const buttonEl =\n",
              "        document.querySelector('#df-c47b5b66-b89a-444b-8e0a-890c8e53dc7c button.colab-df-convert');\n",
              "      buttonEl.style.display =\n",
              "        google.colab.kernel.accessAllowed ? 'block' : 'none';\n",
              "\n",
              "      async function convertToInteractive(key) {\n",
              "        const element = document.querySelector('#df-c47b5b66-b89a-444b-8e0a-890c8e53dc7c');\n",
              "        const dataTable =\n",
              "          await google.colab.kernel.invokeFunction('convertToInteractive',\n",
              "                                                    [key], {});\n",
              "        if (!dataTable) return;\n",
              "\n",
              "        const docLinkHtml = 'Like what you see? Visit the ' +\n",
              "          '<a target=\"_blank\" href=https://colab.research.google.com/notebooks/data_table.ipynb>data table notebook</a>'\n",
              "          + ' to learn more about interactive tables.';\n",
              "        element.innerHTML = '';\n",
              "        dataTable['output_type'] = 'display_data';\n",
              "        await google.colab.output.renderOutput(dataTable, element);\n",
              "        const docLink = document.createElement('div');\n",
              "        docLink.innerHTML = docLinkHtml;\n",
              "        element.appendChild(docLink);\n",
              "      }\n",
              "    </script>\n",
              "  </div>\n",
              "\n",
              "\n",
              "<div id=\"df-06165507-cc78-4524-ae08-331c761f7574\">\n",
              "  <button class=\"colab-df-quickchart\" onclick=\"quickchart('df-06165507-cc78-4524-ae08-331c761f7574')\"\n",
              "            title=\"Suggest charts.\"\n",
              "            style=\"display:none;\">\n",
              "\n",
              "<svg xmlns=\"http://www.w3.org/2000/svg\" height=\"24px\"viewBox=\"0 0 24 24\"\n",
              "     width=\"24px\">\n",
              "    <g>\n",
              "        <path d=\"M19 3H5c-1.1 0-2 .9-2 2v14c0 1.1.9 2 2 2h14c1.1 0 2-.9 2-2V5c0-1.1-.9-2-2-2zM9 17H7v-7h2v7zm4 0h-2V7h2v10zm4 0h-2v-4h2v4z\"/>\n",
              "    </g>\n",
              "</svg>\n",
              "  </button>\n",
              "\n",
              "<style>\n",
              "  .colab-df-quickchart {\n",
              "      --bg-color: #E8F0FE;\n",
              "      --fill-color: #1967D2;\n",
              "      --hover-bg-color: #E2EBFA;\n",
              "      --hover-fill-color: #174EA6;\n",
              "      --disabled-fill-color: #AAA;\n",
              "      --disabled-bg-color: #DDD;\n",
              "  }\n",
              "\n",
              "  [theme=dark] .colab-df-quickchart {\n",
              "      --bg-color: #3B4455;\n",
              "      --fill-color: #D2E3FC;\n",
              "      --hover-bg-color: #434B5C;\n",
              "      --hover-fill-color: #FFFFFF;\n",
              "      --disabled-bg-color: #3B4455;\n",
              "      --disabled-fill-color: #666;\n",
              "  }\n",
              "\n",
              "  .colab-df-quickchart {\n",
              "    background-color: var(--bg-color);\n",
              "    border: none;\n",
              "    border-radius: 50%;\n",
              "    cursor: pointer;\n",
              "    display: none;\n",
              "    fill: var(--fill-color);\n",
              "    height: 32px;\n",
              "    padding: 0;\n",
              "    width: 32px;\n",
              "  }\n",
              "\n",
              "  .colab-df-quickchart:hover {\n",
              "    background-color: var(--hover-bg-color);\n",
              "    box-shadow: 0 1px 2px rgba(60, 64, 67, 0.3), 0 1px 3px 1px rgba(60, 64, 67, 0.15);\n",
              "    fill: var(--button-hover-fill-color);\n",
              "  }\n",
              "\n",
              "  .colab-df-quickchart-complete:disabled,\n",
              "  .colab-df-quickchart-complete:disabled:hover {\n",
              "    background-color: var(--disabled-bg-color);\n",
              "    fill: var(--disabled-fill-color);\n",
              "    box-shadow: none;\n",
              "  }\n",
              "\n",
              "  .colab-df-spinner {\n",
              "    border: 2px solid var(--fill-color);\n",
              "    border-color: transparent;\n",
              "    border-bottom-color: var(--fill-color);\n",
              "    animation:\n",
              "      spin 1s steps(1) infinite;\n",
              "  }\n",
              "\n",
              "  @keyframes spin {\n",
              "    0% {\n",
              "      border-color: transparent;\n",
              "      border-bottom-color: var(--fill-color);\n",
              "      border-left-color: var(--fill-color);\n",
              "    }\n",
              "    20% {\n",
              "      border-color: transparent;\n",
              "      border-left-color: var(--fill-color);\n",
              "      border-top-color: var(--fill-color);\n",
              "    }\n",
              "    30% {\n",
              "      border-color: transparent;\n",
              "      border-left-color: var(--fill-color);\n",
              "      border-top-color: var(--fill-color);\n",
              "      border-right-color: var(--fill-color);\n",
              "    }\n",
              "    40% {\n",
              "      border-color: transparent;\n",
              "      border-right-color: var(--fill-color);\n",
              "      border-top-color: var(--fill-color);\n",
              "    }\n",
              "    60% {\n",
              "      border-color: transparent;\n",
              "      border-right-color: var(--fill-color);\n",
              "    }\n",
              "    80% {\n",
              "      border-color: transparent;\n",
              "      border-right-color: var(--fill-color);\n",
              "      border-bottom-color: var(--fill-color);\n",
              "    }\n",
              "    90% {\n",
              "      border-color: transparent;\n",
              "      border-bottom-color: var(--fill-color);\n",
              "    }\n",
              "  }\n",
              "</style>\n",
              "\n",
              "  <script>\n",
              "    async function quickchart(key) {\n",
              "      const quickchartButtonEl =\n",
              "        document.querySelector('#' + key + ' button');\n",
              "      quickchartButtonEl.disabled = true;  // To prevent multiple clicks.\n",
              "      quickchartButtonEl.classList.add('colab-df-spinner');\n",
              "      try {\n",
              "        const charts = await google.colab.kernel.invokeFunction(\n",
              "            'suggestCharts', [key], {});\n",
              "      } catch (error) {\n",
              "        console.error('Error during call to suggestCharts:', error);\n",
              "      }\n",
              "      quickchartButtonEl.classList.remove('colab-df-spinner');\n",
              "      quickchartButtonEl.classList.add('colab-df-quickchart-complete');\n",
              "    }\n",
              "    (() => {\n",
              "      let quickchartButtonEl =\n",
              "        document.querySelector('#df-06165507-cc78-4524-ae08-331c761f7574 button');\n",
              "      quickchartButtonEl.style.display =\n",
              "        google.colab.kernel.accessAllowed ? 'block' : 'none';\n",
              "    })();\n",
              "  </script>\n",
              "</div>\n",
              "    </div>\n",
              "  </div>\n"
            ]
          },
          "metadata": {},
          "execution_count": 9
        }
      ]
    },
    {
      "cell_type": "code",
      "source": [
        "dp = DataProcessor(data_dir)"
      ],
      "metadata": {
        "colab": {
          "base_uri": "https://localhost:8080/"
        },
        "id": "FGi_I-7fDNW6",
        "outputId": "e1bea618-ea0f-42c8-d6d5-8c8a6909f04c"
      },
      "execution_count": null,
      "outputs": [
        {
          "output_type": "stream",
          "name": "stdout",
          "text": [
            "Loading whisper model...\n",
            "Device is None\n",
            "Device: None\n",
            "Loading VIBE model...\n",
            "WARNING: You are using a SMPL model, with only 10 shape coefficients.\n"
          ]
        },
        {
          "output_type": "stream",
          "name": "stderr",
          "text": [
            "WARNING:py.warnings:/usr/local/lib/python3.10/dist-packages/torchvision/models/_utils.py:208: UserWarning: The parameter 'pretrained' is deprecated since 0.13 and may be removed in the future, please use 'weights' instead.\n",
            "  warnings.warn(\n",
            "\n",
            "WARNING:py.warnings:/usr/local/lib/python3.10/dist-packages/torchvision/models/_utils.py:223: UserWarning: Arguments other than a weight enum or `None` for 'weights' are deprecated since 0.13 and may be removed in the future. The current behavior is equivalent to passing `weights=ResNet50_Weights.IMAGENET1K_V1`. You can also use `weights=ResNet50_Weights.DEFAULT` to get the most up-to-date weights.\n",
            "  warnings.warn(msg)\n",
            "\n"
          ]
        },
        {
          "output_type": "stream",
          "name": "stdout",
          "text": [
            "WARNING: You are using a SMPL model, with only 10 shape coefficients.\n",
            "=> loaded pretrained model from 'data/vibe_data/spin_model_checkpoint.pth.tar'\n",
            "Performance of pretrained VIBE model on 3DPW: 56.56075477600098\n",
            "Loaded pretrained VIBE weights from \"data/vibe_data/vibe_model_wo_3dpw.pth.tar\"\n",
            "Loading SMPL layer...\n"
          ]
        },
        {
          "output_type": "stream",
          "name": "stderr",
          "text": [
            "WARNING:py.warnings:/usr/local/lib/python3.10/dist-packages/smplpytorch/pytorch/smpl_layer.py:41: UserWarning: The given NumPy array is not writable, and PyTorch does not support non-writable tensors. This means writing to this tensor will result in undefined behavior. You may want to copy the array to protect its data or make it writable before converting it to a tensor. This type of warning will be suppressed for the rest of this program. (Triggered internally at ../torch/csrc/utils/tensor_numpy.cpp:206.)\n",
            "  torch.Tensor(smpl_data['betas'].r).unsqueeze(0))\n",
            "\n"
          ]
        },
        {
          "output_type": "stream",
          "name": "stdout",
          "text": [
            "Loading multi person tracker...\n"
          ]
        }
      ]
    },
    {
      "cell_type": "code",
      "source": [
        "# index_df = pd.read_csv('/content/drive/MyDrive/THESIS/data/SWDance/index.csv')\n",
        "index_df = pd.DataFrame()\n",
        "caps = joblib.load('/content/drive/MyDrive/THESIS/data/SWDance/caption_output/0.pkl')\n",
        "processed_caps = dp.process_captions(caps, 25)\n",
        "vibe_output = joblib.load('/content/drive/MyDrive/THESIS/data/SWDance/vibe_output/0.pkl')"
      ],
      "metadata": {
        "id": "PvjzvBw9zad7"
      },
      "execution_count": null,
      "outputs": []
    },
    {
      "cell_type": "code",
      "source": [
        "index_df = dp.align_captions_poses(processed_caps, vibe_output, index_df, 0)\n",
        "index_df"
      ],
      "metadata": {
        "colab": {
          "base_uri": "https://localhost:8080/",
          "height": 575
        },
        "id": "wp6DHeXP0gzO",
        "outputId": "0564525a-dfb7-453f-e2a6-d872fc75c7fb"
      },
      "execution_count": null,
      "outputs": [
        {
          "output_type": "stream",
          "name": "stdout",
          "text": [
            "Aligning poses and caps for video 0...\n"
          ]
        },
        {
          "output_type": "execute_result",
          "data": {
            "text/plain": [
              "   idx  video_idx  start_frame  end_frame  start_time  end_time     new_name  \\\n",
              "0    0          0            0         50         0.0      2.00   000000.npy   \n",
              "1    0          0            0         50         0.0      2.00  M000000.npy   \n",
              "2    1          0           50         80         2.0      3.20   000001.npy   \n",
              "3    1          0           50         80         2.0      3.20  M000001.npy   \n",
              "4    2          0           80        175         3.2      7.00   000002.npy   \n",
              "5    2          0           80        175         3.2      7.00  M000002.npy   \n",
              "6    3          0          175        200         7.0      8.00   000003.npy   \n",
              "7    3          0          175        200         7.0      8.00  M000003.npy   \n",
              "8    4          0          200        235         8.0      9.39   000004.npy   \n",
              "9    4          0          200        235         8.0      9.39  M000004.npy   \n",
              "\n",
              "   fps                         caption  no_frames  \n",
              "0   25           Breathing of statues.         50  \n",
              "1   25           Breathing of statues.         50  \n",
              "2   25                                         31  \n",
              "3   25                                         31  \n",
              "4   25   Perhaps silence of paintings.         96  \n",
              "5   25   Perhaps silence of paintings.         96  \n",
              "6   25                                         26  \n",
              "7   25                                         26  \n",
              "8   25                   You language.         35  \n",
              "9   25                   You language.         35  "
            ],
            "text/html": [
              "\n",
              "  <div id=\"df-c4c94011-5b9e-419e-8de0-f7ed8e8605a7\" class=\"colab-df-container\">\n",
              "    <div>\n",
              "<style scoped>\n",
              "    .dataframe tbody tr th:only-of-type {\n",
              "        vertical-align: middle;\n",
              "    }\n",
              "\n",
              "    .dataframe tbody tr th {\n",
              "        vertical-align: top;\n",
              "    }\n",
              "\n",
              "    .dataframe thead th {\n",
              "        text-align: right;\n",
              "    }\n",
              "</style>\n",
              "<table border=\"1\" class=\"dataframe\">\n",
              "  <thead>\n",
              "    <tr style=\"text-align: right;\">\n",
              "      <th></th>\n",
              "      <th>idx</th>\n",
              "      <th>video_idx</th>\n",
              "      <th>start_frame</th>\n",
              "      <th>end_frame</th>\n",
              "      <th>start_time</th>\n",
              "      <th>end_time</th>\n",
              "      <th>new_name</th>\n",
              "      <th>fps</th>\n",
              "      <th>caption</th>\n",
              "      <th>no_frames</th>\n",
              "    </tr>\n",
              "  </thead>\n",
              "  <tbody>\n",
              "    <tr>\n",
              "      <th>0</th>\n",
              "      <td>0</td>\n",
              "      <td>0</td>\n",
              "      <td>0</td>\n",
              "      <td>50</td>\n",
              "      <td>0.0</td>\n",
              "      <td>2.00</td>\n",
              "      <td>000000.npy</td>\n",
              "      <td>25</td>\n",
              "      <td>Breathing of statues.</td>\n",
              "      <td>50</td>\n",
              "    </tr>\n",
              "    <tr>\n",
              "      <th>1</th>\n",
              "      <td>0</td>\n",
              "      <td>0</td>\n",
              "      <td>0</td>\n",
              "      <td>50</td>\n",
              "      <td>0.0</td>\n",
              "      <td>2.00</td>\n",
              "      <td>M000000.npy</td>\n",
              "      <td>25</td>\n",
              "      <td>Breathing of statues.</td>\n",
              "      <td>50</td>\n",
              "    </tr>\n",
              "    <tr>\n",
              "      <th>2</th>\n",
              "      <td>1</td>\n",
              "      <td>0</td>\n",
              "      <td>50</td>\n",
              "      <td>80</td>\n",
              "      <td>2.0</td>\n",
              "      <td>3.20</td>\n",
              "      <td>000001.npy</td>\n",
              "      <td>25</td>\n",
              "      <td></td>\n",
              "      <td>31</td>\n",
              "    </tr>\n",
              "    <tr>\n",
              "      <th>3</th>\n",
              "      <td>1</td>\n",
              "      <td>0</td>\n",
              "      <td>50</td>\n",
              "      <td>80</td>\n",
              "      <td>2.0</td>\n",
              "      <td>3.20</td>\n",
              "      <td>M000001.npy</td>\n",
              "      <td>25</td>\n",
              "      <td></td>\n",
              "      <td>31</td>\n",
              "    </tr>\n",
              "    <tr>\n",
              "      <th>4</th>\n",
              "      <td>2</td>\n",
              "      <td>0</td>\n",
              "      <td>80</td>\n",
              "      <td>175</td>\n",
              "      <td>3.2</td>\n",
              "      <td>7.00</td>\n",
              "      <td>000002.npy</td>\n",
              "      <td>25</td>\n",
              "      <td>Perhaps silence of paintings.</td>\n",
              "      <td>96</td>\n",
              "    </tr>\n",
              "    <tr>\n",
              "      <th>5</th>\n",
              "      <td>2</td>\n",
              "      <td>0</td>\n",
              "      <td>80</td>\n",
              "      <td>175</td>\n",
              "      <td>3.2</td>\n",
              "      <td>7.00</td>\n",
              "      <td>M000002.npy</td>\n",
              "      <td>25</td>\n",
              "      <td>Perhaps silence of paintings.</td>\n",
              "      <td>96</td>\n",
              "    </tr>\n",
              "    <tr>\n",
              "      <th>6</th>\n",
              "      <td>3</td>\n",
              "      <td>0</td>\n",
              "      <td>175</td>\n",
              "      <td>200</td>\n",
              "      <td>7.0</td>\n",
              "      <td>8.00</td>\n",
              "      <td>000003.npy</td>\n",
              "      <td>25</td>\n",
              "      <td></td>\n",
              "      <td>26</td>\n",
              "    </tr>\n",
              "    <tr>\n",
              "      <th>7</th>\n",
              "      <td>3</td>\n",
              "      <td>0</td>\n",
              "      <td>175</td>\n",
              "      <td>200</td>\n",
              "      <td>7.0</td>\n",
              "      <td>8.00</td>\n",
              "      <td>M000003.npy</td>\n",
              "      <td>25</td>\n",
              "      <td></td>\n",
              "      <td>26</td>\n",
              "    </tr>\n",
              "    <tr>\n",
              "      <th>8</th>\n",
              "      <td>4</td>\n",
              "      <td>0</td>\n",
              "      <td>200</td>\n",
              "      <td>235</td>\n",
              "      <td>8.0</td>\n",
              "      <td>9.39</td>\n",
              "      <td>000004.npy</td>\n",
              "      <td>25</td>\n",
              "      <td>You language.</td>\n",
              "      <td>35</td>\n",
              "    </tr>\n",
              "    <tr>\n",
              "      <th>9</th>\n",
              "      <td>4</td>\n",
              "      <td>0</td>\n",
              "      <td>200</td>\n",
              "      <td>235</td>\n",
              "      <td>8.0</td>\n",
              "      <td>9.39</td>\n",
              "      <td>M000004.npy</td>\n",
              "      <td>25</td>\n",
              "      <td>You language.</td>\n",
              "      <td>35</td>\n",
              "    </tr>\n",
              "  </tbody>\n",
              "</table>\n",
              "</div>\n",
              "    <div class=\"colab-df-buttons\">\n",
              "\n",
              "  <div class=\"colab-df-container\">\n",
              "    <button class=\"colab-df-convert\" onclick=\"convertToInteractive('df-c4c94011-5b9e-419e-8de0-f7ed8e8605a7')\"\n",
              "            title=\"Convert this dataframe to an interactive table.\"\n",
              "            style=\"display:none;\">\n",
              "\n",
              "  <svg xmlns=\"http://www.w3.org/2000/svg\" height=\"24px\" viewBox=\"0 -960 960 960\">\n",
              "    <path d=\"M120-120v-720h720v720H120Zm60-500h600v-160H180v160Zm220 220h160v-160H400v160Zm0 220h160v-160H400v160ZM180-400h160v-160H180v160Zm440 0h160v-160H620v160ZM180-180h160v-160H180v160Zm440 0h160v-160H620v160Z\"/>\n",
              "  </svg>\n",
              "    </button>\n",
              "\n",
              "  <style>\n",
              "    .colab-df-container {\n",
              "      display:flex;\n",
              "      gap: 12px;\n",
              "    }\n",
              "\n",
              "    .colab-df-convert {\n",
              "      background-color: #E8F0FE;\n",
              "      border: none;\n",
              "      border-radius: 50%;\n",
              "      cursor: pointer;\n",
              "      display: none;\n",
              "      fill: #1967D2;\n",
              "      height: 32px;\n",
              "      padding: 0 0 0 0;\n",
              "      width: 32px;\n",
              "    }\n",
              "\n",
              "    .colab-df-convert:hover {\n",
              "      background-color: #E2EBFA;\n",
              "      box-shadow: 0px 1px 2px rgba(60, 64, 67, 0.3), 0px 1px 3px 1px rgba(60, 64, 67, 0.15);\n",
              "      fill: #174EA6;\n",
              "    }\n",
              "\n",
              "    .colab-df-buttons div {\n",
              "      margin-bottom: 4px;\n",
              "    }\n",
              "\n",
              "    [theme=dark] .colab-df-convert {\n",
              "      background-color: #3B4455;\n",
              "      fill: #D2E3FC;\n",
              "    }\n",
              "\n",
              "    [theme=dark] .colab-df-convert:hover {\n",
              "      background-color: #434B5C;\n",
              "      box-shadow: 0px 1px 3px 1px rgba(0, 0, 0, 0.15);\n",
              "      filter: drop-shadow(0px 1px 2px rgba(0, 0, 0, 0.3));\n",
              "      fill: #FFFFFF;\n",
              "    }\n",
              "  </style>\n",
              "\n",
              "    <script>\n",
              "      const buttonEl =\n",
              "        document.querySelector('#df-c4c94011-5b9e-419e-8de0-f7ed8e8605a7 button.colab-df-convert');\n",
              "      buttonEl.style.display =\n",
              "        google.colab.kernel.accessAllowed ? 'block' : 'none';\n",
              "\n",
              "      async function convertToInteractive(key) {\n",
              "        const element = document.querySelector('#df-c4c94011-5b9e-419e-8de0-f7ed8e8605a7');\n",
              "        const dataTable =\n",
              "          await google.colab.kernel.invokeFunction('convertToInteractive',\n",
              "                                                    [key], {});\n",
              "        if (!dataTable) return;\n",
              "\n",
              "        const docLinkHtml = 'Like what you see? Visit the ' +\n",
              "          '<a target=\"_blank\" href=https://colab.research.google.com/notebooks/data_table.ipynb>data table notebook</a>'\n",
              "          + ' to learn more about interactive tables.';\n",
              "        element.innerHTML = '';\n",
              "        dataTable['output_type'] = 'display_data';\n",
              "        await google.colab.output.renderOutput(dataTable, element);\n",
              "        const docLink = document.createElement('div');\n",
              "        docLink.innerHTML = docLinkHtml;\n",
              "        element.appendChild(docLink);\n",
              "      }\n",
              "    </script>\n",
              "  </div>\n",
              "\n",
              "\n",
              "<div id=\"df-d284f8bc-d51f-4a95-8ed0-33831836aed5\">\n",
              "  <button class=\"colab-df-quickchart\" onclick=\"quickchart('df-d284f8bc-d51f-4a95-8ed0-33831836aed5')\"\n",
              "            title=\"Suggest charts.\"\n",
              "            style=\"display:none;\">\n",
              "\n",
              "<svg xmlns=\"http://www.w3.org/2000/svg\" height=\"24px\"viewBox=\"0 0 24 24\"\n",
              "     width=\"24px\">\n",
              "    <g>\n",
              "        <path d=\"M19 3H5c-1.1 0-2 .9-2 2v14c0 1.1.9 2 2 2h14c1.1 0 2-.9 2-2V5c0-1.1-.9-2-2-2zM9 17H7v-7h2v7zm4 0h-2V7h2v10zm4 0h-2v-4h2v4z\"/>\n",
              "    </g>\n",
              "</svg>\n",
              "  </button>\n",
              "\n",
              "<style>\n",
              "  .colab-df-quickchart {\n",
              "      --bg-color: #E8F0FE;\n",
              "      --fill-color: #1967D2;\n",
              "      --hover-bg-color: #E2EBFA;\n",
              "      --hover-fill-color: #174EA6;\n",
              "      --disabled-fill-color: #AAA;\n",
              "      --disabled-bg-color: #DDD;\n",
              "  }\n",
              "\n",
              "  [theme=dark] .colab-df-quickchart {\n",
              "      --bg-color: #3B4455;\n",
              "      --fill-color: #D2E3FC;\n",
              "      --hover-bg-color: #434B5C;\n",
              "      --hover-fill-color: #FFFFFF;\n",
              "      --disabled-bg-color: #3B4455;\n",
              "      --disabled-fill-color: #666;\n",
              "  }\n",
              "\n",
              "  .colab-df-quickchart {\n",
              "    background-color: var(--bg-color);\n",
              "    border: none;\n",
              "    border-radius: 50%;\n",
              "    cursor: pointer;\n",
              "    display: none;\n",
              "    fill: var(--fill-color);\n",
              "    height: 32px;\n",
              "    padding: 0;\n",
              "    width: 32px;\n",
              "  }\n",
              "\n",
              "  .colab-df-quickchart:hover {\n",
              "    background-color: var(--hover-bg-color);\n",
              "    box-shadow: 0 1px 2px rgba(60, 64, 67, 0.3), 0 1px 3px 1px rgba(60, 64, 67, 0.15);\n",
              "    fill: var(--button-hover-fill-color);\n",
              "  }\n",
              "\n",
              "  .colab-df-quickchart-complete:disabled,\n",
              "  .colab-df-quickchart-complete:disabled:hover {\n",
              "    background-color: var(--disabled-bg-color);\n",
              "    fill: var(--disabled-fill-color);\n",
              "    box-shadow: none;\n",
              "  }\n",
              "\n",
              "  .colab-df-spinner {\n",
              "    border: 2px solid var(--fill-color);\n",
              "    border-color: transparent;\n",
              "    border-bottom-color: var(--fill-color);\n",
              "    animation:\n",
              "      spin 1s steps(1) infinite;\n",
              "  }\n",
              "\n",
              "  @keyframes spin {\n",
              "    0% {\n",
              "      border-color: transparent;\n",
              "      border-bottom-color: var(--fill-color);\n",
              "      border-left-color: var(--fill-color);\n",
              "    }\n",
              "    20% {\n",
              "      border-color: transparent;\n",
              "      border-left-color: var(--fill-color);\n",
              "      border-top-color: var(--fill-color);\n",
              "    }\n",
              "    30% {\n",
              "      border-color: transparent;\n",
              "      border-left-color: var(--fill-color);\n",
              "      border-top-color: var(--fill-color);\n",
              "      border-right-color: var(--fill-color);\n",
              "    }\n",
              "    40% {\n",
              "      border-color: transparent;\n",
              "      border-right-color: var(--fill-color);\n",
              "      border-top-color: var(--fill-color);\n",
              "    }\n",
              "    60% {\n",
              "      border-color: transparent;\n",
              "      border-right-color: var(--fill-color);\n",
              "    }\n",
              "    80% {\n",
              "      border-color: transparent;\n",
              "      border-right-color: var(--fill-color);\n",
              "      border-bottom-color: var(--fill-color);\n",
              "    }\n",
              "    90% {\n",
              "      border-color: transparent;\n",
              "      border-bottom-color: var(--fill-color);\n",
              "    }\n",
              "  }\n",
              "</style>\n",
              "\n",
              "  <script>\n",
              "    async function quickchart(key) {\n",
              "      const quickchartButtonEl =\n",
              "        document.querySelector('#' + key + ' button');\n",
              "      quickchartButtonEl.disabled = true;  // To prevent multiple clicks.\n",
              "      quickchartButtonEl.classList.add('colab-df-spinner');\n",
              "      try {\n",
              "        const charts = await google.colab.kernel.invokeFunction(\n",
              "            'suggestCharts', [key], {});\n",
              "      } catch (error) {\n",
              "        console.error('Error during call to suggestCharts:', error);\n",
              "      }\n",
              "      quickchartButtonEl.classList.remove('colab-df-spinner');\n",
              "      quickchartButtonEl.classList.add('colab-df-quickchart-complete');\n",
              "    }\n",
              "    (() => {\n",
              "      let quickchartButtonEl =\n",
              "        document.querySelector('#df-d284f8bc-d51f-4a95-8ed0-33831836aed5 button');\n",
              "      quickchartButtonEl.style.display =\n",
              "        google.colab.kernel.accessAllowed ? 'block' : 'none';\n",
              "    })();\n",
              "  </script>\n",
              "</div>\n",
              "    </div>\n",
              "  </div>\n"
            ]
          },
          "metadata": {},
          "execution_count": 37
        }
      ]
    },
    {
      "cell_type": "code",
      "source": [
        "# TEST downloading videos\n",
        "for i, video in dp.videos_df.iterrows():\n",
        "  video_file = video['video_file']\n",
        "  if video['processed'] == True:\n",
        "    continue\n",
        "  elif any(yt in video_file for yt in [\"youtube\", \"youtu.be\"]):\n",
        "    video_file, video_fps = dp.download_yt_video(video_file, i)"
      ],
      "metadata": {
        "colab": {
          "base_uri": "https://localhost:8080/"
        },
        "id": "1VCB-09-kJYv",
        "outputId": "7cf50fe3-b349-4f74-b609-091543082411"
      },
      "execution_count": null,
      "outputs": [
        {
          "output_type": "stream",
          "name": "stdout",
          "text": [
            "<pytube.__main__.YouTube object: videoId=fSHjGPWmkb8>\n",
            "8\n",
            "/tmp/0.mp4\n",
            "YouTube Video has been downloaded to /tmp/0.mp4...\n"
          ]
        }
      ]
    },
    {
      "cell_type": "code",
      "source": [
        "# TEST whisper caps\n",
        "caps = dp.get_whisper_captions(video_file)"
      ],
      "metadata": {
        "id": "GzphpcKkQCeQ",
        "colab": {
          "base_uri": "https://localhost:8080/"
        },
        "outputId": "9cfbce75-b948-4888-b4c6-96c75a90dffd"
      },
      "execution_count": null,
      "outputs": [
        {
          "output_type": "stream",
          "name": "stdout",
          "text": [
            "MoviePy - Writing audio in /tmp/0.wav\n"
          ]
        },
        {
          "output_type": "stream",
          "name": "stderr",
          "text": []
        },
        {
          "output_type": "stream",
          "name": "stdout",
          "text": [
            "MoviePy - Done.\n"
          ]
        }
      ]
    },
    {
      "cell_type": "code",
      "source": [
        "# TEST processing caps\n",
        "proc_caps = dp.process_captions(caps, video_fps)"
      ],
      "metadata": {
        "id": "x3UQ9hjRWTvC"
      },
      "execution_count": null,
      "outputs": []
    },
    {
      "cell_type": "code",
      "source": [
        "# TEST vibeyyy\n",
        "vibe_dict = dp.get_vibe_poses(video_file)\n",
        "vibe_dict.keys()"
      ],
      "metadata": {
        "id": "aIYbnmkqkhhx"
      },
      "execution_count": null,
      "outputs": []
    },
    {
      "cell_type": "code",
      "source": [
        "# TEST align pose & caps\n",
        "cur_frame = dp.align_captions_poses(proc_caps, vibe_dict, 0)\n",
        "cur_frame"
      ],
      "metadata": {
        "colab": {
          "base_uri": "https://localhost:8080/"
        },
        "id": "bRWSmPhaWK1E",
        "outputId": "bfe57527-262c-4512-c048-98cd1bfe7b16"
      },
      "execution_count": null,
      "outputs": [
        {
          "output_type": "execute_result",
          "data": {
            "text/plain": [
              "16"
            ]
          },
          "metadata": {},
          "execution_count": 49
        }
      ]
    },
    {
      "cell_type": "code",
      "source": [
        "# TODO: why is my data in pickle?? and is it even saved? stay tuned!!\n",
        "my_data = np.load('/content/drive/MyDrive/THESIS/data/SWDance/new_joints/00000.npy', allow_pickle=True)\n",
        "my_data.shape"
      ],
      "metadata": {
        "colab": {
          "base_uri": "https://localhost:8080/"
        },
        "id": "g92BQ3iIV5ve",
        "outputId": "13c9002a-2107-4cfd-9aac-ca5046fb927d"
      },
      "execution_count": null,
      "outputs": [
        {
          "output_type": "execute_result",
          "data": {
            "text/plain": [
              "()"
            ]
          },
          "metadata": {},
          "execution_count": 42
        }
      ]
    },
    {
      "cell_type": "code",
      "source": [
        "data = np.load('/content/drive/MyDrive/THESIS/HumanML3D/HumanML3D/new_joints/012314.npy')\n",
        "data.shape"
      ],
      "metadata": {
        "colab": {
          "base_uri": "https://localhost:8080/"
        },
        "id": "TDJE4gzgQX0c",
        "outputId": "f2d2d399-9c02-46ce-80c9-36253a9655e8"
      },
      "execution_count": null,
      "outputs": [
        {
          "output_type": "execute_result",
          "data": {
            "text/plain": [
              "(170, 22, 3)"
            ]
          },
          "metadata": {},
          "execution_count": 104
        }
      ]
    },
    {
      "cell_type": "markdown",
      "source": [
        "### Caption augmentation tests"
      ],
      "metadata": {
        "id": "-3OJhNSm4M_L"
      }
    },
    {
      "cell_type": "code",
      "source": [
        "# Testing getting similar words\n",
        "import gensim.downloader as api\n",
        "\n",
        "# Download the pre-trained GloVe word embeddings\n",
        "glove_model = api.load(\"glove-wiki-gigaword-100\")\n",
        "\n",
        "similar_words = glove_model.most_similar('computer')\n",
        "similar_words\n",
        "\n",
        "# TODO: emotion analysis and then similar words..!\n",
        "# TODO: get similar words and generate emotion videos from models on the similar word collections"
      ],
      "metadata": {
        "colab": {
          "base_uri": "https://localhost:8080/"
        },
        "id": "CcPnEo5vzRJT",
        "outputId": "4636c917-9a9e-424f-9448-694c8830c0c9"
      },
      "execution_count": null,
      "outputs": [
        {
          "output_type": "execute_result",
          "data": {
            "text/plain": [
              "[('computers', 0.8751984238624573),\n",
              " ('software', 0.8373122215270996),\n",
              " ('technology', 0.7642159461975098),\n",
              " ('pc', 0.7366448640823364),\n",
              " ('hardware', 0.7290390729904175),\n",
              " ('internet', 0.7286775708198547),\n",
              " ('desktop', 0.7234441637992859),\n",
              " ('electronic', 0.7221828699111938),\n",
              " ('systems', 0.7197922468185425),\n",
              " ('computing', 0.7141730785369873)]"
            ]
          },
          "metadata": {},
          "execution_count": 6
        }
      ]
    },
    {
      "cell_type": "code",
      "source": [
        "list(zip(*similar_words))[0][:3] # tuple"
      ],
      "metadata": {
        "colab": {
          "base_uri": "https://localhost:8080/"
        },
        "id": "-hJ1O5Ua4VxF",
        "outputId": "21cf8ac1-5b16-4012-c3de-63ee9f573cf0"
      },
      "execution_count": null,
      "outputs": [
        {
          "output_type": "execute_result",
          "data": {
            "text/plain": [
              "('computers', 'software', 'technology')"
            ]
          },
          "metadata": {},
          "execution_count": 28
        }
      ]
    },
    {
      "cell_type": "code",
      "source": [
        "from transformers import AutoTokenizer, AutoModelWithLMHead\n",
        "\n",
        "tokenizer = AutoTokenizer.from_pretrained(\"mrm8488/t5-base-finetuned-emotion\")\n",
        "model = AutoModelWithLMHead.from_pretrained(\"mrm8488/t5-base-finetuned-emotion\")"
      ],
      "metadata": {
        "colab": {
          "base_uri": "https://localhost:8080/"
        },
        "id": "Q1ZYwv-huu6o",
        "outputId": "a62575b9-9200-4872-a949-4fb6791e49c1"
      },
      "execution_count": null,
      "outputs": [
        {
          "output_type": "stream",
          "name": "stderr",
          "text": [
            "/usr/local/lib/python3.10/dist-packages/transformers/models/auto/modeling_auto.py:1479: FutureWarning: The class `AutoModelWithLMHead` is deprecated and will be removed in a future version. Please use `AutoModelForCausalLM` for causal language models, `AutoModelForMaskedLM` for masked language models and `AutoModelForSeq2SeqLM` for encoder-decoder models.\n",
            "  warnings.warn(\n"
          ]
        }
      ]
    },
    {
      "cell_type": "code",
      "source": [
        "def get_emotion(text):\n",
        "  input_ids = tokenizer.encode(text, return_tensors='pt')\n",
        "  output = model.generate(input_ids=input_ids, max_length=20)\n",
        "\n",
        "  dec = [tokenizer.decode(ids, skip_special_tokens=True) for ids in output][0]\n",
        "  return dec"
      ],
      "metadata": {
        "id": "uBned6AQwsgI"
      },
      "execution_count": null,
      "outputs": []
    },
    {
      "cell_type": "code",
      "source": [
        "get_emotion(\"whatever\")"
      ],
      "metadata": {
        "colab": {
          "base_uri": "https://localhost:8080/",
          "height": 36
        },
        "id": "5o1wyw_5nzOm",
        "outputId": "ea19339c-66c5-447b-ea6c-d7a1225f15f2"
      },
      "execution_count": null,
      "outputs": [
        {
          "output_type": "execute_result",
          "data": {
            "text/plain": [
              "'fear'"
            ],
            "application/vnd.google.colaboratory.intrinsic+json": {
              "type": "string"
            }
          },
          "metadata": {},
          "execution_count": 61
        }
      ]
    },
    {
      "cell_type": "code",
      "source": [
        "tokenizer.decode.__code__.co_varnames"
      ],
      "metadata": {
        "colab": {
          "base_uri": "https://localhost:8080/"
        },
        "id": "2XqfVedVyoOH",
        "outputId": "83d94cb4-7c93-49dd-874d-aee7c5d61353"
      },
      "execution_count": null,
      "outputs": [
        {
          "output_type": "execute_result",
          "data": {
            "text/plain": [
              "('self',\n",
              " 'token_ids',\n",
              " 'skip_special_tokens',\n",
              " 'clean_up_tokenization_spaces',\n",
              " 'kwargs')"
            ]
          },
          "metadata": {},
          "execution_count": 52
        }
      ]
    },
    {
      "cell_type": "code",
      "source": [
        "!pip uninstall transformers\n",
        "!pip install --no-cache-dir transformers sentencepiece"
      ],
      "metadata": {
        "id": "xFWdAwOissKX"
      },
      "execution_count": null,
      "outputs": []
    },
    {
      "cell_type": "markdown",
      "source": [
        "### Transcribing tests"
      ],
      "metadata": {
        "id": "UC3O8Of4mUCz"
      }
    },
    {
      "cell_type": "code",
      "source": [
        "captions = joblib.load('/content/drive/MyDrive/THESIS/data/SWDance/caption_output/0.pkl')\n",
        "captions['segments'][0]"
      ],
      "metadata": {
        "colab": {
          "base_uri": "https://localhost:8080/"
        },
        "id": "LaHizf1cbnQp",
        "outputId": "fe6b6389-3328-454a-b524-fcccc0bec7c5"
      },
      "execution_count": null,
      "outputs": [
        {
          "output_type": "execute_result",
          "data": {
            "text/plain": [
              "{'start': 5.88,\n",
              " 'end': 7.0,\n",
              " 'text': ' Music.',\n",
              " 'seek': 0.0,\n",
              " 'tokens': [50364, 7609, 13, 50714],\n",
              " 'temperature': 0.0,\n",
              " 'avg_logprob': -0.382641973949614,\n",
              " 'compression_ratio': 1.319327731092437,\n",
              " 'no_speech_prob': 0.4564920961856842,\n",
              " 'id': 0}"
            ]
          },
          "metadata": {},
          "execution_count": 101
        }
      ]
    },
    {
      "cell_type": "code",
      "source": [
        "captions = joblib.load('/content/drive/MyDrive/THESIS/data/SWDance/caption_output/0.pkl')\n",
        "captions['segments'][0]"
      ],
      "metadata": {
        "id": "p0t1tQmSudKF"
      },
      "execution_count": null,
      "outputs": []
    },
    {
      "cell_type": "code",
      "source": [
        "# doc = NLP(captions['segments'][1]['text'])\n",
        "doc = NLP(\"Bird\")\n",
        "# if doc == \"\" or doc == \" \":\n",
        "\n",
        "print(len(doc) )\n",
        "# word_list, pos_list = [], []\n",
        "\n",
        "for token in doc:\n",
        "  word = token.text\n",
        "  print(word)\n",
        "  pos = token.pos_\n",
        "  lem = token.lemma_\n",
        "  print(pos, lem)\n",
        "#         if not word.isalpha():\n",
        "#           print(word)\n",
        "#           continue\n",
        "#         if (token.pos_ == 'NOUN' or token.pos_ == 'VERB') and (word != 'left'):\n",
        "#           word_list.append(token.lemma_)\n",
        "#         else:\n",
        "#           word_list.append(word)\n",
        "#         pos_list.append(token.pos_)\n",
        "#       tokens = ' '.join([f'{word_list[i]}/{pos_list[i]}' for i in range(len(word_list))])\n"
      ],
      "metadata": {
        "colab": {
          "base_uri": "https://localhost:8080/"
        },
        "id": "1uiGuQSFc_b6",
        "outputId": "7ee28ab5-6a18-4770-ffe0-23a5ac2b531d"
      },
      "execution_count": null,
      "outputs": [
        {
          "output_type": "stream",
          "name": "stdout",
          "text": [
            "1\n",
            "Bird\n",
            "NOUN bird\n"
          ]
        }
      ]
    },
    {
      "cell_type": "code",
      "source": [
        "captions.to_dict()"
      ],
      "metadata": {
        "colab": {
          "base_uri": "https://localhost:8080/",
          "height": 181
        },
        "id": "hOecD_bzptsR",
        "outputId": "17daa6c7-346b-4620-9b4b-4b5dd611e1c0"
      },
      "execution_count": null,
      "outputs": [
        {
          "output_type": "error",
          "ename": "AttributeError",
          "evalue": "ignored",
          "traceback": [
            "\u001b[0;31m---------------------------------------------------------------------------\u001b[0m",
            "\u001b[0;31mAttributeError\u001b[0m                            Traceback (most recent call last)",
            "\u001b[0;32m<ipython-input-64-2af8aa40f3ad>\u001b[0m in \u001b[0;36m<cell line: 1>\u001b[0;34m()\u001b[0m\n\u001b[0;32m----> 1\u001b[0;31m \u001b[0mcaptions\u001b[0m\u001b[0;34m.\u001b[0m\u001b[0mto_dict\u001b[0m\u001b[0;34m(\u001b[0m\u001b[0;34m)\u001b[0m\u001b[0;34m\u001b[0m\u001b[0;34m\u001b[0m\u001b[0m\n\u001b[0m",
            "\u001b[0;31mAttributeError\u001b[0m: 'dict' object has no attribute 'to_dict'"
          ]
        }
      ]
    },
    {
      "cell_type": "code",
      "source": [
        "captions['segments'][0]['text']"
      ],
      "metadata": {
        "colab": {
          "base_uri": "https://localhost:8080/",
          "height": 36
        },
        "id": "Xuuuq8RrdTTO",
        "outputId": "40fbddde-7153-41e0-c76d-8067979e5919"
      },
      "execution_count": null,
      "outputs": [
        {
          "output_type": "execute_result",
          "data": {
            "text/plain": [
              "' Music.'"
            ],
            "application/vnd.google.colaboratory.intrinsic+json": {
              "type": "string"
            }
          },
          "metadata": {},
          "execution_count": 24
        }
      ]
    },
    {
      "cell_type": "code",
      "source": [
        "!pip install -U stable-ts"
      ],
      "metadata": {
        "id": "YGeH0SVymZX8"
      },
      "execution_count": null,
      "outputs": []
    },
    {
      "cell_type": "code",
      "source": [
        "import stable_whisper\n",
        "\n",
        "model = stable_whisper.load_model('base')\n",
        "result = model.transcribe('/tmp/0.wav', word_timestamps=False)\n",
        "result"
      ],
      "metadata": {
        "colab": {
          "base_uri": "https://localhost:8080/"
        },
        "id": "jTwP0mbOmZaz",
        "outputId": "f8b6faba-ad60-40be-e224-cf67ad6409db"
      },
      "execution_count": null,
      "outputs": [
        {
          "output_type": "stream",
          "name": "stderr",
          "text": [
            "  0%|          | 0/84.89 [00:00<?, ?sec/s]"
          ]
        },
        {
          "output_type": "stream",
          "name": "stdout",
          "text": [
            "Detected language: english\n"
          ]
        },
        {
          "output_type": "stream",
          "name": "stderr",
          "text": [
            "100%|██████████| 84.89/84.89 [00:03<00:00, 25.35sec/s]\n"
          ]
        },
        {
          "output_type": "execute_result",
          "data": {
            "text/plain": [
              "<stable_whisper.result.WhisperResult at 0x7dd322c85cc0>"
            ]
          },
          "metadata": {},
          "execution_count": 56
        }
      ]
    },
    {
      "cell_type": "code",
      "source": [
        "result.segments[0]"
      ],
      "metadata": {
        "colab": {
          "base_uri": "https://localhost:8080/"
        },
        "id": "VRgVDKrimyqL",
        "outputId": "6659d896-d1b3-4cd0-cb2f-802d0e2b1a9d"
      },
      "execution_count": null,
      "outputs": [
        {
          "output_type": "execute_result",
          "data": {
            "text/plain": [
              "Segment(start=5.88, end=6.92, text=' Music.', seek=0.0, tokens=[7609, 13], temperature=0.0, avg_logprob=-0.382641973949614, compression_ratio=1.319327731092437, no_speech_prob=0.4564920961856842, words=[WordTiming(word=' Music.', start=5.88, end=6.92, probability=0.07223565876483917, tokens=[7609, 13], left_locked=False, right_locked=False)], ori_has_words=True, id=0)"
            ]
          },
          "metadata": {},
          "execution_count": 41
        }
      ]
    },
    {
      "cell_type": "code",
      "source": [
        "result.to_dict().keys()"
      ],
      "metadata": {
        "colab": {
          "base_uri": "https://localhost:8080/"
        },
        "id": "W3-dtZaloRtY",
        "outputId": "41f2888e-2973-47d3-bdd8-4c9481b8c0b2"
      },
      "execution_count": null,
      "outputs": [
        {
          "output_type": "execute_result",
          "data": {
            "text/plain": [
              "dict_keys(['text', 'segments', 'language', 'ori_dict'])"
            ]
          },
          "metadata": {},
          "execution_count": 57
        }
      ]
    },
    {
      "cell_type": "code",
      "source": [
        "result.to_dict()['segments'][0], result.to_dict()['segments'][4]"
      ],
      "metadata": {
        "colab": {
          "base_uri": "https://localhost:8080/"
        },
        "id": "1LPUOfMzoWJf",
        "outputId": "6f079217-f79a-4caf-d33f-49f35539dd2a"
      },
      "execution_count": null,
      "outputs": [
        {
          "output_type": "execute_result",
          "data": {
            "text/plain": [
              "({'start': 5.88,\n",
              "  'end': 7.0,\n",
              "  'text': ' Music.',\n",
              "  'seek': 0.0,\n",
              "  'tokens': [50364, 7609, 13, 50714],\n",
              "  'temperature': 0.0,\n",
              "  'avg_logprob': -0.382641973949614,\n",
              "  'compression_ratio': 1.319327731092437,\n",
              "  'no_speech_prob': 0.4564920961856842,\n",
              "  'id': 0},\n",
              " {'start': 21.0,\n",
              "  'end': 29.0,\n",
              "  'text': ' You time standing vertically on the motion of mortal hearts.',\n",
              "  'seek': 0.0,\n",
              "  'tokens': [51414,\n",
              "   509,\n",
              "   565,\n",
              "   4877,\n",
              "   28450,\n",
              "   322,\n",
              "   264,\n",
              "   5394,\n",
              "   295,\n",
              "   27624,\n",
              "   8852,\n",
              "   13,\n",
              "   51814],\n",
              "  'temperature': 0.0,\n",
              "  'avg_logprob': -0.382641973949614,\n",
              "  'compression_ratio': 1.319327731092437,\n",
              "  'no_speech_prob': 0.4564920961856842,\n",
              "  'id': 4})"
            ]
          },
          "metadata": {},
          "execution_count": 63
        }
      ]
    },
    {
      "cell_type": "code",
      "source": [
        "result.save_as_json('/tmp/0.json')\n",
        "# a = joblib.load('/tmp/audio.json')\n",
        "# a"
      ],
      "metadata": {
        "colab": {
          "base_uri": "https://localhost:8080/"
        },
        "id": "uJ8W9OuknSap",
        "outputId": "63d4735b-e7fa-4697-f280-d3e147e86cd7"
      },
      "execution_count": null,
      "outputs": [
        {
          "output_type": "stream",
          "name": "stdout",
          "text": [
            "Saved: /tmp/0.json\n"
          ]
        }
      ]
    },
    {
      "cell_type": "markdown",
      "source": [
        "### Formatting HML3D tests\n"
      ],
      "metadata": {
        "id": "AqCU74LCSmQM"
      }
    },
    {
      "cell_type": "code",
      "source": [
        "vibe_dict = joblib.load('/content/drive/MyDrive/THESIS/data/SWDance/vibe_output/0.pkl')\n",
        "vibe_dict.keys()"
      ],
      "metadata": {
        "colab": {
          "base_uri": "https://localhost:8080/"
        },
        "id": "FKP4XK84qtjM",
        "outputId": "a5e00cc5-2a29-47d9-a972-974a6c65753a"
      },
      "execution_count": null,
      "outputs": [
        {
          "output_type": "execute_result",
          "data": {
            "text/plain": [
              "dict_keys(['pred_cam', 'verts', 'pose', 'betas', 'joints3d', 'bboxes', 'frame_ids', 'smpl24_joints'])"
            ]
          },
          "metadata": {},
          "execution_count": 33
        }
      ]
    },
    {
      "cell_type": "code",
      "source": [
        "loc = np.where(vibe_dict['frame_ids']==50)[0]\n",
        "loc"
      ],
      "metadata": {
        "colab": {
          "base_uri": "https://localhost:8080/"
        },
        "id": "XjbV76gcDn51",
        "outputId": "6e8356b4-2d20-46fb-e0b5-6b3531e8d171"
      },
      "execution_count": null,
      "outputs": [
        {
          "output_type": "execute_result",
          "data": {
            "text/plain": [
              "array([0])"
            ]
          },
          "metadata": {},
          "execution_count": 15
        }
      ]
    },
    {
      "cell_type": "code",
      "source": [
        "vibe_dict['frame_ids']"
      ],
      "metadata": {
        "id": "ytA63vZvq4Xk"
      },
      "execution_count": null,
      "outputs": []
    },
    {
      "cell_type": "code",
      "source": [
        "#@title save poses test\n",
        "\n",
        "def save_pose(file_idx, video_idx, pose_dict, start, end, caption=True):\n",
        "  filename = get_filename(file_idx)\n",
        "  frame_ids = [i for i in range(round(start*video_fps), round(end*video_fps)+1)]\n",
        "  joints = []\n",
        "\n",
        "  for frame_id in frame_ids:\n",
        "    idx = np.where(pose_dict['frame_ids'] == frame_id)[0] # first appearance\n",
        "    if idx.size > 0:\n",
        "      joints += pose_dict['smpl24_joints'][idx[0]]\n",
        "    else:\n",
        "      joints += [None]\n",
        "\n",
        "  if all(j is None for j in joints):\n",
        "    print(f'no joints for video {video_idx} at {start} to {end}')\n",
        "    return file_idx\n",
        "\n",
        "  # remove the Nones at the beginning and end of the list\n",
        "  while joints[-1] is None:\n",
        "    del joints[-1]\n",
        "  while joints[0] is None:\n",
        "    del joints[0]\n",
        "\n",
        "  if len(joints) < MIN_FRAME_LENGTH:\n",
        "    return file_idx\n",
        "\n",
        "  joints = np.array(joints)\n",
        "  ## TAKE AWAY THE Nones at start and end\n",
        "  ## if the joints is smaller then certain amount, don't save\n",
        "\n",
        "  for side in ['', 'M']: # mirror pose\n",
        "    if side == 'M':\n",
        "      joints = swap_left_right(joints)\n",
        "\n",
        "    np.save(osp.join(osp.join(data_dir, 'joints'), f'{side}{filename}.npy'), joints)\n",
        "    df_row = {'idx': file_idx,\n",
        "              'video_idx': video_idx,               # which video it belongs to\n",
        "              'start_frame': 0,                     # for humanml3d, not correct\n",
        "              'end_frame': 0,\n",
        "              'start_time': start,\n",
        "              'end_time': end,                      # real start/end times\n",
        "              'new_name': f'{side}{filename}.npy',  # named for humanml3d\n",
        "              'fps': video_fps,\n",
        "              'caption': \"\" if not caption else caption[\"text\"],\n",
        "              'no_frames': len(joints)}\n",
        "    index_df = pd.concat([index_df, pd.DataFrame([df_row])], ignore_index=True)\n",
        "\n",
        "    if caption:\n",
        "      with open(osp.join(osp.join(data_dir, 'texts'), f'{side}{filename}.txt'), 'w') as f:\n",
        "          f.write(f'{caption[\"text\"]}#{caption[\"tokens\"]}#0.0#0.0\\n')\n",
        "    else:\n",
        "      with open(osp.join(osp.join(data_dir, 'texts'),\n",
        "                         f'{side}{filename}.txt'), 'w') as f:\n",
        "            f.write(f' # /X#0.0#0.0\\n')\n",
        "\n",
        "    file_idx += 1\n",
        "\n",
        "  return file_idx, index_df\n",
        "\n",
        "\n",
        "def align_captions_poses(self, captions, pose_dict, index_df, video_idx):\n",
        "  ''' saves poses and captions in correct format,\n",
        "      with correct split per frame. '''\n",
        "\n",
        "  print(f'Aligning poses and caps for video {video_idx}...')\n",
        "  video_fps = self.videos_df.loc[video_idx, ('fps')]\n",
        "  file_idx = 0 if index_df.empty else index_df['file_idx'].iloc[-1]+1\n",
        "  curr_timestamp = 0\n",
        "\n",
        "  start_caps = captions[0]['start']     # hier iets mee?\n",
        "  start_poses = pose_dict['smpl24_joints'][0]\n",
        "\n",
        "  for caption in captions:\n",
        "\n",
        "    if caption['start'] > curr_timestamp:\n",
        "\n",
        "      # frames with NO captions\n",
        "      file_idx = save_pose(file_idx, video_idx, pose_dict,\n",
        "                            start=round(curr_timestamp*video_fps),\n",
        "                            end=round(caption['start']*video_fps),\n",
        "                            caption=False)\n",
        "\n",
        "    # frames WITH captions\n",
        "    file_idx = save_pose(file_idx, video_idx, pose_dict,\n",
        "                            start=round(caption['start']*video_fps),\n",
        "                            end=round(caption['end']*video_fps),\n",
        "                            caption=caption)\n",
        "    curr_timestamp = caption['end']\n",
        "\n",
        "  return index_df"
      ],
      "metadata": {
        "id": "oBIWxlFgAUVw"
      },
      "execution_count": null,
      "outputs": []
    },
    {
      "cell_type": "code",
      "source": [
        "p = np.load('/content/drive/MyDrive/THESIS/HumanML3D/HumanML3D/new_joints/012314.npy')\n",
        "p.shape"
      ],
      "metadata": {
        "colab": {
          "base_uri": "https://localhost:8080/"
        },
        "id": "pxmmwzACSrS4",
        "outputId": "854666c1-94c5-4cae-eabc-1d8b7cded525"
      },
      "execution_count": null,
      "outputs": [
        {
          "output_type": "execute_result",
          "data": {
            "text/plain": [
              "(170, 22, 3)"
            ]
          },
          "metadata": {},
          "execution_count": 110
        }
      ]
    },
    {
      "cell_type": "code",
      "source": [
        "m = np.load('/content/drive/MyDrive/THESIS/data/SWDance/joints/000000.npy')\n",
        "m.shape"
      ],
      "metadata": {
        "colab": {
          "base_uri": "https://localhost:8080/"
        },
        "id": "SyO_1ZNSS1xw",
        "outputId": "f12fb7cb-da29-46f3-8c85-53403de9c9a6"
      },
      "execution_count": null,
      "outputs": [
        {
          "output_type": "execute_result",
          "data": {
            "text/plain": [
              "(41, 24, 3)"
            ]
          },
          "metadata": {},
          "execution_count": 111
        }
      ]
    },
    {
      "cell_type": "markdown",
      "source": [],
      "metadata": {
        "id": "lSizAraikns1"
      }
    },
    {
      "cell_type": "code",
      "source": [
        "def swap_left_right(data):\n",
        "  assert len(data.shape) == 3 and data.shape[-1] == 3\n",
        "  data = data.copy()\n",
        "  data[..., 0] *= -1\n",
        "  right_chain = [2, 5, 8, 11, 14, 17, 19, 21]\n",
        "  left_chain = [1, 4, 7, 10, 13, 16, 18, 20]\n",
        "  tmp = data[:, right_chain]\n",
        "  data[:, right_chain] = data[:, left_chain]\n",
        "  data[:, left_chain] = tmp\n",
        "  return data"
      ],
      "metadata": {
        "id": "7ecw3-m0Xo86"
      },
      "execution_count": null,
      "outputs": []
    },
    {
      "cell_type": "code",
      "source": [
        "m2 = swap_left_right(m)\n",
        "print(m2.shape)\n",
        "print(m[0][4], m[0][5], m2[0][4], m2[0][5])"
      ],
      "metadata": {
        "colab": {
          "base_uri": "https://localhost:8080/"
        },
        "id": "jdgLWUCWX2wm",
        "outputId": "48331507-d671-4577-e943-2d9f5eec5f7b"
      },
      "execution_count": null,
      "outputs": [
        {
          "output_type": "execute_result",
          "data": {
            "text/plain": [
              "(48, 24, 3)"
            ]
          },
          "metadata": {},
          "execution_count": 73
        }
      ]
    },
    {
      "cell_type": "code",
      "source": [
        "#@title OLD CAPTIONS FUNC\n",
        "def align_captions_poses(self, captions, pose_dict, index_df, video_idx):\n",
        "    ''' saves poses and captions in correct format,\n",
        "        with correct split per frame. '''\n",
        "\n",
        "    print(f'Aligning poses and caps for video {video_idx}...')\n",
        "    video_fps = self.videos_df.loc[video_idx, ('fps')]\n",
        "    file_idx = 0 if index_df.empty else index_df['file_idx'].iloc[-1]+1\n",
        "    curr_timestamp = 0\n",
        "\n",
        "    for caption in captions:\n",
        "      start = round(caption['start']*video_fps)\n",
        "      end = round(caption['end']*video_fps)\n",
        "      frame_idxs = [i for i in range(start, end)]\n",
        "\n",
        "      if caption['start'] > curr_timestamp:\n",
        "        # create extra file for poses with missing captions...\n",
        "        end_frame = (start+1 if start<len(pose_dict['smpl24_joints'])-1 else len(pose_dict['smpl24_joints']-1))\n",
        "        frame_idxs = [i for i in range(round(curr_timestamp*video_fps), end_frame)]\n",
        "        joints = np.array([pose_dict['smpl24_joints'][idx] for idx in frame_idxs])\n",
        "        if joints.shape[-1] == 0:\n",
        "          print(frame_idxs, end_frame, start)\n",
        "          print(curr_timestamp, video_fps, end_frame)\n",
        "\n",
        "        file_name = get_filename(file_idx)\n",
        "        with open(osp.join(osp.join(data_dir, 'texts'), f'{file_name}.txt'), 'w') as f:\n",
        "          f.write(f' # /X#0.0#0.0\\n')\n",
        "\n",
        "        for side in ['', 'M']: # mirror pose\n",
        "          if side == 'M':\n",
        "            joints = swap_left_right(joints)\n",
        "\n",
        "          np.save(osp.join(osp.join(data_dir, 'joints'), f'{side}{file_name}.npy'), joints)\n",
        "\n",
        "          df_row = {'idx': file_idx,\n",
        "                    'video_idx': video_idx,             # which video it belongs to\n",
        "                    'start_frame': 0, 'end_frame': 0,   # for humanml3d\n",
        "                    'start_time': curr_timestamp,\n",
        "                    'end_time': caption['start'],         # real start/end times\n",
        "                    'new_name': f'{side}{file_name}.npy',              # for humanml3d\n",
        "                    'fps': video_fps, 'caption': \"\"}\n",
        "          index_df = pd.concat([index_df, pd.DataFrame([df_row])], ignore_index=True)\n",
        "\n",
        "        file_idx += 1\n",
        "\n",
        "      # for poses with captions\n",
        "      frame_idxs = [i for i, frame_nr in enumerate(pose_dict['frame_ids']) if frame_nr >= start and frame_nr <= end]\n",
        "      joints = np.array([pose_dict['smpl24_joints'][idx] for idx in frame_idxs])\n",
        "\n",
        "      file_name = get_filename(file_idx)\n",
        "      with open(osp.join(osp.join(data_dir, 'texts'), f'{file_name}.txt'), 'w') as f:\n",
        "          f.write(f'{caption[\"text\"]}#{caption[\"tokens\"]}#0.0#0.0\\n')\n",
        "\n",
        "      for side in ['', 'M']: # mirror pose\n",
        "        if side == 'M':\n",
        "          joints = swap_left_right(joints)\n",
        "\n",
        "        np.save(osp.join(osp.join(data_dir, 'joints'), f'{side}{file_name}.npy'), joints)\n",
        "\n",
        "        df_row = {'idx': file_idx,\n",
        "                  'video_idx': video_idx,             # which video it belongs to\n",
        "                  'start_frame': 0, 'end_frame': 0,   # for humanml3d\n",
        "                  'start_time': caption['start'],\n",
        "                  'end_time': caption['end'],         # real start/end times\n",
        "                  'new_name': f'{side}{file_name}.npy',              # for humanml3d\n",
        "                  'fps': video_fps, 'caption': caption[\"text\"]}\n",
        "        index_df = pd.concat([index_df, pd.DataFrame([df_row])], ignore_index=True)\n",
        "\n",
        "      file_idx += 1\n",
        "      curr_timestamp = caption['end']\n",
        "\n",
        "    return index_df"
      ],
      "metadata": {
        "cellView": "form",
        "id": "ZdaaOXXuTGG4"
      },
      "execution_count": null,
      "outputs": []
    },
    {
      "cell_type": "markdown",
      "source": [
        "### Visualisations"
      ],
      "metadata": {
        "id": "J7FPusS_Hlfy"
      }
    },
    {
      "cell_type": "code",
      "source": [
        "!pip install matplotlib==3.3.4"
      ],
      "metadata": {
        "colab": {
          "base_uri": "https://localhost:8080/"
        },
        "id": "uirBPItTw6EG",
        "outputId": "f3dd78e0-2881-48aa-eb65-277a44420f27"
      },
      "execution_count": null,
      "outputs": [
        {
          "output_type": "stream",
          "name": "stdout",
          "text": [
            "Requirement already satisfied: matplotlib==3.3.4 in /usr/local/lib/python3.10/dist-packages (3.3.4)\n",
            "Requirement already satisfied: cycler>=0.10 in /usr/local/lib/python3.10/dist-packages (from matplotlib==3.3.4) (0.12.0)\n",
            "Requirement already satisfied: kiwisolver>=1.0.1 in /usr/local/lib/python3.10/dist-packages (from matplotlib==3.3.4) (1.4.5)\n",
            "Requirement already satisfied: numpy>=1.15 in /usr/local/lib/python3.10/dist-packages (from matplotlib==3.3.4) (1.23.5)\n",
            "Requirement already satisfied: pillow>=6.2.0 in /usr/local/lib/python3.10/dist-packages (from matplotlib==3.3.4) (9.4.0)\n",
            "Requirement already satisfied: pyparsing!=2.0.4,!=2.1.2,!=2.1.6,>=2.0.3 in /usr/local/lib/python3.10/dist-packages (from matplotlib==3.3.4) (3.1.1)\n",
            "Requirement already satisfied: python-dateutil>=2.1 in /usr/local/lib/python3.10/dist-packages (from matplotlib==3.3.4) (2.8.2)\n",
            "Requirement already satisfied: six>=1.5 in /usr/local/lib/python3.10/dist-packages (from python-dateutil>=2.1->matplotlib==3.3.4) (1.16.0)\n"
          ]
        }
      ]
    },
    {
      "cell_type": "code",
      "source": [
        "#@title vizcode\n",
        "import os\n",
        "from os.path import join as pjoin\n",
        "from tqdm import tqdm\n",
        "import numpy as np\n",
        "import matplotlib\n",
        "import matplotlib.pyplot as plt\n",
        "from mpl_toolkits.mplot3d import Axes3D\n",
        "from matplotlib.animation import FuncAnimation, PillowWriter\n",
        "from mpl_toolkits.mplot3d.art3d import Poly3DCollection\n",
        "import mpl_toolkits.mplot3d.axes3d as p3\n",
        "\n",
        "def plot_3d_motion(save_path, kinematic_tree, joints, title, figsize=(10, 10), fps=120, radius=4):\n",
        "\n",
        "    title_sp = title.split(' ')\n",
        "    if len(title_sp) > 10:\n",
        "        title = '\\n'.join([' '.join(title_sp[:10]), ' '.join(title_sp[10:])])\n",
        "    def init():\n",
        "        ax.set_xlim3d([-radius / 2, radius / 2])\n",
        "        ax.set_ylim3d([0, radius])\n",
        "        ax.set_zlim3d([0, radius])\n",
        "        fig.suptitle(title, fontsize=20)\n",
        "        ax.grid(b=False)\n",
        "\n",
        "    def plot_xzPlane(minx, maxx, miny, minz, maxz):\n",
        "        ## Plot a plane XZ\n",
        "        verts = [\n",
        "            [minx, miny, minz],\n",
        "            [minx, miny, maxz],\n",
        "            [maxx, miny, maxz],\n",
        "            [maxx, miny, minz]\n",
        "        ]\n",
        "        xz_plane = Poly3DCollection([verts])\n",
        "        xz_plane.set_facecolor((0.5, 0.5, 0.5, 0.5))\n",
        "        ax.add_collection3d(xz_plane)\n",
        "\n",
        "    data = joints.copy().reshape(len(joints), -1, 3)\n",
        "    print(f\"data 1 shape: {data.shape}\")\n",
        "    fig = plt.figure(figsize=figsize)\n",
        "    ax = p3.Axes3D(fig)\n",
        "    init()\n",
        "    MINS = data.min(axis=0).min(axis=0)\n",
        "    MAXS = data.max(axis=0).max(axis=0)\n",
        "    colors = ['red', 'blue', 'black', 'red', 'blue',\n",
        "              'darkblue', 'darkblue', 'darkblue', 'darkblue', 'darkblue',\n",
        "             'darkred', 'darkred','darkred','darkred','darkred']\n",
        "    frame_number = data.shape[0]\n",
        "\n",
        "    height_offset = MINS[1]\n",
        "    data[:, :, 1] -= height_offset\n",
        "    trajec = data[:, 0, [0, 2]]\n",
        "\n",
        "    data[..., 0] -= data[:, 0:1, 0]\n",
        "    data[..., 2] -= data[:, 0:1, 2]\n",
        "    print(f\"data final shape: {data.shape}\")\n",
        "\n",
        "    def update(index):\n",
        "        ax.lines = []\n",
        "        ax.collections = []\n",
        "        ax.view_init(elev=120, azim=-90)\n",
        "        ax.dist = 7.5\n",
        "        plot_xzPlane(MINS[0]-trajec[index, 0], MAXS[0]-trajec[index, 0], 0, MINS[2]-trajec[index, 1], MAXS[2]-trajec[index, 1])\n",
        "\n",
        "        if index > 1:\n",
        "            ax.plot3D(trajec[:index, 0]-trajec[index, 0], np.zeros_like(trajec[:index, 0]), trajec[:index, 1]-trajec[index, 1], linewidth=1.0,\n",
        "                      color='blue')\n",
        "\n",
        "\n",
        "        for i, (chain, color) in enumerate(zip(kinematic_tree, colors)):\n",
        "            if i < 5:\n",
        "                linewidth = 4.0\n",
        "            else:\n",
        "                linewidth = 2.0\n",
        "            ax.plot3D(data[index, chain, 0], data[index, chain, 1], data[index, chain, 2], linewidth=linewidth, color=color)\n",
        "\n",
        "        plt.axis('off')\n",
        "        ax.set_xticklabels([])\n",
        "        ax.set_yticklabels([])\n",
        "        ax.set_zticklabels([])\n",
        "\n",
        "    ani = FuncAnimation(fig, update, frames=frame_number, interval=1000/fps, repeat=False)\n",
        "\n",
        "    ani.save(save_path, fps=fps)\n",
        "    print('ani is saved')\n",
        "    plt.close()\n"
      ],
      "metadata": {
        "id": "cyQhcnbMHmvC",
        "cellView": "form"
      },
      "execution_count": null,
      "outputs": []
    },
    {
      "cell_type": "code",
      "source": [
        "import joblib\n",
        "kinematic_chain = [[0, 2, 5, 8, 11], [0, 1, 4, 7, 10], [0, 3, 6, 9, 12, 15], [9, 14, 17, 19, 21], [9, 13, 16, 18, 20]]\n",
        "save_path = '/content/pleasebeok6.mp4'\n",
        "# vibe_output = joblib.load('/content/drive/MyDrive/THESIS/data/SWDance/vibe_output/0.pkl')\n",
        "# plot_3d_motion(save_path, kinematic_chain, vibe_output['smpl24_joints_smooth'], title=\" \", fps=25, radius=4)"
      ],
      "metadata": {
        "id": "rx70S6jDHrOR"
      },
      "execution_count": null,
      "outputs": []
    },
    {
      "cell_type": "code",
      "source": [
        "joints = np.load('/content/drive/MyDrive/THESIS/data/SWDance/joints/000000.npy')\n",
        "plot_3d_motion(save_path, kinematic_chain, joints, title=\" \", fps=25, radius=4)"
      ],
      "metadata": {
        "colab": {
          "base_uri": "https://localhost:8080/"
        },
        "id": "hpoVCqCQ5JEJ",
        "outputId": "fa1d75b0-d873-4161-b7fe-b63fb91b4169"
      },
      "execution_count": null,
      "outputs": [
        {
          "output_type": "stream",
          "name": "stdout",
          "text": [
            "data 1 shape: (50, 24, 3)\n",
            "data final shape: (50, 24, 3)\n",
            "ani is saved\n"
          ]
        }
      ]
    },
    {
      "cell_type": "markdown",
      "source": [
        "### Test with this other thing..... ???"
      ],
      "metadata": {
        "id": "5CGh1irtHFhL"
      }
    },
    {
      "cell_type": "code",
      "source": [
        "# is it faster?\n",
        "# is it better?\n",
        "# idk idk\n",
        "# run it on a folder of images and seee :)"
      ],
      "metadata": {
        "id": "_gGVW_dXHTlK"
      },
      "execution_count": null,
      "outputs": []
    },
    {
      "cell_type": "code",
      "execution_count": null,
      "metadata": {
        "id": "Axm3SI936RD6"
      },
      "outputs": [],
      "source": [
        "import tensorflow as tf\n",
        "import tensorflow_hub as hub\n",
        "\n",
        "model = hub.load('https://bit.ly/metrabs_l')  # Takes about 3 minutes\n",
        "! wget -q https://istvansarandi.com/eccv22_demo/test.jpg"
      ]
    },
    {
      "cell_type": "code",
      "source": [
        "img = tf.image.decode_image(tf.io.read_file('test.jpg'))\n",
        "pred = model.detect_poses(img, skeleton='smpl_24')\n",
        "pred['poses3d'].shape"
      ],
      "metadata": {
        "id": "fRrZZ4_d-Z90",
        "outputId": "001a35c9-56e2-488f-ebe1-df53fac77093",
        "colab": {
          "base_uri": "https://localhost:8080/"
        }
      },
      "execution_count": null,
      "outputs": [
        {
          "output_type": "execute_result",
          "data": {
            "text/plain": [
              "TensorShape([3, 24, 3])"
            ]
          },
          "metadata": {},
          "execution_count": 9
        }
      ]
    },
    {
      "cell_type": "code",
      "source": [
        "def plot_results(image, pred, joint_names, joint_edges):\n",
        "    import matplotlib.pyplot as plt\n",
        "    from mpl_toolkits.mplot3d import Axes3D\n",
        "    from matplotlib.patches import Rectangle\n",
        "    fig = plt.figure(figsize=(10, 5.2))\n",
        "    image_ax = fig.add_subplot(1, 2, 1)\n",
        "    image_ax.imshow(image.numpy())\n",
        "    for x, y, w, h, c in pred['boxes'].numpy():\n",
        "        image_ax.add_patch(Rectangle((x, y), w, h, fill=False))\n",
        "\n",
        "    pose_ax = fig.add_subplot(1, 2, 2, projection='3d')\n",
        "    pose_ax.view_init(5, -75)\n",
        "    pose_ax.set_xlim3d(-1500, 1500)\n",
        "    pose_ax.set_zlim3d(-1500, 1500)\n",
        "    pose_ax.set_ylim3d(2000, 5000)\n",
        "    poses3d = pred['poses3d'].numpy()\n",
        "    poses3d[..., 1], poses3d[..., 2] = poses3d[..., 2], -poses3d[..., 1]\n",
        "    for pose3d, pose2d in zip(poses3d, pred['poses2d'].numpy()):\n",
        "        for i_start, i_end in joint_edges:\n",
        "            image_ax.plot(*zip(pose2d[i_start], pose2d[i_end]), marker='o', markersize=2)\n",
        "            pose_ax.plot(*zip(pose3d[i_start], pose3d[i_end]), marker='o', markersize=2)\n",
        "        image_ax.scatter(*pose2d.T, s=2)\n",
        "        pose_ax.scatter(*pose3d.T, s=2)"
      ],
      "metadata": {
        "id": "ZHH5aIC9FEgq"
      },
      "execution_count": null,
      "outputs": []
    },
    {
      "cell_type": "code",
      "source": [
        "joint_names = model.per_skeleton_joint_names['smpl_24'].numpy().astype(str)\n",
        "joint_edges = model.per_skeleton_joint_edges['smpl_24'].numpy()\n",
        "plot_results(img, pred, joint_names, joint_edges)"
      ],
      "metadata": {
        "colab": {
          "base_uri": "https://localhost:8080/",
          "height": 389
        },
        "id": "BKz-oYq_HPDq",
        "outputId": "8e82da50-d6de-4351-96a5-0b30538e5784"
      },
      "execution_count": null,
      "outputs": [
        {
          "output_type": "display_data",
          "data": {
            "text/plain": [
              "<Figure size 1000x520 with 2 Axes>"
            ],
            "image/png": "[encoded data removed]"
          },
          "metadata": {}
        }
      ]
    },
    {
      "cell_type": "markdown",
      "source": [
        "### Cleaning poses on floor!!!"
      ],
      "metadata": {
        "id": "Jc0otOV70iJS"
      }
    },
    {
      "cell_type": "code",
      "source": [
        "import joblib\n",
        "vibe_dict = joblib.load('/content/drive/MyDrive/THESIS/data/SWDance/vibe_output/0.pkl')\n",
        "vibe_dict.keys()"
      ],
      "metadata": {
        "colab": {
          "base_uri": "https://localhost:8080/"
        },
        "id": "3LaklGVe0jpL",
        "outputId": "43eab564-0832-45cb-dc46-433f6b2c7f94"
      },
      "execution_count": null,
      "outputs": [
        {
          "output_type": "execute_result",
          "data": {
            "text/plain": [
              "dict_keys(['pred_cam', 'verts', 'pose', 'betas', 'joints3d', 'bboxes', 'frame_ids', 'smpl24_joints'])"
            ]
          },
          "metadata": {},
          "execution_count": 5
        }
      ]
    },
    {
      "cell_type": "code",
      "source": [
        "def apply_xy_movement(bboxes, joints):\n",
        "\n",
        "  # normalise bboxes between 0 & 1\n",
        "  bbox_diff = np.max(bboxes, axis=0) - np.min(bboxes, axis=0)\n",
        "  bbox_norm = (bboxes-np.min(bboxes, axis=0))/bbox_diff\n",
        "\n",
        "  origin = bbox_norm[0]\n",
        "  delta_bbox = bbox_norm - origin\n",
        "\n",
        "  joints = joints.copy()\n",
        "  for i, joint in enumerate(joints):\n",
        "    joints[i, :, 0] = joints[i, :, 0] - delta_bbox[i, 0]\n",
        "    joints[i, :, 1] = joints[i, :, 1] - delta_bbox[i, 1]\n",
        "\n",
        "  return joints\n",
        "\n",
        "def feet_on_the_floor(joints):\n",
        "\n",
        "  # lowest y coordinate of feet joints (= 10 & 11)\n",
        "  lowest = min(np.min(joints[:, 10, 1]), np.min(joints[:, 11, 1]))\n",
        "  diff = 0 - lowest # difference with the floor..\n",
        "  joints[:, :, 1] = joints[:, :, 1] + diff # only change y position to be normalized above floor...\n",
        "  return joints"
      ],
      "metadata": {
        "id": "wRyOa-3YWjHa"
      },
      "execution_count": null,
      "outputs": []
    },
    {
      "cell_type": "code",
      "source": [
        "import numpy as np\n",
        "from scipy.signal import savgol_filter\n",
        "\n",
        "j = vibe_dict['smpl24_joints']\n",
        "b = vibe_dict['bboxes']\n",
        "\n",
        "j_new = apply_xy_movement(b, j)\n",
        "j_new2 = feet_on_the_floor(j_new)\n",
        "j_smooth = savgol_filter(j_new2, window_length=8, polyorder=3, axis=0)"
      ],
      "metadata": {
        "id": "vAjaQuoRpyzR"
      },
      "execution_count": null,
      "outputs": []
    },
    {
      "cell_type": "code",
      "source": [
        "kinematic_chain = [[0, 2, 5, 8, 11], [0, 1, 4, 7, 10], [0, 3, 6, 9, 12, 15], [9, 14, 17, 19, 21], [9, 13, 16, 18, 20]]\n",
        "plot_3d_motion('/content/feetandetc.mp4', kinematic_chain, j_smooth, title=\" \", fps=25, radius=4)"
      ],
      "metadata": {
        "colab": {
          "base_uri": "https://localhost:8080/"
        },
        "id": "DdJ9IZWWqXwb",
        "outputId": "552bd0c0-3119-4246-953e-f83471474d45"
      },
      "execution_count": null,
      "outputs": [
        {
          "output_type": "stream",
          "name": "stdout",
          "text": [
            "data 1 shape: (482, 24, 3)\n",
            "data final shape: (482, 24, 3)\n",
            "ani is saved\n"
          ]
        }
      ]
    },
    {
      "cell_type": "code",
      "source": [
        "# dit moet je doen om alles te laten verplaatsen vanaf origin!!\n",
        "\n",
        "def normalize(arr):\n",
        "\n",
        "  diff_arr = np.max(arr, axis=0) - np.min(arr, axis=0)\n",
        "  print(diff_arr)\n",
        "\n",
        "  new_arr = (arr-np.min(arr))*2/diff_arr + -1\n",
        "  return new_arr\n",
        "\n",
        "\n",
        "n = normalize(vibe_dict['bboxes'])\n",
        "origin = n[0]\n",
        "d = n - origin\n",
        "\n",
        "q = vibe_dict['smpl24_joints'].copy()\n",
        "for i, pose in enumerate(q):\n",
        "  q[i, :, 0] = q[i, :, 0] - d[i, 0]\n",
        "  q[i, :, 1] = q[i, :, 1] - d[i, 1]\n",
        "q.shape"
      ],
      "metadata": {
        "colab": {
          "base_uri": "https://localhost:8080/",
          "height": 421
        },
        "id": "C0gUvsz3-9Yt",
        "outputId": "add838fa-5cbc-4534-9eb2-839c052810f1"
      },
      "execution_count": null,
      "outputs": [
        {
          "output_type": "error",
          "ename": "NameError",
          "evalue": "ignored",
          "traceback": [
            "\u001b[0;31m---------------------------------------------------------------------------\u001b[0m",
            "\u001b[0;31mNameError\u001b[0m                                 Traceback (most recent call last)",
            "\u001b[0;32m<ipython-input-7-ca207da35ab1>\u001b[0m in \u001b[0;36m<cell line: 12>\u001b[0;34m()\u001b[0m\n\u001b[1;32m     10\u001b[0m \u001b[0;34m\u001b[0m\u001b[0m\n\u001b[1;32m     11\u001b[0m \u001b[0;34m\u001b[0m\u001b[0m\n\u001b[0;32m---> 12\u001b[0;31m \u001b[0mn\u001b[0m \u001b[0;34m=\u001b[0m \u001b[0mnormalize\u001b[0m\u001b[0;34m(\u001b[0m\u001b[0mvibe_dict\u001b[0m\u001b[0;34m[\u001b[0m\u001b[0;34m'bboxes'\u001b[0m\u001b[0;34m]\u001b[0m\u001b[0;34m)\u001b[0m\u001b[0;34m\u001b[0m\u001b[0;34m\u001b[0m\u001b[0m\n\u001b[0m\u001b[1;32m     13\u001b[0m \u001b[0morigin\u001b[0m \u001b[0;34m=\u001b[0m \u001b[0mn\u001b[0m\u001b[0;34m[\u001b[0m\u001b[0;36m0\u001b[0m\u001b[0;34m]\u001b[0m\u001b[0;34m\u001b[0m\u001b[0;34m\u001b[0m\u001b[0m\n\u001b[1;32m     14\u001b[0m \u001b[0md\u001b[0m \u001b[0;34m=\u001b[0m \u001b[0mn\u001b[0m \u001b[0;34m-\u001b[0m \u001b[0morigin\u001b[0m\u001b[0;34m\u001b[0m\u001b[0;34m\u001b[0m\u001b[0m\n",
            "\u001b[0;32m<ipython-input-7-ca207da35ab1>\u001b[0m in \u001b[0;36mnormalize\u001b[0;34m(arr)\u001b[0m\n\u001b[1;32m      3\u001b[0m \u001b[0;32mdef\u001b[0m \u001b[0mnormalize\u001b[0m\u001b[0;34m(\u001b[0m\u001b[0marr\u001b[0m\u001b[0;34m)\u001b[0m\u001b[0;34m:\u001b[0m\u001b[0;34m\u001b[0m\u001b[0;34m\u001b[0m\u001b[0m\n\u001b[1;32m      4\u001b[0m \u001b[0;34m\u001b[0m\u001b[0m\n\u001b[0;32m----> 5\u001b[0;31m   \u001b[0mdiff_arr\u001b[0m \u001b[0;34m=\u001b[0m \u001b[0mnp\u001b[0m\u001b[0;34m.\u001b[0m\u001b[0mmax\u001b[0m\u001b[0;34m(\u001b[0m\u001b[0marr\u001b[0m\u001b[0;34m,\u001b[0m \u001b[0maxis\u001b[0m\u001b[0;34m=\u001b[0m\u001b[0;36m0\u001b[0m\u001b[0;34m)\u001b[0m \u001b[0;34m-\u001b[0m \u001b[0mnp\u001b[0m\u001b[0;34m.\u001b[0m\u001b[0mmin\u001b[0m\u001b[0;34m(\u001b[0m\u001b[0marr\u001b[0m\u001b[0;34m,\u001b[0m \u001b[0maxis\u001b[0m\u001b[0;34m=\u001b[0m\u001b[0;36m0\u001b[0m\u001b[0;34m)\u001b[0m\u001b[0;34m\u001b[0m\u001b[0;34m\u001b[0m\u001b[0m\n\u001b[0m\u001b[1;32m      6\u001b[0m   \u001b[0mprint\u001b[0m\u001b[0;34m(\u001b[0m\u001b[0mdiff_arr\u001b[0m\u001b[0;34m)\u001b[0m\u001b[0;34m\u001b[0m\u001b[0;34m\u001b[0m\u001b[0m\n\u001b[1;32m      7\u001b[0m \u001b[0;34m\u001b[0m\u001b[0m\n",
            "\u001b[0;31mNameError\u001b[0m: name 'np' is not defined"
          ]
        }
      ]
    },
    {
      "cell_type": "code",
      "source": [
        "kinematic_chain = [[0, 2, 5, 8, 11], [0, 1, 4, 7, 10], [0, 3, 6, 9, 12, 15], [9, 14, 17, 19, 21], [9, 13, 16, 18, 20]]\n",
        "save_path = '/content/000000.mp4'\n",
        "plot_3d_motion(save_path, kinematic_chain, q, title=\" \", fps=8, radius=4)"
      ],
      "metadata": {
        "colab": {
          "base_uri": "https://localhost:8080/"
        },
        "id": "69feWLTjAghD",
        "outputId": "0801c926-d403-494e-eacd-05a695ec0f7d"
      },
      "execution_count": null,
      "outputs": [
        {
          "output_type": "stream",
          "name": "stdout",
          "text": [
            "data 1 shape: (482, 24, 3)\n",
            "data final shape: (482, 24, 3)\n",
            "ani is saved\n"
          ]
        }
      ]
    },
    {
      "cell_type": "code",
      "source": [
        "joints = vibe_dict['smpl24_joints']"
      ],
      "metadata": {
        "colab": {
          "base_uri": "https://localhost:8080/",
          "height": 219
        },
        "id": "-vNTckg8phYh",
        "outputId": "08fa293a-697a-4498-8606-235c19525755"
      },
      "execution_count": null,
      "outputs": [
        {
          "output_type": "error",
          "ename": "NameError",
          "evalue": "ignored",
          "traceback": [
            "\u001b[0;31m---------------------------------------------------------------------------\u001b[0m",
            "\u001b[0;31mNameError\u001b[0m                                 Traceback (most recent call last)",
            "\u001b[0;32m<ipython-input-2-bb0a37e6b59d>\u001b[0m in \u001b[0;36m<cell line: 1>\u001b[0;34m()\u001b[0m\n\u001b[0;32m----> 1\u001b[0;31m \u001b[0mjoints\u001b[0m \u001b[0;34m=\u001b[0m \u001b[0mvibe_dict\u001b[0m\u001b[0;34m[\u001b[0m\u001b[0;34m'smpl24_joints'\u001b[0m\u001b[0;34m]\u001b[0m\u001b[0;34m\u001b[0m\u001b[0;34m\u001b[0m\u001b[0m\n\u001b[0m",
            "\u001b[0;31mNameError\u001b[0m: name 'vibe_dict' is not defined"
          ]
        }
      ]
    },
    {
      "cell_type": "code",
      "source": [
        "r = q.copy()\n",
        "r2 = feet_on_the_floor(r)\n",
        "plot_3d_motion('/content/feetonthefloor.mp4', kinematic_chain, r2, title=\" \", fps=8, radius=4)"
      ],
      "metadata": {
        "colab": {
          "base_uri": "https://localhost:8080/"
        },
        "id": "5ciUlpafZdNH",
        "outputId": "e74cff18-108f-498c-b503-ae4d6a139e05"
      },
      "execution_count": null,
      "outputs": [
        {
          "output_type": "stream",
          "name": "stdout",
          "text": [
            "data 1 shape: (482, 24, 3)\n",
            "data final shape: (482, 24, 3)\n",
            "ani is saved\n"
          ]
        }
      ]
    },
    {
      "cell_type": "code",
      "source": [
        "# applying savgol filter?\n",
        "from scipy.signal import savgol_filter\n",
        "\n",
        "r2_smooth = savgol_filter(r2, window_length=8, polyorder=3, axis=0)\n",
        "r2_smooth.shape"
      ],
      "metadata": {
        "id": "F2oXKm2LYN-8",
        "colab": {
          "base_uri": "https://localhost:8080/"
        },
        "outputId": "d9c608e0-fc91-464e-d9db-71b2e34d1b59"
      },
      "execution_count": null,
      "outputs": [
        {
          "output_type": "execute_result",
          "data": {
            "text/plain": [
              "(482, 24, 3)"
            ]
          },
          "metadata": {},
          "execution_count": 74
        }
      ]
    },
    {
      "cell_type": "code",
      "source": [
        "plot_3d_motion('/content/smooth_feet.mp4', kinematic_chain, r2_smooth, title=\" \", fps=8, radius=4)"
      ],
      "metadata": {
        "colab": {
          "base_uri": "https://localhost:8080/"
        },
        "id": "s7S9iWaShKGV",
        "outputId": "8b9d0948-108e-483e-986f-a9fbbecfa9a2"
      },
      "execution_count": null,
      "outputs": [
        {
          "output_type": "stream",
          "name": "stdout",
          "text": [
            "data 1 shape: (482, 24, 3)\n",
            "data final shape: (482, 24, 3)\n",
            "ani is saved\n"
          ]
        }
      ]
    },
    {
      "cell_type": "code",
      "source": [
        "np.array_equal(r2, r2_smooth)"
      ],
      "metadata": {
        "colab": {
          "base_uri": "https://localhost:8080/"
        },
        "id": "NKj6fgOphNto",
        "outputId": "cb6e31e3-8c7a-468c-c06d-baf68e51b3e0"
      },
      "execution_count": null,
      "outputs": [
        {
          "output_type": "execute_result",
          "data": {
            "text/plain": [
              "False"
            ]
          },
          "metadata": {},
          "execution_count": 77
        }
      ]
    },
    {
      "cell_type": "code",
      "source": [],
      "metadata": {
        "id": "ADjjNjv0hZLe"
      },
      "execution_count": null,
      "outputs": []
    },
    {
      "cell_type": "markdown",
      "source": [
        "### Test yt video quality..."
      ],
      "metadata": {
        "id": "G4oIXmyZlq5b"
      }
    },
    {
      "cell_type": "code",
      "source": [
        "url = 'https://youtu.be/fSHjGPWmkb8?si=dGKHHuQFkyriv3hi'\n",
        "yt = YouTube(url)\n",
        "# video_fps = yt.streams[0].fps\n",
        "# video_file = yt.streams.first().download(output_path='/tmp', filename=f'{video_idx}.mp4')\n",
        "yt.streams.first()"
      ],
      "metadata": {
        "colab": {
          "base_uri": "https://localhost:8080/"
        },
        "id": "0JmtyO-5luNb",
        "outputId": "fb7c2aa3-44cb-46af-f45c-38ca41dea9f7"
      },
      "execution_count": null,
      "outputs": [
        {
          "output_type": "execute_result",
          "data": {
            "text/plain": [
              "<Stream: itag=\"17\" mime_type=\"video/3gpp\" res=\"144p\" fps=\"8fps\" vcodec=\"mp4v.20.3\" acodec=\"mp4a.40.2\" progressive=\"True\" type=\"video\">"
            ]
          },
          "metadata": {},
          "execution_count": 61
        }
      ]
    },
    {
      "cell_type": "code",
      "source": [
        "yt.streams[0].resolution"
      ],
      "metadata": {
        "colab": {
          "base_uri": "https://localhost:8080/",
          "height": 36
        },
        "id": "H_A1yUdDmASp",
        "outputId": "c3cff44e-f243-4aeb-c3b7-ab005d845dc6"
      },
      "execution_count": null,
      "outputs": [
        {
          "output_type": "execute_result",
          "data": {
            "text/plain": [
              "'144p'"
            ],
            "application/vnd.google.colaboratory.intrinsic+json": {
              "type": "string"
            }
          },
          "metadata": {},
          "execution_count": 67
        }
      ]
    },
    {
      "cell_type": "code",
      "source": [
        "yt.streams.filter(progressive=True, file_extension='mp4').order_by('resolution').desc().first()"
      ],
      "metadata": {
        "colab": {
          "base_uri": "https://localhost:8080/"
        },
        "id": "dsBl9ksLm7xk",
        "outputId": "a4765ef6-2e5d-431c-d7d4-ce1de1794aec"
      },
      "execution_count": null,
      "outputs": [
        {
          "output_type": "execute_result",
          "data": {
            "text/plain": [
              "<Stream: itag=\"22\" mime_type=\"video/mp4\" res=\"720p\" fps=\"25fps\" vcodec=\"avc1.64001F\" acodec=\"mp4a.40.2\" progressive=\"True\" type=\"video\">"
            ]
          },
          "metadata": {},
          "execution_count": 88
        }
      ]
    },
    {
      "cell_type": "code",
      "source": [
        "\n",
        "sentiment_pipeline = pipeline(\"sentiment-analysis\")\n",
        "data = [\"I love you\", \"I hate you\"]\n",
        "sentiment_pipeline(data)"
      ],
      "metadata": {
        "id": "FAvA8AeinRGe"
      },
      "execution_count": null,
      "outputs": []
    },
    {
      "cell_type": "code",
      "source": [
        "import nltk\n",
        "\n",
        "nltk.downloader.download('vader_lexicon')\n",
        "sia = nltk.sentiment.vader.SentimentIntensityAnalyzer()\n",
        "c = sia.polarity_scores('i love you')['compound']\n",
        "0.5 <= 0.6 <= c"
      ],
      "metadata": {
        "colab": {
          "base_uri": "https://localhost:8080/"
        },
        "id": "6wt-9Puxupzx",
        "outputId": "c2c1e8bf-bc57-465a-ff5e-6b4591219fea"
      },
      "execution_count": null,
      "outputs": [
        {
          "output_type": "stream",
          "name": "stderr",
          "text": [
            "[nltk_data] Downloading package vader_lexicon to /root/nltk_data...\n",
            "[nltk_data]   Package vader_lexicon is already up-to-date!\n"
          ]
        },
        {
          "output_type": "execute_result",
          "data": {
            "text/plain": [
              "{'neg': 0.0, 'neu': 0.192, 'pos': 0.808, 'compound': 0.6369}"
            ]
          },
          "metadata": {},
          "execution_count": 17
        }
      ]
    },
    {
      "cell_type": "code",
      "source": [],
      "metadata": {
        "colab": {
          "base_uri": "https://localhost:8080/"
        },
        "id": "qNeQvKewurR-",
        "outputId": "05b30c5e-5ef0-4155-bfb8-3edb8a138849"
      },
      "execution_count": null,
      "outputs": [
        {
          "output_type": "execute_result",
          "data": {
            "text/plain": [
              "True"
            ]
          },
          "metadata": {},
          "execution_count": 23
        }
      ]
    },
    {
      "cell_type": "code",
      "source": [],
      "metadata": {
        "id": "s172N_4SvX8q"
      },
      "execution_count": null,
      "outputs": []
    },
    {
      "cell_type": "markdown",
      "source": [
        "### The OLD DP!!"
      ],
      "metadata": {
        "id": "XDntWbgqK68y"
      }
    },
    {
      "cell_type": "code",
      "source": [
        "VIDEO_SAVEPATH = '/content/drive/MyDrive/THESIS/data/SWDance/videos'\n",
        "\n",
        "class DataProcessor:\n",
        "\n",
        "  def __init__(self, data_dir, device=None):\n",
        "    ''' In video_path, insert either a directory where your videos are stored,\n",
        "        or otherwise, a link to a single youtube video or a youtube playlist\n",
        "        link '''\n",
        "    self.data_dir = data_dir\n",
        "    self.videos_df = pd.read_csv(osp.join(self.data_dir, 'video_files.csv'))\n",
        "\n",
        "    self.device = DEVICE if device is None else device\n",
        "\n",
        "    self.whisper_model = WHISPER_MODEL\n",
        "    self.glove_model = GLOVE_MODEL\n",
        "    self.emotion_tokenizer = EMOTION_TOKENIZER\n",
        "    self.emotion_model = EMOTION_MODEL\n",
        "    self.vibe_model = VIBE_MODEL\n",
        "    self.MPT = MY_MPT\n",
        "    self.SMPL_layer = SMPL_LAYER\n",
        "    self.nlp = NLP\n",
        "\n",
        "    self.min_frames = 25\n",
        "    self.vibe_batch_size = 450\n",
        "    self.tracker_batch_size = 12\n",
        "    self.yolo_img_size = 416\n",
        "    self.display = False\n",
        "    self.render = False\n",
        "    self.bbox_scale = 1.1\n",
        "    self.smooth_pose = False\n",
        "\n",
        "  def download_yt_video(self, url, video_idx):\n",
        "\n",
        "    if osp.isfile(f'{VIDEO_SAVEPATH}/{video_idx}.mp4'):\n",
        "      print(f'yt video exists: {VIDEO_SAVEPATH}/{video_idx}.mp4')\n",
        "      return f'{VIDEO_SAVEPATH}/{video_idx}.mp4', self.videos_df.loc[video_idx, ('fps')]\n",
        "\n",
        "    yt = YouTube(url)\n",
        "    stream = yt.streams.filter(progressive=True, file_extension='mp4').order_by('resolution').desc().first()\n",
        "    # stream = yt.streams.filter(progressive=True, file_extension='mp4').order_by('resolution').first()\n",
        "    print(f'video resolution= {stream.resolution}')\n",
        "    video_fps = stream.fps\n",
        "    video_file = stream.download(output_path=f'{VIDEO_SAVEPATH}', filename=f'{video_idx}.mp4')\n",
        "\n",
        "    if video_file is None:\n",
        "      exit('Youtube url is not valid!')\n",
        "    print(f'YouTube Video has been downloaded to {video_file}...')\n",
        "    return video_file, video_fps\n",
        "\n",
        "  def get_whisper_captions(self, video_file):\n",
        "    video_idx = osp.basename(video_file).replace('.mp4', '')\n",
        "    audio_file = osp.join('/tmp', f'{video_idx}.wav')\n",
        "    caps_file = osp.join(osp.join(self.data_dir, 'caption_output'),\n",
        "                           f\"{video_idx}.pkl\")\n",
        "\n",
        "    if osp.isfile(audio_file):\n",
        "      print(f'audio video exists: {audio_file}')\n",
        "    else:\n",
        "      clip = mopy.editor.VideoFileClip(video_file)\n",
        "      clip.audio.write_audiofile(audio_file, codec='pcm_s16le')\n",
        "\n",
        "    if osp.isfile(caps_file):\n",
        "      print(f'caps file exists: {caps_file}')\n",
        "      return joblib.load(caps_file)\n",
        "    else:\n",
        "      # captions = self.whisper_model.transcribe(audio_file) # normal whisper model\n",
        "      captions = self.whisper_model.transcribe(audio_file, word_timestamps=False).to_dict()\n",
        "      joblib.dump(captions, caps_file)\n",
        "\n",
        "    del audio_file\n",
        "    return captions\n",
        "\n",
        "  def process_captions(self, captions, video_fps):\n",
        "    # function inspired by HumanML3D github\n",
        "\n",
        "    processed_captions = []\n",
        "\n",
        "    for caption in captions['segments']:\n",
        "      text = caption['text']\n",
        "      text = self.augment_captions(text)\n",
        "      doc = self.nlp(text)\n",
        "\n",
        "      if doc == \"\" or doc == \" \":\n",
        "        # save empty as X? -> https://spacy.io/api/token#attributes\n",
        "        tokens = ' /X'\n",
        "\n",
        "      else:\n",
        "        word_list, pos_list = [], []\n",
        "        for token in doc:\n",
        "          word = token.text\n",
        "          if not word.isalpha():\n",
        "            continue\n",
        "          if (token.pos_ == 'NOUN' or token.pos_ == 'VERB') and (word != 'left'):\n",
        "            word_list.append(token.lemma_)\n",
        "          else:\n",
        "            word_list.append(word)\n",
        "          pos_list.append(token.pos_)\n",
        "        tokens = ' '.join([f'{word_list[i]}/{pos_list[i]}' for i in range(len(word_list))])\n",
        "\n",
        "      # timestamp (s) to frame_count\n",
        "      start = caption['start']\n",
        "      end = caption['end']\n",
        "\n",
        "      caption_info = {\"text\": caption[\"text\"], \"tokens\": tokens, \"start\": start, \"end\": end}\n",
        "      processed_captions.append(caption_info)\n",
        "\n",
        "    return processed_captions\n",
        "\n",
        "  def augment_captions(self, caption, emotions=True, similar_words=True):\n",
        "\n",
        "    sia = SentimentIntensityAnalyzer()\n",
        "    cap_polarity = sia.polarity_scores(caption)['compound']\n",
        "\n",
        "    if emotions:\n",
        "      input_ids = self.emotion_tokenizer.encode(caption, return_tensors='pt')\n",
        "      emotion_output = self.emotion_model.generate(input_ids=input_ids, max_length=20)\n",
        "      emotion = [self.emotion_tokenizer.decode(ids, skip_special_tokens=True) for ids in emotion_output][0]\n",
        "    else:\n",
        "      emotion = \"\"\n",
        "\n",
        "    if similar_words:   # TODO: only simwords for the emotion word??\n",
        "      similar_words = self.glove_model.most_similar(emotion) # could premake this bc it has only 5 emotions\n",
        "      similar_words = [w[0] for w in similar_words]\n",
        "      for word in similar_words:\n",
        "        word_polarity = sia.polarity_scores(word)['compound']\n",
        "        if not cap_polarity - 0.3 <= word_polarity <= cap_polarity + 0.3:\n",
        "          similar_words.remove(word)\n",
        "\n",
        "      similar_words = \" \".join(similar_words[:5])\n",
        "    else:\n",
        "      similar_words = \"\"\n",
        "\n",
        "    return f'{caption} {emotion} {similar_words}'\n",
        "\n",
        "  def get_vibe_poses(self, video_file):\n",
        "    # inspired by VIBE github code but modified.\n",
        "    # need to download VIBE in subfolder to be able to run this.\n",
        "\n",
        "    video_idx = osp.basename(video_file).replace('.mp4', '')\n",
        "    output_file = osp.join(osp.join(self.data_dir, 'vibe_output'),\n",
        "                           f\"{video_idx}.pkl\")\n",
        "\n",
        "    if osp.isfile(output_file):\n",
        "      print(f'VIBE file exists: {output_file}')\n",
        "      output_dict = joblib.load(output_file)\n",
        "      return output_dict\n",
        "\n",
        "    image_folder, num_frames, img_shape = video_to_images(video_file, return_info=True)\n",
        "    print(f'Video {video_idx}, number of frames: {num_frames}')\n",
        "    orig_height, orig_width = img_shape[:2]\n",
        "    total_time = time.time()\n",
        "\n",
        "    print('Tracking pose...')\n",
        "    tracking_results = self.MPT(image_folder)\n",
        "    for person_id in list(tracking_results.keys()):\n",
        "        if tracking_results[person_id]['frames'].shape[0] < self.min_frames:\n",
        "            del tracking_results[person_id]\n",
        "\n",
        "    print(f'Running VIBE on each tracklet...')\n",
        "    output_dict = {\n",
        "            'pred_cam': [],\n",
        "            'verts': [],\n",
        "            'pose': [],\n",
        "            'betas': [],\n",
        "            'joints3d': [],\n",
        "            'bboxes': [],\n",
        "            'frame_ids': [],\n",
        "        }\n",
        "\n",
        "    for person_id in tqdm(list(tracking_results.keys()), position=0, leave=True):\n",
        "        bboxes = None\n",
        "        bboxes = tracking_results[person_id]['bbox']\n",
        "        print(bboxes)\n",
        "        frames = tracking_results[person_id]['frames']\n",
        "\n",
        "        dataset = Inference(\n",
        "            image_folder=image_folder,\n",
        "            frames=frames,\n",
        "            bboxes=bboxes,\n",
        "            joints2d=None,\n",
        "            scale=self.bbox_scale,\n",
        "        )\n",
        "\n",
        "        bboxes = dataset.bboxes\n",
        "        current_frames = dataset.frames\n",
        "\n",
        "        dataloader = DataLoader(dataset, batch_size=self.vibe_batch_size, num_workers=16)\n",
        "\n",
        "        with torch.no_grad():\n",
        "            pred_cam, pred_verts, pred_pose, pred_betas, pred_joints3d = [], [], [], [], []\n",
        "\n",
        "            for batch in dataloader:\n",
        "                batch = batch.unsqueeze(0)\n",
        "                batch = batch.to(dp.device)\n",
        "                batch_size, seqlen = batch.shape[:2]\n",
        "\n",
        "                output = dp.vibe_model(batch)[-1]\n",
        "\n",
        "                pred_cam.append(output['theta'][:, :, :3].reshape(batch_size * seqlen, -1))\n",
        "                pred_verts.append(output['verts'].reshape(batch_size * seqlen, -1, 3))\n",
        "                pred_pose.append(output['theta'][:,:,3:75].reshape(batch_size * seqlen, -1))\n",
        "                pred_betas.append(output['theta'][:, :,75:].reshape(batch_size * seqlen, -1))\n",
        "                pred_joints3d.append(output['kp_3d'].reshape(batch_size * seqlen, -1, 3))\n",
        "\n",
        "            variables = [pred_cam, pred_verts, pred_pose, pred_betas, pred_joints3d]\n",
        "            for i, var in enumerate(variables):\n",
        "              variables[i] = torch.cat(var, dim=0).cpu().numpy()\n",
        "            variables.append(bboxes)\n",
        "\n",
        "            # this func doesn't work!!\n",
        "            # if self.smooth_pose:\n",
        "            #   print('Running VIBE smoothing on pose...')\n",
        "            #   variables[1], variables[2], variables[4] = smooth_pose(variables[2], variables[3])\n",
        "\n",
        "            del batch\n",
        "\n",
        "        # since it's solo dance, merge all persons together directly\n",
        "        for i, frame_id in enumerate(current_frames):\n",
        "          if frame_id not in output_dict['frame_ids']:\n",
        "            for j, key in enumerate(output_dict.keys()):\n",
        "              if key == 'frame_ids':\n",
        "                output_dict[key] = np.append(output_dict[key], [frame_id])\n",
        "              else:\n",
        "                if output_dict[key] == []:\n",
        "                  output_dict[key] = [variables[j][i]]\n",
        "                else:\n",
        "                  output_dict[key] = np.append(output_dict[key], [variables[j][i]], axis=0)\n",
        "\n",
        "    print('Transform pose to correct format...')\n",
        "    output_dict['smpl24_joints'] = self.transform_pose_smpl24(torch.from_numpy(output_dict['pose']),\n",
        "                                                       torch.from_numpy(output_dict['betas']))\n",
        "\n",
        "    print('Post process pose and smooth...')\n",
        "    output_dict['smpl24_joints_smooth'] = self.post_process_pose(output_dict['bboxes'], output_dict['smpl24_joints'])\n",
        "\n",
        "    total_time = time.time() - total_time\n",
        "    print(f'Total time: {total_time:.2f}s for {num_frames} frames.')\n",
        "\n",
        "    print(f'Saving output results to \\\"{output_file}\\\".')\n",
        "    joblib.dump(output_dict, output_file)\n",
        "    shutil.rmtree(image_folder)   # deletes the images\n",
        "    return output_dict\n",
        "\n",
        "  def transform_pose_smpl24(self, pose, betas):\n",
        "    # get smpl24\n",
        "    verts, smpl24_joints = self.SMPL_layer(pose, th_betas=betas)\n",
        "    print(verts.shape, smpl24_joints.shape)\n",
        "\n",
        "    # flip upside down (VIBE output = upside down)\n",
        "    R = transforms3d.euler.axangle2mat([1, 0, 0], -np.pi)\n",
        "    smpl24_rotated = np.dot(smpl24_joints, R)\n",
        "\n",
        "    return smpl24_rotated\n",
        "\n",
        "  def align_captions_poses(self, captions, pose_dict, index_df, video_idx):\n",
        "\n",
        "    print(f'Aligning poses and caps for video {video_idx}...')\n",
        "    file_idx = 0 if index_df.empty else index_df['file_idx'].iloc[-1]+1\n",
        "    curr_timestamp = 0\n",
        "\n",
        "    for caption in captions:\n",
        "      if caption['start'] > curr_timestamp:\n",
        "        # frames with NO captions\n",
        "        file_idx, index_df = self.save_pose(\n",
        "            file_idx, video_idx, pose_dict, index_df,\n",
        "            start=curr_timestamp,\n",
        "            end=caption['start'],\n",
        "            caption=False)\n",
        "\n",
        "      # frames WITH captions\n",
        "      file_idx, index_df = self.save_pose(\n",
        "          file_idx, video_idx, pose_dict, index_df,\n",
        "          start=caption['start'],\n",
        "          end=caption['end'],\n",
        "          caption=caption)\n",
        "      curr_timestamp = caption['end']\n",
        "\n",
        "    return index_df\n",
        "\n",
        "  def fill_missing_frames(self, joints):\n",
        "\n",
        "    consec_missing = []   # TODO: fill up with in-betweening??\n",
        "\n",
        "    for i in range(len(joints)):\n",
        "      if np.isnan(joints[i]).all():\n",
        "        consec_missing += [i]\n",
        "        if len(consec_missing) > 10:\n",
        "          print('more than 10 are missing consecutively ', i)\n",
        "        joints[i] = joints[i-1]  # fill with prev joints\n",
        "      else:\n",
        "        consec_missing = []\n",
        "\n",
        "    return joints\n",
        "\n",
        "  def save_pose(self, file_idx, video_idx, pose_dict, index_df, start, end, caption=True):\n",
        "    filename = get_filename(file_idx)\n",
        "    video_fps = self.videos_df.loc[video_idx, ('fps')]\n",
        "    frame_ids = [i for i in range(round(start*video_fps), round(end*video_fps)+1)]\n",
        "    joints = []\n",
        "\n",
        "    for frame_id in frame_ids:\n",
        "      idx = np.where(pose_dict['frame_ids'] == frame_id)[0] # first appearance\n",
        "      try:\n",
        "        if idx.size > 0:\n",
        "          joints += [pose_dict['smpl24_joints_smooth'][idx[0]]]\n",
        "        else:\n",
        "          joints += [np.full([24, 3], np.nan)]\n",
        "\n",
        "      except Exception as e:\n",
        "        print(f\"not working for joints idx {idx}, {type(joints)} to append {type(pose_dict['smpl24_joints_smooth'][idx[0]])} \\n {e}\")\n",
        "\n",
        "    if all(np.isnan(j).all() for j in joints):\n",
        "      print(f'no joints for video {video_idx} at {start} to {end}')\n",
        "      return file_idx, index_df\n",
        "\n",
        "    # remove the Nones at the beginning and end of the list\n",
        "    while np.isnan(joints[-1]).all():\n",
        "      del joints[-1]\n",
        "    while np.isnan(joints[0]).all():\n",
        "      del joints[0]\n",
        "\n",
        "    if len(joints) < self.min_frames:\n",
        "      print(f'not enough joints for video {video_idx} at {start} to {end}')\n",
        "      return file_idx, index_df\n",
        "\n",
        "    joints = self.fill_missing_frames(joints)\n",
        "    joints = np.stack(joints, axis=0)\n",
        "\n",
        "    for side in ['', 'M']: # mirror pose\n",
        "      if side == 'M':\n",
        "        joints = swap_left_right(joints)\n",
        "\n",
        "      np.save(osp.join(osp.join(self.data_dir, 'joints'), f'{side}{filename}.npy'), joints)\n",
        "      df_row = {'idx': file_idx,\n",
        "                'video_idx': video_idx,               # which video it belongs to\n",
        "                'start_frame': round(start*video_fps),\n",
        "                'end_frame': round(end*video_fps),\n",
        "                'start_time': start,\n",
        "                'end_time': end,\n",
        "                'new_name': f'{side}{filename}.npy',  # named for humanml3d\n",
        "                'fps': video_fps,\n",
        "                'caption': \"\" if not caption else caption[\"text\"],\n",
        "                'no_frames': len(joints)}\n",
        "      index_df = pd.concat([index_df, pd.DataFrame([df_row])], ignore_index=True)\n",
        "\n",
        "      if caption:\n",
        "        with open(osp.join(osp.join(self.data_dir, 'texts'), f'{side}{filename}.txt'), 'w') as f:\n",
        "            f.write(f'{caption[\"text\"]}#{caption[\"tokens\"]}#0.0#0.0\\n')\n",
        "      else:\n",
        "        with open(osp.join(osp.join(self.data_dir, 'texts'),\n",
        "                          f'{side}{filename}.txt'), 'w') as f:\n",
        "              f.write(f' # /X#0.0#0.0\\n')\n",
        "\n",
        "    file_idx += 1\n",
        "\n",
        "    return file_idx, index_df\n",
        "\n",
        "  def post_process_pose(self, bboxes, joints):\n",
        "    # first, get x,y movement from bboxes\n",
        "    # normalise bboxes between 0 & 1\n",
        "    bbox_diff = np.max(bboxes, axis=0) - np.min(bboxes, axis=0)\n",
        "    bbox_norm = (bboxes-np.min(bboxes, axis=0))/bbox_diff\n",
        "\n",
        "    origin = bbox_norm[0]\n",
        "    delta_bbox = bbox_norm - origin\n",
        "\n",
        "    # joints = joints.copy()\n",
        "    for i, joint in enumerate(joints):\n",
        "      joints[i, :, 0] = joints[i, :, 0] - delta_bbox[i, 0]\n",
        "      joints[i, :, 1] = joints[i, :, 1] - delta_bbox[i, 1]\n",
        "\n",
        "    # then, translate pose to be standing on the floor\n",
        "    # lowest y coordinate of feet joints (= 10 & 11)\n",
        "    lowest = min(np.min(joints[:, 10, 1]), np.min(joints[:, 11, 1]))\n",
        "    diff = 0 - lowest # difference with the floor..\n",
        "    joints[:, :, 1] = joints[:, :, 1] + diff # only change y position to be normalized above floor...\n",
        "\n",
        "    # finally, smooth pose with smoothing filter\n",
        "    joints = savgol_filter(joints, window_length=12, polyorder=3, axis=0)\n",
        "\n",
        "    return joints\n",
        "\n",
        "  def run(self):\n",
        "    try:\n",
        "      index_df = pd.read_csv(osp.join(self.data_dir, 'index.csv'))\n",
        "    except:\n",
        "      index_df = pd.DataFrame()\n",
        "\n",
        "    for i, video in self.videos_df.iterrows():\n",
        "      print(f'Processing video {i}...')\n",
        "\n",
        "      video_file = video['video_file']\n",
        "      if video['processed'] == True:\n",
        "        video_fps = video['fps']\n",
        "        print(f'video {i} is already processed')\n",
        "        continue\n",
        "      elif any(yt in video_file for yt in [\"youtube\", \"youtu.be\"]):\n",
        "        try:\n",
        "          video_file, video_fps = self.download_yt_video(video_file, i)\n",
        "        except Exception as e:\n",
        "          print(f'Could not download video {i}, {e}')\n",
        "          continue\n",
        "\n",
        "      caps = self.get_whisper_captions(video_file)\n",
        "      processed_caps = self.process_captions(caps, video_fps)\n",
        "\n",
        "      vibe_output = self.get_vibe_poses(video_file)\n",
        "\n",
        "      index_df = self.align_captions_poses(processed_caps, vibe_output, index_df, i)\n",
        "      self.videos_df.loc[i, ('processed')] = True\n",
        "      self.videos_df.loc[i, ('fps')] = video_fps\n",
        "\n",
        "    index_df.to_csv(osp.join(self.data_dir, 'index.csv'), index=False)\n",
        "    self.videos_df.to_csv(osp.join(self.data_dir,'video_files.csv'), index=False)\n",
        "\n",
        "    return index_df"
      ],
      "metadata": {
        "id": "jhkbSj-wFLbl"
      },
      "execution_count": null,
      "outputs": []
    }
  ]
}